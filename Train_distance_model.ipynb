{
  "nbformat": 4,
  "nbformat_minor": 0,
  "metadata": {
    "accelerator": "GPU",
    "colab": {
      "name": "Load and use artifacts.ipynb",
      "provenance": [],
      "collapsed_sections": []
    },
    "kernelspec": {
      "display_name": "Python 3",
      "name": "python3"
    },
    "language_info": {
      "name": "python"
    },
    "widgets": {
      "application/vnd.jupyter.widget-state+json": {
        "4ae811ae943d41e0a057aa3946a4acc9": {
          "model_module": "@jupyter-widgets/controls",
          "model_name": "VBoxModel",
          "model_module_version": "1.5.0",
          "state": {
            "_view_name": "VBoxView",
            "_dom_classes": [],
            "_model_name": "VBoxModel",
            "_view_module": "@jupyter-widgets/controls",
            "_model_module_version": "1.5.0",
            "_view_count": null,
            "_view_module_version": "1.5.0",
            "box_style": "",
            "layout": "IPY_MODEL_3d95ad5664fb41f3aa60d74647b4a66e",
            "_model_module": "@jupyter-widgets/controls",
            "children": [
              "IPY_MODEL_608150fe192c461da2984ad1a09c4a47",
              "IPY_MODEL_9b134d3a201444a7809e158a91ce810d"
            ]
          }
        },
        "3d95ad5664fb41f3aa60d74647b4a66e": {
          "model_module": "@jupyter-widgets/base",
          "model_name": "LayoutModel",
          "model_module_version": "1.2.0",
          "state": {
            "_view_name": "LayoutView",
            "grid_template_rows": null,
            "right": null,
            "justify_content": null,
            "_view_module": "@jupyter-widgets/base",
            "overflow": null,
            "_model_module_version": "1.2.0",
            "_view_count": null,
            "flex_flow": null,
            "width": null,
            "min_width": null,
            "border": null,
            "align_items": null,
            "bottom": null,
            "_model_module": "@jupyter-widgets/base",
            "top": null,
            "grid_column": null,
            "overflow_y": null,
            "overflow_x": null,
            "grid_auto_flow": null,
            "grid_area": null,
            "grid_template_columns": null,
            "flex": null,
            "_model_name": "LayoutModel",
            "justify_items": null,
            "grid_row": null,
            "max_height": null,
            "align_content": null,
            "visibility": null,
            "align_self": null,
            "height": null,
            "min_height": null,
            "padding": null,
            "grid_auto_rows": null,
            "grid_gap": null,
            "max_width": null,
            "order": null,
            "_view_module_version": "1.2.0",
            "grid_template_areas": null,
            "object_position": null,
            "object_fit": null,
            "grid_auto_columns": null,
            "margin": null,
            "display": null,
            "left": null
          }
        },
        "608150fe192c461da2984ad1a09c4a47": {
          "model_module": "@jupyter-widgets/controls",
          "model_name": "LabelModel",
          "model_module_version": "1.5.0",
          "state": {
            "_view_name": "LabelView",
            "style": "IPY_MODEL_6ea30d2a8742466a8df0f21d0dd519d5",
            "_dom_classes": [],
            "description": "",
            "_model_name": "LabelModel",
            "placeholder": "​",
            "_view_module": "@jupyter-widgets/controls",
            "_model_module_version": "1.5.0",
            "value": " 144.20MB of 144.20MB uploaded (0.00MB deduped)\r",
            "_view_count": null,
            "_view_module_version": "1.5.0",
            "description_tooltip": null,
            "_model_module": "@jupyter-widgets/controls",
            "layout": "IPY_MODEL_18c405e8b7944e4fa3a52967a3efb446"
          }
        },
        "9b134d3a201444a7809e158a91ce810d": {
          "model_module": "@jupyter-widgets/controls",
          "model_name": "FloatProgressModel",
          "model_module_version": "1.5.0",
          "state": {
            "_view_name": "ProgressView",
            "style": "IPY_MODEL_14980dc9295b4a5d95c4d71cd89852b2",
            "_dom_classes": [],
            "description": "",
            "_model_name": "FloatProgressModel",
            "bar_style": "",
            "max": 1,
            "_view_module": "@jupyter-widgets/controls",
            "_model_module_version": "1.5.0",
            "value": 1,
            "_view_count": null,
            "_view_module_version": "1.5.0",
            "orientation": "horizontal",
            "min": 0,
            "description_tooltip": null,
            "_model_module": "@jupyter-widgets/controls",
            "layout": "IPY_MODEL_df5ba42e977e4db2b56ca4e538872904"
          }
        },
        "6ea30d2a8742466a8df0f21d0dd519d5": {
          "model_module": "@jupyter-widgets/controls",
          "model_name": "DescriptionStyleModel",
          "model_module_version": "1.5.0",
          "state": {
            "_view_name": "StyleView",
            "_model_name": "DescriptionStyleModel",
            "description_width": "",
            "_view_module": "@jupyter-widgets/base",
            "_model_module_version": "1.5.0",
            "_view_count": null,
            "_view_module_version": "1.2.0",
            "_model_module": "@jupyter-widgets/controls"
          }
        },
        "18c405e8b7944e4fa3a52967a3efb446": {
          "model_module": "@jupyter-widgets/base",
          "model_name": "LayoutModel",
          "model_module_version": "1.2.0",
          "state": {
            "_view_name": "LayoutView",
            "grid_template_rows": null,
            "right": null,
            "justify_content": null,
            "_view_module": "@jupyter-widgets/base",
            "overflow": null,
            "_model_module_version": "1.2.0",
            "_view_count": null,
            "flex_flow": null,
            "width": null,
            "min_width": null,
            "border": null,
            "align_items": null,
            "bottom": null,
            "_model_module": "@jupyter-widgets/base",
            "top": null,
            "grid_column": null,
            "overflow_y": null,
            "overflow_x": null,
            "grid_auto_flow": null,
            "grid_area": null,
            "grid_template_columns": null,
            "flex": null,
            "_model_name": "LayoutModel",
            "justify_items": null,
            "grid_row": null,
            "max_height": null,
            "align_content": null,
            "visibility": null,
            "align_self": null,
            "height": null,
            "min_height": null,
            "padding": null,
            "grid_auto_rows": null,
            "grid_gap": null,
            "max_width": null,
            "order": null,
            "_view_module_version": "1.2.0",
            "grid_template_areas": null,
            "object_position": null,
            "object_fit": null,
            "grid_auto_columns": null,
            "margin": null,
            "display": null,
            "left": null
          }
        },
        "14980dc9295b4a5d95c4d71cd89852b2": {
          "model_module": "@jupyter-widgets/controls",
          "model_name": "ProgressStyleModel",
          "model_module_version": "1.5.0",
          "state": {
            "_view_name": "StyleView",
            "_model_name": "ProgressStyleModel",
            "description_width": "",
            "_view_module": "@jupyter-widgets/base",
            "_model_module_version": "1.5.0",
            "_view_count": null,
            "_view_module_version": "1.2.0",
            "bar_color": null,
            "_model_module": "@jupyter-widgets/controls"
          }
        },
        "df5ba42e977e4db2b56ca4e538872904": {
          "model_module": "@jupyter-widgets/base",
          "model_name": "LayoutModel",
          "model_module_version": "1.2.0",
          "state": {
            "_view_name": "LayoutView",
            "grid_template_rows": null,
            "right": null,
            "justify_content": null,
            "_view_module": "@jupyter-widgets/base",
            "overflow": null,
            "_model_module_version": "1.2.0",
            "_view_count": null,
            "flex_flow": null,
            "width": null,
            "min_width": null,
            "border": null,
            "align_items": null,
            "bottom": null,
            "_model_module": "@jupyter-widgets/base",
            "top": null,
            "grid_column": null,
            "overflow_y": null,
            "overflow_x": null,
            "grid_auto_flow": null,
            "grid_area": null,
            "grid_template_columns": null,
            "flex": null,
            "_model_name": "LayoutModel",
            "justify_items": null,
            "grid_row": null,
            "max_height": null,
            "align_content": null,
            "visibility": null,
            "align_self": null,
            "height": null,
            "min_height": null,
            "padding": null,
            "grid_auto_rows": null,
            "grid_gap": null,
            "max_width": null,
            "order": null,
            "_view_module_version": "1.2.0",
            "grid_template_areas": null,
            "object_position": null,
            "object_fit": null,
            "grid_auto_columns": null,
            "margin": null,
            "display": null,
            "left": null
          }
        },
        "f6ed9c0b69ea4790a70275f6b6f8c763": {
          "model_module": "@jupyter-widgets/controls",
          "model_name": "VBoxModel",
          "model_module_version": "1.5.0",
          "state": {
            "_view_name": "VBoxView",
            "_dom_classes": [],
            "_model_name": "VBoxModel",
            "_view_module": "@jupyter-widgets/controls",
            "_model_module_version": "1.5.0",
            "_view_count": null,
            "_view_module_version": "1.5.0",
            "box_style": "",
            "layout": "IPY_MODEL_040a965baed6459786da4aeed3473ab7",
            "_model_module": "@jupyter-widgets/controls",
            "children": [
              "IPY_MODEL_d78f7841711b4e0babc0625c3adb63f6",
              "IPY_MODEL_3f112433edc44b99b03a64cde57c87e5"
            ]
          }
        },
        "040a965baed6459786da4aeed3473ab7": {
          "model_module": "@jupyter-widgets/base",
          "model_name": "LayoutModel",
          "model_module_version": "1.2.0",
          "state": {
            "_view_name": "LayoutView",
            "grid_template_rows": null,
            "right": null,
            "justify_content": null,
            "_view_module": "@jupyter-widgets/base",
            "overflow": null,
            "_model_module_version": "1.2.0",
            "_view_count": null,
            "flex_flow": null,
            "width": null,
            "min_width": null,
            "border": null,
            "align_items": null,
            "bottom": null,
            "_model_module": "@jupyter-widgets/base",
            "top": null,
            "grid_column": null,
            "overflow_y": null,
            "overflow_x": null,
            "grid_auto_flow": null,
            "grid_area": null,
            "grid_template_columns": null,
            "flex": null,
            "_model_name": "LayoutModel",
            "justify_items": null,
            "grid_row": null,
            "max_height": null,
            "align_content": null,
            "visibility": null,
            "align_self": null,
            "height": null,
            "min_height": null,
            "padding": null,
            "grid_auto_rows": null,
            "grid_gap": null,
            "max_width": null,
            "order": null,
            "_view_module_version": "1.2.0",
            "grid_template_areas": null,
            "object_position": null,
            "object_fit": null,
            "grid_auto_columns": null,
            "margin": null,
            "display": null,
            "left": null
          }
        },
        "d78f7841711b4e0babc0625c3adb63f6": {
          "model_module": "@jupyter-widgets/controls",
          "model_name": "LabelModel",
          "model_module_version": "1.5.0",
          "state": {
            "_view_name": "LabelView",
            "style": "IPY_MODEL_dd7d14bae3d04add8e0ae1050799e784",
            "_dom_classes": [],
            "description": "",
            "_model_name": "LabelModel",
            "placeholder": "​",
            "_view_module": "@jupyter-widgets/controls",
            "_model_module_version": "1.5.0",
            "value": " 345.27MB of 345.27MB uploaded (0.00MB deduped)\r",
            "_view_count": null,
            "_view_module_version": "1.5.0",
            "description_tooltip": null,
            "_model_module": "@jupyter-widgets/controls",
            "layout": "IPY_MODEL_675552702659434a893ee9ac5d9e098b"
          }
        },
        "3f112433edc44b99b03a64cde57c87e5": {
          "model_module": "@jupyter-widgets/controls",
          "model_name": "FloatProgressModel",
          "model_module_version": "1.5.0",
          "state": {
            "_view_name": "ProgressView",
            "style": "IPY_MODEL_921d6c931cf046d998a4791114b3f282",
            "_dom_classes": [],
            "description": "",
            "_model_name": "FloatProgressModel",
            "bar_style": "",
            "max": 1,
            "_view_module": "@jupyter-widgets/controls",
            "_model_module_version": "1.5.0",
            "value": 1,
            "_view_count": null,
            "_view_module_version": "1.5.0",
            "orientation": "horizontal",
            "min": 0,
            "description_tooltip": null,
            "_model_module": "@jupyter-widgets/controls",
            "layout": "IPY_MODEL_85c82311c3394c3c8fc1aee1a28cd05c"
          }
        },
        "dd7d14bae3d04add8e0ae1050799e784": {
          "model_module": "@jupyter-widgets/controls",
          "model_name": "DescriptionStyleModel",
          "model_module_version": "1.5.0",
          "state": {
            "_view_name": "StyleView",
            "_model_name": "DescriptionStyleModel",
            "description_width": "",
            "_view_module": "@jupyter-widgets/base",
            "_model_module_version": "1.5.0",
            "_view_count": null,
            "_view_module_version": "1.2.0",
            "_model_module": "@jupyter-widgets/controls"
          }
        },
        "675552702659434a893ee9ac5d9e098b": {
          "model_module": "@jupyter-widgets/base",
          "model_name": "LayoutModel",
          "model_module_version": "1.2.0",
          "state": {
            "_view_name": "LayoutView",
            "grid_template_rows": null,
            "right": null,
            "justify_content": null,
            "_view_module": "@jupyter-widgets/base",
            "overflow": null,
            "_model_module_version": "1.2.0",
            "_view_count": null,
            "flex_flow": null,
            "width": null,
            "min_width": null,
            "border": null,
            "align_items": null,
            "bottom": null,
            "_model_module": "@jupyter-widgets/base",
            "top": null,
            "grid_column": null,
            "overflow_y": null,
            "overflow_x": null,
            "grid_auto_flow": null,
            "grid_area": null,
            "grid_template_columns": null,
            "flex": null,
            "_model_name": "LayoutModel",
            "justify_items": null,
            "grid_row": null,
            "max_height": null,
            "align_content": null,
            "visibility": null,
            "align_self": null,
            "height": null,
            "min_height": null,
            "padding": null,
            "grid_auto_rows": null,
            "grid_gap": null,
            "max_width": null,
            "order": null,
            "_view_module_version": "1.2.0",
            "grid_template_areas": null,
            "object_position": null,
            "object_fit": null,
            "grid_auto_columns": null,
            "margin": null,
            "display": null,
            "left": null
          }
        },
        "921d6c931cf046d998a4791114b3f282": {
          "model_module": "@jupyter-widgets/controls",
          "model_name": "ProgressStyleModel",
          "model_module_version": "1.5.0",
          "state": {
            "_view_name": "StyleView",
            "_model_name": "ProgressStyleModel",
            "description_width": "",
            "_view_module": "@jupyter-widgets/base",
            "_model_module_version": "1.5.0",
            "_view_count": null,
            "_view_module_version": "1.2.0",
            "bar_color": null,
            "_model_module": "@jupyter-widgets/controls"
          }
        },
        "85c82311c3394c3c8fc1aee1a28cd05c": {
          "model_module": "@jupyter-widgets/base",
          "model_name": "LayoutModel",
          "model_module_version": "1.2.0",
          "state": {
            "_view_name": "LayoutView",
            "grid_template_rows": null,
            "right": null,
            "justify_content": null,
            "_view_module": "@jupyter-widgets/base",
            "overflow": null,
            "_model_module_version": "1.2.0",
            "_view_count": null,
            "flex_flow": null,
            "width": null,
            "min_width": null,
            "border": null,
            "align_items": null,
            "bottom": null,
            "_model_module": "@jupyter-widgets/base",
            "top": null,
            "grid_column": null,
            "overflow_y": null,
            "overflow_x": null,
            "grid_auto_flow": null,
            "grid_area": null,
            "grid_template_columns": null,
            "flex": null,
            "_model_name": "LayoutModel",
            "justify_items": null,
            "grid_row": null,
            "max_height": null,
            "align_content": null,
            "visibility": null,
            "align_self": null,
            "height": null,
            "min_height": null,
            "padding": null,
            "grid_auto_rows": null,
            "grid_gap": null,
            "max_width": null,
            "order": null,
            "_view_module_version": "1.2.0",
            "grid_template_areas": null,
            "object_position": null,
            "object_fit": null,
            "grid_auto_columns": null,
            "margin": null,
            "display": null,
            "left": null
          }
        },
        "b09a8058214c409599711e05575baf80": {
          "model_module": "@jupyter-widgets/controls",
          "model_name": "VBoxModel",
          "model_module_version": "1.5.0",
          "state": {
            "_view_name": "VBoxView",
            "_dom_classes": [],
            "_model_name": "VBoxModel",
            "_view_module": "@jupyter-widgets/controls",
            "_model_module_version": "1.5.0",
            "_view_count": null,
            "_view_module_version": "1.5.0",
            "box_style": "",
            "layout": "IPY_MODEL_dbd26135747840b7b2027b855c4b1b8a",
            "_model_module": "@jupyter-widgets/controls",
            "children": [
              "IPY_MODEL_199fe4fa4a3a42a5b06fee80cb46a0d4",
              "IPY_MODEL_2dc24ccc07594a35b0ed2eb4186d049e"
            ]
          }
        },
        "dbd26135747840b7b2027b855c4b1b8a": {
          "model_module": "@jupyter-widgets/base",
          "model_name": "LayoutModel",
          "model_module_version": "1.2.0",
          "state": {
            "_view_name": "LayoutView",
            "grid_template_rows": null,
            "right": null,
            "justify_content": null,
            "_view_module": "@jupyter-widgets/base",
            "overflow": null,
            "_model_module_version": "1.2.0",
            "_view_count": null,
            "flex_flow": null,
            "width": null,
            "min_width": null,
            "border": null,
            "align_items": null,
            "bottom": null,
            "_model_module": "@jupyter-widgets/base",
            "top": null,
            "grid_column": null,
            "overflow_y": null,
            "overflow_x": null,
            "grid_auto_flow": null,
            "grid_area": null,
            "grid_template_columns": null,
            "flex": null,
            "_model_name": "LayoutModel",
            "justify_items": null,
            "grid_row": null,
            "max_height": null,
            "align_content": null,
            "visibility": null,
            "align_self": null,
            "height": null,
            "min_height": null,
            "padding": null,
            "grid_auto_rows": null,
            "grid_gap": null,
            "max_width": null,
            "order": null,
            "_view_module_version": "1.2.0",
            "grid_template_areas": null,
            "object_position": null,
            "object_fit": null,
            "grid_auto_columns": null,
            "margin": null,
            "display": null,
            "left": null
          }
        },
        "199fe4fa4a3a42a5b06fee80cb46a0d4": {
          "model_module": "@jupyter-widgets/controls",
          "model_name": "LabelModel",
          "model_module_version": "1.5.0",
          "state": {
            "_view_name": "LabelView",
            "style": "IPY_MODEL_29f4f9764bb44158bd10058345d52a53",
            "_dom_classes": [],
            "description": "",
            "_model_name": "LabelModel",
            "placeholder": "​",
            "_view_module": "@jupyter-widgets/controls",
            "_model_module_version": "1.5.0",
            "value": " 865.95MB of 865.95MB uploaded (0.00MB deduped)\r",
            "_view_count": null,
            "_view_module_version": "1.5.0",
            "description_tooltip": null,
            "_model_module": "@jupyter-widgets/controls",
            "layout": "IPY_MODEL_eacf06feb3dd4359b9a7295774d9d36f"
          }
        },
        "2dc24ccc07594a35b0ed2eb4186d049e": {
          "model_module": "@jupyter-widgets/controls",
          "model_name": "FloatProgressModel",
          "model_module_version": "1.5.0",
          "state": {
            "_view_name": "ProgressView",
            "style": "IPY_MODEL_ce4d81ab13cd4857aa16eb121132a57a",
            "_dom_classes": [],
            "description": "",
            "_model_name": "FloatProgressModel",
            "bar_style": "",
            "max": 1,
            "_view_module": "@jupyter-widgets/controls",
            "_model_module_version": "1.5.0",
            "value": 1,
            "_view_count": null,
            "_view_module_version": "1.5.0",
            "orientation": "horizontal",
            "min": 0,
            "description_tooltip": null,
            "_model_module": "@jupyter-widgets/controls",
            "layout": "IPY_MODEL_4af766bcb09747ad89dd659073c3919b"
          }
        },
        "29f4f9764bb44158bd10058345d52a53": {
          "model_module": "@jupyter-widgets/controls",
          "model_name": "DescriptionStyleModel",
          "model_module_version": "1.5.0",
          "state": {
            "_view_name": "StyleView",
            "_model_name": "DescriptionStyleModel",
            "description_width": "",
            "_view_module": "@jupyter-widgets/base",
            "_model_module_version": "1.5.0",
            "_view_count": null,
            "_view_module_version": "1.2.0",
            "_model_module": "@jupyter-widgets/controls"
          }
        },
        "eacf06feb3dd4359b9a7295774d9d36f": {
          "model_module": "@jupyter-widgets/base",
          "model_name": "LayoutModel",
          "model_module_version": "1.2.0",
          "state": {
            "_view_name": "LayoutView",
            "grid_template_rows": null,
            "right": null,
            "justify_content": null,
            "_view_module": "@jupyter-widgets/base",
            "overflow": null,
            "_model_module_version": "1.2.0",
            "_view_count": null,
            "flex_flow": null,
            "width": null,
            "min_width": null,
            "border": null,
            "align_items": null,
            "bottom": null,
            "_model_module": "@jupyter-widgets/base",
            "top": null,
            "grid_column": null,
            "overflow_y": null,
            "overflow_x": null,
            "grid_auto_flow": null,
            "grid_area": null,
            "grid_template_columns": null,
            "flex": null,
            "_model_name": "LayoutModel",
            "justify_items": null,
            "grid_row": null,
            "max_height": null,
            "align_content": null,
            "visibility": null,
            "align_self": null,
            "height": null,
            "min_height": null,
            "padding": null,
            "grid_auto_rows": null,
            "grid_gap": null,
            "max_width": null,
            "order": null,
            "_view_module_version": "1.2.0",
            "grid_template_areas": null,
            "object_position": null,
            "object_fit": null,
            "grid_auto_columns": null,
            "margin": null,
            "display": null,
            "left": null
          }
        },
        "ce4d81ab13cd4857aa16eb121132a57a": {
          "model_module": "@jupyter-widgets/controls",
          "model_name": "ProgressStyleModel",
          "model_module_version": "1.5.0",
          "state": {
            "_view_name": "StyleView",
            "_model_name": "ProgressStyleModel",
            "description_width": "",
            "_view_module": "@jupyter-widgets/base",
            "_model_module_version": "1.5.0",
            "_view_count": null,
            "_view_module_version": "1.2.0",
            "bar_color": null,
            "_model_module": "@jupyter-widgets/controls"
          }
        },
        "4af766bcb09747ad89dd659073c3919b": {
          "model_module": "@jupyter-widgets/base",
          "model_name": "LayoutModel",
          "model_module_version": "1.2.0",
          "state": {
            "_view_name": "LayoutView",
            "grid_template_rows": null,
            "right": null,
            "justify_content": null,
            "_view_module": "@jupyter-widgets/base",
            "overflow": null,
            "_model_module_version": "1.2.0",
            "_view_count": null,
            "flex_flow": null,
            "width": null,
            "min_width": null,
            "border": null,
            "align_items": null,
            "bottom": null,
            "_model_module": "@jupyter-widgets/base",
            "top": null,
            "grid_column": null,
            "overflow_y": null,
            "overflow_x": null,
            "grid_auto_flow": null,
            "grid_area": null,
            "grid_template_columns": null,
            "flex": null,
            "_model_name": "LayoutModel",
            "justify_items": null,
            "grid_row": null,
            "max_height": null,
            "align_content": null,
            "visibility": null,
            "align_self": null,
            "height": null,
            "min_height": null,
            "padding": null,
            "grid_auto_rows": null,
            "grid_gap": null,
            "max_width": null,
            "order": null,
            "_view_module_version": "1.2.0",
            "grid_template_areas": null,
            "object_position": null,
            "object_fit": null,
            "grid_auto_columns": null,
            "margin": null,
            "display": null,
            "left": null
          }
        },
        "9de2ed9a466043f48eb2364e980295ba": {
          "model_module": "@jupyter-widgets/controls",
          "model_name": "VBoxModel",
          "model_module_version": "1.5.0",
          "state": {
            "_view_name": "VBoxView",
            "_dom_classes": [],
            "_model_name": "VBoxModel",
            "_view_module": "@jupyter-widgets/controls",
            "_model_module_version": "1.5.0",
            "_view_count": null,
            "_view_module_version": "1.5.0",
            "box_style": "",
            "layout": "IPY_MODEL_dfa376668c0543e480d14cb55b1ebbd2",
            "_model_module": "@jupyter-widgets/controls",
            "children": [
              "IPY_MODEL_39e2db4ac86d4b69a36abe35ba30dccd",
              "IPY_MODEL_99699a7d35ae498684705cf6937711df"
            ]
          }
        },
        "dfa376668c0543e480d14cb55b1ebbd2": {
          "model_module": "@jupyter-widgets/base",
          "model_name": "LayoutModel",
          "model_module_version": "1.2.0",
          "state": {
            "_view_name": "LayoutView",
            "grid_template_rows": null,
            "right": null,
            "justify_content": null,
            "_view_module": "@jupyter-widgets/base",
            "overflow": null,
            "_model_module_version": "1.2.0",
            "_view_count": null,
            "flex_flow": null,
            "width": null,
            "min_width": null,
            "border": null,
            "align_items": null,
            "bottom": null,
            "_model_module": "@jupyter-widgets/base",
            "top": null,
            "grid_column": null,
            "overflow_y": null,
            "overflow_x": null,
            "grid_auto_flow": null,
            "grid_area": null,
            "grid_template_columns": null,
            "flex": null,
            "_model_name": "LayoutModel",
            "justify_items": null,
            "grid_row": null,
            "max_height": null,
            "align_content": null,
            "visibility": null,
            "align_self": null,
            "height": null,
            "min_height": null,
            "padding": null,
            "grid_auto_rows": null,
            "grid_gap": null,
            "max_width": null,
            "order": null,
            "_view_module_version": "1.2.0",
            "grid_template_areas": null,
            "object_position": null,
            "object_fit": null,
            "grid_auto_columns": null,
            "margin": null,
            "display": null,
            "left": null
          }
        },
        "39e2db4ac86d4b69a36abe35ba30dccd": {
          "model_module": "@jupyter-widgets/controls",
          "model_name": "LabelModel",
          "model_module_version": "1.5.0",
          "state": {
            "_view_name": "LabelView",
            "style": "IPY_MODEL_753d0d37de954223920f4277daece166",
            "_dom_classes": [],
            "description": "",
            "_model_name": "LabelModel",
            "placeholder": "​",
            "_view_module": "@jupyter-widgets/controls",
            "_model_module_version": "1.5.0",
            "value": " 717.76MB of 717.76MB uploaded (0.00MB deduped)\r",
            "_view_count": null,
            "_view_module_version": "1.5.0",
            "description_tooltip": null,
            "_model_module": "@jupyter-widgets/controls",
            "layout": "IPY_MODEL_5ca832fa6a5f47d7b9b425af6fa93fd6"
          }
        },
        "99699a7d35ae498684705cf6937711df": {
          "model_module": "@jupyter-widgets/controls",
          "model_name": "FloatProgressModel",
          "model_module_version": "1.5.0",
          "state": {
            "_view_name": "ProgressView",
            "style": "IPY_MODEL_e629f21debd64aaa8df9ba4b89a2961b",
            "_dom_classes": [],
            "description": "",
            "_model_name": "FloatProgressModel",
            "bar_style": "",
            "max": 1,
            "_view_module": "@jupyter-widgets/controls",
            "_model_module_version": "1.5.0",
            "value": 1,
            "_view_count": null,
            "_view_module_version": "1.5.0",
            "orientation": "horizontal",
            "min": 0,
            "description_tooltip": null,
            "_model_module": "@jupyter-widgets/controls",
            "layout": "IPY_MODEL_ba1d8f7536654ebc9da15dac5b2c3006"
          }
        },
        "753d0d37de954223920f4277daece166": {
          "model_module": "@jupyter-widgets/controls",
          "model_name": "DescriptionStyleModel",
          "model_module_version": "1.5.0",
          "state": {
            "_view_name": "StyleView",
            "_model_name": "DescriptionStyleModel",
            "description_width": "",
            "_view_module": "@jupyter-widgets/base",
            "_model_module_version": "1.5.0",
            "_view_count": null,
            "_view_module_version": "1.2.0",
            "_model_module": "@jupyter-widgets/controls"
          }
        },
        "5ca832fa6a5f47d7b9b425af6fa93fd6": {
          "model_module": "@jupyter-widgets/base",
          "model_name": "LayoutModel",
          "model_module_version": "1.2.0",
          "state": {
            "_view_name": "LayoutView",
            "grid_template_rows": null,
            "right": null,
            "justify_content": null,
            "_view_module": "@jupyter-widgets/base",
            "overflow": null,
            "_model_module_version": "1.2.0",
            "_view_count": null,
            "flex_flow": null,
            "width": null,
            "min_width": null,
            "border": null,
            "align_items": null,
            "bottom": null,
            "_model_module": "@jupyter-widgets/base",
            "top": null,
            "grid_column": null,
            "overflow_y": null,
            "overflow_x": null,
            "grid_auto_flow": null,
            "grid_area": null,
            "grid_template_columns": null,
            "flex": null,
            "_model_name": "LayoutModel",
            "justify_items": null,
            "grid_row": null,
            "max_height": null,
            "align_content": null,
            "visibility": null,
            "align_self": null,
            "height": null,
            "min_height": null,
            "padding": null,
            "grid_auto_rows": null,
            "grid_gap": null,
            "max_width": null,
            "order": null,
            "_view_module_version": "1.2.0",
            "grid_template_areas": null,
            "object_position": null,
            "object_fit": null,
            "grid_auto_columns": null,
            "margin": null,
            "display": null,
            "left": null
          }
        },
        "e629f21debd64aaa8df9ba4b89a2961b": {
          "model_module": "@jupyter-widgets/controls",
          "model_name": "ProgressStyleModel",
          "model_module_version": "1.5.0",
          "state": {
            "_view_name": "StyleView",
            "_model_name": "ProgressStyleModel",
            "description_width": "",
            "_view_module": "@jupyter-widgets/base",
            "_model_module_version": "1.5.0",
            "_view_count": null,
            "_view_module_version": "1.2.0",
            "bar_color": null,
            "_model_module": "@jupyter-widgets/controls"
          }
        },
        "ba1d8f7536654ebc9da15dac5b2c3006": {
          "model_module": "@jupyter-widgets/base",
          "model_name": "LayoutModel",
          "model_module_version": "1.2.0",
          "state": {
            "_view_name": "LayoutView",
            "grid_template_rows": null,
            "right": null,
            "justify_content": null,
            "_view_module": "@jupyter-widgets/base",
            "overflow": null,
            "_model_module_version": "1.2.0",
            "_view_count": null,
            "flex_flow": null,
            "width": null,
            "min_width": null,
            "border": null,
            "align_items": null,
            "bottom": null,
            "_model_module": "@jupyter-widgets/base",
            "top": null,
            "grid_column": null,
            "overflow_y": null,
            "overflow_x": null,
            "grid_auto_flow": null,
            "grid_area": null,
            "grid_template_columns": null,
            "flex": null,
            "_model_name": "LayoutModel",
            "justify_items": null,
            "grid_row": null,
            "max_height": null,
            "align_content": null,
            "visibility": null,
            "align_self": null,
            "height": null,
            "min_height": null,
            "padding": null,
            "grid_auto_rows": null,
            "grid_gap": null,
            "max_width": null,
            "order": null,
            "_view_module_version": "1.2.0",
            "grid_template_areas": null,
            "object_position": null,
            "object_fit": null,
            "grid_auto_columns": null,
            "margin": null,
            "display": null,
            "left": null
          }
        },
        "b5b71e0dc72f4ec1837b2d5413774840": {
          "model_module": "@jupyter-widgets/controls",
          "model_name": "VBoxModel",
          "model_module_version": "1.5.0",
          "state": {
            "_view_name": "VBoxView",
            "_dom_classes": [],
            "_model_name": "VBoxModel",
            "_view_module": "@jupyter-widgets/controls",
            "_model_module_version": "1.5.0",
            "_view_count": null,
            "_view_module_version": "1.5.0",
            "box_style": "",
            "layout": "IPY_MODEL_a1045386fbd24c86b493d46781bb5b59",
            "_model_module": "@jupyter-widgets/controls",
            "children": [
              "IPY_MODEL_a059720af56c4df4b8eb82a94173e359",
              "IPY_MODEL_fd56d115594a472f9ad98cad231acab9"
            ]
          }
        },
        "a1045386fbd24c86b493d46781bb5b59": {
          "model_module": "@jupyter-widgets/base",
          "model_name": "LayoutModel",
          "model_module_version": "1.2.0",
          "state": {
            "_view_name": "LayoutView",
            "grid_template_rows": null,
            "right": null,
            "justify_content": null,
            "_view_module": "@jupyter-widgets/base",
            "overflow": null,
            "_model_module_version": "1.2.0",
            "_view_count": null,
            "flex_flow": null,
            "width": null,
            "min_width": null,
            "border": null,
            "align_items": null,
            "bottom": null,
            "_model_module": "@jupyter-widgets/base",
            "top": null,
            "grid_column": null,
            "overflow_y": null,
            "overflow_x": null,
            "grid_auto_flow": null,
            "grid_area": null,
            "grid_template_columns": null,
            "flex": null,
            "_model_name": "LayoutModel",
            "justify_items": null,
            "grid_row": null,
            "max_height": null,
            "align_content": null,
            "visibility": null,
            "align_self": null,
            "height": null,
            "min_height": null,
            "padding": null,
            "grid_auto_rows": null,
            "grid_gap": null,
            "max_width": null,
            "order": null,
            "_view_module_version": "1.2.0",
            "grid_template_areas": null,
            "object_position": null,
            "object_fit": null,
            "grid_auto_columns": null,
            "margin": null,
            "display": null,
            "left": null
          }
        },
        "a059720af56c4df4b8eb82a94173e359": {
          "model_module": "@jupyter-widgets/controls",
          "model_name": "LabelModel",
          "model_module_version": "1.5.0",
          "state": {
            "_view_name": "LabelView",
            "style": "IPY_MODEL_42f2151441414f1d8c39fcc0b7e49c7e",
            "_dom_classes": [],
            "description": "",
            "_model_name": "LabelModel",
            "placeholder": "​",
            "_view_module": "@jupyter-widgets/controls",
            "_model_module_version": "1.5.0",
            "value": " 305.86MB of 305.86MB uploaded (0.00MB deduped)\r",
            "_view_count": null,
            "_view_module_version": "1.5.0",
            "description_tooltip": null,
            "_model_module": "@jupyter-widgets/controls",
            "layout": "IPY_MODEL_9d55d485ad20421aaf875fb09dbae4f2"
          }
        },
        "fd56d115594a472f9ad98cad231acab9": {
          "model_module": "@jupyter-widgets/controls",
          "model_name": "FloatProgressModel",
          "model_module_version": "1.5.0",
          "state": {
            "_view_name": "ProgressView",
            "style": "IPY_MODEL_1be4666ed3454edb87b54dcf18d8b16e",
            "_dom_classes": [],
            "description": "",
            "_model_name": "FloatProgressModel",
            "bar_style": "",
            "max": 1,
            "_view_module": "@jupyter-widgets/controls",
            "_model_module_version": "1.5.0",
            "value": 1,
            "_view_count": null,
            "_view_module_version": "1.5.0",
            "orientation": "horizontal",
            "min": 0,
            "description_tooltip": null,
            "_model_module": "@jupyter-widgets/controls",
            "layout": "IPY_MODEL_86d7cdf03cd04191adf30471408f8a08"
          }
        },
        "42f2151441414f1d8c39fcc0b7e49c7e": {
          "model_module": "@jupyter-widgets/controls",
          "model_name": "DescriptionStyleModel",
          "model_module_version": "1.5.0",
          "state": {
            "_view_name": "StyleView",
            "_model_name": "DescriptionStyleModel",
            "description_width": "",
            "_view_module": "@jupyter-widgets/base",
            "_model_module_version": "1.5.0",
            "_view_count": null,
            "_view_module_version": "1.2.0",
            "_model_module": "@jupyter-widgets/controls"
          }
        },
        "9d55d485ad20421aaf875fb09dbae4f2": {
          "model_module": "@jupyter-widgets/base",
          "model_name": "LayoutModel",
          "model_module_version": "1.2.0",
          "state": {
            "_view_name": "LayoutView",
            "grid_template_rows": null,
            "right": null,
            "justify_content": null,
            "_view_module": "@jupyter-widgets/base",
            "overflow": null,
            "_model_module_version": "1.2.0",
            "_view_count": null,
            "flex_flow": null,
            "width": null,
            "min_width": null,
            "border": null,
            "align_items": null,
            "bottom": null,
            "_model_module": "@jupyter-widgets/base",
            "top": null,
            "grid_column": null,
            "overflow_y": null,
            "overflow_x": null,
            "grid_auto_flow": null,
            "grid_area": null,
            "grid_template_columns": null,
            "flex": null,
            "_model_name": "LayoutModel",
            "justify_items": null,
            "grid_row": null,
            "max_height": null,
            "align_content": null,
            "visibility": null,
            "align_self": null,
            "height": null,
            "min_height": null,
            "padding": null,
            "grid_auto_rows": null,
            "grid_gap": null,
            "max_width": null,
            "order": null,
            "_view_module_version": "1.2.0",
            "grid_template_areas": null,
            "object_position": null,
            "object_fit": null,
            "grid_auto_columns": null,
            "margin": null,
            "display": null,
            "left": null
          }
        },
        "1be4666ed3454edb87b54dcf18d8b16e": {
          "model_module": "@jupyter-widgets/controls",
          "model_name": "ProgressStyleModel",
          "model_module_version": "1.5.0",
          "state": {
            "_view_name": "StyleView",
            "_model_name": "ProgressStyleModel",
            "description_width": "",
            "_view_module": "@jupyter-widgets/base",
            "_model_module_version": "1.5.0",
            "_view_count": null,
            "_view_module_version": "1.2.0",
            "bar_color": null,
            "_model_module": "@jupyter-widgets/controls"
          }
        },
        "86d7cdf03cd04191adf30471408f8a08": {
          "model_module": "@jupyter-widgets/base",
          "model_name": "LayoutModel",
          "model_module_version": "1.2.0",
          "state": {
            "_view_name": "LayoutView",
            "grid_template_rows": null,
            "right": null,
            "justify_content": null,
            "_view_module": "@jupyter-widgets/base",
            "overflow": null,
            "_model_module_version": "1.2.0",
            "_view_count": null,
            "flex_flow": null,
            "width": null,
            "min_width": null,
            "border": null,
            "align_items": null,
            "bottom": null,
            "_model_module": "@jupyter-widgets/base",
            "top": null,
            "grid_column": null,
            "overflow_y": null,
            "overflow_x": null,
            "grid_auto_flow": null,
            "grid_area": null,
            "grid_template_columns": null,
            "flex": null,
            "_model_name": "LayoutModel",
            "justify_items": null,
            "grid_row": null,
            "max_height": null,
            "align_content": null,
            "visibility": null,
            "align_self": null,
            "height": null,
            "min_height": null,
            "padding": null,
            "grid_auto_rows": null,
            "grid_gap": null,
            "max_width": null,
            "order": null,
            "_view_module_version": "1.2.0",
            "grid_template_areas": null,
            "object_position": null,
            "object_fit": null,
            "grid_auto_columns": null,
            "margin": null,
            "display": null,
            "left": null
          }
        },
        "d23f18f47fc0458b85a11eb0dffa7898": {
          "model_module": "@jupyter-widgets/controls",
          "model_name": "VBoxModel",
          "model_module_version": "1.5.0",
          "state": {
            "_view_name": "VBoxView",
            "_dom_classes": [],
            "_model_name": "VBoxModel",
            "_view_module": "@jupyter-widgets/controls",
            "_model_module_version": "1.5.0",
            "_view_count": null,
            "_view_module_version": "1.5.0",
            "box_style": "",
            "layout": "IPY_MODEL_e4638587eaf1437a91a920368ba79cfe",
            "_model_module": "@jupyter-widgets/controls",
            "children": [
              "IPY_MODEL_e17f99da1c65407081b707c899daff87",
              "IPY_MODEL_8d3cd6b663ee48278b53f104b0d4e550"
            ]
          }
        },
        "e4638587eaf1437a91a920368ba79cfe": {
          "model_module": "@jupyter-widgets/base",
          "model_name": "LayoutModel",
          "model_module_version": "1.2.0",
          "state": {
            "_view_name": "LayoutView",
            "grid_template_rows": null,
            "right": null,
            "justify_content": null,
            "_view_module": "@jupyter-widgets/base",
            "overflow": null,
            "_model_module_version": "1.2.0",
            "_view_count": null,
            "flex_flow": null,
            "width": null,
            "min_width": null,
            "border": null,
            "align_items": null,
            "bottom": null,
            "_model_module": "@jupyter-widgets/base",
            "top": null,
            "grid_column": null,
            "overflow_y": null,
            "overflow_x": null,
            "grid_auto_flow": null,
            "grid_area": null,
            "grid_template_columns": null,
            "flex": null,
            "_model_name": "LayoutModel",
            "justify_items": null,
            "grid_row": null,
            "max_height": null,
            "align_content": null,
            "visibility": null,
            "align_self": null,
            "height": null,
            "min_height": null,
            "padding": null,
            "grid_auto_rows": null,
            "grid_gap": null,
            "max_width": null,
            "order": null,
            "_view_module_version": "1.2.0",
            "grid_template_areas": null,
            "object_position": null,
            "object_fit": null,
            "grid_auto_columns": null,
            "margin": null,
            "display": null,
            "left": null
          }
        },
        "e17f99da1c65407081b707c899daff87": {
          "model_module": "@jupyter-widgets/controls",
          "model_name": "LabelModel",
          "model_module_version": "1.5.0",
          "state": {
            "_view_name": "LabelView",
            "style": "IPY_MODEL_ceb57ef069b142c5b156e5b77f1664f0",
            "_dom_classes": [],
            "description": "",
            "_model_name": "LabelModel",
            "placeholder": "​",
            "_view_module": "@jupyter-widgets/controls",
            "_model_module_version": "1.5.0",
            "value": " 407.69MB of 407.69MB uploaded (0.00MB deduped)\r",
            "_view_count": null,
            "_view_module_version": "1.5.0",
            "description_tooltip": null,
            "_model_module": "@jupyter-widgets/controls",
            "layout": "IPY_MODEL_b4ba6f4882334080b4de7f9e7c44e1c8"
          }
        },
        "8d3cd6b663ee48278b53f104b0d4e550": {
          "model_module": "@jupyter-widgets/controls",
          "model_name": "FloatProgressModel",
          "model_module_version": "1.5.0",
          "state": {
            "_view_name": "ProgressView",
            "style": "IPY_MODEL_3789aaaf813842139dfd5bddc4761d51",
            "_dom_classes": [],
            "description": "",
            "_model_name": "FloatProgressModel",
            "bar_style": "",
            "max": 1,
            "_view_module": "@jupyter-widgets/controls",
            "_model_module_version": "1.5.0",
            "value": 1,
            "_view_count": null,
            "_view_module_version": "1.5.0",
            "orientation": "horizontal",
            "min": 0,
            "description_tooltip": null,
            "_model_module": "@jupyter-widgets/controls",
            "layout": "IPY_MODEL_5ad60ee20d9a4340b588eb5f2e74b1b2"
          }
        },
        "ceb57ef069b142c5b156e5b77f1664f0": {
          "model_module": "@jupyter-widgets/controls",
          "model_name": "DescriptionStyleModel",
          "model_module_version": "1.5.0",
          "state": {
            "_view_name": "StyleView",
            "_model_name": "DescriptionStyleModel",
            "description_width": "",
            "_view_module": "@jupyter-widgets/base",
            "_model_module_version": "1.5.0",
            "_view_count": null,
            "_view_module_version": "1.2.0",
            "_model_module": "@jupyter-widgets/controls"
          }
        },
        "b4ba6f4882334080b4de7f9e7c44e1c8": {
          "model_module": "@jupyter-widgets/base",
          "model_name": "LayoutModel",
          "model_module_version": "1.2.0",
          "state": {
            "_view_name": "LayoutView",
            "grid_template_rows": null,
            "right": null,
            "justify_content": null,
            "_view_module": "@jupyter-widgets/base",
            "overflow": null,
            "_model_module_version": "1.2.0",
            "_view_count": null,
            "flex_flow": null,
            "width": null,
            "min_width": null,
            "border": null,
            "align_items": null,
            "bottom": null,
            "_model_module": "@jupyter-widgets/base",
            "top": null,
            "grid_column": null,
            "overflow_y": null,
            "overflow_x": null,
            "grid_auto_flow": null,
            "grid_area": null,
            "grid_template_columns": null,
            "flex": null,
            "_model_name": "LayoutModel",
            "justify_items": null,
            "grid_row": null,
            "max_height": null,
            "align_content": null,
            "visibility": null,
            "align_self": null,
            "height": null,
            "min_height": null,
            "padding": null,
            "grid_auto_rows": null,
            "grid_gap": null,
            "max_width": null,
            "order": null,
            "_view_module_version": "1.2.0",
            "grid_template_areas": null,
            "object_position": null,
            "object_fit": null,
            "grid_auto_columns": null,
            "margin": null,
            "display": null,
            "left": null
          }
        },
        "3789aaaf813842139dfd5bddc4761d51": {
          "model_module": "@jupyter-widgets/controls",
          "model_name": "ProgressStyleModel",
          "model_module_version": "1.5.0",
          "state": {
            "_view_name": "StyleView",
            "_model_name": "ProgressStyleModel",
            "description_width": "",
            "_view_module": "@jupyter-widgets/base",
            "_model_module_version": "1.5.0",
            "_view_count": null,
            "_view_module_version": "1.2.0",
            "bar_color": null,
            "_model_module": "@jupyter-widgets/controls"
          }
        },
        "5ad60ee20d9a4340b588eb5f2e74b1b2": {
          "model_module": "@jupyter-widgets/base",
          "model_name": "LayoutModel",
          "model_module_version": "1.2.0",
          "state": {
            "_view_name": "LayoutView",
            "grid_template_rows": null,
            "right": null,
            "justify_content": null,
            "_view_module": "@jupyter-widgets/base",
            "overflow": null,
            "_model_module_version": "1.2.0",
            "_view_count": null,
            "flex_flow": null,
            "width": null,
            "min_width": null,
            "border": null,
            "align_items": null,
            "bottom": null,
            "_model_module": "@jupyter-widgets/base",
            "top": null,
            "grid_column": null,
            "overflow_y": null,
            "overflow_x": null,
            "grid_auto_flow": null,
            "grid_area": null,
            "grid_template_columns": null,
            "flex": null,
            "_model_name": "LayoutModel",
            "justify_items": null,
            "grid_row": null,
            "max_height": null,
            "align_content": null,
            "visibility": null,
            "align_self": null,
            "height": null,
            "min_height": null,
            "padding": null,
            "grid_auto_rows": null,
            "grid_gap": null,
            "max_width": null,
            "order": null,
            "_view_module_version": "1.2.0",
            "grid_template_areas": null,
            "object_position": null,
            "object_fit": null,
            "grid_auto_columns": null,
            "margin": null,
            "display": null,
            "left": null
          }
        },
        "fe5ea0e9bbce4703bff764b8cf749694": {
          "model_module": "@jupyter-widgets/controls",
          "model_name": "VBoxModel",
          "model_module_version": "1.5.0",
          "state": {
            "_view_name": "VBoxView",
            "_dom_classes": [],
            "_model_name": "VBoxModel",
            "_view_module": "@jupyter-widgets/controls",
            "_model_module_version": "1.5.0",
            "_view_count": null,
            "_view_module_version": "1.5.0",
            "box_style": "",
            "layout": "IPY_MODEL_2485a0652cb949f88f0bd5ae96377e44",
            "_model_module": "@jupyter-widgets/controls",
            "children": [
              "IPY_MODEL_157c6370113f484191c5ad58b5e8773a",
              "IPY_MODEL_6bb47cc384c0427883d45c4274b2d390"
            ]
          }
        },
        "2485a0652cb949f88f0bd5ae96377e44": {
          "model_module": "@jupyter-widgets/base",
          "model_name": "LayoutModel",
          "model_module_version": "1.2.0",
          "state": {
            "_view_name": "LayoutView",
            "grid_template_rows": null,
            "right": null,
            "justify_content": null,
            "_view_module": "@jupyter-widgets/base",
            "overflow": null,
            "_model_module_version": "1.2.0",
            "_view_count": null,
            "flex_flow": null,
            "width": null,
            "min_width": null,
            "border": null,
            "align_items": null,
            "bottom": null,
            "_model_module": "@jupyter-widgets/base",
            "top": null,
            "grid_column": null,
            "overflow_y": null,
            "overflow_x": null,
            "grid_auto_flow": null,
            "grid_area": null,
            "grid_template_columns": null,
            "flex": null,
            "_model_name": "LayoutModel",
            "justify_items": null,
            "grid_row": null,
            "max_height": null,
            "align_content": null,
            "visibility": null,
            "align_self": null,
            "height": null,
            "min_height": null,
            "padding": null,
            "grid_auto_rows": null,
            "grid_gap": null,
            "max_width": null,
            "order": null,
            "_view_module_version": "1.2.0",
            "grid_template_areas": null,
            "object_position": null,
            "object_fit": null,
            "grid_auto_columns": null,
            "margin": null,
            "display": null,
            "left": null
          }
        },
        "157c6370113f484191c5ad58b5e8773a": {
          "model_module": "@jupyter-widgets/controls",
          "model_name": "LabelModel",
          "model_module_version": "1.5.0",
          "state": {
            "_view_name": "LabelView",
            "style": "IPY_MODEL_0d231ee4ee8a46deaae92e5c8b419de4",
            "_dom_classes": [],
            "description": "",
            "_model_name": "LabelModel",
            "placeholder": "​",
            "_view_module": "@jupyter-widgets/controls",
            "_model_module_version": "1.5.0",
            "value": " 521.26MB of 521.26MB uploaded (0.00MB deduped)\r",
            "_view_count": null,
            "_view_module_version": "1.5.0",
            "description_tooltip": null,
            "_model_module": "@jupyter-widgets/controls",
            "layout": "IPY_MODEL_90061856e74c465b9aaf45cb0cf8b287"
          }
        },
        "6bb47cc384c0427883d45c4274b2d390": {
          "model_module": "@jupyter-widgets/controls",
          "model_name": "FloatProgressModel",
          "model_module_version": "1.5.0",
          "state": {
            "_view_name": "ProgressView",
            "style": "IPY_MODEL_e1455573851a4ab8bd614bc9b67dce73",
            "_dom_classes": [],
            "description": "",
            "_model_name": "FloatProgressModel",
            "bar_style": "",
            "max": 1,
            "_view_module": "@jupyter-widgets/controls",
            "_model_module_version": "1.5.0",
            "value": 1,
            "_view_count": null,
            "_view_module_version": "1.5.0",
            "orientation": "horizontal",
            "min": 0,
            "description_tooltip": null,
            "_model_module": "@jupyter-widgets/controls",
            "layout": "IPY_MODEL_a3b168ce79464a13bb90438b229bf64d"
          }
        },
        "0d231ee4ee8a46deaae92e5c8b419de4": {
          "model_module": "@jupyter-widgets/controls",
          "model_name": "DescriptionStyleModel",
          "model_module_version": "1.5.0",
          "state": {
            "_view_name": "StyleView",
            "_model_name": "DescriptionStyleModel",
            "description_width": "",
            "_view_module": "@jupyter-widgets/base",
            "_model_module_version": "1.5.0",
            "_view_count": null,
            "_view_module_version": "1.2.0",
            "_model_module": "@jupyter-widgets/controls"
          }
        },
        "90061856e74c465b9aaf45cb0cf8b287": {
          "model_module": "@jupyter-widgets/base",
          "model_name": "LayoutModel",
          "model_module_version": "1.2.0",
          "state": {
            "_view_name": "LayoutView",
            "grid_template_rows": null,
            "right": null,
            "justify_content": null,
            "_view_module": "@jupyter-widgets/base",
            "overflow": null,
            "_model_module_version": "1.2.0",
            "_view_count": null,
            "flex_flow": null,
            "width": null,
            "min_width": null,
            "border": null,
            "align_items": null,
            "bottom": null,
            "_model_module": "@jupyter-widgets/base",
            "top": null,
            "grid_column": null,
            "overflow_y": null,
            "overflow_x": null,
            "grid_auto_flow": null,
            "grid_area": null,
            "grid_template_columns": null,
            "flex": null,
            "_model_name": "LayoutModel",
            "justify_items": null,
            "grid_row": null,
            "max_height": null,
            "align_content": null,
            "visibility": null,
            "align_self": null,
            "height": null,
            "min_height": null,
            "padding": null,
            "grid_auto_rows": null,
            "grid_gap": null,
            "max_width": null,
            "order": null,
            "_view_module_version": "1.2.0",
            "grid_template_areas": null,
            "object_position": null,
            "object_fit": null,
            "grid_auto_columns": null,
            "margin": null,
            "display": null,
            "left": null
          }
        },
        "e1455573851a4ab8bd614bc9b67dce73": {
          "model_module": "@jupyter-widgets/controls",
          "model_name": "ProgressStyleModel",
          "model_module_version": "1.5.0",
          "state": {
            "_view_name": "StyleView",
            "_model_name": "ProgressStyleModel",
            "description_width": "",
            "_view_module": "@jupyter-widgets/base",
            "_model_module_version": "1.5.0",
            "_view_count": null,
            "_view_module_version": "1.2.0",
            "bar_color": null,
            "_model_module": "@jupyter-widgets/controls"
          }
        },
        "a3b168ce79464a13bb90438b229bf64d": {
          "model_module": "@jupyter-widgets/base",
          "model_name": "LayoutModel",
          "model_module_version": "1.2.0",
          "state": {
            "_view_name": "LayoutView",
            "grid_template_rows": null,
            "right": null,
            "justify_content": null,
            "_view_module": "@jupyter-widgets/base",
            "overflow": null,
            "_model_module_version": "1.2.0",
            "_view_count": null,
            "flex_flow": null,
            "width": null,
            "min_width": null,
            "border": null,
            "align_items": null,
            "bottom": null,
            "_model_module": "@jupyter-widgets/base",
            "top": null,
            "grid_column": null,
            "overflow_y": null,
            "overflow_x": null,
            "grid_auto_flow": null,
            "grid_area": null,
            "grid_template_columns": null,
            "flex": null,
            "_model_name": "LayoutModel",
            "justify_items": null,
            "grid_row": null,
            "max_height": null,
            "align_content": null,
            "visibility": null,
            "align_self": null,
            "height": null,
            "min_height": null,
            "padding": null,
            "grid_auto_rows": null,
            "grid_gap": null,
            "max_width": null,
            "order": null,
            "_view_module_version": "1.2.0",
            "grid_template_areas": null,
            "object_position": null,
            "object_fit": null,
            "grid_auto_columns": null,
            "margin": null,
            "display": null,
            "left": null
          }
        },
        "210eecc4e80041dd81de05428f9cceb8": {
          "model_module": "@jupyter-widgets/controls",
          "model_name": "VBoxModel",
          "model_module_version": "1.5.0",
          "state": {
            "_view_name": "VBoxView",
            "_dom_classes": [],
            "_model_name": "VBoxModel",
            "_view_module": "@jupyter-widgets/controls",
            "_model_module_version": "1.5.0",
            "_view_count": null,
            "_view_module_version": "1.5.0",
            "box_style": "",
            "layout": "IPY_MODEL_3784b7eea3204438b2a219dd52c6f6b8",
            "_model_module": "@jupyter-widgets/controls",
            "children": [
              "IPY_MODEL_32b8faaf2a014946a1b54bf37cf2bad0",
              "IPY_MODEL_c06fd39334704b9da6b895cc3d56b885"
            ]
          }
        },
        "3784b7eea3204438b2a219dd52c6f6b8": {
          "model_module": "@jupyter-widgets/base",
          "model_name": "LayoutModel",
          "model_module_version": "1.2.0",
          "state": {
            "_view_name": "LayoutView",
            "grid_template_rows": null,
            "right": null,
            "justify_content": null,
            "_view_module": "@jupyter-widgets/base",
            "overflow": null,
            "_model_module_version": "1.2.0",
            "_view_count": null,
            "flex_flow": null,
            "width": null,
            "min_width": null,
            "border": null,
            "align_items": null,
            "bottom": null,
            "_model_module": "@jupyter-widgets/base",
            "top": null,
            "grid_column": null,
            "overflow_y": null,
            "overflow_x": null,
            "grid_auto_flow": null,
            "grid_area": null,
            "grid_template_columns": null,
            "flex": null,
            "_model_name": "LayoutModel",
            "justify_items": null,
            "grid_row": null,
            "max_height": null,
            "align_content": null,
            "visibility": null,
            "align_self": null,
            "height": null,
            "min_height": null,
            "padding": null,
            "grid_auto_rows": null,
            "grid_gap": null,
            "max_width": null,
            "order": null,
            "_view_module_version": "1.2.0",
            "grid_template_areas": null,
            "object_position": null,
            "object_fit": null,
            "grid_auto_columns": null,
            "margin": null,
            "display": null,
            "left": null
          }
        },
        "32b8faaf2a014946a1b54bf37cf2bad0": {
          "model_module": "@jupyter-widgets/controls",
          "model_name": "LabelModel",
          "model_module_version": "1.5.0",
          "state": {
            "_view_name": "LabelView",
            "style": "IPY_MODEL_8f9d991b2b1341b58a7c625244f37c46",
            "_dom_classes": [],
            "description": "",
            "_model_name": "LabelModel",
            "placeholder": "​",
            "_view_module": "@jupyter-widgets/controls",
            "_model_module_version": "1.5.0",
            "value": " 1019.39MB of 1019.39MB uploaded (0.00MB deduped)\r",
            "_view_count": null,
            "_view_module_version": "1.5.0",
            "description_tooltip": null,
            "_model_module": "@jupyter-widgets/controls",
            "layout": "IPY_MODEL_0d776a638d7b4d8bb207e22c0e0fe99b"
          }
        },
        "c06fd39334704b9da6b895cc3d56b885": {
          "model_module": "@jupyter-widgets/controls",
          "model_name": "FloatProgressModel",
          "model_module_version": "1.5.0",
          "state": {
            "_view_name": "ProgressView",
            "style": "IPY_MODEL_c30ec024fcdf488b9dc277cbb81560bd",
            "_dom_classes": [],
            "description": "",
            "_model_name": "FloatProgressModel",
            "bar_style": "",
            "max": 1,
            "_view_module": "@jupyter-widgets/controls",
            "_model_module_version": "1.5.0",
            "value": 1,
            "_view_count": null,
            "_view_module_version": "1.5.0",
            "orientation": "horizontal",
            "min": 0,
            "description_tooltip": null,
            "_model_module": "@jupyter-widgets/controls",
            "layout": "IPY_MODEL_96f10566c46646fc84d69476dd2277d0"
          }
        },
        "8f9d991b2b1341b58a7c625244f37c46": {
          "model_module": "@jupyter-widgets/controls",
          "model_name": "DescriptionStyleModel",
          "model_module_version": "1.5.0",
          "state": {
            "_view_name": "StyleView",
            "_model_name": "DescriptionStyleModel",
            "description_width": "",
            "_view_module": "@jupyter-widgets/base",
            "_model_module_version": "1.5.0",
            "_view_count": null,
            "_view_module_version": "1.2.0",
            "_model_module": "@jupyter-widgets/controls"
          }
        },
        "0d776a638d7b4d8bb207e22c0e0fe99b": {
          "model_module": "@jupyter-widgets/base",
          "model_name": "LayoutModel",
          "model_module_version": "1.2.0",
          "state": {
            "_view_name": "LayoutView",
            "grid_template_rows": null,
            "right": null,
            "justify_content": null,
            "_view_module": "@jupyter-widgets/base",
            "overflow": null,
            "_model_module_version": "1.2.0",
            "_view_count": null,
            "flex_flow": null,
            "width": null,
            "min_width": null,
            "border": null,
            "align_items": null,
            "bottom": null,
            "_model_module": "@jupyter-widgets/base",
            "top": null,
            "grid_column": null,
            "overflow_y": null,
            "overflow_x": null,
            "grid_auto_flow": null,
            "grid_area": null,
            "grid_template_columns": null,
            "flex": null,
            "_model_name": "LayoutModel",
            "justify_items": null,
            "grid_row": null,
            "max_height": null,
            "align_content": null,
            "visibility": null,
            "align_self": null,
            "height": null,
            "min_height": null,
            "padding": null,
            "grid_auto_rows": null,
            "grid_gap": null,
            "max_width": null,
            "order": null,
            "_view_module_version": "1.2.0",
            "grid_template_areas": null,
            "object_position": null,
            "object_fit": null,
            "grid_auto_columns": null,
            "margin": null,
            "display": null,
            "left": null
          }
        },
        "c30ec024fcdf488b9dc277cbb81560bd": {
          "model_module": "@jupyter-widgets/controls",
          "model_name": "ProgressStyleModel",
          "model_module_version": "1.5.0",
          "state": {
            "_view_name": "StyleView",
            "_model_name": "ProgressStyleModel",
            "description_width": "",
            "_view_module": "@jupyter-widgets/base",
            "_model_module_version": "1.5.0",
            "_view_count": null,
            "_view_module_version": "1.2.0",
            "bar_color": null,
            "_model_module": "@jupyter-widgets/controls"
          }
        },
        "96f10566c46646fc84d69476dd2277d0": {
          "model_module": "@jupyter-widgets/base",
          "model_name": "LayoutModel",
          "model_module_version": "1.2.0",
          "state": {
            "_view_name": "LayoutView",
            "grid_template_rows": null,
            "right": null,
            "justify_content": null,
            "_view_module": "@jupyter-widgets/base",
            "overflow": null,
            "_model_module_version": "1.2.0",
            "_view_count": null,
            "flex_flow": null,
            "width": null,
            "min_width": null,
            "border": null,
            "align_items": null,
            "bottom": null,
            "_model_module": "@jupyter-widgets/base",
            "top": null,
            "grid_column": null,
            "overflow_y": null,
            "overflow_x": null,
            "grid_auto_flow": null,
            "grid_area": null,
            "grid_template_columns": null,
            "flex": null,
            "_model_name": "LayoutModel",
            "justify_items": null,
            "grid_row": null,
            "max_height": null,
            "align_content": null,
            "visibility": null,
            "align_self": null,
            "height": null,
            "min_height": null,
            "padding": null,
            "grid_auto_rows": null,
            "grid_gap": null,
            "max_width": null,
            "order": null,
            "_view_module_version": "1.2.0",
            "grid_template_areas": null,
            "object_position": null,
            "object_fit": null,
            "grid_auto_columns": null,
            "margin": null,
            "display": null,
            "left": null
          }
        },
        "eb2311ae7db4447cbbdf7c4196d99f72": {
          "model_module": "@jupyter-widgets/controls",
          "model_name": "VBoxModel",
          "model_module_version": "1.5.0",
          "state": {
            "_view_name": "VBoxView",
            "_dom_classes": [],
            "_model_name": "VBoxModel",
            "_view_module": "@jupyter-widgets/controls",
            "_model_module_version": "1.5.0",
            "_view_count": null,
            "_view_module_version": "1.5.0",
            "box_style": "",
            "layout": "IPY_MODEL_9f3b6749e6e347df8f23b4c8eab9445b",
            "_model_module": "@jupyter-widgets/controls",
            "children": [
              "IPY_MODEL_d36b9a1aa3af4c70be7d58fb5482230b",
              "IPY_MODEL_b1a779ffadee46eb8feed3234be0fbad"
            ]
          }
        },
        "9f3b6749e6e347df8f23b4c8eab9445b": {
          "model_module": "@jupyter-widgets/base",
          "model_name": "LayoutModel",
          "model_module_version": "1.2.0",
          "state": {
            "_view_name": "LayoutView",
            "grid_template_rows": null,
            "right": null,
            "justify_content": null,
            "_view_module": "@jupyter-widgets/base",
            "overflow": null,
            "_model_module_version": "1.2.0",
            "_view_count": null,
            "flex_flow": null,
            "width": null,
            "min_width": null,
            "border": null,
            "align_items": null,
            "bottom": null,
            "_model_module": "@jupyter-widgets/base",
            "top": null,
            "grid_column": null,
            "overflow_y": null,
            "overflow_x": null,
            "grid_auto_flow": null,
            "grid_area": null,
            "grid_template_columns": null,
            "flex": null,
            "_model_name": "LayoutModel",
            "justify_items": null,
            "grid_row": null,
            "max_height": null,
            "align_content": null,
            "visibility": null,
            "align_self": null,
            "height": null,
            "min_height": null,
            "padding": null,
            "grid_auto_rows": null,
            "grid_gap": null,
            "max_width": null,
            "order": null,
            "_view_module_version": "1.2.0",
            "grid_template_areas": null,
            "object_position": null,
            "object_fit": null,
            "grid_auto_columns": null,
            "margin": null,
            "display": null,
            "left": null
          }
        },
        "d36b9a1aa3af4c70be7d58fb5482230b": {
          "model_module": "@jupyter-widgets/controls",
          "model_name": "LabelModel",
          "model_module_version": "1.5.0",
          "state": {
            "_view_name": "LabelView",
            "style": "IPY_MODEL_8e433639df4949cd8a1bf498863e1bfa",
            "_dom_classes": [],
            "description": "",
            "_model_name": "LabelModel",
            "placeholder": "​",
            "_view_module": "@jupyter-widgets/controls",
            "_model_module_version": "1.5.0",
            "value": " 329.14MB of 329.14MB uploaded (0.00MB deduped)\r",
            "_view_count": null,
            "_view_module_version": "1.5.0",
            "description_tooltip": null,
            "_model_module": "@jupyter-widgets/controls",
            "layout": "IPY_MODEL_3d10014914f64c0783f055ac0fede9c9"
          }
        },
        "b1a779ffadee46eb8feed3234be0fbad": {
          "model_module": "@jupyter-widgets/controls",
          "model_name": "FloatProgressModel",
          "model_module_version": "1.5.0",
          "state": {
            "_view_name": "ProgressView",
            "style": "IPY_MODEL_311689174c9848399e7aab0756832818",
            "_dom_classes": [],
            "description": "",
            "_model_name": "FloatProgressModel",
            "bar_style": "",
            "max": 1,
            "_view_module": "@jupyter-widgets/controls",
            "_model_module_version": "1.5.0",
            "value": 1,
            "_view_count": null,
            "_view_module_version": "1.5.0",
            "orientation": "horizontal",
            "min": 0,
            "description_tooltip": null,
            "_model_module": "@jupyter-widgets/controls",
            "layout": "IPY_MODEL_28adfafbee5a45e58b5dc80df13cc029"
          }
        },
        "8e433639df4949cd8a1bf498863e1bfa": {
          "model_module": "@jupyter-widgets/controls",
          "model_name": "DescriptionStyleModel",
          "model_module_version": "1.5.0",
          "state": {
            "_view_name": "StyleView",
            "_model_name": "DescriptionStyleModel",
            "description_width": "",
            "_view_module": "@jupyter-widgets/base",
            "_model_module_version": "1.5.0",
            "_view_count": null,
            "_view_module_version": "1.2.0",
            "_model_module": "@jupyter-widgets/controls"
          }
        },
        "3d10014914f64c0783f055ac0fede9c9": {
          "model_module": "@jupyter-widgets/base",
          "model_name": "LayoutModel",
          "model_module_version": "1.2.0",
          "state": {
            "_view_name": "LayoutView",
            "grid_template_rows": null,
            "right": null,
            "justify_content": null,
            "_view_module": "@jupyter-widgets/base",
            "overflow": null,
            "_model_module_version": "1.2.0",
            "_view_count": null,
            "flex_flow": null,
            "width": null,
            "min_width": null,
            "border": null,
            "align_items": null,
            "bottom": null,
            "_model_module": "@jupyter-widgets/base",
            "top": null,
            "grid_column": null,
            "overflow_y": null,
            "overflow_x": null,
            "grid_auto_flow": null,
            "grid_area": null,
            "grid_template_columns": null,
            "flex": null,
            "_model_name": "LayoutModel",
            "justify_items": null,
            "grid_row": null,
            "max_height": null,
            "align_content": null,
            "visibility": null,
            "align_self": null,
            "height": null,
            "min_height": null,
            "padding": null,
            "grid_auto_rows": null,
            "grid_gap": null,
            "max_width": null,
            "order": null,
            "_view_module_version": "1.2.0",
            "grid_template_areas": null,
            "object_position": null,
            "object_fit": null,
            "grid_auto_columns": null,
            "margin": null,
            "display": null,
            "left": null
          }
        },
        "311689174c9848399e7aab0756832818": {
          "model_module": "@jupyter-widgets/controls",
          "model_name": "ProgressStyleModel",
          "model_module_version": "1.5.0",
          "state": {
            "_view_name": "StyleView",
            "_model_name": "ProgressStyleModel",
            "description_width": "",
            "_view_module": "@jupyter-widgets/base",
            "_model_module_version": "1.5.0",
            "_view_count": null,
            "_view_module_version": "1.2.0",
            "bar_color": null,
            "_model_module": "@jupyter-widgets/controls"
          }
        },
        "28adfafbee5a45e58b5dc80df13cc029": {
          "model_module": "@jupyter-widgets/base",
          "model_name": "LayoutModel",
          "model_module_version": "1.2.0",
          "state": {
            "_view_name": "LayoutView",
            "grid_template_rows": null,
            "right": null,
            "justify_content": null,
            "_view_module": "@jupyter-widgets/base",
            "overflow": null,
            "_model_module_version": "1.2.0",
            "_view_count": null,
            "flex_flow": null,
            "width": null,
            "min_width": null,
            "border": null,
            "align_items": null,
            "bottom": null,
            "_model_module": "@jupyter-widgets/base",
            "top": null,
            "grid_column": null,
            "overflow_y": null,
            "overflow_x": null,
            "grid_auto_flow": null,
            "grid_area": null,
            "grid_template_columns": null,
            "flex": null,
            "_model_name": "LayoutModel",
            "justify_items": null,
            "grid_row": null,
            "max_height": null,
            "align_content": null,
            "visibility": null,
            "align_self": null,
            "height": null,
            "min_height": null,
            "padding": null,
            "grid_auto_rows": null,
            "grid_gap": null,
            "max_width": null,
            "order": null,
            "_view_module_version": "1.2.0",
            "grid_template_areas": null,
            "object_position": null,
            "object_fit": null,
            "grid_auto_columns": null,
            "margin": null,
            "display": null,
            "left": null
          }
        },
        "acc8b6015881494face8303fd1d9ba07": {
          "model_module": "@jupyter-widgets/controls",
          "model_name": "VBoxModel",
          "model_module_version": "1.5.0",
          "state": {
            "_view_name": "VBoxView",
            "_dom_classes": [],
            "_model_name": "VBoxModel",
            "_view_module": "@jupyter-widgets/controls",
            "_model_module_version": "1.5.0",
            "_view_count": null,
            "_view_module_version": "1.5.0",
            "box_style": "",
            "layout": "IPY_MODEL_322c8829fffd4bddac9384de4cc4ddc3",
            "_model_module": "@jupyter-widgets/controls",
            "children": [
              "IPY_MODEL_dcc4252aa5cd43369e9582d339285491",
              "IPY_MODEL_9138aa89bbd34b33a1f14c7de40a28a8"
            ]
          }
        },
        "322c8829fffd4bddac9384de4cc4ddc3": {
          "model_module": "@jupyter-widgets/base",
          "model_name": "LayoutModel",
          "model_module_version": "1.2.0",
          "state": {
            "_view_name": "LayoutView",
            "grid_template_rows": null,
            "right": null,
            "justify_content": null,
            "_view_module": "@jupyter-widgets/base",
            "overflow": null,
            "_model_module_version": "1.2.0",
            "_view_count": null,
            "flex_flow": null,
            "width": null,
            "min_width": null,
            "border": null,
            "align_items": null,
            "bottom": null,
            "_model_module": "@jupyter-widgets/base",
            "top": null,
            "grid_column": null,
            "overflow_y": null,
            "overflow_x": null,
            "grid_auto_flow": null,
            "grid_area": null,
            "grid_template_columns": null,
            "flex": null,
            "_model_name": "LayoutModel",
            "justify_items": null,
            "grid_row": null,
            "max_height": null,
            "align_content": null,
            "visibility": null,
            "align_self": null,
            "height": null,
            "min_height": null,
            "padding": null,
            "grid_auto_rows": null,
            "grid_gap": null,
            "max_width": null,
            "order": null,
            "_view_module_version": "1.2.0",
            "grid_template_areas": null,
            "object_position": null,
            "object_fit": null,
            "grid_auto_columns": null,
            "margin": null,
            "display": null,
            "left": null
          }
        },
        "dcc4252aa5cd43369e9582d339285491": {
          "model_module": "@jupyter-widgets/controls",
          "model_name": "LabelModel",
          "model_module_version": "1.5.0",
          "state": {
            "_view_name": "LabelView",
            "style": "IPY_MODEL_59b46a337bf34a4685671d25ba77de72",
            "_dom_classes": [],
            "description": "",
            "_model_name": "LabelModel",
            "placeholder": "​",
            "_view_module": "@jupyter-widgets/controls",
            "_model_module_version": "1.5.0",
            "value": " 197.31MB of 197.31MB uploaded (0.00MB deduped)\r",
            "_view_count": null,
            "_view_module_version": "1.5.0",
            "description_tooltip": null,
            "_model_module": "@jupyter-widgets/controls",
            "layout": "IPY_MODEL_1541016b9cc145e791c1e51d75ada503"
          }
        },
        "9138aa89bbd34b33a1f14c7de40a28a8": {
          "model_module": "@jupyter-widgets/controls",
          "model_name": "FloatProgressModel",
          "model_module_version": "1.5.0",
          "state": {
            "_view_name": "ProgressView",
            "style": "IPY_MODEL_6f18bc46d79f407c8708d041606d456d",
            "_dom_classes": [],
            "description": "",
            "_model_name": "FloatProgressModel",
            "bar_style": "",
            "max": 1,
            "_view_module": "@jupyter-widgets/controls",
            "_model_module_version": "1.5.0",
            "value": 1,
            "_view_count": null,
            "_view_module_version": "1.5.0",
            "orientation": "horizontal",
            "min": 0,
            "description_tooltip": null,
            "_model_module": "@jupyter-widgets/controls",
            "layout": "IPY_MODEL_31623a113c5b464b8ec5b099bdc02e5a"
          }
        },
        "59b46a337bf34a4685671d25ba77de72": {
          "model_module": "@jupyter-widgets/controls",
          "model_name": "DescriptionStyleModel",
          "model_module_version": "1.5.0",
          "state": {
            "_view_name": "StyleView",
            "_model_name": "DescriptionStyleModel",
            "description_width": "",
            "_view_module": "@jupyter-widgets/base",
            "_model_module_version": "1.5.0",
            "_view_count": null,
            "_view_module_version": "1.2.0",
            "_model_module": "@jupyter-widgets/controls"
          }
        },
        "1541016b9cc145e791c1e51d75ada503": {
          "model_module": "@jupyter-widgets/base",
          "model_name": "LayoutModel",
          "model_module_version": "1.2.0",
          "state": {
            "_view_name": "LayoutView",
            "grid_template_rows": null,
            "right": null,
            "justify_content": null,
            "_view_module": "@jupyter-widgets/base",
            "overflow": null,
            "_model_module_version": "1.2.0",
            "_view_count": null,
            "flex_flow": null,
            "width": null,
            "min_width": null,
            "border": null,
            "align_items": null,
            "bottom": null,
            "_model_module": "@jupyter-widgets/base",
            "top": null,
            "grid_column": null,
            "overflow_y": null,
            "overflow_x": null,
            "grid_auto_flow": null,
            "grid_area": null,
            "grid_template_columns": null,
            "flex": null,
            "_model_name": "LayoutModel",
            "justify_items": null,
            "grid_row": null,
            "max_height": null,
            "align_content": null,
            "visibility": null,
            "align_self": null,
            "height": null,
            "min_height": null,
            "padding": null,
            "grid_auto_rows": null,
            "grid_gap": null,
            "max_width": null,
            "order": null,
            "_view_module_version": "1.2.0",
            "grid_template_areas": null,
            "object_position": null,
            "object_fit": null,
            "grid_auto_columns": null,
            "margin": null,
            "display": null,
            "left": null
          }
        },
        "6f18bc46d79f407c8708d041606d456d": {
          "model_module": "@jupyter-widgets/controls",
          "model_name": "ProgressStyleModel",
          "model_module_version": "1.5.0",
          "state": {
            "_view_name": "StyleView",
            "_model_name": "ProgressStyleModel",
            "description_width": "",
            "_view_module": "@jupyter-widgets/base",
            "_model_module_version": "1.5.0",
            "_view_count": null,
            "_view_module_version": "1.2.0",
            "bar_color": null,
            "_model_module": "@jupyter-widgets/controls"
          }
        },
        "31623a113c5b464b8ec5b099bdc02e5a": {
          "model_module": "@jupyter-widgets/base",
          "model_name": "LayoutModel",
          "model_module_version": "1.2.0",
          "state": {
            "_view_name": "LayoutView",
            "grid_template_rows": null,
            "right": null,
            "justify_content": null,
            "_view_module": "@jupyter-widgets/base",
            "overflow": null,
            "_model_module_version": "1.2.0",
            "_view_count": null,
            "flex_flow": null,
            "width": null,
            "min_width": null,
            "border": null,
            "align_items": null,
            "bottom": null,
            "_model_module": "@jupyter-widgets/base",
            "top": null,
            "grid_column": null,
            "overflow_y": null,
            "overflow_x": null,
            "grid_auto_flow": null,
            "grid_area": null,
            "grid_template_columns": null,
            "flex": null,
            "_model_name": "LayoutModel",
            "justify_items": null,
            "grid_row": null,
            "max_height": null,
            "align_content": null,
            "visibility": null,
            "align_self": null,
            "height": null,
            "min_height": null,
            "padding": null,
            "grid_auto_rows": null,
            "grid_gap": null,
            "max_width": null,
            "order": null,
            "_view_module_version": "1.2.0",
            "grid_template_areas": null,
            "object_position": null,
            "object_fit": null,
            "grid_auto_columns": null,
            "margin": null,
            "display": null,
            "left": null
          }
        }
      }
    }
  },
  "cells": [
    {
      "cell_type": "code",
      "metadata": {
        "colab": {
          "base_uri": "https://localhost:8080/",
          "height": 225
        },
        "id": "ajWavWFE5wkk",
        "outputId": "35660e49-7fd6-41bd-ee73-298cae6fa6c3"
      },
      "source": [
        "!pip install wandb -qqq\n",
        "import wandb\n",
        "wandb.login()"
      ],
      "execution_count": null,
      "outputs": [
        {
          "output_type": "stream",
          "name": "stdout",
          "text": [
            "\u001b[K     |████████████████████████████████| 1.7 MB 12.8 MB/s \n",
            "\u001b[K     |████████████████████████████████| 180 kB 47.6 MB/s \n",
            "\u001b[K     |████████████████████████████████| 139 kB 51.1 MB/s \n",
            "\u001b[K     |████████████████████████████████| 97 kB 6.8 MB/s \n",
            "\u001b[K     |████████████████████████████████| 63 kB 1.6 MB/s \n",
            "\u001b[?25h  Building wheel for subprocess32 (setup.py) ... \u001b[?25l\u001b[?25hdone\n",
            "  Building wheel for pathtools (setup.py) ... \u001b[?25l\u001b[?25hdone\n"
          ]
        },
        {
          "output_type": "display_data",
          "data": {
            "application/javascript": [
              "\n",
              "        window._wandbApiKey = new Promise((resolve, reject) => {\n",
              "            function loadScript(url) {\n",
              "            return new Promise(function(resolve, reject) {\n",
              "                let newScript = document.createElement(\"script\");\n",
              "                newScript.onerror = reject;\n",
              "                newScript.onload = resolve;\n",
              "                document.body.appendChild(newScript);\n",
              "                newScript.src = url;\n",
              "            });\n",
              "            }\n",
              "            loadScript(\"https://cdn.jsdelivr.net/npm/postmate/build/postmate.min.js\").then(() => {\n",
              "            const iframe = document.createElement('iframe')\n",
              "            iframe.style.cssText = \"width:0;height:0;border:none\"\n",
              "            document.body.appendChild(iframe)\n",
              "            const handshake = new Postmate({\n",
              "                container: iframe,\n",
              "                url: 'https://wandb.ai/authorize'\n",
              "            });\n",
              "            const timeout = setTimeout(() => reject(\"Couldn't auto authenticate\"), 5000)\n",
              "            handshake.then(function(child) {\n",
              "                child.on('authorize', data => {\n",
              "                    clearTimeout(timeout)\n",
              "                    resolve(data)\n",
              "                });\n",
              "            });\n",
              "            })\n",
              "        });\n",
              "    "
            ],
            "text/plain": [
              "<IPython.core.display.Javascript object>"
            ]
          },
          "metadata": {}
        },
        {
          "output_type": "stream",
          "name": "stderr",
          "text": [
            "\u001b[34m\u001b[1mwandb\u001b[0m: You can find your API key in your browser here: https://wandb.ai/authorize\n"
          ]
        },
        {
          "name": "stdout",
          "output_type": "stream",
          "text": [
            "wandb: Paste an API key from your profile and hit enter: ··········\n"
          ]
        },
        {
          "output_type": "stream",
          "name": "stderr",
          "text": [
            "\u001b[34m\u001b[1mwandb\u001b[0m: Appending key for api.wandb.ai to your netrc file: /root/.netrc\n"
          ]
        },
        {
          "output_type": "execute_result",
          "data": {
            "text/plain": [
              "True"
            ]
          },
          "metadata": {},
          "execution_count": 1
        }
      ]
    },
    {
      "cell_type": "code",
      "metadata": {
        "id": "_6zXmXTz6dci"
      },
      "source": [
        "from collections import namedtuple\n",
        "import numpy as np\n",
        "import os\n",
        "from keras.models import Sequential\n",
        "from keras.layers import Conv2D, MaxPooling2D, Dropout, Dense, Flatten, Activation, BatchNormalization\n",
        "from keras.utils import np_utils\n",
        "from tensorflow.keras.optimizers import RMSprop, SGD, Adam, Nadam\n",
        "from keras.callbacks import ReduceLROnPlateau, ModelCheckpoint, Callback, EarlyStopping\n",
        "from tensorflow import keras\n",
        "import os\n",
        "os.environ['TF_CPP_MIN_LOG_LEVEL'] = '3'\n",
        "import tensorflow as tf\n",
        "tf.compat.v1.logging.set_verbosity(tf.compat.v1.logging.ERROR)\n",
        "from wandb.keras import WandbCallback\n",
        "from sklearn.utils import shuffle\n",
        "\n",
        "Dataset = namedtuple(\"Dataset\", [\"x\", \"r\", \"fi\"])"
      ],
      "execution_count": null,
      "outputs": []
    },
    {
      "cell_type": "code",
      "metadata": {
        "id": "BCHPDePw9W7J"
      },
      "source": [
        "# Configure the sweep – specify the parameters to search through, the search strategy, the optimization metric et all.\n",
        "sweep_config = {\n",
        "    'method': 'bayes', #grid, random\n",
        "    'metric': {\n",
        "      'name': 'val_mae',\n",
        "      'goal': 'minimize'   \n",
        "    },\n",
        "    'parameters': {\n",
        "        'target':{\n",
        "          'values': ['r']  \n",
        "        },\n",
        "        'epochs': {\n",
        "            'values': [20]\n",
        "        },\n",
        "        'batch_size': {\n",
        "            'values': [64, 128]\n",
        "        },\n",
        "        'batchnorm_for_layers':{\n",
        "            'values': [0, 1]\n",
        "        },\n",
        "        'layer_1_size': {\n",
        "            'values': [2048, 3072, 4096, 5040, 5760]\n",
        "        },\n",
        "        'layer_2_size': {\n",
        "            'values': [3072, 4096, 5120, 5760, 6480, 7200]\n",
        "        },\n",
        "        'layer_3_size': {\n",
        "            'values': [2160, 2880, 3600, 4096, 5120, 6144]\n",
        "        },\n",
        "        'learning_rate': {\n",
        "            'distribution': 'uniform',\n",
        "            'max': 0.001,\n",
        "            'min': 1e-06\n",
        "        },\n",
        "        'optimizer': {\n",
        "            'distribution': 'categorical',\n",
        "            'values': ['sgd', 'rmsprop']\n",
        "        },\n",
        "        'activation1': {\n",
        "            'distribution': 'categorical',\n",
        "            'values': ['relu', 'tanh', 'sigmoid']\n",
        "        },\n",
        "        'activation2': {\n",
        "            'distribution': 'categorical',\n",
        "            'values': ['relu', 'tanh', 'sigmoid']\n",
        "        },\n",
        "        'activation3': {\n",
        "            'distribution': 'categorical',\n",
        "            'values': ['relu', 'tanh', 'sigmoid']\n",
        "        },\n",
        "        'activation4': {\n",
        "            'distribution': 'categorical',\n",
        "            'values': ['relu', 'tanh', 'sigmoid']\n",
        "        }\n",
        "    }\n",
        "}"
      ],
      "execution_count": null,
      "outputs": []
    },
    {
      "cell_type": "code",
      "metadata": {
        "colab": {
          "base_uri": "https://localhost:8080/"
        },
        "id": "w2007xI7CxhN",
        "outputId": "978fa2de-28ef-4367-f156-e8fad7fc440f"
      },
      "source": [
        "sweep_id = wandb.sweep(sweep_config, entity=\"artem-starkov\", project=\"flatfasetgen\")"
      ],
      "execution_count": null,
      "outputs": [
        {
          "output_type": "stream",
          "name": "stdout",
          "text": [
            "Create sweep with ID: yl0tk14z\n",
            "Sweep URL: https://wandb.ai/artem-starkov/flatfasetgen/sweeps/yl0tk14z\n"
          ]
        }
      ]
    },
    {
      "cell_type": "code",
      "metadata": {
        "id": "-fNJhL5Df9sY"
      },
      "source": [
        "from sklearn.model_selection import train_test_split\n",
        "from sklearn.metrics import r2_score, mean_squared_error\n",
        "\n",
        "def read(data_dir, split):\n",
        "    filename = split + \".npz\"\n",
        "    data = np.load(os.path.join(data_dir, filename))\n",
        "\n",
        "    return Dataset(x=data[\"x\"], r=data[\"r\"], fi=data['fi'])"
      ],
      "execution_count": null,
      "outputs": []
    },
    {
      "cell_type": "code",
      "metadata": {
        "id": "qeXHaN2cngr6"
      },
      "source": [
        "# The sweep calls this function with each set of hyperparameters\n",
        "def train():\n",
        "    # Default values for hyper-parameters we're going to sweep over\n",
        "    config_defaults = {\n",
        "        'epochs': 20,\n",
        "        'batch_size': 64,\n",
        "        # 'weight_decay': 0.0005,\n",
        "        'learning_rate': 1e-3,\n",
        "        'activation1': 'relu',\n",
        "        'activation2': 'relu',\n",
        "        'activation3': 'relu',\n",
        "        'activation4': 'relu',\n",
        "        'optimizer': 'sgd',\n",
        "        'layer_1_size': 4320,\n",
        "        'layer_2_size': 4320,\n",
        "        'layer_3_size': 4320,\n",
        "        'batchnorm_for_layers': 1,\n",
        "        'Distance_distribution': 'sqr',\n",
        "        'target': 'r'\n",
        "    }\n",
        "\n",
        "    run = wandb.init(project=\"flatfasetgen\", job_type=\"training_distance_linear_distrubution\", config=config_defaults)\n",
        "    processed_data = wandb.Artifact(\"Clear_datasets\", type=\"dataset\")\n",
        "    raw_data_artifact = run.use_artifact('Clear_datasets:v20')  \n",
        "    raw_dataset = raw_data_artifact.download()\n",
        "    train_dataset = read(raw_dataset, 'train_set')\n",
        "    test_dataset = read(raw_dataset, 'test_set')\n",
        "    run.log_artifact(processed_data)\n",
        "    X_train, X_test, y_train, y_test = train_dataset.x, test_dataset.x, train_dataset.r, test_dataset.r\n",
        "\n",
        "    config = wandb.config\n",
        "    model = Sequential()\n",
        "    model.add(Dense(720, input_shape=(720,)))\n",
        "    if config.batchnorm_for_layers:\n",
        "      model.add(BatchNormalization())\n",
        "\n",
        "    model.add(Activation(config.activation1))\n",
        "\n",
        "\n",
        "    model.add(Dense(config.layer_1_size))\n",
        "    if config.batchnorm_for_layers:\n",
        "      model.add(BatchNormalization())\n",
        "    model.add(Activation(config.activation2))\n",
        "\n",
        "    model.add(Dense(config.layer_2_size))\n",
        "    if config.batchnorm_for_layers:\n",
        "      model.add(BatchNormalization())\n",
        "    model.add(Activation(config.activation3))\n",
        "\n",
        "    model.add(Dense(config.layer_3_size))\n",
        "    if config.batchnorm_for_layers:\n",
        "      model.add(BatchNormalization())\n",
        "    model.add(Activation(config.activation4))\n",
        "\n",
        "    model.add(Dense(1))\n",
        "\n",
        "    # Define the optimizer\n",
        "    if config.optimizer=='sgd':\n",
        "      optimizer = SGD(learning_rate=config.learning_rate, decay=1e-5, nesterov=True)\n",
        "    elif config.optimizer=='rmsprop':\n",
        "      optimizer = RMSprop(learning_rate=config.learning_rate, decay=1e-5)\n",
        "\n",
        "    model.compile(loss='mae', optimizer = optimizer, metrics=['mae', 'mape'])\n",
        "\n",
        "    model_artifact = wandb.Artifact(\n",
        "            \"distance_compiled_model\", type=\"model\",\n",
        "            description=f\"50k dataset, full search with batch_norm, desrtibution for distance: {config.Distance_distribution}\",\n",
        "            metadata=dict(config))\n",
        "    model.save(\"distance_compiled_models\")\n",
        "    model_artifact.add_dir(\"distance_compiled_models\")\n",
        "    run.log_artifact(model_artifact)\n",
        "\n",
        "    model.fit(X_train, y_train, batch_size=config.batch_size,\n",
        "              epochs=config.epochs, validation_data=(X_test, y_test),\n",
        "              callbacks=[WandbCallback(validation_data=(X_test, y_test)),\n",
        "                          EarlyStopping(monitor='val_loss', min_delta=0.00001, patience=10, restore_best_weights=True)])\n",
        "    wandb.log({\"R2\" : r2_score(y_test, model.predict(X_test))})\n",
        "    wandb.log({\"RMSE\": mean_squared_error(y_test, model.predict(X_test), squared=False)})\n",
        "    trained_model_artifact = wandb.Artifact(\n",
        "            \"distance_trained_model\", type=\"model\",\n",
        "            description=\"\",\n",
        "            metadata=dict(config))\n",
        "    \n",
        "    model.save('distance_trained_models')\n",
        "    trained_model_artifact.add_dir('distance_trained_models')\n",
        "    run.log_artifact(trained_model_artifact)\n",
        "    run.finish()"
      ],
      "execution_count": null,
      "outputs": []
    },
    {
      "cell_type": "code",
      "metadata": {
        "colab": {
          "base_uri": "https://localhost:8080/",
          "height": 1000,
          "referenced_widgets": [
            "4ae811ae943d41e0a057aa3946a4acc9",
            "3d95ad5664fb41f3aa60d74647b4a66e",
            "608150fe192c461da2984ad1a09c4a47",
            "9b134d3a201444a7809e158a91ce810d",
            "6ea30d2a8742466a8df0f21d0dd519d5",
            "18c405e8b7944e4fa3a52967a3efb446",
            "14980dc9295b4a5d95c4d71cd89852b2",
            "df5ba42e977e4db2b56ca4e538872904",
            "f6ed9c0b69ea4790a70275f6b6f8c763",
            "040a965baed6459786da4aeed3473ab7",
            "d78f7841711b4e0babc0625c3adb63f6",
            "3f112433edc44b99b03a64cde57c87e5",
            "dd7d14bae3d04add8e0ae1050799e784",
            "675552702659434a893ee9ac5d9e098b",
            "921d6c931cf046d998a4791114b3f282",
            "85c82311c3394c3c8fc1aee1a28cd05c",
            "b09a8058214c409599711e05575baf80",
            "dbd26135747840b7b2027b855c4b1b8a",
            "199fe4fa4a3a42a5b06fee80cb46a0d4",
            "2dc24ccc07594a35b0ed2eb4186d049e",
            "29f4f9764bb44158bd10058345d52a53",
            "eacf06feb3dd4359b9a7295774d9d36f",
            "ce4d81ab13cd4857aa16eb121132a57a",
            "4af766bcb09747ad89dd659073c3919b",
            "9de2ed9a466043f48eb2364e980295ba",
            "dfa376668c0543e480d14cb55b1ebbd2",
            "39e2db4ac86d4b69a36abe35ba30dccd",
            "99699a7d35ae498684705cf6937711df",
            "753d0d37de954223920f4277daece166",
            "5ca832fa6a5f47d7b9b425af6fa93fd6",
            "e629f21debd64aaa8df9ba4b89a2961b",
            "ba1d8f7536654ebc9da15dac5b2c3006",
            "b5b71e0dc72f4ec1837b2d5413774840",
            "a1045386fbd24c86b493d46781bb5b59",
            "a059720af56c4df4b8eb82a94173e359",
            "fd56d115594a472f9ad98cad231acab9",
            "42f2151441414f1d8c39fcc0b7e49c7e",
            "9d55d485ad20421aaf875fb09dbae4f2",
            "1be4666ed3454edb87b54dcf18d8b16e",
            "86d7cdf03cd04191adf30471408f8a08",
            "d23f18f47fc0458b85a11eb0dffa7898",
            "e4638587eaf1437a91a920368ba79cfe",
            "e17f99da1c65407081b707c899daff87",
            "8d3cd6b663ee48278b53f104b0d4e550",
            "ceb57ef069b142c5b156e5b77f1664f0",
            "b4ba6f4882334080b4de7f9e7c44e1c8",
            "3789aaaf813842139dfd5bddc4761d51",
            "5ad60ee20d9a4340b588eb5f2e74b1b2",
            "fe5ea0e9bbce4703bff764b8cf749694",
            "2485a0652cb949f88f0bd5ae96377e44",
            "157c6370113f484191c5ad58b5e8773a",
            "6bb47cc384c0427883d45c4274b2d390",
            "0d231ee4ee8a46deaae92e5c8b419de4",
            "90061856e74c465b9aaf45cb0cf8b287",
            "e1455573851a4ab8bd614bc9b67dce73",
            "a3b168ce79464a13bb90438b229bf64d",
            "210eecc4e80041dd81de05428f9cceb8",
            "3784b7eea3204438b2a219dd52c6f6b8",
            "32b8faaf2a014946a1b54bf37cf2bad0",
            "c06fd39334704b9da6b895cc3d56b885",
            "8f9d991b2b1341b58a7c625244f37c46",
            "0d776a638d7b4d8bb207e22c0e0fe99b",
            "c30ec024fcdf488b9dc277cbb81560bd",
            "96f10566c46646fc84d69476dd2277d0",
            "eb2311ae7db4447cbbdf7c4196d99f72",
            "9f3b6749e6e347df8f23b4c8eab9445b",
            "d36b9a1aa3af4c70be7d58fb5482230b",
            "b1a779ffadee46eb8feed3234be0fbad",
            "8e433639df4949cd8a1bf498863e1bfa",
            "3d10014914f64c0783f055ac0fede9c9",
            "311689174c9848399e7aab0756832818",
            "28adfafbee5a45e58b5dc80df13cc029",
            "acc8b6015881494face8303fd1d9ba07",
            "322c8829fffd4bddac9384de4cc4ddc3",
            "dcc4252aa5cd43369e9582d339285491",
            "9138aa89bbd34b33a1f14c7de40a28a8",
            "59b46a337bf34a4685671d25ba77de72",
            "1541016b9cc145e791c1e51d75ada503",
            "6f18bc46d79f407c8708d041606d456d",
            "31623a113c5b464b8ec5b099bdc02e5a"
          ]
        },
        "id": "oSJuYpfcI7rj",
        "outputId": "5d3e2c8a-e54b-40d3-efa9-21927a0bcd22"
      },
      "source": [
        "wandb.agent(sweep_id, train, count=10)"
      ],
      "execution_count": null,
      "outputs": [
        {
          "output_type": "stream",
          "name": "stderr",
          "text": [
            "\u001b[34m\u001b[1mwandb\u001b[0m: Agent Starting Run: da3kssh2 with config:\n",
            "\u001b[34m\u001b[1mwandb\u001b[0m: \tactivation1: relu\n",
            "\u001b[34m\u001b[1mwandb\u001b[0m: \tactivation2: tanh\n",
            "\u001b[34m\u001b[1mwandb\u001b[0m: \tactivation3: tanh\n",
            "\u001b[34m\u001b[1mwandb\u001b[0m: \tactivation4: sigmoid\n",
            "\u001b[34m\u001b[1mwandb\u001b[0m: \tbatch_size: 128\n",
            "\u001b[34m\u001b[1mwandb\u001b[0m: \tbatchnorm_for_layers: 1\n",
            "\u001b[34m\u001b[1mwandb\u001b[0m: \tepochs: 20\n",
            "\u001b[34m\u001b[1mwandb\u001b[0m: \tlayer_1_size: 3072\n",
            "\u001b[34m\u001b[1mwandb\u001b[0m: \tlayer_2_size: 3072\n",
            "\u001b[34m\u001b[1mwandb\u001b[0m: \tlayer_3_size: 2160\n",
            "\u001b[34m\u001b[1mwandb\u001b[0m: \tlearning_rate: 0.00019619902865523848\n",
            "\u001b[34m\u001b[1mwandb\u001b[0m: \toptimizer: sgd\n",
            "\u001b[34m\u001b[1mwandb\u001b[0m: \ttarget: r\n",
            "\u001b[34m\u001b[1mwandb\u001b[0m: \u001b[33mWARNING\u001b[0m Ignored wandb.init() arg project when running a sweep\n"
          ]
        },
        {
          "output_type": "display_data",
          "data": {
            "text/html": [
              "\n",
              "                    Syncing run <strong><a href=\"https://wandb.ai/artem-starkov/flatfasetgen/runs/da3kssh2\" target=\"_blank\">sage-sweep-1</a></strong> to <a href=\"https://wandb.ai/artem-starkov/flatfasetgen\" target=\"_blank\">Weights & Biases</a> (<a href=\"https://docs.wandb.com/integrations/jupyter.html\" target=\"_blank\">docs</a>).<br/>\n",
              "Sweep page: <a href=\"https://wandb.ai/artem-starkov/flatfasetgen/sweeps/yl0tk14z\" target=\"_blank\">https://wandb.ai/artem-starkov/flatfasetgen/sweeps/yl0tk14z</a><br/>\n",
              "\n",
              "                "
            ],
            "text/plain": [
              "<IPython.core.display.HTML object>"
            ]
          },
          "metadata": {}
        },
        {
          "output_type": "stream",
          "name": "stderr",
          "text": [
            "\u001b[34m\u001b[1mwandb\u001b[0m: Downloading large artifact Clear_datasets:v20, 1377.11MB. 2 files... Done. 0:0:0\n",
            "\u001b[34m\u001b[1mwandb\u001b[0m: Adding directory to artifact (./distance_compiled_models)... Done. 4.2s\n"
          ]
        },
        {
          "output_type": "stream",
          "name": "stdout",
          "text": [
            "Epoch 1/20\n",
            "1563/1563 [==============================] - 33s 20ms/step - loss: 3304.4099 - mae: 3304.4099 - mape: 96.9659 - val_loss: 3220.6064 - val_mae: 3220.6064 - val_mape: 93.8970\n",
            "Epoch 2/20\n",
            "1563/1563 [==============================] - 31s 20ms/step - loss: 3134.1182 - mae: 3134.1182 - mape: 90.8025 - val_loss: 3045.2163 - val_mae: 3045.2163 - val_mape: 87.6669\n",
            "Epoch 3/20\n",
            " 706/1563 [============>.................] - ETA: 15s - loss: 3000.8921 - mae: 3000.8921 - mape: 86.2210"
          ]
        },
        {
          "output_type": "display_data",
          "data": {
            "text/html": [
              "<br/>Waiting for W&B process to finish, PID 1639... <strong style=\"color:red\">(failed 1).</strong> Press ctrl-c to abort syncing."
            ],
            "text/plain": [
              "<IPython.core.display.HTML object>"
            ]
          },
          "metadata": {}
        },
        {
          "output_type": "display_data",
          "data": {
            "application/vnd.jupyter.widget-view+json": {
              "model_id": "4ae811ae943d41e0a057aa3946a4acc9",
              "version_minor": 0,
              "version_major": 2
            },
            "text/plain": [
              "VBox(children=(Label(value=' 144.19MB of 144.19MB uploaded (0.00MB deduped)\\r'), FloatProgress(value=1.0, max=…"
            ]
          },
          "metadata": {}
        },
        {
          "output_type": "display_data",
          "data": {
            "text/html": [
              "<style>\n",
              "    table.wandb td:nth-child(1) { padding: 0 10px; text-align: right }\n",
              "    .wandb-row { display: flex; flex-direction: row; flex-wrap: wrap; width: 100% }\n",
              "    .wandb-col { display: flex; flex-direction: column; flex-basis: 100%; flex: 1; padding: 10px; }\n",
              "    </style>\n",
              "<div class=\"wandb-row\"><div class=\"wandb-col\">\n",
              "<h3>Run history:</h3><br/><table class=\"wandb\"><tr><td>epoch</td><td>▁█</td></tr><tr><td>loss</td><td>█▁</td></tr><tr><td>mae</td><td>█▁</td></tr><tr><td>mape</td><td>█▁</td></tr><tr><td>val_loss</td><td>█▁</td></tr><tr><td>val_mae</td><td>█▁</td></tr><tr><td>val_mape</td><td>█▁</td></tr></table><br/></div><div class=\"wandb-col\">\n",
              "<h3>Run summary:</h3><br/><table class=\"wandb\"><tr><td>best_epoch</td><td>1</td></tr><tr><td>best_val_loss</td><td>3045.21631</td></tr><tr><td>epoch</td><td>1</td></tr><tr><td>loss</td><td>3134.11816</td></tr><tr><td>mae</td><td>3134.11816</td></tr><tr><td>mape</td><td>90.80246</td></tr><tr><td>val_loss</td><td>3045.21631</td></tr><tr><td>val_mae</td><td>3045.21631</td></tr><tr><td>val_mape</td><td>87.66693</td></tr></table>\n",
              "</div></div>\n",
              "Synced 5 W&B file(s), 1 media file(s), 4 artifact file(s) and 1 other file(s)\n",
              "<br/>Synced <strong style=\"color:#cdcd00\">sage-sweep-1</strong>: <a href=\"https://wandb.ai/artem-starkov/flatfasetgen/runs/da3kssh2\" target=\"_blank\">https://wandb.ai/artem-starkov/flatfasetgen/runs/da3kssh2</a><br/>\n",
              "Find logs at: <code>./wandb/run-20211103_224256-da3kssh2/logs</code><br/>\n"
            ],
            "text/plain": [
              "<IPython.core.display.HTML object>"
            ]
          },
          "metadata": {}
        },
        {
          "output_type": "stream",
          "name": "stderr",
          "text": [
            "\u001b[34m\u001b[1mwandb\u001b[0m: Agent Starting Run: sap9dzqv with config:\n",
            "\u001b[34m\u001b[1mwandb\u001b[0m: \tactivation1: sigmoid\n",
            "\u001b[34m\u001b[1mwandb\u001b[0m: \tactivation2: tanh\n",
            "\u001b[34m\u001b[1mwandb\u001b[0m: \tactivation3: sigmoid\n",
            "\u001b[34m\u001b[1mwandb\u001b[0m: \tactivation4: sigmoid\n",
            "\u001b[34m\u001b[1mwandb\u001b[0m: \tbatch_size: 64\n",
            "\u001b[34m\u001b[1mwandb\u001b[0m: \tbatchnorm_for_layers: 0\n",
            "\u001b[34m\u001b[1mwandb\u001b[0m: \tepochs: 20\n",
            "\u001b[34m\u001b[1mwandb\u001b[0m: \tlayer_1_size: 5760\n",
            "\u001b[34m\u001b[1mwandb\u001b[0m: \tlayer_2_size: 5120\n",
            "\u001b[34m\u001b[1mwandb\u001b[0m: \tlayer_3_size: 2160\n",
            "\u001b[34m\u001b[1mwandb\u001b[0m: \tlearning_rate: 0.000499639368891369\n",
            "\u001b[34m\u001b[1mwandb\u001b[0m: \toptimizer: sgd\n",
            "\u001b[34m\u001b[1mwandb\u001b[0m: \ttarget: r\n",
            "\u001b[34m\u001b[1mwandb\u001b[0m: \u001b[33mWARNING\u001b[0m Ignored wandb.init() arg project when running a sweep\n"
          ]
        },
        {
          "output_type": "display_data",
          "data": {
            "text/html": [
              "\n",
              "                    Syncing run <strong><a href=\"https://wandb.ai/artem-starkov/flatfasetgen/runs/sap9dzqv\" target=\"_blank\">silver-sweep-2</a></strong> to <a href=\"https://wandb.ai/artem-starkov/flatfasetgen\" target=\"_blank\">Weights & Biases</a> (<a href=\"https://docs.wandb.com/integrations/jupyter.html\" target=\"_blank\">docs</a>).<br/>\n",
              "Sweep page: <a href=\"https://wandb.ai/artem-starkov/flatfasetgen/sweeps/yl0tk14z\" target=\"_blank\">https://wandb.ai/artem-starkov/flatfasetgen/sweeps/yl0tk14z</a><br/>\n",
              "\n",
              "                "
            ],
            "text/plain": [
              "<IPython.core.display.HTML object>"
            ]
          },
          "metadata": {}
        },
        {
          "output_type": "stream",
          "name": "stderr",
          "text": [
            "\u001b[34m\u001b[1mwandb\u001b[0m: Downloading large artifact Clear_datasets:v20, 1377.11MB. 2 files... Done. 0:0:0\n",
            "\u001b[34m\u001b[1mwandb\u001b[0m: Adding directory to artifact (./distance_compiled_models)... Done. 1.5s\n"
          ]
        },
        {
          "output_type": "stream",
          "name": "stdout",
          "text": [
            "Epoch 1/20\n",
            "3125/3125 [==============================] - 68s 22ms/step - loss: 2170.8677 - mae: 2170.8677 - mape: 63.4243 - val_loss: 1257.9277 - val_mae: 1257.9277 - val_mape: 44.1020\n",
            "Epoch 2/20\n",
            "3125/3125 [==============================] - 68s 22ms/step - loss: 1056.8634 - mae: 1056.8634 - mape: 45.3262 - val_loss: 980.2399 - val_mae: 980.2399 - val_mape: 47.5527\n",
            "Epoch 3/20\n",
            "3125/3125 [==============================] - 67s 22ms/step - loss: 972.6038 - mae: 972.6038 - mape: 48.7249 - val_loss: 969.9789 - val_mae: 969.9789 - val_mape: 49.5019\n",
            "Epoch 4/20\n",
            "3125/3125 [==============================] - 67s 21ms/step - loss: 969.7171 - mae: 969.7171 - mape: 49.6765 - val_loss: 969.6422 - val_mae: 969.6422 - val_mape: 49.9323\n",
            "Epoch 5/20\n",
            "3125/3125 [==============================] - 66s 21ms/step - loss: 969.6276 - mae: 969.6276 - mape: 49.8962 - val_loss: 969.6398 - val_mae: 969.6398 - val_mape: 49.9796\n",
            "Epoch 6/20\n",
            "3125/3125 [==============================] - 66s 21ms/step - loss: 969.6233 - mae: 969.6233 - mape: 49.9057 - val_loss: 969.6418 - val_mae: 969.6418 - val_mape: 50.0090\n",
            "Epoch 7/20\n",
            " 726/3125 [=====>........................] - ETA: 46s - loss: 968.3914 - mae: 968.3914 - mape: 50.0870"
          ]
        },
        {
          "output_type": "display_data",
          "data": {
            "text/html": [
              "<br/>Waiting for W&B process to finish, PID 1765... <strong style=\"color:red\">(failed 1).</strong> Press ctrl-c to abort syncing."
            ],
            "text/plain": [
              "<IPython.core.display.HTML object>"
            ]
          },
          "metadata": {}
        },
        {
          "output_type": "display_data",
          "data": {
            "application/vnd.jupyter.widget-view+json": {
              "model_id": "f6ed9c0b69ea4790a70275f6b6f8c763",
              "version_minor": 0,
              "version_major": 2
            },
            "text/plain": [
              "VBox(children=(Label(value=' 174.67MB of 174.67MB uploaded (0.00MB deduped)\\r'), FloatProgress(value=1.0, max=…"
            ]
          },
          "metadata": {}
        },
        {
          "output_type": "display_data",
          "data": {
            "text/html": [
              "<style>\n",
              "    table.wandb td:nth-child(1) { padding: 0 10px; text-align: right }\n",
              "    .wandb-row { display: flex; flex-direction: row; flex-wrap: wrap; width: 100% }\n",
              "    .wandb-col { display: flex; flex-direction: column; flex-basis: 100%; flex: 1; padding: 10px; }\n",
              "    </style>\n",
              "<div class=\"wandb-row\"><div class=\"wandb-col\">\n",
              "<h3>Run history:</h3><br/><table class=\"wandb\"><tr><td>epoch</td><td>▁▂▄▅▇█</td></tr><tr><td>loss</td><td>█▂▁▁▁▁</td></tr><tr><td>mae</td><td>█▂▁▁▁▁</td></tr><tr><td>mape</td><td>█▁▂▃▃▃</td></tr><tr><td>val_loss</td><td>█▁▁▁▁▁</td></tr><tr><td>val_mae</td><td>█▁▁▁▁▁</td></tr><tr><td>val_mape</td><td>▁▅▇███</td></tr></table><br/></div><div class=\"wandb-col\">\n",
              "<h3>Run summary:</h3><br/><table class=\"wandb\"><tr><td>best_epoch</td><td>4</td></tr><tr><td>best_val_loss</td><td>969.63983</td></tr><tr><td>epoch</td><td>5</td></tr><tr><td>loss</td><td>969.62329</td></tr><tr><td>mae</td><td>969.62329</td></tr><tr><td>mape</td><td>49.90569</td></tr><tr><td>val_loss</td><td>969.64178</td></tr><tr><td>val_mae</td><td>969.64178</td></tr><tr><td>val_mape</td><td>50.00902</td></tr></table>\n",
              "</div></div>\n",
              "Synced 5 W&B file(s), 1 media file(s), 4 artifact file(s) and 1 other file(s)\n",
              "<br/>Synced <strong style=\"color:#cdcd00\">silver-sweep-2</strong>: <a href=\"https://wandb.ai/artem-starkov/flatfasetgen/runs/sap9dzqv\" target=\"_blank\">https://wandb.ai/artem-starkov/flatfasetgen/runs/sap9dzqv</a><br/>\n",
              "Find logs at: <code>./wandb/run-20211103_224437-sap9dzqv/logs</code><br/>\n"
            ],
            "text/plain": [
              "<IPython.core.display.HTML object>"
            ]
          },
          "metadata": {}
        },
        {
          "output_type": "stream",
          "name": "stderr",
          "text": [
            "\u001b[34m\u001b[1mwandb\u001b[0m: Agent Starting Run: 192eqbd6 with config:\n",
            "\u001b[34m\u001b[1mwandb\u001b[0m: \tactivation1: relu\n",
            "\u001b[34m\u001b[1mwandb\u001b[0m: \tactivation2: tanh\n",
            "\u001b[34m\u001b[1mwandb\u001b[0m: \tactivation3: sigmoid\n",
            "\u001b[34m\u001b[1mwandb\u001b[0m: \tactivation4: relu\n",
            "\u001b[34m\u001b[1mwandb\u001b[0m: \tbatch_size: 128\n",
            "\u001b[34m\u001b[1mwandb\u001b[0m: \tbatchnorm_for_layers: 0\n",
            "\u001b[34m\u001b[1mwandb\u001b[0m: \tepochs: 20\n",
            "\u001b[34m\u001b[1mwandb\u001b[0m: \tlayer_1_size: 5760\n",
            "\u001b[34m\u001b[1mwandb\u001b[0m: \tlayer_2_size: 7200\n",
            "\u001b[34m\u001b[1mwandb\u001b[0m: \tlayer_3_size: 4096\n",
            "\u001b[34m\u001b[1mwandb\u001b[0m: \tlearning_rate: 0.00048345511426919446\n",
            "\u001b[34m\u001b[1mwandb\u001b[0m: \toptimizer: rmsprop\n",
            "\u001b[34m\u001b[1mwandb\u001b[0m: \ttarget: r\n",
            "\u001b[34m\u001b[1mwandb\u001b[0m: \u001b[33mWARNING\u001b[0m Ignored wandb.init() arg project when running a sweep\n"
          ]
        },
        {
          "output_type": "display_data",
          "data": {
            "text/html": [
              "\n",
              "                    Syncing run <strong><a href=\"https://wandb.ai/artem-starkov/flatfasetgen/runs/192eqbd6\" target=\"_blank\">efficient-sweep-3</a></strong> to <a href=\"https://wandb.ai/artem-starkov/flatfasetgen\" target=\"_blank\">Weights & Biases</a> (<a href=\"https://docs.wandb.com/integrations/jupyter.html\" target=\"_blank\">docs</a>).<br/>\n",
              "Sweep page: <a href=\"https://wandb.ai/artem-starkov/flatfasetgen/sweeps/yl0tk14z\" target=\"_blank\">https://wandb.ai/artem-starkov/flatfasetgen/sweeps/yl0tk14z</a><br/>\n",
              "\n",
              "                "
            ],
            "text/plain": [
              "<IPython.core.display.HTML object>"
            ]
          },
          "metadata": {}
        },
        {
          "output_type": "stream",
          "name": "stderr",
          "text": [
            "\u001b[34m\u001b[1mwandb\u001b[0m: Downloading large artifact Clear_datasets:v20, 1377.11MB. 2 files... Done. 0:0:0\n",
            "\u001b[34m\u001b[1mwandb\u001b[0m: Adding directory to artifact (./distance_compiled_models)... Done. 2.1s\n"
          ]
        },
        {
          "output_type": "stream",
          "name": "stdout",
          "text": [
            "Epoch 1/20\n",
            "1563/1563 [==============================] - 133s 84ms/step - loss: 984.0071 - mae: 984.0071 - mape: 50.1269 - val_loss: 987.4592 - val_mae: 987.4592 - val_mape: 46.9441\n",
            "Epoch 2/20\n",
            "1563/1563 [==============================] - 130s 83ms/step - loss: 974.5358 - mae: 974.5358 - mape: 50.0425 - val_loss: 974.6260 - val_mae: 974.6260 - val_mape: 51.9507\n",
            "Epoch 3/20\n",
            "1174/1563 [=====================>........] - ETA: 31s - loss: 975.6245 - mae: 975.6245 - mape: 50.1453"
          ]
        },
        {
          "output_type": "display_data",
          "data": {
            "text/html": [
              "<br/>Waiting for W&B process to finish, PID 1977... <strong style=\"color:red\">(failed 1).</strong> Press ctrl-c to abort syncing."
            ],
            "text/plain": [
              "<IPython.core.display.HTML object>"
            ]
          },
          "metadata": {}
        },
        {
          "output_type": "display_data",
          "data": {
            "application/vnd.jupyter.widget-view+json": {
              "model_id": "b09a8058214c409599711e05575baf80",
              "version_minor": 0,
              "version_major": 2
            },
            "text/plain": [
              "VBox(children=(Label(value=' 865.94MB of 865.94MB uploaded (0.00MB deduped)\\r'), FloatProgress(value=1.0, max=…"
            ]
          },
          "metadata": {}
        },
        {
          "output_type": "display_data",
          "data": {
            "text/html": [
              "<style>\n",
              "    table.wandb td:nth-child(1) { padding: 0 10px; text-align: right }\n",
              "    .wandb-row { display: flex; flex-direction: row; flex-wrap: wrap; width: 100% }\n",
              "    .wandb-col { display: flex; flex-direction: column; flex-basis: 100%; flex: 1; padding: 10px; }\n",
              "    </style>\n",
              "<div class=\"wandb-row\"><div class=\"wandb-col\">\n",
              "<h3>Run history:</h3><br/><table class=\"wandb\"><tr><td>epoch</td><td>▁█</td></tr><tr><td>loss</td><td>█▁</td></tr><tr><td>mae</td><td>█▁</td></tr><tr><td>mape</td><td>█▁</td></tr><tr><td>val_loss</td><td>█▁</td></tr><tr><td>val_mae</td><td>█▁</td></tr><tr><td>val_mape</td><td>▁█</td></tr></table><br/></div><div class=\"wandb-col\">\n",
              "<h3>Run summary:</h3><br/><table class=\"wandb\"><tr><td>best_epoch</td><td>1</td></tr><tr><td>best_val_loss</td><td>974.62598</td></tr><tr><td>epoch</td><td>1</td></tr><tr><td>loss</td><td>974.53583</td></tr><tr><td>mae</td><td>974.53583</td></tr><tr><td>mape</td><td>50.04255</td></tr><tr><td>val_loss</td><td>974.62598</td></tr><tr><td>val_mae</td><td>974.62598</td></tr><tr><td>val_mape</td><td>51.95074</td></tr></table>\n",
              "</div></div>\n",
              "Synced 5 W&B file(s), 1 media file(s), 4 artifact file(s) and 1 other file(s)\n",
              "<br/>Synced <strong style=\"color:#cdcd00\">efficient-sweep-3</strong>: <a href=\"https://wandb.ai/artem-starkov/flatfasetgen/runs/192eqbd6\" target=\"_blank\">https://wandb.ai/artem-starkov/flatfasetgen/runs/192eqbd6</a><br/>\n",
              "Find logs at: <code>./wandb/run-20211103_225159-192eqbd6/logs</code><br/>\n"
            ],
            "text/plain": [
              "<IPython.core.display.HTML object>"
            ]
          },
          "metadata": {}
        },
        {
          "output_type": "stream",
          "name": "stderr",
          "text": [
            "\u001b[34m\u001b[1mwandb\u001b[0m: Agent Starting Run: jbeg1ged with config:\n",
            "\u001b[34m\u001b[1mwandb\u001b[0m: \tactivation1: relu\n",
            "\u001b[34m\u001b[1mwandb\u001b[0m: \tactivation2: relu\n",
            "\u001b[34m\u001b[1mwandb\u001b[0m: \tactivation3: relu\n",
            "\u001b[34m\u001b[1mwandb\u001b[0m: \tactivation4: relu\n",
            "\u001b[34m\u001b[1mwandb\u001b[0m: \tbatch_size: 64\n",
            "\u001b[34m\u001b[1mwandb\u001b[0m: \tbatchnorm_for_layers: 0\n",
            "\u001b[34m\u001b[1mwandb\u001b[0m: \tepochs: 20\n",
            "\u001b[34m\u001b[1mwandb\u001b[0m: \tlayer_1_size: 5040\n",
            "\u001b[34m\u001b[1mwandb\u001b[0m: \tlayer_2_size: 5760\n",
            "\u001b[34m\u001b[1mwandb\u001b[0m: \tlayer_3_size: 5120\n",
            "\u001b[34m\u001b[1mwandb\u001b[0m: \tlearning_rate: 0.0008632227885085661\n",
            "\u001b[34m\u001b[1mwandb\u001b[0m: \toptimizer: sgd\n",
            "\u001b[34m\u001b[1mwandb\u001b[0m: \ttarget: r\n",
            "\u001b[34m\u001b[1mwandb\u001b[0m: \u001b[33mWARNING\u001b[0m Ignored wandb.init() arg project when running a sweep\n"
          ]
        },
        {
          "output_type": "display_data",
          "data": {
            "text/html": [
              "\n",
              "                    Syncing run <strong><a href=\"https://wandb.ai/artem-starkov/flatfasetgen/runs/jbeg1ged\" target=\"_blank\">glowing-sweep-4</a></strong> to <a href=\"https://wandb.ai/artem-starkov/flatfasetgen\" target=\"_blank\">Weights & Biases</a> (<a href=\"https://docs.wandb.com/integrations/jupyter.html\" target=\"_blank\">docs</a>).<br/>\n",
              "Sweep page: <a href=\"https://wandb.ai/artem-starkov/flatfasetgen/sweeps/yl0tk14z\" target=\"_blank\">https://wandb.ai/artem-starkov/flatfasetgen/sweeps/yl0tk14z</a><br/>\n",
              "\n",
              "                "
            ],
            "text/plain": [
              "<IPython.core.display.HTML object>"
            ]
          },
          "metadata": {}
        },
        {
          "output_type": "stream",
          "name": "stderr",
          "text": [
            "\u001b[34m\u001b[1mwandb\u001b[0m: Downloading large artifact Clear_datasets:v20, 1377.11MB. 2 files... Done. 0:0:0\n",
            "\u001b[34m\u001b[1mwandb\u001b[0m: Adding directory to artifact (./distance_compiled_models)... Done. 2.5s\n"
          ]
        },
        {
          "output_type": "stream",
          "name": "stdout",
          "text": [
            "Epoch 1/20\n",
            "3125/3125 [==============================] - 86s 27ms/step - loss: 926.0258 - mae: 926.0258 - mape: 31.7754 - val_loss: 815.6686 - val_mae: 815.6686 - val_mape: 30.8314\n",
            "Epoch 2/20\n",
            "3125/3125 [==============================] - 85s 27ms/step - loss: 500.8889 - mae: 500.8889 - mape: 17.4847 - val_loss: 445.9344 - val_mae: 445.9344 - val_mape: 14.9785\n",
            "Epoch 3/20\n",
            "3125/3125 [==============================] - 85s 27ms/step - loss: 445.0326 - mae: 445.0326 - mape: 15.4622 - val_loss: 378.1425 - val_mae: 378.1425 - val_mape: 13.0345\n",
            "Epoch 4/20\n",
            "3125/3125 [==============================] - 85s 27ms/step - loss: 408.5812 - mae: 408.5812 - mape: 14.0598 - val_loss: 469.7527 - val_mae: 469.7527 - val_mape: 17.4235\n",
            "Epoch 5/20\n",
            "3125/3125 [==============================] - 85s 27ms/step - loss: 383.5374 - mae: 383.5374 - mape: 13.0972 - val_loss: 363.0628 - val_mae: 363.0628 - val_mape: 13.2596\n",
            "Epoch 6/20\n",
            "3125/3125 [==============================] - 85s 27ms/step - loss: 370.0734 - mae: 370.0734 - mape: 12.5152 - val_loss: 378.3123 - val_mae: 378.3123 - val_mape: 13.5485\n",
            "Epoch 7/20\n",
            "3125/3125 [==============================] - 85s 27ms/step - loss: 358.1578 - mae: 358.1578 - mape: 11.9984 - val_loss: 329.7725 - val_mae: 329.7725 - val_mape: 10.9673\n",
            "Epoch 8/20\n",
            "3125/3125 [==============================] - 85s 27ms/step - loss: 348.8504 - mae: 348.8504 - mape: 11.5614 - val_loss: 344.5184 - val_mae: 344.5184 - val_mape: 11.9950\n",
            "Epoch 9/20\n",
            "3125/3125 [==============================] - 90s 29ms/step - loss: 338.7643 - mae: 338.7643 - mape: 11.1549 - val_loss: 325.2294 - val_mae: 325.2294 - val_mape: 10.7953\n",
            "Epoch 10/20\n",
            "3125/3125 [==============================] - 85s 27ms/step - loss: 334.9198 - mae: 334.9198 - mape: 10.9349 - val_loss: 360.2698 - val_mae: 360.2698 - val_mape: 11.1843\n",
            "Epoch 11/20\n",
            "3125/3125 [==============================] - 85s 27ms/step - loss: 328.5107 - mae: 328.5107 - mape: 10.6739 - val_loss: 327.7079 - val_mae: 327.7079 - val_mape: 11.2154\n",
            "Epoch 12/20\n",
            "3125/3125 [==============================] - 85s 27ms/step - loss: 323.4061 - mae: 323.4061 - mape: 10.4400 - val_loss: 365.5222 - val_mae: 365.5222 - val_mape: 11.1960\n",
            "Epoch 13/20\n",
            "3125/3125 [==============================] - 85s 27ms/step - loss: 320.3316 - mae: 320.3316 - mape: 10.2835 - val_loss: 333.9640 - val_mae: 333.9640 - val_mape: 11.3447\n",
            "Epoch 14/20\n",
            "3125/3125 [==============================] - 85s 27ms/step - loss: 316.4145 - mae: 316.4145 - mape: 10.1095 - val_loss: 313.0466 - val_mae: 313.0466 - val_mape: 9.9952\n",
            "Epoch 15/20\n",
            "3125/3125 [==============================] - 85s 27ms/step - loss: 312.1785 - mae: 312.1785 - mape: 9.9469 - val_loss: 307.6994 - val_mae: 307.6994 - val_mape: 10.0851\n",
            "Epoch 16/20\n",
            "3125/3125 [==============================] - 90s 29ms/step - loss: 310.2910 - mae: 310.2910 - mape: 9.8385 - val_loss: 342.8189 - val_mae: 342.8189 - val_mape: 10.5207\n",
            "Epoch 17/20\n",
            "3125/3125 [==============================] - 85s 27ms/step - loss: 306.6300 - mae: 306.6300 - mape: 9.6816 - val_loss: 307.2214 - val_mae: 307.2214 - val_mape: 10.1286\n",
            "Epoch 18/20\n",
            "3125/3125 [==============================] - 85s 27ms/step - loss: 303.2406 - mae: 303.2406 - mape: 9.5378 - val_loss: 302.6810 - val_mae: 302.6810 - val_mape: 9.5630\n",
            "Epoch 19/20\n",
            "3125/3125 [==============================] - 85s 27ms/step - loss: 302.0828 - mae: 302.0828 - mape: 9.4617 - val_loss: 302.1753 - val_mae: 302.1753 - val_mape: 9.6928\n",
            "Epoch 20/20\n",
            "3125/3125 [==============================] - 85s 27ms/step - loss: 298.4708 - mae: 298.4708 - mape: 9.2962 - val_loss: 318.4388 - val_mae: 318.4388 - val_mape: 9.8752\n"
          ]
        },
        {
          "output_type": "stream",
          "name": "stderr",
          "text": [
            "\u001b[34m\u001b[1mwandb\u001b[0m: Adding directory to artifact (./distance_trained_models)... Done. 1.9s\n"
          ]
        },
        {
          "output_type": "display_data",
          "data": {
            "text/html": [
              "<br/>Waiting for W&B process to finish, PID 2159... <strong style=\"color:green\">(success).</strong>"
            ],
            "text/plain": [
              "<IPython.core.display.HTML object>"
            ]
          },
          "metadata": {}
        },
        {
          "output_type": "display_data",
          "data": {
            "application/vnd.jupyter.widget-view+json": {
              "model_id": "9de2ed9a466043f48eb2364e980295ba",
              "version_minor": 0,
              "version_major": 2
            },
            "text/plain": [
              "VBox(children=(Label(value=' 717.74MB of 717.74MB uploaded (0.00MB deduped)\\r'), FloatProgress(value=1.0, max=…"
            ]
          },
          "metadata": {}
        },
        {
          "output_type": "display_data",
          "data": {
            "text/html": [
              "<style>\n",
              "    table.wandb td:nth-child(1) { padding: 0 10px; text-align: right }\n",
              "    .wandb-row { display: flex; flex-direction: row; flex-wrap: wrap; width: 100% }\n",
              "    .wandb-col { display: flex; flex-direction: column; flex-basis: 100%; flex: 1; padding: 10px; }\n",
              "    </style>\n",
              "<div class=\"wandb-row\"><div class=\"wandb-col\">\n",
              "<h3>Run history:</h3><br/><table class=\"wandb\"><tr><td>R2</td><td>▁</td></tr><tr><td>RMSE</td><td>▁</td></tr><tr><td>epoch</td><td>▁▁▂▂▂▃▃▄▄▄▅▅▅▆▆▇▇▇██</td></tr><tr><td>loss</td><td>█▃▃▂▂▂▂▂▁▁▁▁▁▁▁▁▁▁▁▁</td></tr><tr><td>mae</td><td>█▃▃▂▂▂▂▂▁▁▁▁▁▁▁▁▁▁▁▁</td></tr><tr><td>mape</td><td>█▄▃▂▂▂▂▂▂▂▁▁▁▁▁▁▁▁▁▁</td></tr><tr><td>val_loss</td><td>█▃▂▃▂▂▁▂▁▂▁▂▁▁▁▂▁▁▁▁</td></tr><tr><td>val_mae</td><td>█▃▂▃▂▂▁▂▁▂▁▂▁▁▁▂▁▁▁▁</td></tr><tr><td>val_mape</td><td>█▃▂▄▂▂▁▂▁▂▂▂▂▁▁▁▁▁▁▁</td></tr></table><br/></div><div class=\"wandb-col\">\n",
              "<h3>Run summary:</h3><br/><table class=\"wandb\"><tr><td>R2</td><td>0.87085</td></tr><tr><td>RMSE</td><td>419.61461</td></tr><tr><td>best_epoch</td><td>18</td></tr><tr><td>best_val_loss</td><td>302.17529</td></tr><tr><td>epoch</td><td>19</td></tr><tr><td>loss</td><td>298.47083</td></tr><tr><td>mae</td><td>298.47083</td></tr><tr><td>mape</td><td>9.29619</td></tr><tr><td>val_loss</td><td>318.43878</td></tr><tr><td>val_mae</td><td>318.43878</td></tr><tr><td>val_mape</td><td>9.87517</td></tr></table>\n",
              "</div></div>\n",
              "Synced 5 W&B file(s), 1 media file(s), 8 artifact file(s) and 1 other file(s)\n",
              "<br/>Synced <strong style=\"color:#cdcd00\">glowing-sweep-4</strong>: <a href=\"https://wandb.ai/artem-starkov/flatfasetgen/runs/jbeg1ged\" target=\"_blank\">https://wandb.ai/artem-starkov/flatfasetgen/runs/jbeg1ged</a><br/>\n",
              "Find logs at: <code>./wandb/run-20211103_225842-jbeg1ged/logs</code><br/>\n"
            ],
            "text/plain": [
              "<IPython.core.display.HTML object>"
            ]
          },
          "metadata": {}
        },
        {
          "output_type": "stream",
          "name": "stderr",
          "text": [
            "\u001b[34m\u001b[1mwandb\u001b[0m: Agent Starting Run: 76jaxxsx with config:\n",
            "\u001b[34m\u001b[1mwandb\u001b[0m: \tactivation1: relu\n",
            "\u001b[34m\u001b[1mwandb\u001b[0m: \tactivation2: tanh\n",
            "\u001b[34m\u001b[1mwandb\u001b[0m: \tactivation3: tanh\n",
            "\u001b[34m\u001b[1mwandb\u001b[0m: \tactivation4: sigmoid\n",
            "\u001b[34m\u001b[1mwandb\u001b[0m: \tbatch_size: 128\n",
            "\u001b[34m\u001b[1mwandb\u001b[0m: \tbatchnorm_for_layers: 0\n",
            "\u001b[34m\u001b[1mwandb\u001b[0m: \tepochs: 20\n",
            "\u001b[34m\u001b[1mwandb\u001b[0m: \tlayer_1_size: 5760\n",
            "\u001b[34m\u001b[1mwandb\u001b[0m: \tlayer_2_size: 4096\n",
            "\u001b[34m\u001b[1mwandb\u001b[0m: \tlayer_3_size: 2880\n",
            "\u001b[34m\u001b[1mwandb\u001b[0m: \tlearning_rate: 0.0004307084697536731\n",
            "\u001b[34m\u001b[1mwandb\u001b[0m: \toptimizer: sgd\n",
            "\u001b[34m\u001b[1mwandb\u001b[0m: \ttarget: r\n",
            "\u001b[34m\u001b[1mwandb\u001b[0m: \u001b[33mWARNING\u001b[0m Ignored wandb.init() arg project when running a sweep\n"
          ]
        },
        {
          "output_type": "display_data",
          "data": {
            "text/html": [
              "\n",
              "                    Syncing run <strong><a href=\"https://wandb.ai/artem-starkov/flatfasetgen/runs/76jaxxsx\" target=\"_blank\">proud-sweep-5</a></strong> to <a href=\"https://wandb.ai/artem-starkov/flatfasetgen\" target=\"_blank\">Weights & Biases</a> (<a href=\"https://docs.wandb.com/integrations/jupyter.html\" target=\"_blank\">docs</a>).<br/>\n",
              "Sweep page: <a href=\"https://wandb.ai/artem-starkov/flatfasetgen/sweeps/yl0tk14z\" target=\"_blank\">https://wandb.ai/artem-starkov/flatfasetgen/sweeps/yl0tk14z</a><br/>\n",
              "\n",
              "                "
            ],
            "text/plain": [
              "<IPython.core.display.HTML object>"
            ]
          },
          "metadata": {}
        },
        {
          "output_type": "stream",
          "name": "stderr",
          "text": [
            "\u001b[34m\u001b[1mwandb\u001b[0m: Downloading large artifact Clear_datasets:v20, 1377.11MB. 2 files... Done. 0:0:0\n",
            "\u001b[34m\u001b[1mwandb\u001b[0m: Adding directory to artifact (./distance_compiled_models)... Done. 1.5s\n"
          ]
        },
        {
          "output_type": "stream",
          "name": "stdout",
          "text": [
            "Epoch 1/20\n",
            "1563/1563 [==============================] - 45s 28ms/step - loss: 2789.1934 - mae: 2789.1934 - mape: 79.6813 - val_loss: 1988.9888 - val_mae: 1988.9888 - val_mape: 55.8827\n",
            "Epoch 2/20\n",
            "1563/1563 [==============================] - 43s 28ms/step - loss: 1500.8733 - mae: 1500.8733 - mape: 47.2587 - val_loss: 1178.7603 - val_mae: 1178.7603 - val_mape: 43.8497\n",
            "Epoch 3/20\n",
            "1563/1563 [==============================] - 44s 28ms/step - loss: 1064.9629 - mae: 1064.9629 - mape: 44.7219 - val_loss: 1001.0365 - val_mae: 1001.0365 - val_mape: 46.1723\n",
            "Epoch 4/20\n",
            "1563/1563 [==============================] - 44s 28ms/step - loss: 983.2931 - mae: 983.2931 - mape: 47.3577 - val_loss: 973.9014 - val_mae: 973.9014 - val_mape: 48.3898\n",
            "Epoch 5/20\n",
            "1563/1563 [==============================] - 44s 28ms/step - loss: 971.4797 - mae: 971.4797 - mape: 48.9029 - val_loss: 970.2569 - val_mae: 970.2569 - val_mape: 49.3786\n",
            "Epoch 6/20\n",
            "1563/1563 [==============================] - 43s 28ms/step - loss: 969.9343 - mae: 969.9343 - mape: 49.5555 - val_loss: 969.7811 - val_mae: 969.7811 - val_mape: 49.7488\n"
          ]
        },
        {
          "output_type": "display_data",
          "data": {
            "text/html": [
              "<br/>Waiting for W&B process to finish, PID 2616... <strong style=\"color:red\">(failed 1).</strong> Press ctrl-c to abort syncing."
            ],
            "text/plain": [
              "<IPython.core.display.HTML object>"
            ]
          },
          "metadata": {}
        },
        {
          "output_type": "display_data",
          "data": {
            "application/vnd.jupyter.widget-view+json": {
              "model_id": "b5b71e0dc72f4ec1837b2d5413774840",
              "version_minor": 0,
              "version_major": 2
            },
            "text/plain": [
              "VBox(children=(Label(value=' 153.00MB of 153.00MB uploaded (0.00MB deduped)\\r'), FloatProgress(value=1.0, max=…"
            ]
          },
          "metadata": {}
        },
        {
          "output_type": "display_data",
          "data": {
            "text/html": [
              "<style>\n",
              "    table.wandb td:nth-child(1) { padding: 0 10px; text-align: right }\n",
              "    .wandb-row { display: flex; flex-direction: row; flex-wrap: wrap; width: 100% }\n",
              "    .wandb-col { display: flex; flex-direction: column; flex-basis: 100%; flex: 1; padding: 10px; }\n",
              "    </style>\n",
              "<div class=\"wandb-row\"><div class=\"wandb-col\">\n",
              "<h3>Run history:</h3><br/><table class=\"wandb\"><tr><td>epoch</td><td>▁▂▄▅▇█</td></tr><tr><td>loss</td><td>█▃▁▁▁▁</td></tr><tr><td>mae</td><td>█▃▁▁▁▁</td></tr><tr><td>mape</td><td>█▂▁▂▂▂</td></tr><tr><td>val_loss</td><td>█▂▁▁▁▁</td></tr><tr><td>val_mae</td><td>█▂▁▁▁▁</td></tr><tr><td>val_mape</td><td>█▁▂▄▄▄</td></tr></table><br/></div><div class=\"wandb-col\">\n",
              "<h3>Run summary:</h3><br/><table class=\"wandb\"><tr><td>best_epoch</td><td>5</td></tr><tr><td>best_val_loss</td><td>969.78113</td></tr><tr><td>epoch</td><td>5</td></tr><tr><td>loss</td><td>969.93433</td></tr><tr><td>mae</td><td>969.93433</td></tr><tr><td>mape</td><td>49.55547</td></tr><tr><td>val_loss</td><td>969.78113</td></tr><tr><td>val_mae</td><td>969.78113</td></tr><tr><td>val_mape</td><td>49.74876</td></tr></table>\n",
              "</div></div>\n",
              "Synced 5 W&B file(s), 1 media file(s), 4 artifact file(s) and 1 other file(s)\n",
              "<br/>Synced <strong style=\"color:#cdcd00\">proud-sweep-5</strong>: <a href=\"https://wandb.ai/artem-starkov/flatfasetgen/runs/76jaxxsx\" target=\"_blank\">https://wandb.ai/artem-starkov/flatfasetgen/runs/76jaxxsx</a><br/>\n",
              "Find logs at: <code>./wandb/run-20211103_232904-76jaxxsx/logs</code><br/>\n"
            ],
            "text/plain": [
              "<IPython.core.display.HTML object>"
            ]
          },
          "metadata": {}
        },
        {
          "output_type": "stream",
          "name": "stderr",
          "text": [
            "\u001b[34m\u001b[1mwandb\u001b[0m: Agent Starting Run: k84ir3ur with config:\n",
            "\u001b[34m\u001b[1mwandb\u001b[0m: \tactivation1: tanh\n",
            "\u001b[34m\u001b[1mwandb\u001b[0m: \tactivation2: sigmoid\n",
            "\u001b[34m\u001b[1mwandb\u001b[0m: \tactivation3: sigmoid\n",
            "\u001b[34m\u001b[1mwandb\u001b[0m: \tactivation4: relu\n",
            "\u001b[34m\u001b[1mwandb\u001b[0m: \tbatch_size: 128\n",
            "\u001b[34m\u001b[1mwandb\u001b[0m: \tbatchnorm_for_layers: 1\n",
            "\u001b[34m\u001b[1mwandb\u001b[0m: \tepochs: 20\n",
            "\u001b[34m\u001b[1mwandb\u001b[0m: \tlayer_1_size: 4096\n",
            "\u001b[34m\u001b[1mwandb\u001b[0m: \tlayer_2_size: 5120\n",
            "\u001b[34m\u001b[1mwandb\u001b[0m: \tlayer_3_size: 2160\n",
            "\u001b[34m\u001b[1mwandb\u001b[0m: \tlearning_rate: 0.0009378443549364372\n",
            "\u001b[34m\u001b[1mwandb\u001b[0m: \toptimizer: sgd\n",
            "\u001b[34m\u001b[1mwandb\u001b[0m: \ttarget: r\n",
            "\u001b[34m\u001b[1mwandb\u001b[0m: \u001b[33mWARNING\u001b[0m Ignored wandb.init() arg project when running a sweep\n"
          ]
        },
        {
          "output_type": "display_data",
          "data": {
            "text/html": [
              "\n",
              "                    Syncing run <strong><a href=\"https://wandb.ai/artem-starkov/flatfasetgen/runs/k84ir3ur\" target=\"_blank\">icy-sweep-6</a></strong> to <a href=\"https://wandb.ai/artem-starkov/flatfasetgen\" target=\"_blank\">Weights & Biases</a> (<a href=\"https://docs.wandb.com/integrations/jupyter.html\" target=\"_blank\">docs</a>).<br/>\n",
              "Sweep page: <a href=\"https://wandb.ai/artem-starkov/flatfasetgen/sweeps/yl0tk14z\" target=\"_blank\">https://wandb.ai/artem-starkov/flatfasetgen/sweeps/yl0tk14z</a><br/>\n",
              "\n",
              "                "
            ],
            "text/plain": [
              "<IPython.core.display.HTML object>"
            ]
          },
          "metadata": {}
        },
        {
          "output_type": "stream",
          "name": "stderr",
          "text": [
            "\u001b[34m\u001b[1mwandb\u001b[0m: Downloading large artifact Clear_datasets:v20, 1377.11MB. 2 files... Done. 0:0:0\n",
            "\u001b[34m\u001b[1mwandb\u001b[0m: Adding directory to artifact (./distance_compiled_models)... Done. 2.1s\n"
          ]
        },
        {
          "output_type": "stream",
          "name": "stdout",
          "text": [
            "Epoch 1/20\n",
            "1563/1563 [==============================] - 51s 31ms/step - loss: 2967.4353 - mae: 2967.4353 - mape: 85.0847 - val_loss: 2241.9426 - val_mae: 2241.9426 - val_mape: 61.8454\n",
            "Epoch 2/20\n",
            "1563/1563 [==============================] - 46s 29ms/step - loss: 1067.9965 - mae: 1067.9965 - mape: 31.4513 - val_loss: 515.5817 - val_mae: 515.5817 - val_mape: 19.9462\n",
            "Epoch 3/20\n",
            "1563/1563 [==============================] - 46s 29ms/step - loss: 439.9556 - mae: 439.9556 - mape: 15.5535 - val_loss: 430.3777 - val_mae: 430.3777 - val_mape: 14.9413\n",
            "Epoch 4/20\n",
            "1563/1563 [==============================] - 46s 29ms/step - loss: 376.4512 - mae: 376.4512 - mape: 12.6626 - val_loss: 451.4246 - val_mae: 451.4246 - val_mape: 15.1788\n",
            "Epoch 5/20\n",
            "1563/1563 [==============================] - 46s 29ms/step - loss: 350.1993 - mae: 350.1993 - mape: 11.4697 - val_loss: 376.7540 - val_mae: 376.7540 - val_mape: 12.5174\n",
            "Epoch 6/20\n",
            "1563/1563 [==============================] - 46s 29ms/step - loss: 335.2387 - mae: 335.2387 - mape: 10.8091 - val_loss: 353.0681 - val_mae: 353.0681 - val_mape: 11.5509\n",
            "Epoch 7/20\n",
            "1563/1563 [==============================] - 46s 29ms/step - loss: 325.3943 - mae: 325.3943 - mape: 10.3456 - val_loss: 324.7539 - val_mae: 324.7539 - val_mape: 10.3686\n",
            "Epoch 8/20\n",
            "1563/1563 [==============================] - 46s 29ms/step - loss: 318.8050 - mae: 318.8050 - mape: 10.0417 - val_loss: 328.6104 - val_mae: 328.6104 - val_mape: 10.6428\n",
            "Epoch 9/20\n",
            "1563/1563 [==============================] - 46s 29ms/step - loss: 313.2836 - mae: 313.2836 - mape: 9.7984 - val_loss: 315.5939 - val_mae: 315.5939 - val_mape: 10.1408\n",
            "Epoch 10/20\n",
            "1563/1563 [==============================] - 46s 29ms/step - loss: 309.5365 - mae: 309.5365 - mape: 9.6288 - val_loss: 314.5169 - val_mae: 314.5169 - val_mape: 9.8896\n",
            "Epoch 11/20\n",
            "1563/1563 [==============================] - 46s 29ms/step - loss: 305.7720 - mae: 305.7720 - mape: 9.4503 - val_loss: 303.0641 - val_mae: 303.0641 - val_mape: 9.5581\n",
            "Epoch 12/20\n",
            "1563/1563 [==============================] - 46s 29ms/step - loss: 303.4599 - mae: 303.4599 - mape: 9.3518 - val_loss: 318.0104 - val_mae: 318.0104 - val_mape: 9.9196\n",
            "Epoch 13/20\n",
            "1563/1563 [==============================] - 46s 30ms/step - loss: 301.4691 - mae: 301.4691 - mape: 9.2478 - val_loss: 302.2984 - val_mae: 302.2984 - val_mape: 9.4577\n",
            "Epoch 14/20\n",
            "1563/1563 [==============================] - 46s 29ms/step - loss: 298.9426 - mae: 298.9426 - mape: 9.1473 - val_loss: 306.2102 - val_mae: 306.2102 - val_mape: 9.4586\n",
            "Epoch 15/20\n",
            "1563/1563 [==============================] - 48s 31ms/step - loss: 296.3768 - mae: 296.3768 - mape: 9.0331 - val_loss: 290.5524 - val_mae: 290.5524 - val_mape: 8.8573\n",
            "Epoch 16/20\n",
            "1563/1563 [==============================] - 47s 30ms/step - loss: 295.2575 - mae: 295.2575 - mape: 8.9788 - val_loss: 297.2378 - val_mae: 297.2378 - val_mape: 9.0590\n",
            "Epoch 17/20\n",
            "1563/1563 [==============================] - 46s 30ms/step - loss: 293.6393 - mae: 293.6393 - mape: 8.9063 - val_loss: 299.2411 - val_mae: 299.2411 - val_mape: 9.3521\n",
            "Epoch 18/20\n",
            "1563/1563 [==============================] - 46s 29ms/step - loss: 292.0607 - mae: 292.0607 - mape: 8.8391 - val_loss: 284.2346 - val_mae: 284.2346 - val_mape: 8.6721\n",
            "Epoch 19/20\n",
            "1563/1563 [==============================] - 46s 29ms/step - loss: 290.8978 - mae: 290.8978 - mape: 8.7957 - val_loss: 289.1690 - val_mae: 289.1690 - val_mape: 9.0494\n",
            "Epoch 20/20\n",
            "1563/1563 [==============================] - 46s 30ms/step - loss: 290.0030 - mae: 290.0030 - mape: 8.7471 - val_loss: 286.8916 - val_mae: 286.8916 - val_mape: 8.8792\n"
          ]
        },
        {
          "output_type": "stream",
          "name": "stderr",
          "text": [
            "\u001b[34m\u001b[1mwandb\u001b[0m: Adding directory to artifact (./distance_trained_models)... Done. 1.5s\n"
          ]
        },
        {
          "output_type": "display_data",
          "data": {
            "text/html": [
              "<br/>Waiting for W&B process to finish, PID 2788... <strong style=\"color:green\">(success).</strong>"
            ],
            "text/plain": [
              "<IPython.core.display.HTML object>"
            ]
          },
          "metadata": {}
        },
        {
          "output_type": "display_data",
          "data": {
            "application/vnd.jupyter.widget-view+json": {
              "model_id": "d23f18f47fc0458b85a11eb0dffa7898",
              "version_minor": 0,
              "version_major": 2
            },
            "text/plain": [
              "VBox(children=(Label(value=' 407.67MB of 407.67MB uploaded (0.00MB deduped)\\r'), FloatProgress(value=1.0, max=…"
            ]
          },
          "metadata": {}
        },
        {
          "output_type": "display_data",
          "data": {
            "text/html": [
              "<style>\n",
              "    table.wandb td:nth-child(1) { padding: 0 10px; text-align: right }\n",
              "    .wandb-row { display: flex; flex-direction: row; flex-wrap: wrap; width: 100% }\n",
              "    .wandb-col { display: flex; flex-direction: column; flex-basis: 100%; flex: 1; padding: 10px; }\n",
              "    </style>\n",
              "<div class=\"wandb-row\"><div class=\"wandb-col\">\n",
              "<h3>Run history:</h3><br/><table class=\"wandb\"><tr><td>R2</td><td>▁</td></tr><tr><td>RMSE</td><td>▁</td></tr><tr><td>epoch</td><td>▁▁▂▂▂▃▃▄▄▄▅▅▅▆▆▇▇▇██</td></tr><tr><td>loss</td><td>█▃▁▁▁▁▁▁▁▁▁▁▁▁▁▁▁▁▁▁</td></tr><tr><td>mae</td><td>█▃▁▁▁▁▁▁▁▁▁▁▁▁▁▁▁▁▁▁</td></tr><tr><td>mape</td><td>█▃▂▁▁▁▁▁▁▁▁▁▁▁▁▁▁▁▁▁</td></tr><tr><td>val_loss</td><td>█▂▂▂▁▁▁▁▁▁▁▁▁▁▁▁▁▁▁▁</td></tr><tr><td>val_mae</td><td>█▂▂▂▁▁▁▁▁▁▁▁▁▁▁▁▁▁▁▁</td></tr><tr><td>val_mape</td><td>█▂▂▂▂▁▁▁▁▁▁▁▁▁▁▁▁▁▁▁</td></tr></table><br/></div><div class=\"wandb-col\">\n",
              "<h3>Run summary:</h3><br/><table class=\"wandb\"><tr><td>R2</td><td>0.8924</td></tr><tr><td>RMSE</td><td>383.01958</td></tr><tr><td>best_epoch</td><td>17</td></tr><tr><td>best_val_loss</td><td>284.23459</td></tr><tr><td>epoch</td><td>19</td></tr><tr><td>loss</td><td>290.00296</td></tr><tr><td>mae</td><td>290.00296</td></tr><tr><td>mape</td><td>8.74707</td></tr><tr><td>val_loss</td><td>286.89163</td></tr><tr><td>val_mae</td><td>286.89163</td></tr><tr><td>val_mape</td><td>8.87917</td></tr></table>\n",
              "</div></div>\n",
              "Synced 5 W&B file(s), 1 media file(s), 8 artifact file(s) and 1 other file(s)\n",
              "<br/>Synced <strong style=\"color:#cdcd00\">icy-sweep-6</strong>: <a href=\"https://wandb.ai/artem-starkov/flatfasetgen/runs/k84ir3ur\" target=\"_blank\">https://wandb.ai/artem-starkov/flatfasetgen/runs/k84ir3ur</a><br/>\n",
              "Find logs at: <code>./wandb/run-20211103_233351-k84ir3ur/logs</code><br/>\n"
            ],
            "text/plain": [
              "<IPython.core.display.HTML object>"
            ]
          },
          "metadata": {}
        },
        {
          "output_type": "stream",
          "name": "stderr",
          "text": [
            "\u001b[34m\u001b[1mwandb\u001b[0m: Agent Starting Run: k5c8cdij with config:\n",
            "\u001b[34m\u001b[1mwandb\u001b[0m: \tactivation1: sigmoid\n",
            "\u001b[34m\u001b[1mwandb\u001b[0m: \tactivation2: sigmoid\n",
            "\u001b[34m\u001b[1mwandb\u001b[0m: \tactivation3: sigmoid\n",
            "\u001b[34m\u001b[1mwandb\u001b[0m: \tactivation4: relu\n",
            "\u001b[34m\u001b[1mwandb\u001b[0m: \tbatch_size: 128\n",
            "\u001b[34m\u001b[1mwandb\u001b[0m: \tbatchnorm_for_layers: 1\n",
            "\u001b[34m\u001b[1mwandb\u001b[0m: \tepochs: 20\n",
            "\u001b[34m\u001b[1mwandb\u001b[0m: \tlayer_1_size: 4096\n",
            "\u001b[34m\u001b[1mwandb\u001b[0m: \tlayer_2_size: 5120\n",
            "\u001b[34m\u001b[1mwandb\u001b[0m: \tlayer_3_size: 4096\n",
            "\u001b[34m\u001b[1mwandb\u001b[0m: \tlearning_rate: 0.0008340065752194278\n",
            "\u001b[34m\u001b[1mwandb\u001b[0m: \toptimizer: sgd\n",
            "\u001b[34m\u001b[1mwandb\u001b[0m: \ttarget: r\n",
            "\u001b[34m\u001b[1mwandb\u001b[0m: \u001b[33mWARNING\u001b[0m Ignored wandb.init() arg project when running a sweep\n"
          ]
        },
        {
          "output_type": "display_data",
          "data": {
            "text/html": [
              "\n",
              "                    Syncing run <strong><a href=\"https://wandb.ai/artem-starkov/flatfasetgen/runs/k5c8cdij\" target=\"_blank\">pleasant-sweep-7</a></strong> to <a href=\"https://wandb.ai/artem-starkov/flatfasetgen\" target=\"_blank\">Weights & Biases</a> (<a href=\"https://docs.wandb.com/integrations/jupyter.html\" target=\"_blank\">docs</a>).<br/>\n",
              "Sweep page: <a href=\"https://wandb.ai/artem-starkov/flatfasetgen/sweeps/yl0tk14z\" target=\"_blank\">https://wandb.ai/artem-starkov/flatfasetgen/sweeps/yl0tk14z</a><br/>\n",
              "\n",
              "                "
            ],
            "text/plain": [
              "<IPython.core.display.HTML object>"
            ]
          },
          "metadata": {}
        },
        {
          "output_type": "stream",
          "name": "stderr",
          "text": [
            "\u001b[34m\u001b[1mwandb\u001b[0m: Downloading large artifact Clear_datasets:v20, 1377.11MB. 2 files... Done. 0:0:0\n",
            "\u001b[34m\u001b[1mwandb\u001b[0m: Adding directory to artifact (./distance_compiled_models)... Done. 1.4s\n"
          ]
        },
        {
          "output_type": "stream",
          "name": "stdout",
          "text": [
            "Epoch 1/20\n",
            "1563/1563 [==============================] - 57s 35ms/step - loss: 2743.2490 - mae: 2743.2490 - mape: 77.8260 - val_loss: 1758.4152 - val_mae: 1758.4152 - val_mape: 48.6301\n",
            "Epoch 2/20\n",
            "1563/1563 [==============================] - 55s 35ms/step - loss: 825.5876 - mae: 825.5876 - mape: 25.7798 - val_loss: 513.3864 - val_mae: 513.3864 - val_mape: 19.2814\n",
            "Epoch 3/20\n",
            "1563/1563 [==============================] - 54s 35ms/step - loss: 434.7408 - mae: 434.7408 - mape: 15.6651 - val_loss: 435.8808 - val_mae: 435.8808 - val_mape: 15.5802\n",
            "Epoch 4/20\n",
            "1563/1563 [==============================] - 54s 35ms/step - loss: 383.6086 - mae: 383.6086 - mape: 13.1316 - val_loss: 373.9871 - val_mae: 373.9871 - val_mape: 12.8903\n",
            "Epoch 5/20\n",
            "1563/1563 [==============================] - 54s 34ms/step - loss: 361.8783 - mae: 361.8783 - mape: 12.0536 - val_loss: 353.8210 - val_mae: 353.8210 - val_mape: 12.1692\n",
            "Epoch 6/20\n",
            "1563/1563 [==============================] - 54s 35ms/step - loss: 348.6609 - mae: 348.6609 - mape: 11.3874 - val_loss: 356.1666 - val_mae: 356.1666 - val_mape: 11.8983\n",
            "Epoch 7/20\n",
            "1563/1563 [==============================] - 54s 35ms/step - loss: 337.5768 - mae: 337.5768 - mape: 10.8784 - val_loss: 329.2250 - val_mae: 329.2250 - val_mape: 10.5703\n",
            "Epoch 8/20\n",
            "1563/1563 [==============================] - 54s 34ms/step - loss: 331.2603 - mae: 331.2603 - mape: 10.5639 - val_loss: 329.0615 - val_mae: 329.0615 - val_mape: 10.6594\n",
            "Epoch 9/20\n",
            "1563/1563 [==============================] - 54s 35ms/step - loss: 325.9196 - mae: 325.9196 - mape: 10.3261 - val_loss: 323.9477 - val_mae: 323.9477 - val_mape: 10.1029\n",
            "Epoch 10/20\n",
            "1563/1563 [==============================] - 54s 34ms/step - loss: 320.2411 - mae: 320.2411 - mape: 10.0750 - val_loss: 331.0813 - val_mae: 331.0813 - val_mape: 10.4000\n",
            "Epoch 11/20\n",
            "1563/1563 [==============================] - 54s 35ms/step - loss: 316.8109 - mae: 316.8109 - mape: 9.9128 - val_loss: 321.6194 - val_mae: 321.6194 - val_mape: 10.2560\n",
            "Epoch 12/20\n",
            "1563/1563 [==============================] - 54s 35ms/step - loss: 313.5241 - mae: 313.5241 - mape: 9.7708 - val_loss: 324.7701 - val_mae: 324.7701 - val_mape: 10.2854\n",
            "Epoch 13/20\n",
            "1563/1563 [==============================] - 55s 35ms/step - loss: 311.1696 - mae: 311.1696 - mape: 9.6582 - val_loss: 313.8438 - val_mae: 313.8438 - val_mape: 9.6588\n",
            "Epoch 14/20\n",
            "1563/1563 [==============================] - 54s 35ms/step - loss: 308.2178 - mae: 308.2178 - mape: 9.5181 - val_loss: 315.3485 - val_mae: 315.3485 - val_mape: 9.7548\n",
            "Epoch 15/20\n",
            "1563/1563 [==============================] - 54s 35ms/step - loss: 306.8040 - mae: 306.8040 - mape: 9.4560 - val_loss: 308.1965 - val_mae: 308.1965 - val_mape: 9.7014\n",
            "Epoch 16/20\n",
            "1563/1563 [==============================] - 54s 35ms/step - loss: 304.0037 - mae: 304.0037 - mape: 9.3418 - val_loss: 310.2365 - val_mae: 310.2365 - val_mape: 9.7487\n",
            "Epoch 17/20\n",
            "1563/1563 [==============================] - 54s 35ms/step - loss: 302.9097 - mae: 302.9097 - mape: 9.2845 - val_loss: 317.5470 - val_mae: 317.5470 - val_mape: 9.7975\n",
            "Epoch 18/20\n",
            "1563/1563 [==============================] - 54s 35ms/step - loss: 301.0486 - mae: 301.0486 - mape: 9.2082 - val_loss: 300.8524 - val_mae: 300.8524 - val_mape: 9.2603\n",
            "Epoch 19/20\n",
            "1563/1563 [==============================] - 54s 35ms/step - loss: 299.1908 - mae: 299.1908 - mape: 9.1325 - val_loss: 298.6134 - val_mae: 298.6134 - val_mape: 9.1887\n",
            "Epoch 20/20\n",
            "1563/1563 [==============================] - 57s 36ms/step - loss: 297.9694 - mae: 297.9694 - mape: 9.0721 - val_loss: 292.9478 - val_mae: 292.9478 - val_mape: 8.9475\n"
          ]
        },
        {
          "output_type": "stream",
          "name": "stderr",
          "text": [
            "\u001b[34m\u001b[1mwandb\u001b[0m: Adding directory to artifact (./distance_trained_models)... Done. 1.4s\n"
          ]
        },
        {
          "output_type": "display_data",
          "data": {
            "text/html": [
              "<br/>Waiting for W&B process to finish, PID 3212... <strong style=\"color:green\">(success).</strong>"
            ],
            "text/plain": [
              "<IPython.core.display.HTML object>"
            ]
          },
          "metadata": {}
        },
        {
          "output_type": "display_data",
          "data": {
            "application/vnd.jupyter.widget-view+json": {
              "model_id": "fe5ea0e9bbce4703bff764b8cf749694",
              "version_minor": 0,
              "version_major": 2
            },
            "text/plain": [
              "VBox(children=(Label(value=' 521.24MB of 521.24MB uploaded (0.00MB deduped)\\r'), FloatProgress(value=1.0, max=…"
            ]
          },
          "metadata": {}
        },
        {
          "output_type": "display_data",
          "data": {
            "text/html": [
              "<style>\n",
              "    table.wandb td:nth-child(1) { padding: 0 10px; text-align: right }\n",
              "    .wandb-row { display: flex; flex-direction: row; flex-wrap: wrap; width: 100% }\n",
              "    .wandb-col { display: flex; flex-direction: column; flex-basis: 100%; flex: 1; padding: 10px; }\n",
              "    </style>\n",
              "<div class=\"wandb-row\"><div class=\"wandb-col\">\n",
              "<h3>Run history:</h3><br/><table class=\"wandb\"><tr><td>R2</td><td>▁</td></tr><tr><td>RMSE</td><td>▁</td></tr><tr><td>epoch</td><td>▁▁▂▂▂▃▃▄▄▄▅▅▅▆▆▇▇▇██</td></tr><tr><td>loss</td><td>█▃▁▁▁▁▁▁▁▁▁▁▁▁▁▁▁▁▁▁</td></tr><tr><td>mae</td><td>█▃▁▁▁▁▁▁▁▁▁▁▁▁▁▁▁▁▁▁</td></tr><tr><td>mape</td><td>█▃▂▁▁▁▁▁▁▁▁▁▁▁▁▁▁▁▁▁</td></tr><tr><td>val_loss</td><td>█▂▂▁▁▁▁▁▁▁▁▁▁▁▁▁▁▁▁▁</td></tr><tr><td>val_mae</td><td>█▂▂▁▁▁▁▁▁▁▁▁▁▁▁▁▁▁▁▁</td></tr><tr><td>val_mape</td><td>█▃▂▂▂▂▁▁▁▁▁▁▁▁▁▁▁▁▁▁</td></tr></table><br/></div><div class=\"wandb-col\">\n",
              "<h3>Run summary:</h3><br/><table class=\"wandb\"><tr><td>R2</td><td>0.88748</td></tr><tr><td>RMSE</td><td>391.66909</td></tr><tr><td>best_epoch</td><td>19</td></tr><tr><td>best_val_loss</td><td>292.94778</td></tr><tr><td>epoch</td><td>19</td></tr><tr><td>loss</td><td>297.96939</td></tr><tr><td>mae</td><td>297.96939</td></tr><tr><td>mape</td><td>9.07209</td></tr><tr><td>val_loss</td><td>292.94778</td></tr><tr><td>val_mae</td><td>292.94778</td></tr><tr><td>val_mape</td><td>8.94745</td></tr></table>\n",
              "</div></div>\n",
              "Synced 5 W&B file(s), 1 media file(s), 8 artifact file(s) and 1 other file(s)\n",
              "<br/>Synced <strong style=\"color:#cdcd00\">pleasant-sweep-7</strong>: <a href=\"https://wandb.ai/artem-starkov/flatfasetgen/runs/k5c8cdij\" target=\"_blank\">https://wandb.ai/artem-starkov/flatfasetgen/runs/k5c8cdij</a><br/>\n",
              "Find logs at: <code>./wandb/run-20211103_235143-k5c8cdij/logs</code><br/>\n"
            ],
            "text/plain": [
              "<IPython.core.display.HTML object>"
            ]
          },
          "metadata": {}
        },
        {
          "output_type": "stream",
          "name": "stderr",
          "text": [
            "\u001b[34m\u001b[1mwandb\u001b[0m: Agent Starting Run: 1f5efuc6 with config:\n",
            "\u001b[34m\u001b[1mwandb\u001b[0m: \tactivation1: sigmoid\n",
            "\u001b[34m\u001b[1mwandb\u001b[0m: \tactivation2: sigmoid\n",
            "\u001b[34m\u001b[1mwandb\u001b[0m: \tactivation3: sigmoid\n",
            "\u001b[34m\u001b[1mwandb\u001b[0m: \tactivation4: relu\n",
            "\u001b[34m\u001b[1mwandb\u001b[0m: \tbatch_size: 128\n",
            "\u001b[34m\u001b[1mwandb\u001b[0m: \tbatchnorm_for_layers: 1\n",
            "\u001b[34m\u001b[1mwandb\u001b[0m: \tepochs: 20\n",
            "\u001b[34m\u001b[1mwandb\u001b[0m: \tlayer_1_size: 4096\n",
            "\u001b[34m\u001b[1mwandb\u001b[0m: \tlayer_2_size: 6480\n",
            "\u001b[34m\u001b[1mwandb\u001b[0m: \tlayer_3_size: 3600\n",
            "\u001b[34m\u001b[1mwandb\u001b[0m: \tlearning_rate: 0.0007395564041472348\n",
            "\u001b[34m\u001b[1mwandb\u001b[0m: \toptimizer: rmsprop\n",
            "\u001b[34m\u001b[1mwandb\u001b[0m: \ttarget: r\n",
            "\u001b[34m\u001b[1mwandb\u001b[0m: \u001b[33mWARNING\u001b[0m Ignored wandb.init() arg project when running a sweep\n"
          ]
        },
        {
          "output_type": "display_data",
          "data": {
            "text/html": [
              "\n",
              "                    Syncing run <strong><a href=\"https://wandb.ai/artem-starkov/flatfasetgen/runs/1f5efuc6\" target=\"_blank\">rural-sweep-8</a></strong> to <a href=\"https://wandb.ai/artem-starkov/flatfasetgen\" target=\"_blank\">Weights & Biases</a> (<a href=\"https://docs.wandb.com/integrations/jupyter.html\" target=\"_blank\">docs</a>).<br/>\n",
              "Sweep page: <a href=\"https://wandb.ai/artem-starkov/flatfasetgen/sweeps/yl0tk14z\" target=\"_blank\">https://wandb.ai/artem-starkov/flatfasetgen/sweeps/yl0tk14z</a><br/>\n",
              "\n",
              "                "
            ],
            "text/plain": [
              "<IPython.core.display.HTML object>"
            ]
          },
          "metadata": {}
        },
        {
          "output_type": "stream",
          "name": "stderr",
          "text": [
            "\u001b[34m\u001b[1mwandb\u001b[0m: Downloading large artifact Clear_datasets:v20, 1377.11MB. 2 files... Done. 0:0:0\n",
            "\u001b[34m\u001b[1mwandb\u001b[0m: Adding directory to artifact (./distance_compiled_models)... Done. 1.7s\n"
          ]
        },
        {
          "output_type": "stream",
          "name": "stdout",
          "text": [
            "Epoch 1/20\n",
            "1563/1563 [==============================] - 109s 68ms/step - loss: 1596.6149 - mae: 1596.6149 - mape: 47.8901 - val_loss: 608.4823 - val_mae: 608.4823 - val_mape: 25.1128\n",
            "Epoch 2/20\n",
            "1563/1563 [==============================] - 104s 67ms/step - loss: 518.6414 - mae: 518.6414 - mape: 19.0763 - val_loss: 486.9592 - val_mae: 486.9592 - val_mape: 17.5687\n",
            "Epoch 3/20\n",
            "1563/1563 [==============================] - 104s 66ms/step - loss: 440.8715 - mae: 440.8715 - mape: 15.0724 - val_loss: 433.0320 - val_mae: 433.0320 - val_mape: 14.7720\n",
            "Epoch 4/20\n",
            "1563/1563 [==============================] - 104s 66ms/step - loss: 405.4706 - mae: 405.4706 - mape: 13.5098 - val_loss: 389.1158 - val_mae: 389.1158 - val_mape: 13.1091\n",
            "Epoch 5/20\n",
            "1563/1563 [==============================] - 104s 66ms/step - loss: 381.8120 - mae: 381.8120 - mape: 12.4966 - val_loss: 361.1833 - val_mae: 361.1833 - val_mape: 11.8959\n",
            "Epoch 6/20\n",
            "1563/1563 [==============================] - 104s 67ms/step - loss: 365.0894 - mae: 365.0894 - mape: 11.8104 - val_loss: 372.6494 - val_mae: 372.6494 - val_mape: 12.1220\n",
            "Epoch 7/20\n",
            "1563/1563 [==============================] - 104s 67ms/step - loss: 352.9212 - mae: 352.9212 - mape: 11.3115 - val_loss: 340.5481 - val_mae: 340.5481 - val_mape: 10.9177\n",
            "Epoch 8/20\n",
            "1563/1563 [==============================] - 104s 67ms/step - loss: 343.9979 - mae: 343.9979 - mape: 10.9296 - val_loss: 346.3123 - val_mae: 346.3123 - val_mape: 11.1545\n",
            "Epoch 9/20\n",
            "1563/1563 [==============================] - 104s 67ms/step - loss: 336.1079 - mae: 336.1079 - mape: 10.5952 - val_loss: 334.8617 - val_mae: 334.8617 - val_mape: 11.0001\n",
            "Epoch 10/20\n",
            "1563/1563 [==============================] - 105s 67ms/step - loss: 332.3716 - mae: 332.3716 - mape: 10.4303 - val_loss: 341.9108 - val_mae: 341.9108 - val_mape: 10.8981\n",
            "Epoch 11/20\n",
            "1563/1563 [==============================] - 103s 66ms/step - loss: 325.7206 - mae: 325.7206 - mape: 10.1673 - val_loss: 322.1578 - val_mae: 322.1578 - val_mape: 10.2531\n",
            "Epoch 12/20\n",
            "1563/1563 [==============================] - 104s 66ms/step - loss: 322.4227 - mae: 322.4227 - mape: 10.0264 - val_loss: 323.0552 - val_mae: 323.0552 - val_mape: 10.0451\n",
            "Epoch 13/20\n",
            "1563/1563 [==============================] - 104s 66ms/step - loss: 319.0765 - mae: 319.0765 - mape: 9.8676 - val_loss: 306.5501 - val_mae: 306.5501 - val_mape: 9.4579\n",
            "Epoch 14/20\n",
            "1563/1563 [==============================] - 103s 66ms/step - loss: 315.7936 - mae: 315.7936 - mape: 9.7264 - val_loss: 322.3142 - val_mae: 322.3142 - val_mape: 9.9874\n",
            "Epoch 15/20\n",
            "1563/1563 [==============================] - 103s 66ms/step - loss: 313.4410 - mae: 313.4410 - mape: 9.6212 - val_loss: 311.4898 - val_mae: 311.4898 - val_mape: 9.7557\n",
            "Epoch 16/20\n",
            "1563/1563 [==============================] - 104s 66ms/step - loss: 311.2778 - mae: 311.2778 - mape: 9.5437 - val_loss: 304.8091 - val_mae: 304.8091 - val_mape: 9.4287\n",
            "Epoch 17/20\n",
            "1563/1563 [==============================] - 103s 66ms/step - loss: 308.9394 - mae: 308.9394 - mape: 9.4369 - val_loss: 317.8692 - val_mae: 317.8692 - val_mape: 10.1287\n",
            "Epoch 18/20\n",
            "1563/1563 [==============================] - 103s 66ms/step - loss: 306.5947 - mae: 306.5947 - mape: 9.3521 - val_loss: 294.7729 - val_mae: 294.7729 - val_mape: 9.0758\n",
            "Epoch 19/20\n",
            "1563/1563 [==============================] - 104s 66ms/step - loss: 305.5203 - mae: 305.5203 - mape: 9.2919 - val_loss: 301.0771 - val_mae: 301.0771 - val_mape: 9.2621\n",
            "Epoch 20/20\n",
            "1563/1563 [==============================] - 103s 66ms/step - loss: 304.1797 - mae: 304.1797 - mape: 9.2385 - val_loss: 302.0058 - val_mae: 302.0058 - val_mape: 9.1015\n"
          ]
        },
        {
          "output_type": "stream",
          "name": "stderr",
          "text": [
            "\u001b[34m\u001b[1mwandb\u001b[0m: Adding directory to artifact (./distance_trained_models)... Done. 2.9s\n"
          ]
        },
        {
          "output_type": "display_data",
          "data": {
            "text/html": [
              "<br/>Waiting for W&B process to finish, PID 3653... <strong style=\"color:green\">(success).</strong>"
            ],
            "text/plain": [
              "<IPython.core.display.HTML object>"
            ]
          },
          "metadata": {}
        },
        {
          "output_type": "display_data",
          "data": {
            "application/vnd.jupyter.widget-view+json": {
              "model_id": "210eecc4e80041dd81de05428f9cceb8",
              "version_minor": 0,
              "version_major": 2
            },
            "text/plain": [
              "VBox(children=(Label(value=' 1019.37MB of 1019.37MB uploaded (0.00MB deduped)\\r'), FloatProgress(value=1.0, ma…"
            ]
          },
          "metadata": {}
        },
        {
          "output_type": "display_data",
          "data": {
            "text/html": [
              "<style>\n",
              "    table.wandb td:nth-child(1) { padding: 0 10px; text-align: right }\n",
              "    .wandb-row { display: flex; flex-direction: row; flex-wrap: wrap; width: 100% }\n",
              "    .wandb-col { display: flex; flex-direction: column; flex-basis: 100%; flex: 1; padding: 10px; }\n",
              "    </style>\n",
              "<div class=\"wandb-row\"><div class=\"wandb-col\">\n",
              "<h3>Run history:</h3><br/><table class=\"wandb\"><tr><td>R2</td><td>▁</td></tr><tr><td>RMSE</td><td>▁</td></tr><tr><td>epoch</td><td>▁▁▂▂▂▃▃▄▄▄▅▅▅▆▆▇▇▇██</td></tr><tr><td>loss</td><td>█▂▂▂▁▁▁▁▁▁▁▁▁▁▁▁▁▁▁▁</td></tr><tr><td>mae</td><td>█▂▂▂▁▁▁▁▁▁▁▁▁▁▁▁▁▁▁▁</td></tr><tr><td>mape</td><td>█▃▂▂▂▁▁▁▁▁▁▁▁▁▁▁▁▁▁▁</td></tr><tr><td>val_loss</td><td>█▅▄▃▂▃▂▂▂▂▂▂▁▂▁▁▂▁▁▁</td></tr><tr><td>val_mae</td><td>█▅▄▃▂▃▂▂▂▂▂▂▁▂▁▁▂▁▁▁</td></tr><tr><td>val_mape</td><td>█▅▃▃▂▂▂▂▂▂▂▁▁▁▁▁▁▁▁▁</td></tr></table><br/></div><div class=\"wandb-col\">\n",
              "<h3>Run summary:</h3><br/><table class=\"wandb\"><tr><td>R2</td><td>0.88093</td></tr><tr><td>RMSE</td><td>402.91102</td></tr><tr><td>best_epoch</td><td>17</td></tr><tr><td>best_val_loss</td><td>294.77289</td></tr><tr><td>epoch</td><td>19</td></tr><tr><td>loss</td><td>304.17966</td></tr><tr><td>mae</td><td>304.17966</td></tr><tr><td>mape</td><td>9.23848</td></tr><tr><td>val_loss</td><td>302.00577</td></tr><tr><td>val_mae</td><td>302.00577</td></tr><tr><td>val_mape</td><td>9.10151</td></tr></table>\n",
              "</div></div>\n",
              "Synced 5 W&B file(s), 1 media file(s), 8 artifact file(s) and 1 other file(s)\n",
              "<br/>Synced <strong style=\"color:#cdcd00\">rural-sweep-8</strong>: <a href=\"https://wandb.ai/artem-starkov/flatfasetgen/runs/1f5efuc6\" target=\"_blank\">https://wandb.ai/artem-starkov/flatfasetgen/runs/1f5efuc6</a><br/>\n",
              "Find logs at: <code>./wandb/run-20211104_001054-1f5efuc6/logs</code><br/>\n"
            ],
            "text/plain": [
              "<IPython.core.display.HTML object>"
            ]
          },
          "metadata": {}
        },
        {
          "output_type": "stream",
          "name": "stderr",
          "text": [
            "\u001b[34m\u001b[1mwandb\u001b[0m: Agent Starting Run: mx3yh9mu with config:\n",
            "\u001b[34m\u001b[1mwandb\u001b[0m: \tactivation1: sigmoid\n",
            "\u001b[34m\u001b[1mwandb\u001b[0m: \tactivation2: sigmoid\n",
            "\u001b[34m\u001b[1mwandb\u001b[0m: \tactivation3: sigmoid\n",
            "\u001b[34m\u001b[1mwandb\u001b[0m: \tactivation4: relu\n",
            "\u001b[34m\u001b[1mwandb\u001b[0m: \tbatch_size: 128\n",
            "\u001b[34m\u001b[1mwandb\u001b[0m: \tbatchnorm_for_layers: 1\n",
            "\u001b[34m\u001b[1mwandb\u001b[0m: \tepochs: 20\n",
            "\u001b[34m\u001b[1mwandb\u001b[0m: \tlayer_1_size: 4096\n",
            "\u001b[34m\u001b[1mwandb\u001b[0m: \tlayer_2_size: 3072\n",
            "\u001b[34m\u001b[1mwandb\u001b[0m: \tlayer_3_size: 4096\n",
            "\u001b[34m\u001b[1mwandb\u001b[0m: \tlearning_rate: 0.0009085976385594188\n",
            "\u001b[34m\u001b[1mwandb\u001b[0m: \toptimizer: sgd\n",
            "\u001b[34m\u001b[1mwandb\u001b[0m: \ttarget: r\n",
            "\u001b[34m\u001b[1mwandb\u001b[0m: \u001b[33mWARNING\u001b[0m Ignored wandb.init() arg project when running a sweep\n"
          ]
        },
        {
          "output_type": "display_data",
          "data": {
            "text/html": [
              "\n",
              "                    Syncing run <strong><a href=\"https://wandb.ai/artem-starkov/flatfasetgen/runs/mx3yh9mu\" target=\"_blank\">eager-sweep-9</a></strong> to <a href=\"https://wandb.ai/artem-starkov/flatfasetgen\" target=\"_blank\">Weights & Biases</a> (<a href=\"https://docs.wandb.com/integrations/jupyter.html\" target=\"_blank\">docs</a>).<br/>\n",
              "Sweep page: <a href=\"https://wandb.ai/artem-starkov/flatfasetgen/sweeps/yl0tk14z\" target=\"_blank\">https://wandb.ai/artem-starkov/flatfasetgen/sweeps/yl0tk14z</a><br/>\n",
              "\n",
              "                "
            ],
            "text/plain": [
              "<IPython.core.display.HTML object>"
            ]
          },
          "metadata": {}
        },
        {
          "output_type": "stream",
          "name": "stderr",
          "text": [
            "\u001b[34m\u001b[1mwandb\u001b[0m: Downloading large artifact Clear_datasets:v20, 1377.11MB. 2 files... Done. 0:0:0\n",
            "\u001b[34m\u001b[1mwandb\u001b[0m: Adding directory to artifact (./distance_compiled_models)... Done. 2.1s\n"
          ]
        },
        {
          "output_type": "stream",
          "name": "stdout",
          "text": [
            "Epoch 1/20\n",
            "1563/1563 [==============================] - 41s 25ms/step - loss: 2662.9270 - mae: 2662.9270 - mape: 75.4664 - val_loss: 1508.7405 - val_mae: 1508.7405 - val_mape: 41.1605\n",
            "Epoch 2/20\n",
            "1563/1563 [==============================] - 39s 25ms/step - loss: 719.1704 - mae: 719.1704 - mape: 23.6914 - val_loss: 497.3334 - val_mae: 497.3334 - val_mape: 18.8105\n",
            "Epoch 3/20\n",
            "1563/1563 [==============================] - 39s 25ms/step - loss: 434.1216 - mae: 434.1216 - mape: 15.6686 - val_loss: 422.8329 - val_mae: 422.8329 - val_mape: 14.8356\n",
            "Epoch 4/20\n",
            "1563/1563 [==============================] - 39s 25ms/step - loss: 384.9054 - mae: 384.9054 - mape: 13.1950 - val_loss: 403.5965 - val_mae: 403.5965 - val_mape: 13.7109\n",
            "Epoch 5/20\n",
            "1563/1563 [==============================] - 39s 25ms/step - loss: 361.5787 - mae: 361.5787 - mape: 12.0163 - val_loss: 360.9433 - val_mae: 360.9433 - val_mape: 11.9946\n",
            "Epoch 6/20\n",
            "1563/1563 [==============================] - 39s 25ms/step - loss: 347.8712 - mae: 347.8712 - mape: 11.3564 - val_loss: 389.4625 - val_mae: 389.4625 - val_mape: 12.6492\n",
            "Epoch 7/20\n",
            "1563/1563 [==============================] - 39s 25ms/step - loss: 337.4401 - mae: 337.4401 - mape: 10.8705 - val_loss: 346.9060 - val_mae: 346.9060 - val_mape: 11.3463\n",
            "Epoch 8/20\n",
            "1563/1563 [==============================] - 39s 25ms/step - loss: 330.9466 - mae: 330.9466 - mape: 10.5575 - val_loss: 333.0815 - val_mae: 333.0815 - val_mape: 10.6312\n",
            "Epoch 9/20\n",
            "1563/1563 [==============================] - 39s 25ms/step - loss: 324.7472 - mae: 324.7472 - mape: 10.2726 - val_loss: 317.1392 - val_mae: 317.1392 - val_mape: 10.0833\n",
            "Epoch 10/20\n",
            "1563/1563 [==============================] - 39s 25ms/step - loss: 320.6552 - mae: 320.6552 - mape: 10.0749 - val_loss: 316.4478 - val_mae: 316.4478 - val_mape: 9.9315\n",
            "Epoch 11/20\n",
            "1563/1563 [==============================] - 40s 25ms/step - loss: 316.8289 - mae: 316.8289 - mape: 9.9142 - val_loss: 309.0304 - val_mae: 309.0304 - val_mape: 9.6430\n",
            "Epoch 12/20\n",
            "1563/1563 [==============================] - 40s 25ms/step - loss: 312.9969 - mae: 312.9969 - mape: 9.7411 - val_loss: 313.8898 - val_mae: 313.8898 - val_mape: 9.8322\n",
            "Epoch 13/20\n",
            "1563/1563 [==============================] - 39s 25ms/step - loss: 310.6792 - mae: 310.6792 - mape: 9.6373 - val_loss: 305.3570 - val_mae: 305.3570 - val_mape: 9.4681\n",
            "Epoch 14/20\n",
            "1563/1563 [==============================] - 40s 26ms/step - loss: 307.9727 - mae: 307.9727 - mape: 9.5185 - val_loss: 306.8434 - val_mae: 306.8434 - val_mape: 9.6820\n",
            "Epoch 15/20\n",
            "1563/1563 [==============================] - 40s 26ms/step - loss: 305.8079 - mae: 305.8079 - mape: 9.4254 - val_loss: 306.0372 - val_mae: 306.0372 - val_mape: 9.5659\n",
            "Epoch 16/20\n",
            "1563/1563 [==============================] - 39s 25ms/step - loss: 303.7587 - mae: 303.7587 - mape: 9.3356 - val_loss: 302.0241 - val_mae: 302.0241 - val_mape: 9.4037\n",
            "Epoch 17/20\n",
            "1563/1563 [==============================] - 40s 25ms/step - loss: 301.2388 - mae: 301.2388 - mape: 9.2311 - val_loss: 301.8146 - val_mae: 301.8146 - val_mape: 9.3372\n",
            "Epoch 18/20\n",
            "1563/1563 [==============================] - 40s 25ms/step - loss: 301.0681 - mae: 301.0681 - mape: 9.2076 - val_loss: 305.5676 - val_mae: 305.5676 - val_mape: 9.5509\n",
            "Epoch 19/20\n",
            "1563/1563 [==============================] - 40s 25ms/step - loss: 299.3472 - mae: 299.3472 - mape: 9.1281 - val_loss: 297.6450 - val_mae: 297.6450 - val_mape: 9.0689\n",
            "Epoch 20/20\n",
            "1563/1563 [==============================] - 40s 25ms/step - loss: 297.7946 - mae: 297.7946 - mape: 9.0678 - val_loss: 298.8859 - val_mae: 298.8859 - val_mape: 9.2985\n"
          ]
        },
        {
          "output_type": "stream",
          "name": "stderr",
          "text": [
            "\u001b[34m\u001b[1mwandb\u001b[0m: Adding directory to artifact (./distance_trained_models)... Done. 3.3s\n"
          ]
        },
        {
          "output_type": "display_data",
          "data": {
            "text/html": [
              "<br/>Waiting for W&B process to finish, PID 4301... <strong style=\"color:green\">(success).</strong>"
            ],
            "text/plain": [
              "<IPython.core.display.HTML object>"
            ]
          },
          "metadata": {}
        },
        {
          "output_type": "display_data",
          "data": {
            "application/vnd.jupyter.widget-view+json": {
              "model_id": "eb2311ae7db4447cbbdf7c4196d99f72",
              "version_minor": 0,
              "version_major": 2
            },
            "text/plain": [
              "VBox(children=(Label(value=' 329.13MB of 329.13MB uploaded (0.00MB deduped)\\r'), FloatProgress(value=1.0, max=…"
            ]
          },
          "metadata": {}
        },
        {
          "output_type": "display_data",
          "data": {
            "text/html": [
              "<style>\n",
              "    table.wandb td:nth-child(1) { padding: 0 10px; text-align: right }\n",
              "    .wandb-row { display: flex; flex-direction: row; flex-wrap: wrap; width: 100% }\n",
              "    .wandb-col { display: flex; flex-direction: column; flex-basis: 100%; flex: 1; padding: 10px; }\n",
              "    </style>\n",
              "<div class=\"wandb-row\"><div class=\"wandb-col\">\n",
              "<h3>Run history:</h3><br/><table class=\"wandb\"><tr><td>R2</td><td>▁</td></tr><tr><td>RMSE</td><td>▁</td></tr><tr><td>epoch</td><td>▁▁▂▂▂▃▃▄▄▄▅▅▅▆▆▇▇▇██</td></tr><tr><td>loss</td><td>█▂▁▁▁▁▁▁▁▁▁▁▁▁▁▁▁▁▁▁</td></tr><tr><td>mae</td><td>█▂▁▁▁▁▁▁▁▁▁▁▁▁▁▁▁▁▁▁</td></tr><tr><td>mape</td><td>█▃▂▁▁▁▁▁▁▁▁▁▁▁▁▁▁▁▁▁</td></tr><tr><td>val_loss</td><td>█▂▂▂▁▂▁▁▁▁▁▁▁▁▁▁▁▁▁▁</td></tr><tr><td>val_mae</td><td>█▂▂▂▁▂▁▁▁▁▁▁▁▁▁▁▁▁▁▁</td></tr><tr><td>val_mape</td><td>█▃▂▂▂▂▁▁▁▁▁▁▁▁▁▁▁▁▁▁</td></tr></table><br/></div><div class=\"wandb-col\">\n",
              "<h3>Run summary:</h3><br/><table class=\"wandb\"><tr><td>R2</td><td>0.8857</td></tr><tr><td>RMSE</td><td>394.76515</td></tr><tr><td>best_epoch</td><td>18</td></tr><tr><td>best_val_loss</td><td>297.64496</td></tr><tr><td>epoch</td><td>19</td></tr><tr><td>loss</td><td>297.79465</td></tr><tr><td>mae</td><td>297.79465</td></tr><tr><td>mape</td><td>9.06775</td></tr><tr><td>val_loss</td><td>298.88589</td></tr><tr><td>val_mae</td><td>298.88589</td></tr><tr><td>val_mape</td><td>9.29848</td></tr></table>\n",
              "</div></div>\n",
              "Synced 5 W&B file(s), 1 media file(s), 8 artifact file(s) and 1 other file(s)\n",
              "<br/>Synced <strong style=\"color:#cdcd00\">eager-sweep-9</strong>: <a href=\"https://wandb.ai/artem-starkov/flatfasetgen/runs/mx3yh9mu\" target=\"_blank\">https://wandb.ai/artem-starkov/flatfasetgen/runs/mx3yh9mu</a><br/>\n",
              "Find logs at: <code>./wandb/run-20211104_004738-mx3yh9mu/logs</code><br/>\n"
            ],
            "text/plain": [
              "<IPython.core.display.HTML object>"
            ]
          },
          "metadata": {}
        },
        {
          "output_type": "stream",
          "name": "stderr",
          "text": [
            "\u001b[34m\u001b[1mwandb\u001b[0m: Agent Starting Run: s9a4ug25 with config:\n",
            "\u001b[34m\u001b[1mwandb\u001b[0m: \tactivation1: sigmoid\n",
            "\u001b[34m\u001b[1mwandb\u001b[0m: \tactivation2: relu\n",
            "\u001b[34m\u001b[1mwandb\u001b[0m: \tactivation3: tanh\n",
            "\u001b[34m\u001b[1mwandb\u001b[0m: \tactivation4: relu\n",
            "\u001b[34m\u001b[1mwandb\u001b[0m: \tbatch_size: 128\n",
            "\u001b[34m\u001b[1mwandb\u001b[0m: \tbatchnorm_for_layers: 1\n",
            "\u001b[34m\u001b[1mwandb\u001b[0m: \tepochs: 20\n",
            "\u001b[34m\u001b[1mwandb\u001b[0m: \tlayer_1_size: 2048\n",
            "\u001b[34m\u001b[1mwandb\u001b[0m: \tlayer_2_size: 3072\n",
            "\u001b[34m\u001b[1mwandb\u001b[0m: \tlayer_3_size: 2880\n",
            "\u001b[34m\u001b[1mwandb\u001b[0m: \tlearning_rate: 0.0009416335783927524\n",
            "\u001b[34m\u001b[1mwandb\u001b[0m: \toptimizer: sgd\n",
            "\u001b[34m\u001b[1mwandb\u001b[0m: \ttarget: r\n",
            "\u001b[34m\u001b[1mwandb\u001b[0m: \u001b[33mWARNING\u001b[0m Ignored wandb.init() arg project when running a sweep\n"
          ]
        },
        {
          "output_type": "display_data",
          "data": {
            "text/html": [
              "\n",
              "                    Syncing run <strong><a href=\"https://wandb.ai/artem-starkov/flatfasetgen/runs/s9a4ug25\" target=\"_blank\">northern-sweep-10</a></strong> to <a href=\"https://wandb.ai/artem-starkov/flatfasetgen\" target=\"_blank\">Weights & Biases</a> (<a href=\"https://docs.wandb.com/integrations/jupyter.html\" target=\"_blank\">docs</a>).<br/>\n",
              "Sweep page: <a href=\"https://wandb.ai/artem-starkov/flatfasetgen/sweeps/yl0tk14z\" target=\"_blank\">https://wandb.ai/artem-starkov/flatfasetgen/sweeps/yl0tk14z</a><br/>\n",
              "\n",
              "                "
            ],
            "text/plain": [
              "<IPython.core.display.HTML object>"
            ]
          },
          "metadata": {}
        },
        {
          "output_type": "stream",
          "name": "stderr",
          "text": [
            "\u001b[34m\u001b[1mwandb\u001b[0m: Downloading large artifact Clear_datasets:v20, 1377.11MB. 2 files... Done. 0:0:0\n",
            "\u001b[34m\u001b[1mwandb\u001b[0m: Adding directory to artifact (./distance_compiled_models)... Done. 3.5s\n"
          ]
        },
        {
          "output_type": "stream",
          "name": "stdout",
          "text": [
            "Epoch 1/20\n",
            "1563/1563 [==============================] - 32s 19ms/step - loss: 2826.0659 - mae: 2826.0659 - mape: 80.5980 - val_loss: 1820.2308 - val_mae: 1820.2308 - val_mape: 49.6955\n",
            "Epoch 2/20\n",
            "1563/1563 [==============================] - 29s 19ms/step - loss: 776.7196 - mae: 776.7196 - mape: 22.6988 - val_loss: 560.1418 - val_mae: 560.1418 - val_mape: 18.0842\n",
            "Epoch 3/20\n",
            "1563/1563 [==============================] - 30s 19ms/step - loss: 354.7407 - mae: 354.7407 - mape: 11.1803 - val_loss: 358.2273 - val_mae: 358.2273 - val_mape: 11.2015\n",
            "Epoch 4/20\n",
            "1563/1563 [==============================] - 29s 19ms/step - loss: 326.4663 - mae: 326.4663 - mape: 10.0823 - val_loss: 324.7435 - val_mae: 324.7435 - val_mape: 10.0701\n",
            "Epoch 5/20\n",
            "1563/1563 [==============================] - 29s 19ms/step - loss: 315.3022 - mae: 315.3022 - mape: 9.6574 - val_loss: 306.9808 - val_mae: 306.9808 - val_mape: 9.4098\n",
            "Epoch 6/20\n",
            "1563/1563 [==============================] - 29s 18ms/step - loss: 307.3742 - mae: 307.3742 - mape: 9.3426 - val_loss: 305.6857 - val_mae: 305.6857 - val_mape: 9.4706\n",
            "Epoch 7/20\n",
            "1563/1563 [==============================] - 29s 19ms/step - loss: 302.8959 - mae: 302.8959 - mape: 9.1685 - val_loss: 311.5034 - val_mae: 311.5034 - val_mape: 9.6937\n",
            "Epoch 8/20\n",
            "1563/1563 [==============================] - 30s 19ms/step - loss: 298.4447 - mae: 298.4447 - mape: 8.9873 - val_loss: 306.4090 - val_mae: 306.4090 - val_mape: 9.6424\n",
            "Epoch 9/20\n",
            "1563/1563 [==============================] - 29s 19ms/step - loss: 296.0877 - mae: 296.0877 - mape: 8.9060 - val_loss: 295.9507 - val_mae: 295.9507 - val_mape: 8.9982\n",
            "Epoch 10/20\n",
            "1563/1563 [==============================] - 30s 19ms/step - loss: 293.7532 - mae: 293.7532 - mape: 8.7988 - val_loss: 298.5611 - val_mae: 298.5611 - val_mape: 9.0016\n",
            "Epoch 11/20\n",
            "1563/1563 [==============================] - 30s 19ms/step - loss: 290.7224 - mae: 290.7224 - mape: 8.6944 - val_loss: 311.3571 - val_mae: 311.3571 - val_mape: 9.5408\n",
            "Epoch 12/20\n",
            "1563/1563 [==============================] - 29s 19ms/step - loss: 289.6357 - mae: 289.6357 - mape: 8.6459 - val_loss: 285.3492 - val_mae: 285.3492 - val_mape: 8.6155\n",
            "Epoch 13/20\n",
            "1563/1563 [==============================] - 29s 19ms/step - loss: 288.4548 - mae: 288.4548 - mape: 8.5920 - val_loss: 293.4309 - val_mae: 293.4309 - val_mape: 8.8661\n",
            "Epoch 14/20\n",
            "1563/1563 [==============================] - 29s 19ms/step - loss: 286.6046 - mae: 286.6046 - mape: 8.5365 - val_loss: 298.9688 - val_mae: 298.9688 - val_mape: 8.9875\n",
            "Epoch 15/20\n",
            "1563/1563 [==============================] - 29s 19ms/step - loss: 285.5083 - mae: 285.5083 - mape: 8.4850 - val_loss: 282.4287 - val_mae: 282.4287 - val_mape: 8.4910\n",
            "Epoch 16/20\n",
            "1563/1563 [==============================] - 29s 19ms/step - loss: 283.9956 - mae: 283.9956 - mape: 8.4242 - val_loss: 283.5446 - val_mae: 283.5446 - val_mape: 8.4314\n",
            "Epoch 17/20\n",
            "1563/1563 [==============================] - 29s 19ms/step - loss: 283.4177 - mae: 283.4177 - mape: 8.3983 - val_loss: 285.2841 - val_mae: 285.2841 - val_mape: 8.6163\n",
            "Epoch 18/20\n",
            "1563/1563 [==============================] - 29s 19ms/step - loss: 282.1142 - mae: 282.1142 - mape: 8.3496 - val_loss: 285.6345 - val_mae: 285.6345 - val_mape: 8.6241\n",
            "Epoch 19/20\n",
            "1563/1563 [==============================] - 29s 19ms/step - loss: 282.0389 - mae: 282.0389 - mape: 8.3447 - val_loss: 284.5363 - val_mae: 284.5363 - val_mape: 8.4920\n",
            "Epoch 20/20\n",
            "1563/1563 [==============================] - 29s 19ms/step - loss: 281.0882 - mae: 281.0882 - mape: 8.3132 - val_loss: 286.7898 - val_mae: 286.7898 - val_mape: 8.5817\n"
          ]
        },
        {
          "output_type": "stream",
          "name": "stderr",
          "text": [
            "\u001b[34m\u001b[1mwandb\u001b[0m: Adding directory to artifact (./distance_trained_models)... Done. 3.4s\n"
          ]
        },
        {
          "output_type": "display_data",
          "data": {
            "text/html": [
              "<br/>Waiting for W&B process to finish, PID 4686... <strong style=\"color:green\">(success).</strong>"
            ],
            "text/plain": [
              "<IPython.core.display.HTML object>"
            ]
          },
          "metadata": {}
        },
        {
          "output_type": "display_data",
          "data": {
            "application/vnd.jupyter.widget-view+json": {
              "model_id": "acc8b6015881494face8303fd1d9ba07",
              "version_minor": 0,
              "version_major": 2
            },
            "text/plain": [
              "VBox(children=(Label(value=' 197.30MB of 197.30MB uploaded (0.00MB deduped)\\r'), FloatProgress(value=1.0, max=…"
            ]
          },
          "metadata": {}
        },
        {
          "output_type": "display_data",
          "data": {
            "text/html": [
              "<style>\n",
              "    table.wandb td:nth-child(1) { padding: 0 10px; text-align: right }\n",
              "    .wandb-row { display: flex; flex-direction: row; flex-wrap: wrap; width: 100% }\n",
              "    .wandb-col { display: flex; flex-direction: column; flex-basis: 100%; flex: 1; padding: 10px; }\n",
              "    </style>\n",
              "<div class=\"wandb-row\"><div class=\"wandb-col\">\n",
              "<h3>Run history:</h3><br/><table class=\"wandb\"><tr><td>R2</td><td>▁</td></tr><tr><td>RMSE</td><td>▁</td></tr><tr><td>epoch</td><td>▁▁▂▂▂▃▃▄▄▄▅▅▅▆▆▇▇▇██</td></tr><tr><td>loss</td><td>█▂▁▁▁▁▁▁▁▁▁▁▁▁▁▁▁▁▁▁</td></tr><tr><td>mae</td><td>█▂▁▁▁▁▁▁▁▁▁▁▁▁▁▁▁▁▁▁</td></tr><tr><td>mape</td><td>█▂▁▁▁▁▁▁▁▁▁▁▁▁▁▁▁▁▁▁</td></tr><tr><td>val_loss</td><td>█▂▁▁▁▁▁▁▁▁▁▁▁▁▁▁▁▁▁▁</td></tr><tr><td>val_mae</td><td>█▂▁▁▁▁▁▁▁▁▁▁▁▁▁▁▁▁▁▁</td></tr><tr><td>val_mape</td><td>█▃▁▁▁▁▁▁▁▁▁▁▁▁▁▁▁▁▁▁</td></tr></table><br/></div><div class=\"wandb-col\">\n",
              "<h3>Run summary:</h3><br/><table class=\"wandb\"><tr><td>R2</td><td>0.89</td></tr><tr><td>RMSE</td><td>387.26124</td></tr><tr><td>best_epoch</td><td>14</td></tr><tr><td>best_val_loss</td><td>282.42871</td></tr><tr><td>epoch</td><td>19</td></tr><tr><td>loss</td><td>281.08823</td></tr><tr><td>mae</td><td>281.08823</td></tr><tr><td>mape</td><td>8.31316</td></tr><tr><td>val_loss</td><td>286.78976</td></tr><tr><td>val_mae</td><td>286.78976</td></tr><tr><td>val_mape</td><td>8.58173</td></tr></table>\n",
              "</div></div>\n",
              "Synced 5 W&B file(s), 1 media file(s), 8 artifact file(s) and 1 other file(s)\n",
              "<br/>Synced <strong style=\"color:#cdcd00\">northern-sweep-10</strong>: <a href=\"https://wandb.ai/artem-starkov/flatfasetgen/runs/s9a4ug25\" target=\"_blank\">https://wandb.ai/artem-starkov/flatfasetgen/runs/s9a4ug25</a><br/>\n",
              "Find logs at: <code>./wandb/run-20211104_010142-s9a4ug25/logs</code><br/>\n"
            ],
            "text/plain": [
              "<IPython.core.display.HTML object>"
            ]
          },
          "metadata": {}
        }
      ]
    }
  ]
}