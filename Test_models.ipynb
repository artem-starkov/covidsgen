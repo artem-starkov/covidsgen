{
  "nbformat": 4,
  "nbformat_minor": 0,
  "metadata": {
    "accelerator": "GPU",
    "colab": {
      "name": "Копия блокнота \"Generate test cases.ipynb\"",
      "provenance": [],
      "collapsed_sections": [
        "x_7pJimOitvf",
        "j9Wb59CMoEb3",
        "tLmaDkRMoSGg",
        "xPMSFZj-obSQ",
        "AyMEz6Loor_2",
        "-vc5ka9_PzgM",
        "GLURwYyPQIMi"
      ]
    },
    "kernelspec": {
      "display_name": "Python 3",
      "name": "python3"
    },
    "language_info": {
      "name": "python"
    },
    "widgets": {
      "application/vnd.jupyter.widget-state+json": {
        "76c835247e7d49a6b69bf0119b353167": {
          "model_module": "@jupyter-widgets/controls",
          "model_name": "VBoxModel",
          "model_module_version": "1.5.0",
          "state": {
            "_view_name": "VBoxView",
            "_dom_classes": [],
            "_model_name": "VBoxModel",
            "_view_module": "@jupyter-widgets/controls",
            "_model_module_version": "1.5.0",
            "_view_count": null,
            "_view_module_version": "1.5.0",
            "box_style": "",
            "layout": "IPY_MODEL_85fae786a8ca415993d6f883d04b5dbe",
            "_model_module": "@jupyter-widgets/controls",
            "children": [
              "IPY_MODEL_762ca3fec9164c8b935efb678144fba3",
              "IPY_MODEL_3a693e8038004ae3a8048e6b317a81d0"
            ]
          }
        },
        "85fae786a8ca415993d6f883d04b5dbe": {
          "model_module": "@jupyter-widgets/base",
          "model_name": "LayoutModel",
          "model_module_version": "1.2.0",
          "state": {
            "_view_name": "LayoutView",
            "grid_template_rows": null,
            "right": null,
            "justify_content": null,
            "_view_module": "@jupyter-widgets/base",
            "overflow": null,
            "_model_module_version": "1.2.0",
            "_view_count": null,
            "flex_flow": null,
            "width": null,
            "min_width": null,
            "border": null,
            "align_items": null,
            "bottom": null,
            "_model_module": "@jupyter-widgets/base",
            "top": null,
            "grid_column": null,
            "overflow_y": null,
            "overflow_x": null,
            "grid_auto_flow": null,
            "grid_area": null,
            "grid_template_columns": null,
            "flex": null,
            "_model_name": "LayoutModel",
            "justify_items": null,
            "grid_row": null,
            "max_height": null,
            "align_content": null,
            "visibility": null,
            "align_self": null,
            "height": null,
            "min_height": null,
            "padding": null,
            "grid_auto_rows": null,
            "grid_gap": null,
            "max_width": null,
            "order": null,
            "_view_module_version": "1.2.0",
            "grid_template_areas": null,
            "object_position": null,
            "object_fit": null,
            "grid_auto_columns": null,
            "margin": null,
            "display": null,
            "left": null
          }
        },
        "762ca3fec9164c8b935efb678144fba3": {
          "model_module": "@jupyter-widgets/controls",
          "model_name": "LabelModel",
          "model_module_version": "1.5.0",
          "state": {
            "_view_name": "LabelView",
            "style": "IPY_MODEL_cd50089f27984e0fab2989b2765df9cc",
            "_dom_classes": [],
            "description": "",
            "_model_name": "LabelModel",
            "placeholder": "​",
            "_view_module": "@jupyter-widgets/controls",
            "_model_module_version": "1.5.0",
            "value": " 0.01MB of 0.01MB uploaded (0.00MB deduped)\r",
            "_view_count": null,
            "_view_module_version": "1.5.0",
            "description_tooltip": null,
            "_model_module": "@jupyter-widgets/controls",
            "layout": "IPY_MODEL_77a9c6f56fe146e4b84ed184d7e3fc65"
          }
        },
        "3a693e8038004ae3a8048e6b317a81d0": {
          "model_module": "@jupyter-widgets/controls",
          "model_name": "FloatProgressModel",
          "model_module_version": "1.5.0",
          "state": {
            "_view_name": "ProgressView",
            "style": "IPY_MODEL_eceaac76ee9347b396f163c2d3790776",
            "_dom_classes": [],
            "description": "",
            "_model_name": "FloatProgressModel",
            "bar_style": "",
            "max": 1,
            "_view_module": "@jupyter-widgets/controls",
            "_model_module_version": "1.5.0",
            "value": 1,
            "_view_count": null,
            "_view_module_version": "1.5.0",
            "orientation": "horizontal",
            "min": 0,
            "description_tooltip": null,
            "_model_module": "@jupyter-widgets/controls",
            "layout": "IPY_MODEL_959c10937dd1419fae73334b69830268"
          }
        },
        "cd50089f27984e0fab2989b2765df9cc": {
          "model_module": "@jupyter-widgets/controls",
          "model_name": "DescriptionStyleModel",
          "model_module_version": "1.5.0",
          "state": {
            "_view_name": "StyleView",
            "_model_name": "DescriptionStyleModel",
            "description_width": "",
            "_view_module": "@jupyter-widgets/base",
            "_model_module_version": "1.5.0",
            "_view_count": null,
            "_view_module_version": "1.2.0",
            "_model_module": "@jupyter-widgets/controls"
          }
        },
        "77a9c6f56fe146e4b84ed184d7e3fc65": {
          "model_module": "@jupyter-widgets/base",
          "model_name": "LayoutModel",
          "model_module_version": "1.2.0",
          "state": {
            "_view_name": "LayoutView",
            "grid_template_rows": null,
            "right": null,
            "justify_content": null,
            "_view_module": "@jupyter-widgets/base",
            "overflow": null,
            "_model_module_version": "1.2.0",
            "_view_count": null,
            "flex_flow": null,
            "width": null,
            "min_width": null,
            "border": null,
            "align_items": null,
            "bottom": null,
            "_model_module": "@jupyter-widgets/base",
            "top": null,
            "grid_column": null,
            "overflow_y": null,
            "overflow_x": null,
            "grid_auto_flow": null,
            "grid_area": null,
            "grid_template_columns": null,
            "flex": null,
            "_model_name": "LayoutModel",
            "justify_items": null,
            "grid_row": null,
            "max_height": null,
            "align_content": null,
            "visibility": null,
            "align_self": null,
            "height": null,
            "min_height": null,
            "padding": null,
            "grid_auto_rows": null,
            "grid_gap": null,
            "max_width": null,
            "order": null,
            "_view_module_version": "1.2.0",
            "grid_template_areas": null,
            "object_position": null,
            "object_fit": null,
            "grid_auto_columns": null,
            "margin": null,
            "display": null,
            "left": null
          }
        },
        "eceaac76ee9347b396f163c2d3790776": {
          "model_module": "@jupyter-widgets/controls",
          "model_name": "ProgressStyleModel",
          "model_module_version": "1.5.0",
          "state": {
            "_view_name": "StyleView",
            "_model_name": "ProgressStyleModel",
            "description_width": "",
            "_view_module": "@jupyter-widgets/base",
            "_model_module_version": "1.5.0",
            "_view_count": null,
            "_view_module_version": "1.2.0",
            "bar_color": null,
            "_model_module": "@jupyter-widgets/controls"
          }
        },
        "959c10937dd1419fae73334b69830268": {
          "model_module": "@jupyter-widgets/base",
          "model_name": "LayoutModel",
          "model_module_version": "1.2.0",
          "state": {
            "_view_name": "LayoutView",
            "grid_template_rows": null,
            "right": null,
            "justify_content": null,
            "_view_module": "@jupyter-widgets/base",
            "overflow": null,
            "_model_module_version": "1.2.0",
            "_view_count": null,
            "flex_flow": null,
            "width": null,
            "min_width": null,
            "border": null,
            "align_items": null,
            "bottom": null,
            "_model_module": "@jupyter-widgets/base",
            "top": null,
            "grid_column": null,
            "overflow_y": null,
            "overflow_x": null,
            "grid_auto_flow": null,
            "grid_area": null,
            "grid_template_columns": null,
            "flex": null,
            "_model_name": "LayoutModel",
            "justify_items": null,
            "grid_row": null,
            "max_height": null,
            "align_content": null,
            "visibility": null,
            "align_self": null,
            "height": null,
            "min_height": null,
            "padding": null,
            "grid_auto_rows": null,
            "grid_gap": null,
            "max_width": null,
            "order": null,
            "_view_module_version": "1.2.0",
            "grid_template_areas": null,
            "object_position": null,
            "object_fit": null,
            "grid_auto_columns": null,
            "margin": null,
            "display": null,
            "left": null
          }
        }
      }
    }
  },
  "cells": [
    {
      "cell_type": "code",
      "metadata": {
        "id": "-_lEBg3VIQX1"
      },
      "source": [
        "import math\n",
        "import numpy as np\n",
        "import csv\n",
        "import os\n",
        "import matplotlib\n",
        "import matplotlib.pyplot as plt\n",
        "import matplotlib.patches as patches\n",
        "from tqdm import tqdm\n",
        "%matplotlib inline"
      ],
      "execution_count": null,
      "outputs": []
    },
    {
      "cell_type": "code",
      "metadata": {
        "id": "rs2W11mLxwcU"
      },
      "source": [
        "class TestCases:\n",
        "  ROUND_CASE = 1\n",
        "  LINE_CASE = 2\n",
        "  HORIZONTAL_CASE = 3\n",
        "  VERTICAL_CASE = 4\n",
        "  FROM_CENTER = 5"
      ],
      "execution_count": null,
      "outputs": []
    },
    {
      "cell_type": "markdown",
      "metadata": {
        "id": "g8Nfr_xGn7_O"
      },
      "source": [
        "# Функции для генерации тестовых множеств"
      ]
    },
    {
      "cell_type": "code",
      "metadata": {
        "id": "Ley0oCp8hqdL"
      },
      "source": [
        "def generate_round_case(g, psi, radius, i, gap):\n",
        "  r = radius \n",
        "  fi0 = psi + math.asin(g/r) + 0.001\n",
        "  #fi = np.random.uniform(psi + math.asin(g/r), math.pi - psi - math.asin(g/r))\n",
        "  dfi = math.acos((2*r*r - 4*g*g*gap*gap)/(2*r*r))\n",
        "  fi = fi0 + i * dfi\n",
        "  if fi > math.pi - psi - math.asin((g*gap)/r):\n",
        "    return r, fi, False\n",
        "  return r, fi, True\n",
        "\n",
        "\n",
        "def generate_vertical_case(g, rMax, i, gap, rMin=50):\n",
        "  fi = math.pi / 2\n",
        "  r = rMin + i * 2 * g * gap\n",
        "  can_continue = r <= rMax\n",
        "  return r, fi, can_continue\n",
        "\n",
        "\n",
        "def generate_horizontal_case(g, k, i, gap):\n",
        "  r0 = 2 * k\n",
        "  x0 = r0 * math.cos(math.asin(k/r0))\n",
        "  x = x0 - 2*i*g*gap\n",
        "  r = math.sqrt(x*x + k*k)\n",
        "  # r = np.random.uniform(k, rMax)\n",
        "  if x < 0:\n",
        "    fi = math.pi - math.asin(k / r)\n",
        "  else:\n",
        "    fi = math.asin(k / r)\n",
        "  # if np.random.uniform(0, 2) > 1:\n",
        "  #   fi = math.pi - fi\n",
        "  can_continue = x > -r0\n",
        "  return r, fi, can_continue\n",
        "\n",
        "def generate_from_center_case(g, rMax, alpha_in_degrees, i, gap, started):\n",
        "  fi = math.radians(alpha_in_degrees)\n",
        "  if not started:\n",
        "    Supp.r_start += 1\n",
        "    r = Supp.r_start\n",
        "  else:\n",
        "    r = Supp.r_start + 2 * g * gap * i\n",
        "  can_continue = r <= rMax\n",
        "  return r, fi, can_continue\n",
        "\n",
        "def generate_line_case(g, rMax, x, alpha_in_degrees, i, gap):\n",
        "  x = abs(x)\n",
        "  alpha = math.radians(alpha_in_degrees)\n",
        "  r = math.sqrt(x*x + 4*i*i*g*g*gap*gap - 4*g*gap*i*x*math.cos(alpha))\n",
        "  dfi = math.asin((2*g*gap*i*math.sin(alpha))/r)\n",
        "  if x - i * 2 * g * gap * math.cos(alpha) > 0:\n",
        "    fi = math.pi - dfi\n",
        "  else:\n",
        "    fi = dfi\n",
        "  #rMin = math.sin(alpha) * x\n",
        "  #r = np.random.uniform(rMin, rMax)\n",
        "  #fi = alpha + math.asin((x * math.sin(alpha)) / r)\n",
        "  can_continue = r <= rMax\n",
        "  if r < 50:\n",
        "    return rMax * 2, fi, can_continue\n",
        "  return r, fi, can_continue"
      ],
      "execution_count": null,
      "outputs": []
    },
    {
      "cell_type": "code",
      "metadata": {
        "id": "OSFM3B54PZ-A"
      },
      "source": [
        "def generate(h, l, m, n, rMax, g, test_case, values, gap=1, rMin=50):\n",
        "  gamma = (2 * math.pi) / m\n",
        "  psi = math.asin(l/h)\n",
        "  M = []\n",
        "  masks = []\n",
        "  precedents = 0\n",
        "  started = False\n",
        "  for precedents in range(n):\n",
        "  #while precedents < n:\n",
        "    # gMin = r * math.sin(gamma/2)\n",
        "    if test_case == TestCases.ROUND_CASE:\n",
        "      r, fi, can_continue = generate_round_case(g, psi, values['radius'], precedents, gap)\n",
        "      if not can_continue:\n",
        "        break\n",
        "    elif test_case == TestCases.HORIZONTAL_CASE:\n",
        "      r, fi, can_continue = generate_horizontal_case(g, values['k'], precedents, gap)\n",
        "      if not can_continue:\n",
        "        break\n",
        "    elif test_case == TestCases.LINE_CASE:\n",
        "      r, fi, can_continue = generate_line_case(g, rMax, values['x_start'], values['alpha_in_degrees'], precedents, gap)\n",
        "      if not can_continue:\n",
        "        break\n",
        "    elif test_case == TestCases.VERTICAL_CASE:\n",
        "      r, fi, can_continue = generate_vertical_case(g, values['rMax'], precedents, gap, rMin)\n",
        "      if not can_continue:\n",
        "        break\n",
        "    elif test_case == TestCases.FROM_CENTER:\n",
        "      r, fi, can_continue = generate_from_center_case(g, rMax, values['alpha_in_degrees'], precedents, gap, started)\n",
        "      if not can_continue:\n",
        "        break\n",
        "    if fi < psi + math.asin(g/r) or fi > math.pi - psi - math.asin(g/r):\n",
        "      continue\n",
        "    r_b = math.sqrt(h*h + r*r - 2*h*r*math.cos(fi))\n",
        "    if g > r_b:  \n",
        "      continue     \n",
        "    fi_b = math.pi - math.acos((h - r * math.cos(fi)) / math.sqrt(h*h + r*r - 2*h*r*math.cos(fi)))\n",
        "    L_b = math.floor((m / (2 * math.pi)) * (fi_b - math.asin(g / r_b)))\n",
        "    R_b = math.floor((m / (2 * math.pi)) * (fi_b + math.asin(g / r_b)))\n",
        "    r_a = math.sqrt(h*h + r*r + 2*h*r*math.cos(fi))\n",
        "    if g > r_a:   \n",
        "      continue   \n",
        "    fi_a = math.acos((h + r * math.cos(fi)) / math.sqrt(h*h + r*r + 2*h*r*math.cos(fi)))\n",
        "    L_a = math.floor((m / (2 * math.pi)) * (fi_a - math.asin(g / r_a)))\n",
        "    R_a = math.floor((m / (2 * math.pi)) * (fi_a + math.asin(g / r_a)))\n",
        "    if L_a < 0:\n",
        "      continue\n",
        "    if R_b >= m//2:\n",
        "      continue\n",
        "    beta_A = [0] * (m//2)\n",
        "    beta_B = [0] * (m//2)\n",
        "    for j in range(L_a, R_a + 1):\n",
        "        beta_A[j] = 1\n",
        "    for j in range(L_b, R_b + 1):\n",
        "        beta_B[j] = 1\n",
        "    started = True\n",
        "    M.append(beta_A + beta_B + [r, fi, g, r*math.cos(fi), r*math.sin(fi), h, l])\n",
        "    # if not tuple(beta_A + beta_B) in masks:\n",
        "    #   M.append(beta_A + beta_B + [r, fi, g, r*math.cos(fi), r*math.sin(fi), h, l])\n",
        "    #   masks.append(tuple(beta_A + beta_B))\n",
        "    # else:\n",
        "    #   print(r)\n",
        "    #precedents += 1\n",
        "  M = sorted(M, key=lambda x: x[723])\n",
        "  return M"
      ],
      "execution_count": null,
      "outputs": []
    },
    {
      "cell_type": "code",
      "metadata": {
        "id": "WEPdbV3KN31Q"
      },
      "source": [
        "class Supp:\n",
        "  r_start = 50"
      ],
      "execution_count": null,
      "outputs": []
    },
    {
      "cell_type": "code",
      "metadata": {
        "id": "ABpXZXZiPgGi"
      },
      "source": [
        "#dataset = generate(h=40, l=20, m=720, rMax=1000, g=10, n=10000, test_case=TestCases.ROUND_CASE, values={'radius': 700}, gap=4)\n",
        "#dataset = generate(h=40, l=20, m=720, rMax=1000, g=10, n=1000, test_case=TestCases.HORIZONTAL_CASE, values={'k': 500}, gap=1)\n",
        "#dataset = generate(h=40, l=20, m=720, rMax=1000, g=50, n=10000, test_case=TestCases.LINE_CASE, values={'x_start': -600, 'alpha_in_degrees': 45}, gap=1)\n",
        "dataset = generate(h=40, l=20, m=720, rMax=1000, g=10, n=10000, test_case=TestCases.VERTICAL_CASE, values={'rMax':500}, gap=1)\n",
        "#dataset = generate(h=40, l=20, m=720, rMax=1000, g=10, n=10000, test_case=TestCases.FROM_CENTER, values={'alpha_in_degrees': 45}, gap=1)\n",
        "print(len(dataset))"
      ],
      "execution_count": null,
      "outputs": []
    },
    {
      "cell_type": "code",
      "metadata": {
        "colab": {
          "base_uri": "https://localhost:8080/"
        },
        "id": "PuJuSc_Nw7Wc",
        "outputId": "052ab688-c74b-478e-dc39-1a4d0191013c"
      },
      "source": [
        "dataset = generate(h=40, l=20, m=720, rMax=1000, g=50, n=10000, test_case=TestCases.LINE_CASE, values={'x_start': -10, 'alpha_in_degrees': 45}, gap=4)\n",
        "print(len(dataset))"
      ],
      "execution_count": null,
      "outputs": [
        {
          "name": "stdout",
          "output_type": "stream",
          "text": [
            "0 2000 3.141592653589793\n",
            "0.8033920143525561\n",
            "0.7943155834744584\n",
            "2\n"
          ]
        }
      ]
    },
    {
      "cell_type": "markdown",
      "metadata": {
        "id": "x_7pJimOitvf"
      },
      "source": [
        "# Генерация данных для спец. экспериментов"
      ]
    },
    {
      "cell_type": "code",
      "metadata": {
        "id": "0nvRBvkGhxmY"
      },
      "source": [
        "def generate_special_round_case(g, psi, r, i, n):\n",
        "  fi_start = psi + math.asin(g/r) + 0.00001\n",
        "  fi_end = math.pi - psi - math.asin(g/r) - 0.00001\n",
        "  dfi = (fi_end - fi_start) / (n - 1)\n",
        "  fi = fi_start + dfi * i\n",
        "  return r, fi\n",
        "\n",
        "def generate_special_horizontal_case(g, r0, k, i, n, is_started, psi):\n",
        "  fi_start = psi + math.asin(g/r0) + 0.00001\n",
        "  fi_end = math.pi - psi - math.asin(g/r0) - 0.00001\n",
        "  if n > 1:\n",
        "    x0 = r0 * math.cos(math.asin(k/r0))\n",
        "    dx = (2 * x0) / (n-1)\n",
        "    x = x0 - dx * i\n",
        "  else:\n",
        "    x = 0\n",
        "  if is_started:\n",
        "    r = math.sqrt(x*x + k*k)\n",
        "  else:\n",
        "    r0 -= 10\n",
        "    r = r0\n",
        "  if x < 0:\n",
        "    fi = math.pi - math.asin(k / r)\n",
        "  else:\n",
        "    fi = math.asin(k / r)\n",
        "  return r, fi, r0\n",
        "\n",
        "def generate_special_vertical_case(g, rMax, i, n):\n",
        "  rMin = 75\n",
        "  fi = math.pi / 2\n",
        "  dr = (rMax - rMin) / (n - 1)\n",
        "  r = rMin + i * dr\n",
        "  return r, fi\n",
        "\n",
        "def generate_horizontal_dataset(h, l, m, n, rMax, g, k):\n",
        "  gamma = (2 * math.pi) / m\n",
        "  psi = math.asin(l/h)\n",
        "  M = []\n",
        "  conf = {'r0': 10000}\n",
        "  is_started = False\n",
        "  precedents = 0\n",
        "  while precedents < n:\n",
        "    r, fi, r0 = generate_special_horizontal_case(g, conf['r0'], k, precedents, n, is_started, psi)\n",
        "    conf['r0'] = r0\n",
        "    if fi < psi + math.asin(g/r) or fi > math.pi - psi - math.asin(g/r):\n",
        "      continue\n",
        "    r_b = math.sqrt(h*h + r*r - 2*h*r*math.cos(fi))\n",
        "    if g > r_b:  \n",
        "      continue     \n",
        "    fi_b = math.pi - math.acos((h - r * math.cos(fi)) / math.sqrt(h*h + r*r - 2*h*r*math.cos(fi)))\n",
        "    L_b = math.floor((m / (2 * math.pi)) * (fi_b - math.asin(g / r_b)))\n",
        "    R_b = math.floor((m / (2 * math.pi)) * (fi_b + math.asin(g / r_b)))\n",
        "    r_a = math.sqrt(h*h + r*r + 2*h*r*math.cos(fi))\n",
        "    if g > r_a:   \n",
        "      continue   \n",
        "    fi_a = math.acos((h + r * math.cos(fi)) / math.sqrt(h*h + r*r + 2*h*r*math.cos(fi)))\n",
        "    L_a = math.floor((m / (2 * math.pi)) * (fi_a - math.asin(g / r_a)))\n",
        "    R_a = math.floor((m / (2 * math.pi)) * (fi_a + math.asin(g / r_a)))\n",
        "    if L_a < 0:\n",
        "      continue\n",
        "    if R_b >= m//2:\n",
        "      continue\n",
        "    beta_A = [0] * (m//2)\n",
        "    beta_B = [0] * (m//2)\n",
        "    for j in range(L_a, R_a + 1):\n",
        "        beta_A[j] = 1\n",
        "    for j in range(L_b, R_b + 1):\n",
        "        beta_B[j] = 1\n",
        "    is_started = True\n",
        "    M.append(beta_A + beta_B + [r, fi, g, r*math.cos(fi), r*math.sin(fi), h, l])\n",
        "    precedents += 1\n",
        "  return M\n"
      ],
      "execution_count": null,
      "outputs": []
    },
    {
      "cell_type": "code",
      "metadata": {
        "colab": {
          "base_uri": "https://localhost:8080/"
        },
        "id": "k8zGYK3BjaSW",
        "outputId": "906c4cd6-0bf4-4787-ae59-110b6f86a17f"
      },
      "source": [
        "dataset = generate_horizontal_dataset(h=40, l=20, m=720, rMax=1000, g=10, n=20, k=700) + generate_horizontal_dataset(h=40, l=20, m=720, rMax=1000, g=10, n=20, k=600) + generate_horizontal_dataset(h=40, l=20, m=720, rMax=1000, g=10, n=20, k=500)\n",
        "print(len(dataset))"
      ],
      "execution_count": null,
      "outputs": [
        {
          "name": "stdout",
          "output_type": "stream",
          "text": [
            "60\n"
          ]
        }
      ]
    },
    {
      "cell_type": "code",
      "metadata": {
        "id": "FwwA5Upw4bFA"
      },
      "source": [
        "visualize_dataset(dataset, 360, 1)"
      ],
      "execution_count": null,
      "outputs": []
    },
    {
      "cell_type": "code",
      "metadata": {
        "id": "stnvdCSQs4K0"
      },
      "source": [
        "def check_n_round_case(min_radius, g):\n",
        "  dataset = generate(h=40, l=20, m=720, rMax=1000, g=g, n=10000, test_case=TestCases.ROUND_CASE, values={'radius': min_radius}, gap=1)\n",
        "  return len(dataset)\n",
        "\n",
        "def check_n_horiz_case(min_k, g):\n",
        "  dataset = generate(h=40, l=20, m=720, rMax=1000, g=g, n=10000, test_case=TestCases.HORIZONTAL_CASE, values={'k': min_k}, gap=1)\n",
        "  return len(dataset)\n",
        "\n",
        "def check_n_vertical_case(min_k, g):\n",
        "  dataset = generate(h=40, l=20, m=720, rMax=1000, g=g, n=10000, test_case=TestCases.VERTICAL_CASE, values={'rMax': min_k}, gap=1)\n",
        "  return len(dataset)"
      ],
      "execution_count": null,
      "outputs": []
    },
    {
      "cell_type": "code",
      "metadata": {
        "id": "PD261u8XizgZ"
      },
      "source": [
        "def generate_special_dataset(h, l, m, n, rMax, g, test_case, values, gap=1):\n",
        "  gamma = (2 * math.pi) / m\n",
        "  psi = math.asin(l/h)\n",
        "  M = []\n",
        "  for precedents in range(n):\n",
        "    # gMin = r * math.sin(gamma/2)\n",
        "    if test_case == TestCases.ROUND_CASE:\n",
        "      r, fi = generate_special_round_case(g, psi, values['radius'], precedents, n)\n",
        "    elif test_case == TestCases.HORIZONTAL_CASE:\n",
        "      r, fi = generate_horizontal_case(g, values['k'], precedents, gap)\n",
        "    elif test_case == TestCases.VERTICAL_CASE:\n",
        "      r, fi = generate_special_vertical_case(g, values['rMax'], precedents, n)\n",
        "    if fi < psi + math.asin(g/r) or fi > math.pi - psi - math.asin(g/r):\n",
        "      continue\n",
        "    r_b = math.sqrt(h*h + r*r - 2*h*r*math.cos(fi))\n",
        "    if g > r_b:  \n",
        "      continue     \n",
        "    fi_b = math.pi - math.acos((h - r * math.cos(fi)) / math.sqrt(h*h + r*r - 2*h*r*math.cos(fi)))\n",
        "    L_b = math.floor((m / (2 * math.pi)) * (fi_b - math.asin(g / r_b)))\n",
        "    R_b = math.floor((m / (2 * math.pi)) * (fi_b + math.asin(g / r_b)))\n",
        "    r_a = math.sqrt(h*h + r*r + 2*h*r*math.cos(fi))\n",
        "    if g > r_a:   \n",
        "      continue   \n",
        "    fi_a = math.acos((h + r * math.cos(fi)) / math.sqrt(h*h + r*r + 2*h*r*math.cos(fi)))\n",
        "    L_a = math.floor((m / (2 * math.pi)) * (fi_a - math.asin(g / r_a)))\n",
        "    R_a = math.floor((m / (2 * math.pi)) * (fi_a + math.asin(g / r_a)))\n",
        "    if L_a < 0:\n",
        "      continue\n",
        "    if R_b >= m//2:\n",
        "      continue\n",
        "    beta_A = [0] * (m//2)\n",
        "    beta_B = [0] * (m//2)\n",
        "    for j in range(L_a, R_a + 1):\n",
        "        beta_A[j] = 1\n",
        "    for j in range(L_b, R_b + 1):\n",
        "        beta_B[j] = 1\n",
        "    M.append(beta_A + beta_B + [r, fi, g, r*math.cos(fi), r*math.sin(fi), h, l])\n",
        "  return M"
      ],
      "execution_count": null,
      "outputs": []
    },
    {
      "cell_type": "markdown",
      "metadata": {
        "id": "j9Wb59CMoEb3"
      },
      "source": [
        "# Визуализатор множества"
      ]
    },
    {
      "cell_type": "code",
      "metadata": {
        "id": "eWj94TeZVTB3"
      },
      "source": [
        "def visualize_dataset(dataset, m, step):\n",
        "  k = 0\n",
        "  #fig, axes = plt.subplots(figsize=(10, 10))\n",
        "  fig = plt.figure(figsize=(10, 10), dpi=100) \n",
        "  axes = fig.add_subplot(111, aspect='equal')\n",
        "  up = 0\n",
        "  bottom = -50\n",
        "  left = -100\n",
        "  right = 100\n",
        "  for i in range(0, len(dataset), step):\n",
        "      k += 1\n",
        "      precedent = dataset[i]\n",
        "      gObj = float(precedent[2 * m + 2])\n",
        "      xObj = float(precedent[2 * m + 3])\n",
        "      if xObj > right:\n",
        "        right = xObj + gObj + 10\n",
        "      if xObj < left:\n",
        "        left = xObj - gObj - 10\n",
        "      yObj = float(precedent[2 * m + 4])\n",
        "      if yObj > up:\n",
        "        up = yObj + gObj + 10\n",
        "      h = float(precedent[2 * m + 5])\n",
        "      l = float(precedent[2 * m + 6])\n",
        "      \n",
        "      if i == 0:\n",
        "          axes.add_patch(plt.Circle((h, 0), l, color='black', fill=False))\n",
        "          axes.add_patch(plt.Circle((-h, 0), l, color='black', fill=False))\n",
        "      axes.add_patch(plt.Circle((xObj, yObj), gObj, color='orangered', fill=False))\n",
        "  print(k, '/', len(dataset))\n",
        "  up = 1020\n",
        "  bottom = -50\n",
        "  left = -900\n",
        "  right = 900\n",
        "  plt.axis([left, right, bottom, up])\n",
        "  plt.grid()\n",
        "  fig.show()\n",
        "  fig.savefig('plot.png', bbox_inches='tight')\n",
        "  return 'plot.png'"
      ],
      "execution_count": null,
      "outputs": []
    },
    {
      "cell_type": "code",
      "metadata": {
        "id": "YvUfIwHcPrOu"
      },
      "source": [
        "visualize_dataset(d, 360, 1)"
      ],
      "execution_count": null,
      "outputs": []
    },
    {
      "cell_type": "markdown",
      "metadata": {
        "id": "fBTyq6NSoKzA"
      },
      "source": [
        "# Wandb"
      ]
    },
    {
      "cell_type": "code",
      "metadata": {
        "colab": {
          "base_uri": "https://localhost:8080/"
        },
        "id": "ge42qTMPTLTY",
        "outputId": "658fe7db-05d2-4f9b-d15d-8efea7262717"
      },
      "source": [
        "!pip install wandb -qqq\n",
        "!apt install tree"
      ],
      "execution_count": null,
      "outputs": [
        {
          "output_type": "stream",
          "name": "stdout",
          "text": [
            "\u001b[K     |████████████████████████████████| 1.7 MB 5.5 MB/s \n",
            "\u001b[K     |████████████████████████████████| 97 kB 6.8 MB/s \n",
            "\u001b[K     |████████████████████████████████| 140 kB 45.4 MB/s \n",
            "\u001b[K     |████████████████████████████████| 180 kB 44.1 MB/s \n",
            "\u001b[K     |████████████████████████████████| 63 kB 1.7 MB/s \n",
            "\u001b[?25h  Building wheel for subprocess32 (setup.py) ... \u001b[?25l\u001b[?25hdone\n",
            "  Building wheel for pathtools (setup.py) ... \u001b[?25l\u001b[?25hdone\n",
            "Reading package lists... Done\n",
            "Building dependency tree       \n",
            "Reading state information... Done\n",
            "The following NEW packages will be installed:\n",
            "  tree\n",
            "0 upgraded, 1 newly installed, 0 to remove and 37 not upgraded.\n",
            "Need to get 40.7 kB of archives.\n",
            "After this operation, 105 kB of additional disk space will be used.\n",
            "Get:1 http://archive.ubuntu.com/ubuntu bionic/universe amd64 tree amd64 1.7.0-5 [40.7 kB]\n",
            "Fetched 40.7 kB in 0s (103 kB/s)\n",
            "Selecting previously unselected package tree.\n",
            "(Reading database ... 155222 files and directories currently installed.)\n",
            "Preparing to unpack .../tree_1.7.0-5_amd64.deb ...\n",
            "Unpacking tree (1.7.0-5) ...\n",
            "Setting up tree (1.7.0-5) ...\n",
            "Processing triggers for man-db (2.8.3-2ubuntu0.1) ...\n"
          ]
        }
      ]
    },
    {
      "cell_type": "code",
      "metadata": {
        "id": "5ZTXrg0iTMhJ"
      },
      "source": [
        "import os\n",
        "import wandb\n",
        "from collections import namedtuple\n",
        "#TestDataset = namedtuple(\"TestDataset\", [\"g1\", \"g2\", \"g3\", \"g4\", \"g5\"])\n",
        "Dataset = namedtuple(\"Dataset\", [\"x\", \"r\", \"fi\"])\n",
        "\n",
        "def load(datasets_list):\n",
        "  datasets = []\n",
        "  for dataset in datasets_list:\n",
        "    x, y_r, y_fi = [], [], []\n",
        "    for row in dataset:\n",
        "      x.append(row[:720])\n",
        "      y_r.append(row[720])\n",
        "      y_fi.append(row[721])\n",
        "    dataset = Dataset(x, y_r, y_fi)\n",
        "    #fi_set = Dataset(x, y_fi)\n",
        "    #dataset = TestDataset(datasets[0], datasets[1], datasets[2], datasets[3], datasets[4])\n",
        "    datasets.append(dataset)\n",
        "  return datasets"
      ],
      "execution_count": null,
      "outputs": []
    },
    {
      "cell_type": "code",
      "metadata": {
        "id": "Jy0ylSBUTZSN",
        "colab": {
          "base_uri": "https://localhost:8080/",
          "height": 69
        },
        "outputId": "0472d0ce-4a33-4ea5-c464-b0a825b65acb"
      },
      "source": [
        "wandb.login()"
      ],
      "execution_count": null,
      "outputs": [
        {
          "output_type": "display_data",
          "data": {
            "application/javascript": [
              "\n",
              "        window._wandbApiKey = new Promise((resolve, reject) => {\n",
              "            function loadScript(url) {\n",
              "            return new Promise(function(resolve, reject) {\n",
              "                let newScript = document.createElement(\"script\");\n",
              "                newScript.onerror = reject;\n",
              "                newScript.onload = resolve;\n",
              "                document.body.appendChild(newScript);\n",
              "                newScript.src = url;\n",
              "            });\n",
              "            }\n",
              "            loadScript(\"https://cdn.jsdelivr.net/npm/postmate/build/postmate.min.js\").then(() => {\n",
              "            const iframe = document.createElement('iframe')\n",
              "            iframe.style.cssText = \"width:0;height:0;border:none\"\n",
              "            document.body.appendChild(iframe)\n",
              "            const handshake = new Postmate({\n",
              "                container: iframe,\n",
              "                url: 'https://wandb.ai/authorize'\n",
              "            });\n",
              "            const timeout = setTimeout(() => reject(\"Couldn't auto authenticate\"), 5000)\n",
              "            handshake.then(function(child) {\n",
              "                child.on('authorize', data => {\n",
              "                    clearTimeout(timeout)\n",
              "                    resolve(data)\n",
              "                });\n",
              "            });\n",
              "            })\n",
              "        });\n",
              "    "
            ],
            "text/plain": [
              "<IPython.core.display.Javascript object>"
            ]
          },
          "metadata": {}
        },
        {
          "output_type": "stream",
          "name": "stderr",
          "text": [
            "\u001b[34m\u001b[1mwandb\u001b[0m: Appending key for api.wandb.ai to your netrc file: /root/.netrc\n"
          ]
        },
        {
          "output_type": "execute_result",
          "data": {
            "text/plain": [
              "True"
            ]
          },
          "metadata": {},
          "execution_count": 7
        }
      ]
    },
    {
      "cell_type": "markdown",
      "metadata": {
        "id": "I-y-synaoQdg"
      },
      "source": [
        "# Test"
      ]
    },
    {
      "cell_type": "code",
      "metadata": {
        "id": "fjuKe2gOoM0R"
      },
      "source": [
        "from sklearn.metrics import r2_score, mean_absolute_error\n",
        "from sklearn.utils.validation import check_consistent_length, check_array\n",
        "\n",
        "def mean_absolute_percentage_error(y_true, y_pred,\n",
        "                                   sample_weight=None,\n",
        "                                   multioutput='uniform_average'):\n",
        "    y_type, y_true, y_pred, multioutput = _check_reg_targets(\n",
        "        y_true, y_pred, multioutput)\n",
        "    check_consistent_length(y_true, y_pred, sample_weight)\n",
        "    epsilon = np.finfo(np.float64).eps\n",
        "    mape = np.abs(y_pred - y_true) / np.maximum(np.abs(y_true), epsilon)\n",
        "    output_errors = np.average(mape,\n",
        "                               weights=sample_weight, axis=0)\n",
        "    if isinstance(multioutput, str):\n",
        "        if multioutput == 'raw_values':\n",
        "            return output_errors\n",
        "        elif multioutput == 'uniform_average':\n",
        "            # pass None as weights to np.average: uniform mean\n",
        "            multioutput = None\n",
        "\n",
        "    return np.average(output_errors, weights=multioutput)\n",
        "\n",
        "def _check_reg_targets(y_true, y_pred, multioutput, dtype=\"numeric\"):\n",
        "    check_consistent_length(y_true, y_pred)\n",
        "    y_true = check_array(y_true, ensure_2d=False, dtype=dtype)\n",
        "    y_pred = check_array(y_pred, ensure_2d=False, dtype=dtype)\n",
        "\n",
        "    if y_true.ndim == 1:\n",
        "        y_true = y_true.reshape((-1, 1))\n",
        "\n",
        "    if y_pred.ndim == 1:\n",
        "        y_pred = y_pred.reshape((-1, 1))\n",
        "\n",
        "    if y_true.shape[1] != y_pred.shape[1]:\n",
        "        raise ValueError(\"y_true and y_pred have different number of output \"\n",
        "                         \"({0}!={1})\".format(y_true.shape[1], y_pred.shape[1]))\n",
        "\n",
        "    n_outputs = y_true.shape[1]\n",
        "    allowed_multioutput_str = ('raw_values', 'uniform_average',\n",
        "                               'variance_weighted')\n",
        "    if isinstance(multioutput, str):\n",
        "        if multioutput not in allowed_multioutput_str:\n",
        "            raise ValueError(\"Allowed 'multioutput' string values are {}. \"\n",
        "                             \"You provided multioutput={!r}\".format(\n",
        "                                 allowed_multioutput_str,\n",
        "                                 multioutput))\n",
        "    elif multioutput is not None:\n",
        "        multioutput = check_array(multioutput, ensure_2d=False)\n",
        "        if n_outputs == 1:\n",
        "            raise ValueError(\"Custom weights are useful only in \"\n",
        "                             \"multi-output cases.\")\n",
        "        elif n_outputs != len(multioutput):\n",
        "            raise ValueError((\"There must be equally many custom weights \"\n",
        "                              \"(%d) as outputs (%d).\") %\n",
        "                             (len(multioutput), n_outputs))\n",
        "    y_type = 'continuous' if n_outputs == 1 else 'continuous-multioutput'\n",
        "\n",
        "    return y_type, y_true, y_pred, multioutput"
      ],
      "execution_count": null,
      "outputs": []
    },
    {
      "cell_type": "code",
      "metadata": {
        "id": "tF-c-8M8obO0"
      },
      "source": [
        "models_info = [{'title': 'solar-sweep-2', 'wandb_rep': 'distance_trained_model', 'version': 'v46', 'pred_type': 'Distance'},  \n",
        "               {'title': 'revived-sweep-1', 'wandb_rep': 'angle_trained_model', 'version': 'v28', 'pred_type': 'Angle'}]      "
      ],
      "execution_count": null,
      "outputs": []
    },
    {
      "cell_type": "code",
      "metadata": {
        "colab": {
          "base_uri": "https://localhost:8080/",
          "height": 176,
          "referenced_widgets": [
            "76c835247e7d49a6b69bf0119b353167",
            "85fae786a8ca415993d6f883d04b5dbe",
            "762ca3fec9164c8b935efb678144fba3",
            "3a693e8038004ae3a8048e6b317a81d0",
            "cd50089f27984e0fab2989b2765df9cc",
            "77a9c6f56fe146e4b84ed184d7e3fc65",
            "eceaac76ee9347b396f163c2d3790776",
            "959c10937dd1419fae73334b69830268"
          ]
        },
        "id": "iqsX5wLUYWZv",
        "outputId": "b9de390a-0a11-4718-8b8d-48fadac9354f"
      },
      "source": [
        "with wandb.init(project=\"flatfasetgen\", job_type=\"experiments\") as run:\n",
        "  model_artifact = run.use_artifact(f\"{models_info[1]['wandb_rep']}:{models_info[1]['version']}\")\n",
        "  model_dir = model_artifact.download()\n",
        "  model_path = os.path.join(model_dir, models_info[1]['wandb_rep'])\n",
        "  angle_model = keras.models.load_model(model_dir)\n",
        "\n",
        "  model_artifact = run.use_artifact(f\"{models_info[0]['wandb_rep']}:{models_info[0]['version']}\")\n",
        "  model_dir = model_artifact.download()\n",
        "  model_path = os.path.join(model_dir, models_info[0]['wandb_rep'])\n",
        "  distance_model = keras.models.load_model(model_dir)"
      ],
      "execution_count": null,
      "outputs": [
        {
          "output_type": "display_data",
          "data": {
            "text/html": [
              "\n",
              "                    Syncing run <strong><a href=\"https://wandb.ai/artem-starkov/flatfasetgen/runs/3d5j2z9x\" target=\"_blank\">stoic-sea-472</a></strong> to <a href=\"https://wandb.ai/artem-starkov/flatfasetgen\" target=\"_blank\">Weights & Biases</a> (<a href=\"https://docs.wandb.com/integrations/jupyter.html\" target=\"_blank\">docs</a>).<br/>\n",
              "\n",
              "                "
            ],
            "text/plain": [
              "<IPython.core.display.HTML object>"
            ]
          },
          "metadata": {}
        },
        {
          "output_type": "stream",
          "name": "stderr",
          "text": [
            "\u001b[34m\u001b[1mwandb\u001b[0m: Downloading large artifact angle_trained_model:v25, 391.83MB. 4 files... Done. 0:0:0\n",
            "\u001b[34m\u001b[1mwandb\u001b[0m: Downloading large artifact distance_trained_model:v31, 124.78MB. 4 files... Done. 0:0:0\n"
          ]
        },
        {
          "output_type": "display_data",
          "data": {
            "text/html": [
              "<br/>Waiting for W&B process to finish, PID 2183... <strong style=\"color:green\">(success).</strong>"
            ],
            "text/plain": [
              "<IPython.core.display.HTML object>"
            ]
          },
          "metadata": {}
        },
        {
          "output_type": "display_data",
          "data": {
            "application/vnd.jupyter.widget-view+json": {
              "model_id": "76c835247e7d49a6b69bf0119b353167",
              "version_minor": 0,
              "version_major": 2
            },
            "text/plain": [
              "VBox(children=(Label(value=' 0.00MB of 0.00MB uploaded (0.00MB deduped)\\r'), FloatProgress(value=1.0, max=1.0)…"
            ]
          },
          "metadata": {}
        },
        {
          "output_type": "display_data",
          "data": {
            "text/html": [
              "<style>\n",
              "    table.wandb td:nth-child(1) { padding: 0 10px; text-align: right }\n",
              "    .wandb-row { display: flex; flex-direction: row; flex-wrap: wrap; width: 100% }\n",
              "    .wandb-col { display: flex; flex-direction: column; flex-basis: 100%; flex: 1; padding: 10px; }\n",
              "    </style>\n",
              "<div class=\"wandb-row\"><div class=\"wandb-col\">\n",
              "</div><div class=\"wandb-col\">\n",
              "</div></div>\n",
              "Synced 5 W&B file(s), 0 media file(s), 0 artifact file(s) and 0 other file(s)\n",
              "<br/>Synced <strong style=\"color:#cdcd00\">stoic-sea-472</strong>: <a href=\"https://wandb.ai/artem-starkov/flatfasetgen/runs/3d5j2z9x\" target=\"_blank\">https://wandb.ai/artem-starkov/flatfasetgen/runs/3d5j2z9x</a><br/>\n",
              "Find logs at: <code>./wandb/run-20211114_165727-3d5j2z9x/logs</code><br/>\n"
            ],
            "text/plain": [
              "<IPython.core.display.HTML object>"
            ]
          },
          "metadata": {}
        }
      ]
    },
    {
      "cell_type": "code",
      "metadata": {
        "id": "I7_B6ezaogEH"
      },
      "source": [
        "import plotly\n",
        "import plotly.graph_objs as go\n",
        "import plotly.express as px\n",
        "from plotly.subplots import make_subplots\n",
        "import numpy as np\n",
        "import os\n",
        "from tensorflow import keras"
      ],
      "execution_count": null,
      "outputs": []
    },
    {
      "cell_type": "code",
      "metadata": {
        "id": "KyHOFyJnrpDY"
      },
      "source": [
        "r_list = [i for i in range(1000, 10001, 1000)]\n",
        "g_list = [5, 50,500]"
      ],
      "execution_count": null,
      "outputs": []
    },
    {
      "cell_type": "code",
      "metadata": {
        "colab": {
          "base_uri": "https://localhost:8080/"
        },
        "id": "AuuYP6uI83Uq",
        "outputId": "61743eb4-5a04-478c-9769-6613c68c9bca"
      },
      "source": [
        "g_info, hit_info = {}, {}\n",
        "for g in g_list:\n",
        "  print(g)\n",
        "  r_res, r_res2 = [], []\n",
        "  for r in r_list:\n",
        "    x, y = [], []\n",
        "    dataset = generate(h=40, l=20, m=720, rMax=50000, g=g, n=1000, test_case=TestCases.ROUND_CASE, values={'radius': r})\n",
        "    for precedent in dataset:\n",
        "      x.append(precedent[:720])\n",
        "      y.append(precedent[721])\n",
        "    y_pred = angle_model.predict(x)\n",
        "    counter, counter2 = 0, 0\n",
        "    for i in range(len(y)):\n",
        "      if abs(y[i] - y_pred[i]) < math.asin(g / r):\n",
        "        counter += 1\n",
        "    r_res.append(1 - mean_absolute_percentage_error(y, y_pred))\n",
        "    r_res2.append(counter / len(dataset))\n",
        "  g_info[g] = r_res\n",
        "  hit_info[g] = r_res2"
      ],
      "execution_count": null,
      "outputs": [
        {
          "output_type": "stream",
          "name": "stdout",
          "text": [
            "5\n",
            "50\n",
            "500\n"
          ]
        }
      ]
    },
    {
      "cell_type": "code",
      "metadata": {
        "colab": {
          "base_uri": "https://localhost:8080/",
          "height": 517
        },
        "id": "mwFXhRdYUQns",
        "outputId": "a1a68f08-8d45-47d6-aae2-001381c0fb47"
      },
      "source": [
        "fig2 = go.Figure()\n",
        "for g in hit_info:\n",
        "  fig2.add_trace(go.Scatter(x=r_list[:], y=hit_info[g][:], mode='lines+markers',  name=f\"g = {g}\", line_shape='spline'))\n",
        "fig2.update_layout(legend_orientation=\"h\",\n",
        "                  legend=dict(yanchor=\"top\",y=1.1,xanchor=\"right\",x=1.0),\n",
        "                  title=f\"Circle movement  / angle\",\n",
        "                  xaxis_title=\"rObj\",\n",
        "                  yaxis_title=\"'Hit rate'\",\n",
        "                  autosize=False,\n",
        "                  width=800, height=500)"
      ],
      "execution_count": null,
      "outputs": [
        {
          "output_type": "display_data",
          "data": {
            "text/html": [
              "<html>\n",
              "<head><meta charset=\"utf-8\" /></head>\n",
              "<body>\n",
              "    <div>\n",
              "            <script src=\"https://cdnjs.cloudflare.com/ajax/libs/mathjax/2.7.5/MathJax.js?config=TeX-AMS-MML_SVG\"></script><script type=\"text/javascript\">if (window.MathJax) {MathJax.Hub.Config({SVG: {font: \"STIX-Web\"}});}</script>\n",
              "                <script type=\"text/javascript\">window.PlotlyConfig = {MathJaxConfig: 'local'};</script>\n",
              "        <script src=\"https://cdn.plot.ly/plotly-latest.min.js\"></script>    \n",
              "            <div id=\"28e5be0d-5857-474f-959e-e6924c9f90d9\" class=\"plotly-graph-div\" style=\"height:500px; width:800px;\"></div>\n",
              "            <script type=\"text/javascript\">\n",
              "                \n",
              "                    window.PLOTLYENV=window.PLOTLYENV || {};\n",
              "                    \n",
              "                if (document.getElementById(\"28e5be0d-5857-474f-959e-e6924c9f90d9\")) {\n",
              "                    Plotly.newPlot(\n",
              "                        '28e5be0d-5857-474f-959e-e6924c9f90d9',\n",
              "                        [{\"line\": {\"shape\": \"spline\"}, \"mode\": \"lines+markers\", \"name\": \"g = 5\", \"type\": \"scatter\", \"x\": [1000, 2000, 3000, 4000, 5000, 6000, 7000, 8000, 9000, 10000], \"y\": [1, 0.8795180722891566, 0.648, 0.4431137724550898, 0.2822966507177033, 0.178, 0.139, 0.111, 0.096, 0.085]}, {\"line\": {\"shape\": \"spline\"}, \"mode\": \"lines+markers\", \"name\": \"g = 50\", \"type\": \"scatter\", \"x\": [1000, 2000, 3000, 4000, 5000, 6000, 7000, 8000, 9000, 10000], \"y\": [1.0, 1.0, 0.967741935483871, 0.8795180722891566, 0.7980769230769231, 0.704, 0.541095890410959, 0.40119760479041916, 0.35638297872340424, 0.31100478468899523]}, {\"line\": {\"shape\": \"spline\"}, \"mode\": \"lines+markers\", \"name\": \"g = 500\", \"type\": \"scatter\", \"x\": [1000, 2000, 3000, 4000, 5000, 6000, 7000, 8000, 9000, 10000], \"y\": [1.0, 1.0, 1.0, 1.0, 1.0, 1.0, 1.0, 1.0, 1.0, 1.0]}],\n",
              "                        {\"autosize\": false, \"height\": 500, \"legend\": {\"orientation\": \"h\", \"x\": 1.0, \"xanchor\": \"right\", \"y\": 1.1, \"yanchor\": \"top\"}, \"template\": {\"data\": {\"bar\": [{\"error_x\": {\"color\": \"#2a3f5f\"}, \"error_y\": {\"color\": \"#2a3f5f\"}, \"marker\": {\"line\": {\"color\": \"#E5ECF6\", \"width\": 0.5}}, \"type\": \"bar\"}], \"barpolar\": [{\"marker\": {\"line\": {\"color\": \"#E5ECF6\", \"width\": 0.5}}, \"type\": \"barpolar\"}], \"carpet\": [{\"aaxis\": {\"endlinecolor\": \"#2a3f5f\", \"gridcolor\": \"white\", \"linecolor\": \"white\", \"minorgridcolor\": \"white\", \"startlinecolor\": \"#2a3f5f\"}, \"baxis\": {\"endlinecolor\": \"#2a3f5f\", \"gridcolor\": \"white\", \"linecolor\": \"white\", \"minorgridcolor\": \"white\", \"startlinecolor\": \"#2a3f5f\"}, \"type\": \"carpet\"}], \"choropleth\": [{\"colorbar\": {\"outlinewidth\": 0, \"ticks\": \"\"}, \"type\": \"choropleth\"}], \"contour\": [{\"colorbar\": {\"outlinewidth\": 0, \"ticks\": \"\"}, \"colorscale\": [[0.0, \"#0d0887\"], [0.1111111111111111, \"#46039f\"], [0.2222222222222222, \"#7201a8\"], [0.3333333333333333, \"#9c179e\"], [0.4444444444444444, \"#bd3786\"], [0.5555555555555556, \"#d8576b\"], [0.6666666666666666, \"#ed7953\"], [0.7777777777777778, \"#fb9f3a\"], [0.8888888888888888, \"#fdca26\"], [1.0, \"#f0f921\"]], \"type\": \"contour\"}], \"contourcarpet\": [{\"colorbar\": {\"outlinewidth\": 0, \"ticks\": \"\"}, \"type\": \"contourcarpet\"}], \"heatmap\": [{\"colorbar\": {\"outlinewidth\": 0, \"ticks\": \"\"}, \"colorscale\": [[0.0, \"#0d0887\"], [0.1111111111111111, \"#46039f\"], [0.2222222222222222, \"#7201a8\"], [0.3333333333333333, \"#9c179e\"], [0.4444444444444444, \"#bd3786\"], [0.5555555555555556, \"#d8576b\"], [0.6666666666666666, \"#ed7953\"], [0.7777777777777778, \"#fb9f3a\"], [0.8888888888888888, \"#fdca26\"], [1.0, \"#f0f921\"]], \"type\": \"heatmap\"}], \"heatmapgl\": [{\"colorbar\": {\"outlinewidth\": 0, \"ticks\": \"\"}, \"colorscale\": [[0.0, \"#0d0887\"], [0.1111111111111111, \"#46039f\"], [0.2222222222222222, \"#7201a8\"], [0.3333333333333333, \"#9c179e\"], [0.4444444444444444, \"#bd3786\"], [0.5555555555555556, \"#d8576b\"], [0.6666666666666666, \"#ed7953\"], [0.7777777777777778, \"#fb9f3a\"], [0.8888888888888888, \"#fdca26\"], [1.0, \"#f0f921\"]], \"type\": \"heatmapgl\"}], \"histogram\": [{\"marker\": {\"colorbar\": {\"outlinewidth\": 0, \"ticks\": \"\"}}, \"type\": \"histogram\"}], \"histogram2d\": [{\"colorbar\": {\"outlinewidth\": 0, \"ticks\": \"\"}, \"colorscale\": [[0.0, \"#0d0887\"], [0.1111111111111111, \"#46039f\"], [0.2222222222222222, \"#7201a8\"], [0.3333333333333333, \"#9c179e\"], [0.4444444444444444, \"#bd3786\"], [0.5555555555555556, \"#d8576b\"], [0.6666666666666666, \"#ed7953\"], [0.7777777777777778, \"#fb9f3a\"], [0.8888888888888888, \"#fdca26\"], [1.0, \"#f0f921\"]], \"type\": \"histogram2d\"}], \"histogram2dcontour\": [{\"colorbar\": {\"outlinewidth\": 0, \"ticks\": \"\"}, \"colorscale\": [[0.0, \"#0d0887\"], [0.1111111111111111, \"#46039f\"], [0.2222222222222222, \"#7201a8\"], [0.3333333333333333, \"#9c179e\"], [0.4444444444444444, \"#bd3786\"], [0.5555555555555556, \"#d8576b\"], [0.6666666666666666, \"#ed7953\"], [0.7777777777777778, \"#fb9f3a\"], [0.8888888888888888, \"#fdca26\"], [1.0, \"#f0f921\"]], \"type\": \"histogram2dcontour\"}], \"mesh3d\": [{\"colorbar\": {\"outlinewidth\": 0, \"ticks\": \"\"}, \"type\": \"mesh3d\"}], \"parcoords\": [{\"line\": {\"colorbar\": {\"outlinewidth\": 0, \"ticks\": \"\"}}, \"type\": \"parcoords\"}], \"pie\": [{\"automargin\": true, \"type\": \"pie\"}], \"scatter\": [{\"marker\": {\"colorbar\": {\"outlinewidth\": 0, \"ticks\": \"\"}}, \"type\": \"scatter\"}], \"scatter3d\": [{\"line\": {\"colorbar\": {\"outlinewidth\": 0, \"ticks\": \"\"}}, \"marker\": {\"colorbar\": {\"outlinewidth\": 0, \"ticks\": \"\"}}, \"type\": \"scatter3d\"}], \"scattercarpet\": [{\"marker\": {\"colorbar\": {\"outlinewidth\": 0, \"ticks\": \"\"}}, \"type\": \"scattercarpet\"}], \"scattergeo\": [{\"marker\": {\"colorbar\": {\"outlinewidth\": 0, \"ticks\": \"\"}}, \"type\": \"scattergeo\"}], \"scattergl\": [{\"marker\": {\"colorbar\": {\"outlinewidth\": 0, \"ticks\": \"\"}}, \"type\": \"scattergl\"}], \"scattermapbox\": [{\"marker\": {\"colorbar\": {\"outlinewidth\": 0, \"ticks\": \"\"}}, \"type\": \"scattermapbox\"}], \"scatterpolar\": [{\"marker\": {\"colorbar\": {\"outlinewidth\": 0, \"ticks\": \"\"}}, \"type\": \"scatterpolar\"}], \"scatterpolargl\": [{\"marker\": {\"colorbar\": {\"outlinewidth\": 0, \"ticks\": \"\"}}, \"type\": \"scatterpolargl\"}], \"scatterternary\": [{\"marker\": {\"colorbar\": {\"outlinewidth\": 0, \"ticks\": \"\"}}, \"type\": \"scatterternary\"}], \"surface\": [{\"colorbar\": {\"outlinewidth\": 0, \"ticks\": \"\"}, \"colorscale\": [[0.0, \"#0d0887\"], [0.1111111111111111, \"#46039f\"], [0.2222222222222222, \"#7201a8\"], [0.3333333333333333, \"#9c179e\"], [0.4444444444444444, \"#bd3786\"], [0.5555555555555556, \"#d8576b\"], [0.6666666666666666, \"#ed7953\"], [0.7777777777777778, \"#fb9f3a\"], [0.8888888888888888, \"#fdca26\"], [1.0, \"#f0f921\"]], \"type\": \"surface\"}], \"table\": [{\"cells\": {\"fill\": {\"color\": \"#EBF0F8\"}, \"line\": {\"color\": \"white\"}}, \"header\": {\"fill\": {\"color\": \"#C8D4E3\"}, \"line\": {\"color\": \"white\"}}, \"type\": \"table\"}]}, \"layout\": {\"annotationdefaults\": {\"arrowcolor\": \"#2a3f5f\", \"arrowhead\": 0, \"arrowwidth\": 1}, \"coloraxis\": {\"colorbar\": {\"outlinewidth\": 0, \"ticks\": \"\"}}, \"colorscale\": {\"diverging\": [[0, \"#8e0152\"], [0.1, \"#c51b7d\"], [0.2, \"#de77ae\"], [0.3, \"#f1b6da\"], [0.4, \"#fde0ef\"], [0.5, \"#f7f7f7\"], [0.6, \"#e6f5d0\"], [0.7, \"#b8e186\"], [0.8, \"#7fbc41\"], [0.9, \"#4d9221\"], [1, \"#276419\"]], \"sequential\": [[0.0, \"#0d0887\"], [0.1111111111111111, \"#46039f\"], [0.2222222222222222, \"#7201a8\"], [0.3333333333333333, \"#9c179e\"], [0.4444444444444444, \"#bd3786\"], [0.5555555555555556, \"#d8576b\"], [0.6666666666666666, \"#ed7953\"], [0.7777777777777778, \"#fb9f3a\"], [0.8888888888888888, \"#fdca26\"], [1.0, \"#f0f921\"]], \"sequentialminus\": [[0.0, \"#0d0887\"], [0.1111111111111111, \"#46039f\"], [0.2222222222222222, \"#7201a8\"], [0.3333333333333333, \"#9c179e\"], [0.4444444444444444, \"#bd3786\"], [0.5555555555555556, \"#d8576b\"], [0.6666666666666666, \"#ed7953\"], [0.7777777777777778, \"#fb9f3a\"], [0.8888888888888888, \"#fdca26\"], [1.0, \"#f0f921\"]]}, \"colorway\": [\"#636efa\", \"#EF553B\", \"#00cc96\", \"#ab63fa\", \"#FFA15A\", \"#19d3f3\", \"#FF6692\", \"#B6E880\", \"#FF97FF\", \"#FECB52\"], \"font\": {\"color\": \"#2a3f5f\"}, \"geo\": {\"bgcolor\": \"white\", \"lakecolor\": \"white\", \"landcolor\": \"#E5ECF6\", \"showlakes\": true, \"showland\": true, \"subunitcolor\": \"white\"}, \"hoverlabel\": {\"align\": \"left\"}, \"hovermode\": \"closest\", \"mapbox\": {\"style\": \"light\"}, \"paper_bgcolor\": \"white\", \"plot_bgcolor\": \"#E5ECF6\", \"polar\": {\"angularaxis\": {\"gridcolor\": \"white\", \"linecolor\": \"white\", \"ticks\": \"\"}, \"bgcolor\": \"#E5ECF6\", \"radialaxis\": {\"gridcolor\": \"white\", \"linecolor\": \"white\", \"ticks\": \"\"}}, \"scene\": {\"xaxis\": {\"backgroundcolor\": \"#E5ECF6\", \"gridcolor\": \"white\", \"gridwidth\": 2, \"linecolor\": \"white\", \"showbackground\": true, \"ticks\": \"\", \"zerolinecolor\": \"white\"}, \"yaxis\": {\"backgroundcolor\": \"#E5ECF6\", \"gridcolor\": \"white\", \"gridwidth\": 2, \"linecolor\": \"white\", \"showbackground\": true, \"ticks\": \"\", \"zerolinecolor\": \"white\"}, \"zaxis\": {\"backgroundcolor\": \"#E5ECF6\", \"gridcolor\": \"white\", \"gridwidth\": 2, \"linecolor\": \"white\", \"showbackground\": true, \"ticks\": \"\", \"zerolinecolor\": \"white\"}}, \"shapedefaults\": {\"line\": {\"color\": \"#2a3f5f\"}}, \"ternary\": {\"aaxis\": {\"gridcolor\": \"white\", \"linecolor\": \"white\", \"ticks\": \"\"}, \"baxis\": {\"gridcolor\": \"white\", \"linecolor\": \"white\", \"ticks\": \"\"}, \"bgcolor\": \"#E5ECF6\", \"caxis\": {\"gridcolor\": \"white\", \"linecolor\": \"white\", \"ticks\": \"\"}}, \"title\": {\"x\": 0.05}, \"xaxis\": {\"automargin\": true, \"gridcolor\": \"white\", \"linecolor\": \"white\", \"ticks\": \"\", \"title\": {\"standoff\": 15}, \"zerolinecolor\": \"white\", \"zerolinewidth\": 2}, \"yaxis\": {\"automargin\": true, \"gridcolor\": \"white\", \"linecolor\": \"white\", \"ticks\": \"\", \"title\": {\"standoff\": 15}, \"zerolinecolor\": \"white\", \"zerolinewidth\": 2}}}, \"title\": {\"text\": \"Circle movement  / angle\"}, \"width\": 800, \"xaxis\": {\"title\": {\"text\": \"rObj\"}}, \"yaxis\": {\"title\": {\"text\": \"'Hit rate'\"}}},\n",
              "                        {\"responsive\": true}\n",
              "                    ).then(function(){\n",
              "                            \n",
              "var gd = document.getElementById('28e5be0d-5857-474f-959e-e6924c9f90d9');\n",
              "var x = new MutationObserver(function (mutations, observer) {{\n",
              "        var display = window.getComputedStyle(gd).display;\n",
              "        if (!display || display === 'none') {{\n",
              "            console.log([gd, 'removed!']);\n",
              "            Plotly.purge(gd);\n",
              "            observer.disconnect();\n",
              "        }}\n",
              "}});\n",
              "\n",
              "// Listen for the removal of the full notebook cells\n",
              "var notebookContainer = gd.closest('#notebook-container');\n",
              "if (notebookContainer) {{\n",
              "    x.observe(notebookContainer, {childList: true});\n",
              "}}\n",
              "\n",
              "// Listen for the clearing of the current output cell\n",
              "var outputEl = gd.closest('.output');\n",
              "if (outputEl) {{\n",
              "    x.observe(outputEl, {childList: true});\n",
              "}}\n",
              "\n",
              "                        })\n",
              "                };\n",
              "                \n",
              "            </script>\n",
              "        </div>\n",
              "</body>\n",
              "</html>"
            ]
          },
          "metadata": {}
        }
      ]
    },
    {
      "cell_type": "code",
      "metadata": {
        "colab": {
          "base_uri": "https://localhost:8080/",
          "height": 517
        },
        "id": "gFVndU8BqrNK",
        "outputId": "e70abb7c-7145-4e8c-dc14-b79c95190d01"
      },
      "source": [
        "fig = go.Figure()\n",
        "for g in g_info:\n",
        "  fig.add_trace(go.Scatter(x=r_list[:], y=g_info[g][:], mode='lines+markers',  name=f\"g = {g}\", line_shape='spline'))\n",
        "fig.update_layout(legend_orientation=\"h\",\n",
        "                  legend=dict(yanchor=\"top\",y=1.1,xanchor=\"right\",x=1.0),\n",
        "                  title=f\"Circle movement  / angle\",\n",
        "                  xaxis_title=\"rObj\",\n",
        "                  yaxis_title=\"1 - MAPE\",\n",
        "                  autosize=False,\n",
        "                  width=800, height=500)"
      ],
      "execution_count": null,
      "outputs": [
        {
          "output_type": "display_data",
          "data": {
            "text/html": [
              "<html>\n",
              "<head><meta charset=\"utf-8\" /></head>\n",
              "<body>\n",
              "    <div>\n",
              "            <script src=\"https://cdnjs.cloudflare.com/ajax/libs/mathjax/2.7.5/MathJax.js?config=TeX-AMS-MML_SVG\"></script><script type=\"text/javascript\">if (window.MathJax) {MathJax.Hub.Config({SVG: {font: \"STIX-Web\"}});}</script>\n",
              "                <script type=\"text/javascript\">window.PlotlyConfig = {MathJaxConfig: 'local'};</script>\n",
              "        <script src=\"https://cdn.plot.ly/plotly-latest.min.js\"></script>    \n",
              "            <div id=\"b7782d91-0f6d-4680-9df3-cbd53bb5c41a\" class=\"plotly-graph-div\" style=\"height:500px; width:800px;\"></div>\n",
              "            <script type=\"text/javascript\">\n",
              "                \n",
              "                    window.PLOTLYENV=window.PLOTLYENV || {};\n",
              "                    \n",
              "                if (document.getElementById(\"b7782d91-0f6d-4680-9df3-cbd53bb5c41a\")) {\n",
              "                    Plotly.newPlot(\n",
              "                        'b7782d91-0f6d-4680-9df3-cbd53bb5c41a',\n",
              "                        [{\"line\": {\"shape\": \"spline\"}, \"mode\": \"lines+markers\", \"name\": \"g = 5\", \"type\": \"scatter\", \"x\": [1000, 2000, 3000, 4000, 5000, 6000, 7000, 8000, 9000, 10000], \"y\": [0.988225, 0.987683, 0.9882250345114233, 0.9855139325584318, 0.9848974683482569, 0.9835887509375371, 0.9816117523984965, 0.9786274042484395, 0.9765251776091322, 0.9762616449940097]}, {\"line\": {\"shape\": \"spline\"}, \"mode\": \"lines+markers\", \"name\": \"g = 50\", \"type\": \"scatter\", \"x\": [1000, 2000, 3000, 4000, 5000, 6000, 7000, 8000, 9000, 10000], \"y\": [0.9931809099653933, 0.9937594561674629, 0.993895012545052, 0.993441, 0.9928141, 0.9921074827591988, 0.9921345653938707, 0.9910779677163443, 0.9908939498770876, 0.990523]}, {\"line\": {\"shape\": \"spline\"}, \"mode\": \"lines+markers\", \"name\": \"g = 500\", \"type\": \"scatter\", \"x\": [1000, 2000, 3000, 4000, 5000, 6000, 7000, 8000, 9000, 10000], \"y\": [0.9974536740219687, 0.9953225, 0.99519283, 0.9949239, 0.99423909, 0.993848769084077, 0.9940019812739356, 0.9939821939123448, 0.9939458, 0.9936298]}],\n",
              "                        {\"autosize\": false, \"height\": 500, \"legend\": {\"orientation\": \"h\", \"x\": 1.0, \"xanchor\": \"right\", \"y\": 1.1, \"yanchor\": \"top\"}, \"template\": {\"data\": {\"bar\": [{\"error_x\": {\"color\": \"#2a3f5f\"}, \"error_y\": {\"color\": \"#2a3f5f\"}, \"marker\": {\"line\": {\"color\": \"#E5ECF6\", \"width\": 0.5}}, \"type\": \"bar\"}], \"barpolar\": [{\"marker\": {\"line\": {\"color\": \"#E5ECF6\", \"width\": 0.5}}, \"type\": \"barpolar\"}], \"carpet\": [{\"aaxis\": {\"endlinecolor\": \"#2a3f5f\", \"gridcolor\": \"white\", \"linecolor\": \"white\", \"minorgridcolor\": \"white\", \"startlinecolor\": \"#2a3f5f\"}, \"baxis\": {\"endlinecolor\": \"#2a3f5f\", \"gridcolor\": \"white\", \"linecolor\": \"white\", \"minorgridcolor\": \"white\", \"startlinecolor\": \"#2a3f5f\"}, \"type\": \"carpet\"}], \"choropleth\": [{\"colorbar\": {\"outlinewidth\": 0, \"ticks\": \"\"}, \"type\": \"choropleth\"}], \"contour\": [{\"colorbar\": {\"outlinewidth\": 0, \"ticks\": \"\"}, \"colorscale\": [[0.0, \"#0d0887\"], [0.1111111111111111, \"#46039f\"], [0.2222222222222222, \"#7201a8\"], [0.3333333333333333, \"#9c179e\"], [0.4444444444444444, \"#bd3786\"], [0.5555555555555556, \"#d8576b\"], [0.6666666666666666, \"#ed7953\"], [0.7777777777777778, \"#fb9f3a\"], [0.8888888888888888, \"#fdca26\"], [1.0, \"#f0f921\"]], \"type\": \"contour\"}], \"contourcarpet\": [{\"colorbar\": {\"outlinewidth\": 0, \"ticks\": \"\"}, \"type\": \"contourcarpet\"}], \"heatmap\": [{\"colorbar\": {\"outlinewidth\": 0, \"ticks\": \"\"}, \"colorscale\": [[0.0, \"#0d0887\"], [0.1111111111111111, \"#46039f\"], [0.2222222222222222, \"#7201a8\"], [0.3333333333333333, \"#9c179e\"], [0.4444444444444444, \"#bd3786\"], [0.5555555555555556, \"#d8576b\"], [0.6666666666666666, \"#ed7953\"], [0.7777777777777778, \"#fb9f3a\"], [0.8888888888888888, \"#fdca26\"], [1.0, \"#f0f921\"]], \"type\": \"heatmap\"}], \"heatmapgl\": [{\"colorbar\": {\"outlinewidth\": 0, \"ticks\": \"\"}, \"colorscale\": [[0.0, \"#0d0887\"], [0.1111111111111111, \"#46039f\"], [0.2222222222222222, \"#7201a8\"], [0.3333333333333333, \"#9c179e\"], [0.4444444444444444, \"#bd3786\"], [0.5555555555555556, \"#d8576b\"], [0.6666666666666666, \"#ed7953\"], [0.7777777777777778, \"#fb9f3a\"], [0.8888888888888888, \"#fdca26\"], [1.0, \"#f0f921\"]], \"type\": \"heatmapgl\"}], \"histogram\": [{\"marker\": {\"colorbar\": {\"outlinewidth\": 0, \"ticks\": \"\"}}, \"type\": \"histogram\"}], \"histogram2d\": [{\"colorbar\": {\"outlinewidth\": 0, \"ticks\": \"\"}, \"colorscale\": [[0.0, \"#0d0887\"], [0.1111111111111111, \"#46039f\"], [0.2222222222222222, \"#7201a8\"], [0.3333333333333333, \"#9c179e\"], [0.4444444444444444, \"#bd3786\"], [0.5555555555555556, \"#d8576b\"], [0.6666666666666666, \"#ed7953\"], [0.7777777777777778, \"#fb9f3a\"], [0.8888888888888888, \"#fdca26\"], [1.0, \"#f0f921\"]], \"type\": \"histogram2d\"}], \"histogram2dcontour\": [{\"colorbar\": {\"outlinewidth\": 0, \"ticks\": \"\"}, \"colorscale\": [[0.0, \"#0d0887\"], [0.1111111111111111, \"#46039f\"], [0.2222222222222222, \"#7201a8\"], [0.3333333333333333, \"#9c179e\"], [0.4444444444444444, \"#bd3786\"], [0.5555555555555556, \"#d8576b\"], [0.6666666666666666, \"#ed7953\"], [0.7777777777777778, \"#fb9f3a\"], [0.8888888888888888, \"#fdca26\"], [1.0, \"#f0f921\"]], \"type\": \"histogram2dcontour\"}], \"mesh3d\": [{\"colorbar\": {\"outlinewidth\": 0, \"ticks\": \"\"}, \"type\": \"mesh3d\"}], \"parcoords\": [{\"line\": {\"colorbar\": {\"outlinewidth\": 0, \"ticks\": \"\"}}, \"type\": \"parcoords\"}], \"pie\": [{\"automargin\": true, \"type\": \"pie\"}], \"scatter\": [{\"marker\": {\"colorbar\": {\"outlinewidth\": 0, \"ticks\": \"\"}}, \"type\": \"scatter\"}], \"scatter3d\": [{\"line\": {\"colorbar\": {\"outlinewidth\": 0, \"ticks\": \"\"}}, \"marker\": {\"colorbar\": {\"outlinewidth\": 0, \"ticks\": \"\"}}, \"type\": \"scatter3d\"}], \"scattercarpet\": [{\"marker\": {\"colorbar\": {\"outlinewidth\": 0, \"ticks\": \"\"}}, \"type\": \"scattercarpet\"}], \"scattergeo\": [{\"marker\": {\"colorbar\": {\"outlinewidth\": 0, \"ticks\": \"\"}}, \"type\": \"scattergeo\"}], \"scattergl\": [{\"marker\": {\"colorbar\": {\"outlinewidth\": 0, \"ticks\": \"\"}}, \"type\": \"scattergl\"}], \"scattermapbox\": [{\"marker\": {\"colorbar\": {\"outlinewidth\": 0, \"ticks\": \"\"}}, \"type\": \"scattermapbox\"}], \"scatterpolar\": [{\"marker\": {\"colorbar\": {\"outlinewidth\": 0, \"ticks\": \"\"}}, \"type\": \"scatterpolar\"}], \"scatterpolargl\": [{\"marker\": {\"colorbar\": {\"outlinewidth\": 0, \"ticks\": \"\"}}, \"type\": \"scatterpolargl\"}], \"scatterternary\": [{\"marker\": {\"colorbar\": {\"outlinewidth\": 0, \"ticks\": \"\"}}, \"type\": \"scatterternary\"}], \"surface\": [{\"colorbar\": {\"outlinewidth\": 0, \"ticks\": \"\"}, \"colorscale\": [[0.0, \"#0d0887\"], [0.1111111111111111, \"#46039f\"], [0.2222222222222222, \"#7201a8\"], [0.3333333333333333, \"#9c179e\"], [0.4444444444444444, \"#bd3786\"], [0.5555555555555556, \"#d8576b\"], [0.6666666666666666, \"#ed7953\"], [0.7777777777777778, \"#fb9f3a\"], [0.8888888888888888, \"#fdca26\"], [1.0, \"#f0f921\"]], \"type\": \"surface\"}], \"table\": [{\"cells\": {\"fill\": {\"color\": \"#EBF0F8\"}, \"line\": {\"color\": \"white\"}}, \"header\": {\"fill\": {\"color\": \"#C8D4E3\"}, \"line\": {\"color\": \"white\"}}, \"type\": \"table\"}]}, \"layout\": {\"annotationdefaults\": {\"arrowcolor\": \"#2a3f5f\", \"arrowhead\": 0, \"arrowwidth\": 1}, \"coloraxis\": {\"colorbar\": {\"outlinewidth\": 0, \"ticks\": \"\"}}, \"colorscale\": {\"diverging\": [[0, \"#8e0152\"], [0.1, \"#c51b7d\"], [0.2, \"#de77ae\"], [0.3, \"#f1b6da\"], [0.4, \"#fde0ef\"], [0.5, \"#f7f7f7\"], [0.6, \"#e6f5d0\"], [0.7, \"#b8e186\"], [0.8, \"#7fbc41\"], [0.9, \"#4d9221\"], [1, \"#276419\"]], \"sequential\": [[0.0, \"#0d0887\"], [0.1111111111111111, \"#46039f\"], [0.2222222222222222, \"#7201a8\"], [0.3333333333333333, \"#9c179e\"], [0.4444444444444444, \"#bd3786\"], [0.5555555555555556, \"#d8576b\"], [0.6666666666666666, \"#ed7953\"], [0.7777777777777778, \"#fb9f3a\"], [0.8888888888888888, \"#fdca26\"], [1.0, \"#f0f921\"]], \"sequentialminus\": [[0.0, \"#0d0887\"], [0.1111111111111111, \"#46039f\"], [0.2222222222222222, \"#7201a8\"], [0.3333333333333333, \"#9c179e\"], [0.4444444444444444, \"#bd3786\"], [0.5555555555555556, \"#d8576b\"], [0.6666666666666666, \"#ed7953\"], [0.7777777777777778, \"#fb9f3a\"], [0.8888888888888888, \"#fdca26\"], [1.0, \"#f0f921\"]]}, \"colorway\": [\"#636efa\", \"#EF553B\", \"#00cc96\", \"#ab63fa\", \"#FFA15A\", \"#19d3f3\", \"#FF6692\", \"#B6E880\", \"#FF97FF\", \"#FECB52\"], \"font\": {\"color\": \"#2a3f5f\"}, \"geo\": {\"bgcolor\": \"white\", \"lakecolor\": \"white\", \"landcolor\": \"#E5ECF6\", \"showlakes\": true, \"showland\": true, \"subunitcolor\": \"white\"}, \"hoverlabel\": {\"align\": \"left\"}, \"hovermode\": \"closest\", \"mapbox\": {\"style\": \"light\"}, \"paper_bgcolor\": \"white\", \"plot_bgcolor\": \"#E5ECF6\", \"polar\": {\"angularaxis\": {\"gridcolor\": \"white\", \"linecolor\": \"white\", \"ticks\": \"\"}, \"bgcolor\": \"#E5ECF6\", \"radialaxis\": {\"gridcolor\": \"white\", \"linecolor\": \"white\", \"ticks\": \"\"}}, \"scene\": {\"xaxis\": {\"backgroundcolor\": \"#E5ECF6\", \"gridcolor\": \"white\", \"gridwidth\": 2, \"linecolor\": \"white\", \"showbackground\": true, \"ticks\": \"\", \"zerolinecolor\": \"white\"}, \"yaxis\": {\"backgroundcolor\": \"#E5ECF6\", \"gridcolor\": \"white\", \"gridwidth\": 2, \"linecolor\": \"white\", \"showbackground\": true, \"ticks\": \"\", \"zerolinecolor\": \"white\"}, \"zaxis\": {\"backgroundcolor\": \"#E5ECF6\", \"gridcolor\": \"white\", \"gridwidth\": 2, \"linecolor\": \"white\", \"showbackground\": true, \"ticks\": \"\", \"zerolinecolor\": \"white\"}}, \"shapedefaults\": {\"line\": {\"color\": \"#2a3f5f\"}}, \"ternary\": {\"aaxis\": {\"gridcolor\": \"white\", \"linecolor\": \"white\", \"ticks\": \"\"}, \"baxis\": {\"gridcolor\": \"white\", \"linecolor\": \"white\", \"ticks\": \"\"}, \"bgcolor\": \"#E5ECF6\", \"caxis\": {\"gridcolor\": \"white\", \"linecolor\": \"white\", \"ticks\": \"\"}}, \"title\": {\"x\": 0.05}, \"xaxis\": {\"automargin\": true, \"gridcolor\": \"white\", \"linecolor\": \"white\", \"ticks\": \"\", \"title\": {\"standoff\": 15}, \"zerolinecolor\": \"white\", \"zerolinewidth\": 2}, \"yaxis\": {\"automargin\": true, \"gridcolor\": \"white\", \"linecolor\": \"white\", \"ticks\": \"\", \"title\": {\"standoff\": 15}, \"zerolinecolor\": \"white\", \"zerolinewidth\": 2}}}, \"title\": {\"text\": \"Circle movement  / angle\"}, \"width\": 800, \"xaxis\": {\"title\": {\"text\": \"rObj\"}}, \"yaxis\": {\"title\": {\"text\": \"1 - MAPE\"}}},\n",
              "                        {\"responsive\": true}\n",
              "                    ).then(function(){\n",
              "                            \n",
              "var gd = document.getElementById('b7782d91-0f6d-4680-9df3-cbd53bb5c41a');\n",
              "var x = new MutationObserver(function (mutations, observer) {{\n",
              "        var display = window.getComputedStyle(gd).display;\n",
              "        if (!display || display === 'none') {{\n",
              "            console.log([gd, 'removed!']);\n",
              "            Plotly.purge(gd);\n",
              "            observer.disconnect();\n",
              "        }}\n",
              "}});\n",
              "\n",
              "// Listen for the removal of the full notebook cells\n",
              "var notebookContainer = gd.closest('#notebook-container');\n",
              "if (notebookContainer) {{\n",
              "    x.observe(notebookContainer, {childList: true});\n",
              "}}\n",
              "\n",
              "// Listen for the clearing of the current output cell\n",
              "var outputEl = gd.closest('.output');\n",
              "if (outputEl) {{\n",
              "    x.observe(outputEl, {childList: true});\n",
              "}}\n",
              "\n",
              "                        })\n",
              "                };\n",
              "                \n",
              "            </script>\n",
              "        </div>\n",
              "</body>\n",
              "</html>"
            ]
          },
          "metadata": {}
        }
      ]
    },
    {
      "cell_type": "markdown",
      "metadata": {
        "id": "y165Qbk445-D"
      },
      "source": [
        "# Test horiz"
      ]
    },
    {
      "cell_type": "code",
      "metadata": {
        "id": "KYnVmCkZ8qES",
        "colab": {
          "base_uri": "https://localhost:8080/"
        },
        "outputId": "0a3ea71e-86bf-4362-ae17-a80b64dc921b"
      },
      "source": [
        "g_info_angle, g_info_dist = {}, {}\n",
        "for g in g_list:\n",
        "  fi_res, r_res = [], []\n",
        "  for cur_r in r_list:\n",
        "    x, r, fi = [], [], []\n",
        "    dataset = generate(h=40, l=20, m=720, rMax=50000, g=g, n=1000, test_case=TestCases.HORIZONTAL_CASE, values={'k': cur_r}, rMin=1000)\n",
        "    for precedent in dataset:\n",
        "      x.append(precedent[:720])\n",
        "      r.append(precedent[720])\n",
        "      fi.append(precedent[721])\n",
        "    fi_pred = angle_model.predict(x)\n",
        "    fi_res.append(1 - mean_absolute_percentage_error(fi, fi_pred))\n",
        "    r_pred = distance_model.predict(x)\n",
        "    r_res.append(abs(1 - mean_absolute_percentage_error(r, r_pred)))\n",
        "  g_info_angle[g] = fi_res\n",
        "  g_info_dist[g] = r_res\n",
        "  print(g)"
      ],
      "execution_count": null,
      "outputs": [
        {
          "output_type": "stream",
          "name": "stdout",
          "text": [
            "5\n",
            "50\n",
            "500\n"
          ]
        }
      ]
    },
    {
      "cell_type": "code",
      "metadata": {
        "colab": {
          "base_uri": "https://localhost:8080/",
          "height": 517
        },
        "id": "wgnQIu1b5rWU",
        "outputId": "90a3cfd2-c86c-4c91-c1ce-1d76cb6d928e"
      },
      "source": [
        "fig101 = go.Figure()\n",
        "for g in g_info_angle:\n",
        "  fig101.add_trace(go.Scatter(x=r_list[:], y=g_info_angle[g][:], mode='lines+markers',  name=f\"g = {get_g(g)}\", line_shape='spline'))\n",
        "fig101.update_layout(legend_orientation=\"h\",\n",
        "                  legend=dict(yanchor=\"top\",y=1.1,xanchor=\"right\",x=1.0),\n",
        "                  title=f\"Horizontal movement / angle\",\n",
        "                  xaxis_title=\"rObj_min\",\n",
        "                  yaxis_title=\"1 - MAPE\",\n",
        "                  autosize=False,\n",
        "                  width=800, height=500)"
      ],
      "execution_count": null,
      "outputs": [
        {
          "output_type": "display_data",
          "data": {
            "text/html": [
              "<html>\n",
              "<head><meta charset=\"utf-8\" /></head>\n",
              "<body>\n",
              "    <div>\n",
              "            <script src=\"https://cdnjs.cloudflare.com/ajax/libs/mathjax/2.7.5/MathJax.js?config=TeX-AMS-MML_SVG\"></script><script type=\"text/javascript\">if (window.MathJax) {MathJax.Hub.Config({SVG: {font: \"STIX-Web\"}});}</script>\n",
              "                <script type=\"text/javascript\">window.PlotlyConfig = {MathJaxConfig: 'local'};</script>\n",
              "        <script src=\"https://cdn.plot.ly/plotly-latest.min.js\"></script>    \n",
              "            <div id=\"82ffcd3c-b096-4cfb-ae62-3637beb7f981\" class=\"plotly-graph-div\" style=\"height:500px; width:800px;\"></div>\n",
              "            <script type=\"text/javascript\">\n",
              "                \n",
              "                    window.PLOTLYENV=window.PLOTLYENV || {};\n",
              "                    \n",
              "                if (document.getElementById(\"82ffcd3c-b096-4cfb-ae62-3637beb7f981\")) {\n",
              "                    Plotly.newPlot(\n",
              "                        '82ffcd3c-b096-4cfb-ae62-3637beb7f981',\n",
              "                        [{\"line\": {\"shape\": \"spline\"}, \"mode\": \"lines+markers\", \"name\": \"g = 5\", \"type\": \"scatter\", \"x\": [1000, 2000, 3000, 4000, 5000, 6000, 7000, 8000, 9000, 10000], \"y\": [0.9833008, 0.9830468917726842, 0.9782990583508905, 0.9760569447273773, 0.9705043076097407, 0.9666357633621043, 0.9639086870601389, 0.9613198477035895, 0.9548964506756383, 0.9514818655284263]}, {\"line\": {\"shape\": \"spline\"}, \"mode\": \"lines+markers\", \"name\": \"g = 50\", \"type\": \"scatter\", \"x\": [1000, 2000, 3000, 4000, 5000, 6000, 7000, 8000, 9000, 10000], \"y\": [0.9933690475502978, 0.9934445423930176, 0.9924133858005613, 0.991799131739669, 0.9907088735871854, 0.9915255375007157, 0.9909330949395411, 0.9900789287157581, 0.9909487284837194, 0.9881392122759757]}, {\"line\": {\"shape\": \"spline\"}, \"mode\": \"lines+markers\", \"name\": \"g = 500\", \"type\": \"scatter\", \"x\": [1000, 2000, 3000, 4000, 5000, 6000, 7000, 8000, 9000, 10000], \"y\": [0.9969321, 0.9968009723539982, 0.9957259801288421, 0.995541467375492, 0.994159, 0.995139839957366, 0.9946156, 0.9950975956845657, 0.9932586537694453, 0.9927966]}],\n",
              "                        {\"autosize\": false, \"height\": 500, \"legend\": {\"orientation\": \"h\", \"x\": 1.0, \"xanchor\": \"right\", \"y\": 1.1, \"yanchor\": \"top\"}, \"template\": {\"data\": {\"bar\": [{\"error_x\": {\"color\": \"#2a3f5f\"}, \"error_y\": {\"color\": \"#2a3f5f\"}, \"marker\": {\"line\": {\"color\": \"#E5ECF6\", \"width\": 0.5}}, \"type\": \"bar\"}], \"barpolar\": [{\"marker\": {\"line\": {\"color\": \"#E5ECF6\", \"width\": 0.5}}, \"type\": \"barpolar\"}], \"carpet\": [{\"aaxis\": {\"endlinecolor\": \"#2a3f5f\", \"gridcolor\": \"white\", \"linecolor\": \"white\", \"minorgridcolor\": \"white\", \"startlinecolor\": \"#2a3f5f\"}, \"baxis\": {\"endlinecolor\": \"#2a3f5f\", \"gridcolor\": \"white\", \"linecolor\": \"white\", \"minorgridcolor\": \"white\", \"startlinecolor\": \"#2a3f5f\"}, \"type\": \"carpet\"}], \"choropleth\": [{\"colorbar\": {\"outlinewidth\": 0, \"ticks\": \"\"}, \"type\": \"choropleth\"}], \"contour\": [{\"colorbar\": {\"outlinewidth\": 0, \"ticks\": \"\"}, \"colorscale\": [[0.0, \"#0d0887\"], [0.1111111111111111, \"#46039f\"], [0.2222222222222222, \"#7201a8\"], [0.3333333333333333, \"#9c179e\"], [0.4444444444444444, \"#bd3786\"], [0.5555555555555556, \"#d8576b\"], [0.6666666666666666, \"#ed7953\"], [0.7777777777777778, \"#fb9f3a\"], [0.8888888888888888, \"#fdca26\"], [1.0, \"#f0f921\"]], \"type\": \"contour\"}], \"contourcarpet\": [{\"colorbar\": {\"outlinewidth\": 0, \"ticks\": \"\"}, \"type\": \"contourcarpet\"}], \"heatmap\": [{\"colorbar\": {\"outlinewidth\": 0, \"ticks\": \"\"}, \"colorscale\": [[0.0, \"#0d0887\"], [0.1111111111111111, \"#46039f\"], [0.2222222222222222, \"#7201a8\"], [0.3333333333333333, \"#9c179e\"], [0.4444444444444444, \"#bd3786\"], [0.5555555555555556, \"#d8576b\"], [0.6666666666666666, \"#ed7953\"], [0.7777777777777778, \"#fb9f3a\"], [0.8888888888888888, \"#fdca26\"], [1.0, \"#f0f921\"]], \"type\": \"heatmap\"}], \"heatmapgl\": [{\"colorbar\": {\"outlinewidth\": 0, \"ticks\": \"\"}, \"colorscale\": [[0.0, \"#0d0887\"], [0.1111111111111111, \"#46039f\"], [0.2222222222222222, \"#7201a8\"], [0.3333333333333333, \"#9c179e\"], [0.4444444444444444, \"#bd3786\"], [0.5555555555555556, \"#d8576b\"], [0.6666666666666666, \"#ed7953\"], [0.7777777777777778, \"#fb9f3a\"], [0.8888888888888888, \"#fdca26\"], [1.0, \"#f0f921\"]], \"type\": \"heatmapgl\"}], \"histogram\": [{\"marker\": {\"colorbar\": {\"outlinewidth\": 0, \"ticks\": \"\"}}, \"type\": \"histogram\"}], \"histogram2d\": [{\"colorbar\": {\"outlinewidth\": 0, \"ticks\": \"\"}, \"colorscale\": [[0.0, \"#0d0887\"], [0.1111111111111111, \"#46039f\"], [0.2222222222222222, \"#7201a8\"], [0.3333333333333333, \"#9c179e\"], [0.4444444444444444, \"#bd3786\"], [0.5555555555555556, \"#d8576b\"], [0.6666666666666666, \"#ed7953\"], [0.7777777777777778, \"#fb9f3a\"], [0.8888888888888888, \"#fdca26\"], [1.0, \"#f0f921\"]], \"type\": \"histogram2d\"}], \"histogram2dcontour\": [{\"colorbar\": {\"outlinewidth\": 0, \"ticks\": \"\"}, \"colorscale\": [[0.0, \"#0d0887\"], [0.1111111111111111, \"#46039f\"], [0.2222222222222222, \"#7201a8\"], [0.3333333333333333, \"#9c179e\"], [0.4444444444444444, \"#bd3786\"], [0.5555555555555556, \"#d8576b\"], [0.6666666666666666, \"#ed7953\"], [0.7777777777777778, \"#fb9f3a\"], [0.8888888888888888, \"#fdca26\"], [1.0, \"#f0f921\"]], \"type\": \"histogram2dcontour\"}], \"mesh3d\": [{\"colorbar\": {\"outlinewidth\": 0, \"ticks\": \"\"}, \"type\": \"mesh3d\"}], \"parcoords\": [{\"line\": {\"colorbar\": {\"outlinewidth\": 0, \"ticks\": \"\"}}, \"type\": \"parcoords\"}], \"pie\": [{\"automargin\": true, \"type\": \"pie\"}], \"scatter\": [{\"marker\": {\"colorbar\": {\"outlinewidth\": 0, \"ticks\": \"\"}}, \"type\": \"scatter\"}], \"scatter3d\": [{\"line\": {\"colorbar\": {\"outlinewidth\": 0, \"ticks\": \"\"}}, \"marker\": {\"colorbar\": {\"outlinewidth\": 0, \"ticks\": \"\"}}, \"type\": \"scatter3d\"}], \"scattercarpet\": [{\"marker\": {\"colorbar\": {\"outlinewidth\": 0, \"ticks\": \"\"}}, \"type\": \"scattercarpet\"}], \"scattergeo\": [{\"marker\": {\"colorbar\": {\"outlinewidth\": 0, \"ticks\": \"\"}}, \"type\": \"scattergeo\"}], \"scattergl\": [{\"marker\": {\"colorbar\": {\"outlinewidth\": 0, \"ticks\": \"\"}}, \"type\": \"scattergl\"}], \"scattermapbox\": [{\"marker\": {\"colorbar\": {\"outlinewidth\": 0, \"ticks\": \"\"}}, \"type\": \"scattermapbox\"}], \"scatterpolar\": [{\"marker\": {\"colorbar\": {\"outlinewidth\": 0, \"ticks\": \"\"}}, \"type\": \"scatterpolar\"}], \"scatterpolargl\": [{\"marker\": {\"colorbar\": {\"outlinewidth\": 0, \"ticks\": \"\"}}, \"type\": \"scatterpolargl\"}], \"scatterternary\": [{\"marker\": {\"colorbar\": {\"outlinewidth\": 0, \"ticks\": \"\"}}, \"type\": \"scatterternary\"}], \"surface\": [{\"colorbar\": {\"outlinewidth\": 0, \"ticks\": \"\"}, \"colorscale\": [[0.0, \"#0d0887\"], [0.1111111111111111, \"#46039f\"], [0.2222222222222222, \"#7201a8\"], [0.3333333333333333, \"#9c179e\"], [0.4444444444444444, \"#bd3786\"], [0.5555555555555556, \"#d8576b\"], [0.6666666666666666, \"#ed7953\"], [0.7777777777777778, \"#fb9f3a\"], [0.8888888888888888, \"#fdca26\"], [1.0, \"#f0f921\"]], \"type\": \"surface\"}], \"table\": [{\"cells\": {\"fill\": {\"color\": \"#EBF0F8\"}, \"line\": {\"color\": \"white\"}}, \"header\": {\"fill\": {\"color\": \"#C8D4E3\"}, \"line\": {\"color\": \"white\"}}, \"type\": \"table\"}]}, \"layout\": {\"annotationdefaults\": {\"arrowcolor\": \"#2a3f5f\", \"arrowhead\": 0, \"arrowwidth\": 1}, \"coloraxis\": {\"colorbar\": {\"outlinewidth\": 0, \"ticks\": \"\"}}, \"colorscale\": {\"diverging\": [[0, \"#8e0152\"], [0.1, \"#c51b7d\"], [0.2, \"#de77ae\"], [0.3, \"#f1b6da\"], [0.4, \"#fde0ef\"], [0.5, \"#f7f7f7\"], [0.6, \"#e6f5d0\"], [0.7, \"#b8e186\"], [0.8, \"#7fbc41\"], [0.9, \"#4d9221\"], [1, \"#276419\"]], \"sequential\": [[0.0, \"#0d0887\"], [0.1111111111111111, \"#46039f\"], [0.2222222222222222, \"#7201a8\"], [0.3333333333333333, \"#9c179e\"], [0.4444444444444444, \"#bd3786\"], [0.5555555555555556, \"#d8576b\"], [0.6666666666666666, \"#ed7953\"], [0.7777777777777778, \"#fb9f3a\"], [0.8888888888888888, \"#fdca26\"], [1.0, \"#f0f921\"]], \"sequentialminus\": [[0.0, \"#0d0887\"], [0.1111111111111111, \"#46039f\"], [0.2222222222222222, \"#7201a8\"], [0.3333333333333333, \"#9c179e\"], [0.4444444444444444, \"#bd3786\"], [0.5555555555555556, \"#d8576b\"], [0.6666666666666666, \"#ed7953\"], [0.7777777777777778, \"#fb9f3a\"], [0.8888888888888888, \"#fdca26\"], [1.0, \"#f0f921\"]]}, \"colorway\": [\"#636efa\", \"#EF553B\", \"#00cc96\", \"#ab63fa\", \"#FFA15A\", \"#19d3f3\", \"#FF6692\", \"#B6E880\", \"#FF97FF\", \"#FECB52\"], \"font\": {\"color\": \"#2a3f5f\"}, \"geo\": {\"bgcolor\": \"white\", \"lakecolor\": \"white\", \"landcolor\": \"#E5ECF6\", \"showlakes\": true, \"showland\": true, \"subunitcolor\": \"white\"}, \"hoverlabel\": {\"align\": \"left\"}, \"hovermode\": \"closest\", \"mapbox\": {\"style\": \"light\"}, \"paper_bgcolor\": \"white\", \"plot_bgcolor\": \"#E5ECF6\", \"polar\": {\"angularaxis\": {\"gridcolor\": \"white\", \"linecolor\": \"white\", \"ticks\": \"\"}, \"bgcolor\": \"#E5ECF6\", \"radialaxis\": {\"gridcolor\": \"white\", \"linecolor\": \"white\", \"ticks\": \"\"}}, \"scene\": {\"xaxis\": {\"backgroundcolor\": \"#E5ECF6\", \"gridcolor\": \"white\", \"gridwidth\": 2, \"linecolor\": \"white\", \"showbackground\": true, \"ticks\": \"\", \"zerolinecolor\": \"white\"}, \"yaxis\": {\"backgroundcolor\": \"#E5ECF6\", \"gridcolor\": \"white\", \"gridwidth\": 2, \"linecolor\": \"white\", \"showbackground\": true, \"ticks\": \"\", \"zerolinecolor\": \"white\"}, \"zaxis\": {\"backgroundcolor\": \"#E5ECF6\", \"gridcolor\": \"white\", \"gridwidth\": 2, \"linecolor\": \"white\", \"showbackground\": true, \"ticks\": \"\", \"zerolinecolor\": \"white\"}}, \"shapedefaults\": {\"line\": {\"color\": \"#2a3f5f\"}}, \"ternary\": {\"aaxis\": {\"gridcolor\": \"white\", \"linecolor\": \"white\", \"ticks\": \"\"}, \"baxis\": {\"gridcolor\": \"white\", \"linecolor\": \"white\", \"ticks\": \"\"}, \"bgcolor\": \"#E5ECF6\", \"caxis\": {\"gridcolor\": \"white\", \"linecolor\": \"white\", \"ticks\": \"\"}}, \"title\": {\"x\": 0.05}, \"xaxis\": {\"automargin\": true, \"gridcolor\": \"white\", \"linecolor\": \"white\", \"ticks\": \"\", \"title\": {\"standoff\": 15}, \"zerolinecolor\": \"white\", \"zerolinewidth\": 2}, \"yaxis\": {\"automargin\": true, \"gridcolor\": \"white\", \"linecolor\": \"white\", \"ticks\": \"\", \"title\": {\"standoff\": 15}, \"zerolinecolor\": \"white\", \"zerolinewidth\": 2}}}, \"title\": {\"text\": \"Horizontal movement / angle\"}, \"width\": 800, \"xaxis\": {\"title\": {\"text\": \"rObj_min\"}}, \"yaxis\": {\"title\": {\"text\": \"1 - MAPE\"}}},\n",
              "                        {\"responsive\": true}\n",
              "                    ).then(function(){\n",
              "                            \n",
              "var gd = document.getElementById('82ffcd3c-b096-4cfb-ae62-3637beb7f981');\n",
              "var x = new MutationObserver(function (mutations, observer) {{\n",
              "        var display = window.getComputedStyle(gd).display;\n",
              "        if (!display || display === 'none') {{\n",
              "            console.log([gd, 'removed!']);\n",
              "            Plotly.purge(gd);\n",
              "            observer.disconnect();\n",
              "        }}\n",
              "}});\n",
              "\n",
              "// Listen for the removal of the full notebook cells\n",
              "var notebookContainer = gd.closest('#notebook-container');\n",
              "if (notebookContainer) {{\n",
              "    x.observe(notebookContainer, {childList: true});\n",
              "}}\n",
              "\n",
              "// Listen for the clearing of the current output cell\n",
              "var outputEl = gd.closest('.output');\n",
              "if (outputEl) {{\n",
              "    x.observe(outputEl, {childList: true});\n",
              "}}\n",
              "\n",
              "                        })\n",
              "                };\n",
              "                \n",
              "            </script>\n",
              "        </div>\n",
              "</body>\n",
              "</html>"
            ]
          },
          "metadata": {}
        }
      ]
    },
    {
      "cell_type": "code",
      "metadata": {
        "colab": {
          "base_uri": "https://localhost:8080/",
          "height": 517
        },
        "id": "bCDDrqiC77j7",
        "outputId": "98f41a46-2018-4dd9-9229-5774e6676ebf"
      },
      "source": [
        "fig121 = go.Figure()\n",
        "for g in g_info_dist:\n",
        "  fig121.add_trace(go.Scatter(x=r_list[:], y=g_info_dist[g][:], mode='lines+markers',  name=f\"g = {get_g(g)}\", line_shape='spline'))\n",
        "fig121.update_layout(legend_orientation=\"h\",\n",
        "                  legend=dict(yanchor=\"top\",y=1.1,xanchor=\"right\",x=1.0),\n",
        "                  title=f\"Horizontal movement / distance\",\n",
        "                  xaxis_title=\"rObj_min\",\n",
        "                  yaxis_title=\"1 - MAPE\",\n",
        "                  autosize=False,\n",
        "                  width=800, height=500)"
      ],
      "execution_count": null,
      "outputs": [
        {
          "output_type": "display_data",
          "data": {
            "text/html": [
              "<html>\n",
              "<head><meta charset=\"utf-8\" /></head>\n",
              "<body>\n",
              "    <div>\n",
              "            <script src=\"https://cdnjs.cloudflare.com/ajax/libs/mathjax/2.7.5/MathJax.js?config=TeX-AMS-MML_SVG\"></script><script type=\"text/javascript\">if (window.MathJax) {MathJax.Hub.Config({SVG: {font: \"STIX-Web\"}});}</script>\n",
              "                <script type=\"text/javascript\">window.PlotlyConfig = {MathJaxConfig: 'local'};</script>\n",
              "        <script src=\"https://cdn.plot.ly/plotly-latest.min.js\"></script>    \n",
              "            <div id=\"7cd25c4a-8d19-4309-9e6b-8dfdde5916f1\" class=\"plotly-graph-div\" style=\"height:500px; width:800px;\"></div>\n",
              "            <script type=\"text/javascript\">\n",
              "                \n",
              "                    window.PLOTLYENV=window.PLOTLYENV || {};\n",
              "                    \n",
              "                if (document.getElementById(\"7cd25c4a-8d19-4309-9e6b-8dfdde5916f1\")) {\n",
              "                    Plotly.newPlot(\n",
              "                        '7cd25c4a-8d19-4309-9e6b-8dfdde5916f1',\n",
              "                        [{\"line\": {\"shape\": \"spline\"}, \"mode\": \"lines+markers\", \"name\": \"g = 5\", \"type\": \"scatter\", \"x\": [1000, 2000, 3000, 4000, 5000, 6000, 7000, 8000, 9000, 10000], \"y\": [0.8115316, 0.7356467184512481, 0.734322, 0.6865462, 0.627615, 0.5179756, 0.46476959679958296, 0.3890227942313149, 0.33329153209064133, 0.2910835549218459]}, {\"line\": {\"shape\": \"spline\"}, \"mode\": \"lines+markers\", \"name\": \"g = 50\", \"type\": \"scatter\", \"x\": [1000, 2000, 3000, 4000, 5000, 6000, 7000, 8000, 9000, 10000], \"y\": [0.9454466478651952, 0.8813539765560051, 0.8894273783249697, 0.8082723330638046, 0.707661089626832, 0.6013948148899921, 0.5201520627001439, 0.4541829102021049, 0.40549485413872555, 0.36285939763078945]}, {\"line\": {\"shape\": \"spline\"}, \"mode\": \"lines+markers\", \"name\": \"g = 500\", \"type\": \"scatter\", \"x\": [1000, 2000, 3000, 4000, 5000, 6000, 7000, 8000, 9000, 10000], \"y\": [0.9470380032444957, 0.9344994280413564, 0.9039936321358282, 0.8739326801318894, 0.7252664570227554, 0.6369636140953343, 0.5299895603804581, 0.4757435051924026, 0.42119956100516587, 0.38029895108008627]}],\n",
              "                        {\"autosize\": false, \"height\": 500, \"legend\": {\"orientation\": \"h\", \"x\": 1.0, \"xanchor\": \"right\", \"y\": 1.1, \"yanchor\": \"top\"}, \"template\": {\"data\": {\"bar\": [{\"error_x\": {\"color\": \"#2a3f5f\"}, \"error_y\": {\"color\": \"#2a3f5f\"}, \"marker\": {\"line\": {\"color\": \"#E5ECF6\", \"width\": 0.5}}, \"type\": \"bar\"}], \"barpolar\": [{\"marker\": {\"line\": {\"color\": \"#E5ECF6\", \"width\": 0.5}}, \"type\": \"barpolar\"}], \"carpet\": [{\"aaxis\": {\"endlinecolor\": \"#2a3f5f\", \"gridcolor\": \"white\", \"linecolor\": \"white\", \"minorgridcolor\": \"white\", \"startlinecolor\": \"#2a3f5f\"}, \"baxis\": {\"endlinecolor\": \"#2a3f5f\", \"gridcolor\": \"white\", \"linecolor\": \"white\", \"minorgridcolor\": \"white\", \"startlinecolor\": \"#2a3f5f\"}, \"type\": \"carpet\"}], \"choropleth\": [{\"colorbar\": {\"outlinewidth\": 0, \"ticks\": \"\"}, \"type\": \"choropleth\"}], \"contour\": [{\"colorbar\": {\"outlinewidth\": 0, \"ticks\": \"\"}, \"colorscale\": [[0.0, \"#0d0887\"], [0.1111111111111111, \"#46039f\"], [0.2222222222222222, \"#7201a8\"], [0.3333333333333333, \"#9c179e\"], [0.4444444444444444, \"#bd3786\"], [0.5555555555555556, \"#d8576b\"], [0.6666666666666666, \"#ed7953\"], [0.7777777777777778, \"#fb9f3a\"], [0.8888888888888888, \"#fdca26\"], [1.0, \"#f0f921\"]], \"type\": \"contour\"}], \"contourcarpet\": [{\"colorbar\": {\"outlinewidth\": 0, \"ticks\": \"\"}, \"type\": \"contourcarpet\"}], \"heatmap\": [{\"colorbar\": {\"outlinewidth\": 0, \"ticks\": \"\"}, \"colorscale\": [[0.0, \"#0d0887\"], [0.1111111111111111, \"#46039f\"], [0.2222222222222222, \"#7201a8\"], [0.3333333333333333, \"#9c179e\"], [0.4444444444444444, \"#bd3786\"], [0.5555555555555556, \"#d8576b\"], [0.6666666666666666, \"#ed7953\"], [0.7777777777777778, \"#fb9f3a\"], [0.8888888888888888, \"#fdca26\"], [1.0, \"#f0f921\"]], \"type\": \"heatmap\"}], \"heatmapgl\": [{\"colorbar\": {\"outlinewidth\": 0, \"ticks\": \"\"}, \"colorscale\": [[0.0, \"#0d0887\"], [0.1111111111111111, \"#46039f\"], [0.2222222222222222, \"#7201a8\"], [0.3333333333333333, \"#9c179e\"], [0.4444444444444444, \"#bd3786\"], [0.5555555555555556, \"#d8576b\"], [0.6666666666666666, \"#ed7953\"], [0.7777777777777778, \"#fb9f3a\"], [0.8888888888888888, \"#fdca26\"], [1.0, \"#f0f921\"]], \"type\": \"heatmapgl\"}], \"histogram\": [{\"marker\": {\"colorbar\": {\"outlinewidth\": 0, \"ticks\": \"\"}}, \"type\": \"histogram\"}], \"histogram2d\": [{\"colorbar\": {\"outlinewidth\": 0, \"ticks\": \"\"}, \"colorscale\": [[0.0, \"#0d0887\"], [0.1111111111111111, \"#46039f\"], [0.2222222222222222, \"#7201a8\"], [0.3333333333333333, \"#9c179e\"], [0.4444444444444444, \"#bd3786\"], [0.5555555555555556, \"#d8576b\"], [0.6666666666666666, \"#ed7953\"], [0.7777777777777778, \"#fb9f3a\"], [0.8888888888888888, \"#fdca26\"], [1.0, \"#f0f921\"]], \"type\": \"histogram2d\"}], \"histogram2dcontour\": [{\"colorbar\": {\"outlinewidth\": 0, \"ticks\": \"\"}, \"colorscale\": [[0.0, \"#0d0887\"], [0.1111111111111111, \"#46039f\"], [0.2222222222222222, \"#7201a8\"], [0.3333333333333333, \"#9c179e\"], [0.4444444444444444, \"#bd3786\"], [0.5555555555555556, \"#d8576b\"], [0.6666666666666666, \"#ed7953\"], [0.7777777777777778, \"#fb9f3a\"], [0.8888888888888888, \"#fdca26\"], [1.0, \"#f0f921\"]], \"type\": \"histogram2dcontour\"}], \"mesh3d\": [{\"colorbar\": {\"outlinewidth\": 0, \"ticks\": \"\"}, \"type\": \"mesh3d\"}], \"parcoords\": [{\"line\": {\"colorbar\": {\"outlinewidth\": 0, \"ticks\": \"\"}}, \"type\": \"parcoords\"}], \"pie\": [{\"automargin\": true, \"type\": \"pie\"}], \"scatter\": [{\"marker\": {\"colorbar\": {\"outlinewidth\": 0, \"ticks\": \"\"}}, \"type\": \"scatter\"}], \"scatter3d\": [{\"line\": {\"colorbar\": {\"outlinewidth\": 0, \"ticks\": \"\"}}, \"marker\": {\"colorbar\": {\"outlinewidth\": 0, \"ticks\": \"\"}}, \"type\": \"scatter3d\"}], \"scattercarpet\": [{\"marker\": {\"colorbar\": {\"outlinewidth\": 0, \"ticks\": \"\"}}, \"type\": \"scattercarpet\"}], \"scattergeo\": [{\"marker\": {\"colorbar\": {\"outlinewidth\": 0, \"ticks\": \"\"}}, \"type\": \"scattergeo\"}], \"scattergl\": [{\"marker\": {\"colorbar\": {\"outlinewidth\": 0, \"ticks\": \"\"}}, \"type\": \"scattergl\"}], \"scattermapbox\": [{\"marker\": {\"colorbar\": {\"outlinewidth\": 0, \"ticks\": \"\"}}, \"type\": \"scattermapbox\"}], \"scatterpolar\": [{\"marker\": {\"colorbar\": {\"outlinewidth\": 0, \"ticks\": \"\"}}, \"type\": \"scatterpolar\"}], \"scatterpolargl\": [{\"marker\": {\"colorbar\": {\"outlinewidth\": 0, \"ticks\": \"\"}}, \"type\": \"scatterpolargl\"}], \"scatterternary\": [{\"marker\": {\"colorbar\": {\"outlinewidth\": 0, \"ticks\": \"\"}}, \"type\": \"scatterternary\"}], \"surface\": [{\"colorbar\": {\"outlinewidth\": 0, \"ticks\": \"\"}, \"colorscale\": [[0.0, \"#0d0887\"], [0.1111111111111111, \"#46039f\"], [0.2222222222222222, \"#7201a8\"], [0.3333333333333333, \"#9c179e\"], [0.4444444444444444, \"#bd3786\"], [0.5555555555555556, \"#d8576b\"], [0.6666666666666666, \"#ed7953\"], [0.7777777777777778, \"#fb9f3a\"], [0.8888888888888888, \"#fdca26\"], [1.0, \"#f0f921\"]], \"type\": \"surface\"}], \"table\": [{\"cells\": {\"fill\": {\"color\": \"#EBF0F8\"}, \"line\": {\"color\": \"white\"}}, \"header\": {\"fill\": {\"color\": \"#C8D4E3\"}, \"line\": {\"color\": \"white\"}}, \"type\": \"table\"}]}, \"layout\": {\"annotationdefaults\": {\"arrowcolor\": \"#2a3f5f\", \"arrowhead\": 0, \"arrowwidth\": 1}, \"coloraxis\": {\"colorbar\": {\"outlinewidth\": 0, \"ticks\": \"\"}}, \"colorscale\": {\"diverging\": [[0, \"#8e0152\"], [0.1, \"#c51b7d\"], [0.2, \"#de77ae\"], [0.3, \"#f1b6da\"], [0.4, \"#fde0ef\"], [0.5, \"#f7f7f7\"], [0.6, \"#e6f5d0\"], [0.7, \"#b8e186\"], [0.8, \"#7fbc41\"], [0.9, \"#4d9221\"], [1, \"#276419\"]], \"sequential\": [[0.0, \"#0d0887\"], [0.1111111111111111, \"#46039f\"], [0.2222222222222222, \"#7201a8\"], [0.3333333333333333, \"#9c179e\"], [0.4444444444444444, \"#bd3786\"], [0.5555555555555556, \"#d8576b\"], [0.6666666666666666, \"#ed7953\"], [0.7777777777777778, \"#fb9f3a\"], [0.8888888888888888, \"#fdca26\"], [1.0, \"#f0f921\"]], \"sequentialminus\": [[0.0, \"#0d0887\"], [0.1111111111111111, \"#46039f\"], [0.2222222222222222, \"#7201a8\"], [0.3333333333333333, \"#9c179e\"], [0.4444444444444444, \"#bd3786\"], [0.5555555555555556, \"#d8576b\"], [0.6666666666666666, \"#ed7953\"], [0.7777777777777778, \"#fb9f3a\"], [0.8888888888888888, \"#fdca26\"], [1.0, \"#f0f921\"]]}, \"colorway\": [\"#636efa\", \"#EF553B\", \"#00cc96\", \"#ab63fa\", \"#FFA15A\", \"#19d3f3\", \"#FF6692\", \"#B6E880\", \"#FF97FF\", \"#FECB52\"], \"font\": {\"color\": \"#2a3f5f\"}, \"geo\": {\"bgcolor\": \"white\", \"lakecolor\": \"white\", \"landcolor\": \"#E5ECF6\", \"showlakes\": true, \"showland\": true, \"subunitcolor\": \"white\"}, \"hoverlabel\": {\"align\": \"left\"}, \"hovermode\": \"closest\", \"mapbox\": {\"style\": \"light\"}, \"paper_bgcolor\": \"white\", \"plot_bgcolor\": \"#E5ECF6\", \"polar\": {\"angularaxis\": {\"gridcolor\": \"white\", \"linecolor\": \"white\", \"ticks\": \"\"}, \"bgcolor\": \"#E5ECF6\", \"radialaxis\": {\"gridcolor\": \"white\", \"linecolor\": \"white\", \"ticks\": \"\"}}, \"scene\": {\"xaxis\": {\"backgroundcolor\": \"#E5ECF6\", \"gridcolor\": \"white\", \"gridwidth\": 2, \"linecolor\": \"white\", \"showbackground\": true, \"ticks\": \"\", \"zerolinecolor\": \"white\"}, \"yaxis\": {\"backgroundcolor\": \"#E5ECF6\", \"gridcolor\": \"white\", \"gridwidth\": 2, \"linecolor\": \"white\", \"showbackground\": true, \"ticks\": \"\", \"zerolinecolor\": \"white\"}, \"zaxis\": {\"backgroundcolor\": \"#E5ECF6\", \"gridcolor\": \"white\", \"gridwidth\": 2, \"linecolor\": \"white\", \"showbackground\": true, \"ticks\": \"\", \"zerolinecolor\": \"white\"}}, \"shapedefaults\": {\"line\": {\"color\": \"#2a3f5f\"}}, \"ternary\": {\"aaxis\": {\"gridcolor\": \"white\", \"linecolor\": \"white\", \"ticks\": \"\"}, \"baxis\": {\"gridcolor\": \"white\", \"linecolor\": \"white\", \"ticks\": \"\"}, \"bgcolor\": \"#E5ECF6\", \"caxis\": {\"gridcolor\": \"white\", \"linecolor\": \"white\", \"ticks\": \"\"}}, \"title\": {\"x\": 0.05}, \"xaxis\": {\"automargin\": true, \"gridcolor\": \"white\", \"linecolor\": \"white\", \"ticks\": \"\", \"title\": {\"standoff\": 15}, \"zerolinecolor\": \"white\", \"zerolinewidth\": 2}, \"yaxis\": {\"automargin\": true, \"gridcolor\": \"white\", \"linecolor\": \"white\", \"ticks\": \"\", \"title\": {\"standoff\": 15}, \"zerolinecolor\": \"white\", \"zerolinewidth\": 2}}}, \"title\": {\"text\": \"Horizontal movement / distance\"}, \"width\": 800, \"xaxis\": {\"title\": {\"text\": \"rObj_min\"}}, \"yaxis\": {\"title\": {\"text\": \"1 - MAPE\"}}},\n",
              "                        {\"responsive\": true}\n",
              "                    ).then(function(){\n",
              "                            \n",
              "var gd = document.getElementById('7cd25c4a-8d19-4309-9e6b-8dfdde5916f1');\n",
              "var x = new MutationObserver(function (mutations, observer) {{\n",
              "        var display = window.getComputedStyle(gd).display;\n",
              "        if (!display || display === 'none') {{\n",
              "            console.log([gd, 'removed!']);\n",
              "            Plotly.purge(gd);\n",
              "            observer.disconnect();\n",
              "        }}\n",
              "}});\n",
              "\n",
              "// Listen for the removal of the full notebook cells\n",
              "var notebookContainer = gd.closest('#notebook-container');\n",
              "if (notebookContainer) {{\n",
              "    x.observe(notebookContainer, {childList: true});\n",
              "}}\n",
              "\n",
              "// Listen for the clearing of the current output cell\n",
              "var outputEl = gd.closest('.output');\n",
              "if (outputEl) {{\n",
              "    x.observe(outputEl, {childList: true});\n",
              "}}\n",
              "\n",
              "                        })\n",
              "                };\n",
              "                \n",
              "            </script>\n",
              "        </div>\n",
              "</body>\n",
              "</html>"
            ]
          },
          "metadata": {}
        }
      ]
    },
    {
      "cell_type": "markdown",
      "metadata": {
        "id": "nB5KdVJztFtH"
      },
      "source": [
        "# Test vert"
      ]
    },
    {
      "cell_type": "code",
      "metadata": {
        "id": "DqRmy-YdttKd",
        "colab": {
          "base_uri": "https://localhost:8080/"
        },
        "outputId": "5946078e-d7f2-48ef-bc8c-89c1c2d039b6"
      },
      "source": [
        "g_info = {}\n",
        "table = wandb.Table(columns=['g', 'rObj', '1 - MAPE'])\n",
        "for g in g_list:\n",
        "  r_res = []\n",
        "  for cur_r in r_list:\n",
        "    x, r = [], []\n",
        "    dataset = generate(h=40, l=20, m=720, rMax=50000, g=g, n=1000, test_case=TestCases.VERTICAL_CASE, values={'rMax': cur_r}, rMin=600)\n",
        "    for precedent in dataset:\n",
        "      x.append(precedent[:720])\n",
        "      r.append(precedent[720])\n",
        "    r_pred = distance_model.predict(x)\n",
        "    r_res.append(1 - mean_absolute_percentage_error(r, r_pred))\n",
        "    table.add_data(g, cur_r, 1 - mean_absolute_percentage_error(r, r_pred))\n",
        "  g_info[g] = r_res\n",
        "  print(g)"
      ],
      "execution_count": null,
      "outputs": [
        {
          "output_type": "stream",
          "name": "stdout",
          "text": [
            "5\n",
            "50\n",
            "500\n"
          ]
        }
      ]
    },
    {
      "cell_type": "code",
      "metadata": {
        "colab": {
          "base_uri": "https://localhost:8080/",
          "height": 517
        },
        "id": "PPttCSKBttKr",
        "outputId": "8784407c-df06-4c80-c72e-a4725ab1919a"
      },
      "source": [
        "fig201 = go.Figure()\n",
        "for g in g_info:\n",
        "  fig201.add_trace(go.Scatter(x=r_list[:], y=g_info[g][:], mode='lines+markers',  name=f\"g = {get_g(g)}\", line_shape='spline'))\n",
        "fig201.update_layout(legend_orientation=\"h\",\n",
        "                  legend=dict(yanchor=\"top\",y=1.1,xanchor=\"right\",x=1.0),\n",
        "                  title=f\"Vertical movement / distance\",\n",
        "                  xaxis_title=\"rObj_max\",\n",
        "                  yaxis_title=\"1 - MAPE\",\n",
        "                  autosize=False,\n",
        "                  width=800, height=500)"
      ],
      "execution_count": null,
      "outputs": [
        {
          "output_type": "display_data",
          "data": {
            "text/html": [
              "<html>\n",
              "<head><meta charset=\"utf-8\" /></head>\n",
              "<body>\n",
              "    <div>\n",
              "            <script src=\"https://cdnjs.cloudflare.com/ajax/libs/mathjax/2.7.5/MathJax.js?config=TeX-AMS-MML_SVG\"></script><script type=\"text/javascript\">if (window.MathJax) {MathJax.Hub.Config({SVG: {font: \"STIX-Web\"}});}</script>\n",
              "                <script type=\"text/javascript\">window.PlotlyConfig = {MathJaxConfig: 'local'};</script>\n",
              "        <script src=\"https://cdn.plot.ly/plotly-latest.min.js\"></script>    \n",
              "            <div id=\"279f2640-f124-46b3-9fef-03dbb21562bb\" class=\"plotly-graph-div\" style=\"height:500px; width:800px;\"></div>\n",
              "            <script type=\"text/javascript\">\n",
              "                \n",
              "                    window.PLOTLYENV=window.PLOTLYENV || {};\n",
              "                    \n",
              "                if (document.getElementById(\"279f2640-f124-46b3-9fef-03dbb21562bb\")) {\n",
              "                    Plotly.newPlot(\n",
              "                        '279f2640-f124-46b3-9fef-03dbb21562bb',\n",
              "                        [{\"line\": {\"shape\": \"spline\"}, \"mode\": \"lines+markers\", \"name\": \"g = 5\", \"type\": \"scatter\", \"x\": [1000, 2000, 3000, 4000, 5000, 6000, 7000, 8000, 9000, 10000], \"y\": [0.8577244, 0.810862, 0.7940491000000001, 0.7786169000000001, 0.7562580000000001, 0.7180960724175458, 0.7157389920026571, 0.7013367382427977, 0.6818240071352151, 0.6604402362620472]}, {\"line\": {\"shape\": \"spline\"}, \"mode\": \"lines+markers\", \"name\": \"g = 50\", \"type\": \"scatter\", \"x\": [1000, 2000, 3000, 4000, 5000, 6000, 7000, 8000, 9000, 10000], \"y\": [0.9206156, 0.890351130968421, 0.869547926429731, 0.8473275519459257, 0.855528411833932, 0.8519635730934653, 0.8294184414834999, 0.7993257023018393, 0.767158806678768, 0.7352934358453199]}, {\"line\": {\"shape\": \"spline\"}, \"mode\": \"lines+markers\", \"name\": \"g = 500\", \"type\": \"scatter\", \"x\": [1000, 2000, 3000, 4000, 5000, 6000, 7000, 8000, 9000, 10000], \"y\": [0.96823348, 0.943113, 0.9329487622904982, 0.9171759339683077, 0.9181324973444831, 0.8964389463547775, 0.8643151770973851, 0.8291012097762069, 0.8010240734283937, 0.7725830074348381]}],\n",
              "                        {\"autosize\": false, \"height\": 500, \"legend\": {\"orientation\": \"h\", \"x\": 1.0, \"xanchor\": \"right\", \"y\": 1.1, \"yanchor\": \"top\"}, \"template\": {\"data\": {\"bar\": [{\"error_x\": {\"color\": \"#2a3f5f\"}, \"error_y\": {\"color\": \"#2a3f5f\"}, \"marker\": {\"line\": {\"color\": \"#E5ECF6\", \"width\": 0.5}}, \"type\": \"bar\"}], \"barpolar\": [{\"marker\": {\"line\": {\"color\": \"#E5ECF6\", \"width\": 0.5}}, \"type\": \"barpolar\"}], \"carpet\": [{\"aaxis\": {\"endlinecolor\": \"#2a3f5f\", \"gridcolor\": \"white\", \"linecolor\": \"white\", \"minorgridcolor\": \"white\", \"startlinecolor\": \"#2a3f5f\"}, \"baxis\": {\"endlinecolor\": \"#2a3f5f\", \"gridcolor\": \"white\", \"linecolor\": \"white\", \"minorgridcolor\": \"white\", \"startlinecolor\": \"#2a3f5f\"}, \"type\": \"carpet\"}], \"choropleth\": [{\"colorbar\": {\"outlinewidth\": 0, \"ticks\": \"\"}, \"type\": \"choropleth\"}], \"contour\": [{\"colorbar\": {\"outlinewidth\": 0, \"ticks\": \"\"}, \"colorscale\": [[0.0, \"#0d0887\"], [0.1111111111111111, \"#46039f\"], [0.2222222222222222, \"#7201a8\"], [0.3333333333333333, \"#9c179e\"], [0.4444444444444444, \"#bd3786\"], [0.5555555555555556, \"#d8576b\"], [0.6666666666666666, \"#ed7953\"], [0.7777777777777778, \"#fb9f3a\"], [0.8888888888888888, \"#fdca26\"], [1.0, \"#f0f921\"]], \"type\": \"contour\"}], \"contourcarpet\": [{\"colorbar\": {\"outlinewidth\": 0, \"ticks\": \"\"}, \"type\": \"contourcarpet\"}], \"heatmap\": [{\"colorbar\": {\"outlinewidth\": 0, \"ticks\": \"\"}, \"colorscale\": [[0.0, \"#0d0887\"], [0.1111111111111111, \"#46039f\"], [0.2222222222222222, \"#7201a8\"], [0.3333333333333333, \"#9c179e\"], [0.4444444444444444, \"#bd3786\"], [0.5555555555555556, \"#d8576b\"], [0.6666666666666666, \"#ed7953\"], [0.7777777777777778, \"#fb9f3a\"], [0.8888888888888888, \"#fdca26\"], [1.0, \"#f0f921\"]], \"type\": \"heatmap\"}], \"heatmapgl\": [{\"colorbar\": {\"outlinewidth\": 0, \"ticks\": \"\"}, \"colorscale\": [[0.0, \"#0d0887\"], [0.1111111111111111, \"#46039f\"], [0.2222222222222222, \"#7201a8\"], [0.3333333333333333, \"#9c179e\"], [0.4444444444444444, \"#bd3786\"], [0.5555555555555556, \"#d8576b\"], [0.6666666666666666, \"#ed7953\"], [0.7777777777777778, \"#fb9f3a\"], [0.8888888888888888, \"#fdca26\"], [1.0, \"#f0f921\"]], \"type\": \"heatmapgl\"}], \"histogram\": [{\"marker\": {\"colorbar\": {\"outlinewidth\": 0, \"ticks\": \"\"}}, \"type\": \"histogram\"}], \"histogram2d\": [{\"colorbar\": {\"outlinewidth\": 0, \"ticks\": \"\"}, \"colorscale\": [[0.0, \"#0d0887\"], [0.1111111111111111, \"#46039f\"], [0.2222222222222222, \"#7201a8\"], [0.3333333333333333, \"#9c179e\"], [0.4444444444444444, \"#bd3786\"], [0.5555555555555556, \"#d8576b\"], [0.6666666666666666, \"#ed7953\"], [0.7777777777777778, \"#fb9f3a\"], [0.8888888888888888, \"#fdca26\"], [1.0, \"#f0f921\"]], \"type\": \"histogram2d\"}], \"histogram2dcontour\": [{\"colorbar\": {\"outlinewidth\": 0, \"ticks\": \"\"}, \"colorscale\": [[0.0, \"#0d0887\"], [0.1111111111111111, \"#46039f\"], [0.2222222222222222, \"#7201a8\"], [0.3333333333333333, \"#9c179e\"], [0.4444444444444444, \"#bd3786\"], [0.5555555555555556, \"#d8576b\"], [0.6666666666666666, \"#ed7953\"], [0.7777777777777778, \"#fb9f3a\"], [0.8888888888888888, \"#fdca26\"], [1.0, \"#f0f921\"]], \"type\": \"histogram2dcontour\"}], \"mesh3d\": [{\"colorbar\": {\"outlinewidth\": 0, \"ticks\": \"\"}, \"type\": \"mesh3d\"}], \"parcoords\": [{\"line\": {\"colorbar\": {\"outlinewidth\": 0, \"ticks\": \"\"}}, \"type\": \"parcoords\"}], \"pie\": [{\"automargin\": true, \"type\": \"pie\"}], \"scatter\": [{\"marker\": {\"colorbar\": {\"outlinewidth\": 0, \"ticks\": \"\"}}, \"type\": \"scatter\"}], \"scatter3d\": [{\"line\": {\"colorbar\": {\"outlinewidth\": 0, \"ticks\": \"\"}}, \"marker\": {\"colorbar\": {\"outlinewidth\": 0, \"ticks\": \"\"}}, \"type\": \"scatter3d\"}], \"scattercarpet\": [{\"marker\": {\"colorbar\": {\"outlinewidth\": 0, \"ticks\": \"\"}}, \"type\": \"scattercarpet\"}], \"scattergeo\": [{\"marker\": {\"colorbar\": {\"outlinewidth\": 0, \"ticks\": \"\"}}, \"type\": \"scattergeo\"}], \"scattergl\": [{\"marker\": {\"colorbar\": {\"outlinewidth\": 0, \"ticks\": \"\"}}, \"type\": \"scattergl\"}], \"scattermapbox\": [{\"marker\": {\"colorbar\": {\"outlinewidth\": 0, \"ticks\": \"\"}}, \"type\": \"scattermapbox\"}], \"scatterpolar\": [{\"marker\": {\"colorbar\": {\"outlinewidth\": 0, \"ticks\": \"\"}}, \"type\": \"scatterpolar\"}], \"scatterpolargl\": [{\"marker\": {\"colorbar\": {\"outlinewidth\": 0, \"ticks\": \"\"}}, \"type\": \"scatterpolargl\"}], \"scatterternary\": [{\"marker\": {\"colorbar\": {\"outlinewidth\": 0, \"ticks\": \"\"}}, \"type\": \"scatterternary\"}], \"surface\": [{\"colorbar\": {\"outlinewidth\": 0, \"ticks\": \"\"}, \"colorscale\": [[0.0, \"#0d0887\"], [0.1111111111111111, \"#46039f\"], [0.2222222222222222, \"#7201a8\"], [0.3333333333333333, \"#9c179e\"], [0.4444444444444444, \"#bd3786\"], [0.5555555555555556, \"#d8576b\"], [0.6666666666666666, \"#ed7953\"], [0.7777777777777778, \"#fb9f3a\"], [0.8888888888888888, \"#fdca26\"], [1.0, \"#f0f921\"]], \"type\": \"surface\"}], \"table\": [{\"cells\": {\"fill\": {\"color\": \"#EBF0F8\"}, \"line\": {\"color\": \"white\"}}, \"header\": {\"fill\": {\"color\": \"#C8D4E3\"}, \"line\": {\"color\": \"white\"}}, \"type\": \"table\"}]}, \"layout\": {\"annotationdefaults\": {\"arrowcolor\": \"#2a3f5f\", \"arrowhead\": 0, \"arrowwidth\": 1}, \"coloraxis\": {\"colorbar\": {\"outlinewidth\": 0, \"ticks\": \"\"}}, \"colorscale\": {\"diverging\": [[0, \"#8e0152\"], [0.1, \"#c51b7d\"], [0.2, \"#de77ae\"], [0.3, \"#f1b6da\"], [0.4, \"#fde0ef\"], [0.5, \"#f7f7f7\"], [0.6, \"#e6f5d0\"], [0.7, \"#b8e186\"], [0.8, \"#7fbc41\"], [0.9, \"#4d9221\"], [1, \"#276419\"]], \"sequential\": [[0.0, \"#0d0887\"], [0.1111111111111111, \"#46039f\"], [0.2222222222222222, \"#7201a8\"], [0.3333333333333333, \"#9c179e\"], [0.4444444444444444, \"#bd3786\"], [0.5555555555555556, \"#d8576b\"], [0.6666666666666666, \"#ed7953\"], [0.7777777777777778, \"#fb9f3a\"], [0.8888888888888888, \"#fdca26\"], [1.0, \"#f0f921\"]], \"sequentialminus\": [[0.0, \"#0d0887\"], [0.1111111111111111, \"#46039f\"], [0.2222222222222222, \"#7201a8\"], [0.3333333333333333, \"#9c179e\"], [0.4444444444444444, \"#bd3786\"], [0.5555555555555556, \"#d8576b\"], [0.6666666666666666, \"#ed7953\"], [0.7777777777777778, \"#fb9f3a\"], [0.8888888888888888, \"#fdca26\"], [1.0, \"#f0f921\"]]}, \"colorway\": [\"#636efa\", \"#EF553B\", \"#00cc96\", \"#ab63fa\", \"#FFA15A\", \"#19d3f3\", \"#FF6692\", \"#B6E880\", \"#FF97FF\", \"#FECB52\"], \"font\": {\"color\": \"#2a3f5f\"}, \"geo\": {\"bgcolor\": \"white\", \"lakecolor\": \"white\", \"landcolor\": \"#E5ECF6\", \"showlakes\": true, \"showland\": true, \"subunitcolor\": \"white\"}, \"hoverlabel\": {\"align\": \"left\"}, \"hovermode\": \"closest\", \"mapbox\": {\"style\": \"light\"}, \"paper_bgcolor\": \"white\", \"plot_bgcolor\": \"#E5ECF6\", \"polar\": {\"angularaxis\": {\"gridcolor\": \"white\", \"linecolor\": \"white\", \"ticks\": \"\"}, \"bgcolor\": \"#E5ECF6\", \"radialaxis\": {\"gridcolor\": \"white\", \"linecolor\": \"white\", \"ticks\": \"\"}}, \"scene\": {\"xaxis\": {\"backgroundcolor\": \"#E5ECF6\", \"gridcolor\": \"white\", \"gridwidth\": 2, \"linecolor\": \"white\", \"showbackground\": true, \"ticks\": \"\", \"zerolinecolor\": \"white\"}, \"yaxis\": {\"backgroundcolor\": \"#E5ECF6\", \"gridcolor\": \"white\", \"gridwidth\": 2, \"linecolor\": \"white\", \"showbackground\": true, \"ticks\": \"\", \"zerolinecolor\": \"white\"}, \"zaxis\": {\"backgroundcolor\": \"#E5ECF6\", \"gridcolor\": \"white\", \"gridwidth\": 2, \"linecolor\": \"white\", \"showbackground\": true, \"ticks\": \"\", \"zerolinecolor\": \"white\"}}, \"shapedefaults\": {\"line\": {\"color\": \"#2a3f5f\"}}, \"ternary\": {\"aaxis\": {\"gridcolor\": \"white\", \"linecolor\": \"white\", \"ticks\": \"\"}, \"baxis\": {\"gridcolor\": \"white\", \"linecolor\": \"white\", \"ticks\": \"\"}, \"bgcolor\": \"#E5ECF6\", \"caxis\": {\"gridcolor\": \"white\", \"linecolor\": \"white\", \"ticks\": \"\"}}, \"title\": {\"x\": 0.05}, \"xaxis\": {\"automargin\": true, \"gridcolor\": \"white\", \"linecolor\": \"white\", \"ticks\": \"\", \"title\": {\"standoff\": 15}, \"zerolinecolor\": \"white\", \"zerolinewidth\": 2}, \"yaxis\": {\"automargin\": true, \"gridcolor\": \"white\", \"linecolor\": \"white\", \"ticks\": \"\", \"title\": {\"standoff\": 15}, \"zerolinecolor\": \"white\", \"zerolinewidth\": 2}}}, \"title\": {\"text\": \"Vertical movement / distance\"}, \"width\": 800, \"xaxis\": {\"title\": {\"text\": \"rObj_max\"}}, \"yaxis\": {\"title\": {\"text\": \"1 - MAPE\"}}},\n",
              "                        {\"responsive\": true}\n",
              "                    ).then(function(){\n",
              "                            \n",
              "var gd = document.getElementById('279f2640-f124-46b3-9fef-03dbb21562bb');\n",
              "var x = new MutationObserver(function (mutations, observer) {{\n",
              "        var display = window.getComputedStyle(gd).display;\n",
              "        if (!display || display === 'none') {{\n",
              "            console.log([gd, 'removed!']);\n",
              "            Plotly.purge(gd);\n",
              "            observer.disconnect();\n",
              "        }}\n",
              "}});\n",
              "\n",
              "// Listen for the removal of the full notebook cells\n",
              "var notebookContainer = gd.closest('#notebook-container');\n",
              "if (notebookContainer) {{\n",
              "    x.observe(notebookContainer, {childList: true});\n",
              "}}\n",
              "\n",
              "// Listen for the clearing of the current output cell\n",
              "var outputEl = gd.closest('.output');\n",
              "if (outputEl) {{\n",
              "    x.observe(outputEl, {childList: true});\n",
              "}}\n",
              "\n",
              "                        })\n",
              "                };\n",
              "                \n",
              "            </script>\n",
              "        </div>\n",
              "</body>\n",
              "</html>"
            ]
          },
          "metadata": {}
        }
      ]
    },
    {
      "cell_type": "code",
      "metadata": {
        "id": "egh_mPb2S2U4"
      },
      "source": [
        "with wandb.init(project=\"flatfasetgen\", job_type=\"summary_plots\") as run:\n",
        "  run.log({\"Circle plot\": fig})\n",
        "  run.log({\"Hit plot\": fig2})\n",
        "  run.log({\"Horiz plot (angle)\": fig101})\n",
        "  run.log({\"Horiz plot (distance)\": fig121})\n",
        "  run.log({\"Vertical plot\": fig201})"
      ],
      "execution_count": null,
      "outputs": []
    }
  ]
}