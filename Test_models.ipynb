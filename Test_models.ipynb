{
  "nbformat": 4,
  "nbformat_minor": 0,
  "metadata": {
    "accelerator": "GPU",
    "colab": {
      "name": "Test_models.ipynb",
      "provenance": [],
      "collapsed_sections": [
        "x_7pJimOitvf",
        "j9Wb59CMoEb3",
        "tLmaDkRMoSGg",
        "xPMSFZj-obSQ",
        "AyMEz6Loor_2",
        "-vc5ka9_PzgM",
        "GLURwYyPQIMi"
      ]
    },
    "kernelspec": {
      "display_name": "Python 3",
      "name": "python3"
    },
    "language_info": {
      "name": "python"
    }
  },
  "cells": [
    {
      "cell_type": "code",
      "metadata": {
        "id": "-_lEBg3VIQX1"
      },
      "source": [
        "import math\n",
        "import numpy as np\n",
        "import csv\n",
        "import os\n",
        "import matplotlib\n",
        "import matplotlib.pyplot as plt\n",
        "import matplotlib.patches as patches\n",
        "from tqdm import tqdm\n",
        "%matplotlib inline"
      ],
      "execution_count": null,
      "outputs": []
    },
    {
      "cell_type": "code",
      "metadata": {
        "id": "rs2W11mLxwcU"
      },
      "source": [
        "class TestCases:\n",
        "  ROUND_CASE = 1\n",
        "  LINE_CASE = 2\n",
        "  HORIZONTAL_CASE = 3\n",
        "  VERTICAL_CASE = 4\n",
        "  FROM_CENTER = 5"
      ],
      "execution_count": null,
      "outputs": []
    },
    {
      "cell_type": "markdown",
      "metadata": {
        "id": "g8Nfr_xGn7_O"
      },
      "source": [
        "# Функции для генерации тестовых множеств"
      ]
    },
    {
      "cell_type": "code",
      "metadata": {
        "id": "Ley0oCp8hqdL"
      },
      "source": [
        "def generate_round_case(g, psi, radius, i, gap):\n",
        "  r = radius \n",
        "  fi0 = psi + math.asin(g/r) + 0.001\n",
        "  #fi = np.random.uniform(psi + math.asin(g/r), math.pi - psi - math.asin(g/r))\n",
        "  dfi = math.acos((2*r*r - 4*g*g*gap*gap)/(2*r*r))\n",
        "  fi = fi0 + i * dfi\n",
        "  if fi > math.pi - psi - math.asin((g*gap)/r):\n",
        "    return r, fi, False\n",
        "  return r, fi, True\n",
        "\n",
        "\n",
        "def generate_vertical_case(g, rMax, i, gap, rMin=50):\n",
        "  fi = math.pi / 2\n",
        "  r = rMin + i * 2 * g * gap\n",
        "  can_continue = r <= rMax\n",
        "  return r, fi, can_continue\n",
        "\n",
        "\n",
        "def generate_horizontal_case(g, k, i, gap):\n",
        "  r0 = 2 * k\n",
        "  x0 = r0 * math.cos(math.asin(k/r0))\n",
        "  x = x0 - 2*i*g*gap\n",
        "  r = math.sqrt(x*x + k*k)\n",
        "  # r = np.random.uniform(k, rMax)\n",
        "  if x < 0:\n",
        "    fi = math.pi - math.asin(k / r)\n",
        "  else:\n",
        "    fi = math.asin(k / r)\n",
        "  # if np.random.uniform(0, 2) > 1:\n",
        "  #   fi = math.pi - fi\n",
        "  can_continue = x > -r0\n",
        "  return r, fi, can_continue\n",
        "\n",
        "def generate_from_center_case(g, rMax, alpha_in_degrees, i, gap, started):\n",
        "  fi = math.radians(alpha_in_degrees)\n",
        "  if not started:\n",
        "    Supp.r_start += 1\n",
        "    r = Supp.r_start\n",
        "  else:\n",
        "    r = Supp.r_start + 2 * g * gap * i\n",
        "  can_continue = r <= rMax\n",
        "  return r, fi, can_continue\n",
        "\n",
        "def generate_line_case(g, rMax, x, alpha_in_degrees, i, gap):\n",
        "  x = abs(x)\n",
        "  alpha = math.radians(alpha_in_degrees)\n",
        "  r = math.sqrt(x*x + 4*i*i*g*g*gap*gap - 4*g*gap*i*x*math.cos(alpha))\n",
        "  dfi = math.asin((2*g*gap*i*math.sin(alpha))/r)\n",
        "  if x - i * 2 * g * gap * math.cos(alpha) > 0:\n",
        "    fi = math.pi - dfi\n",
        "  else:\n",
        "    fi = dfi\n",
        "  #rMin = math.sin(alpha) * x\n",
        "  #r = np.random.uniform(rMin, rMax)\n",
        "  #fi = alpha + math.asin((x * math.sin(alpha)) / r)\n",
        "  can_continue = r <= rMax\n",
        "  if r < 50:\n",
        "    return rMax * 2, fi, can_continue\n",
        "  return r, fi, can_continue"
      ],
      "execution_count": null,
      "outputs": []
    },
    {
      "cell_type": "code",
      "metadata": {
        "id": "OSFM3B54PZ-A"
      },
      "source": [
        "def generate(h, l, m, n, rMax, g, test_case, values, gap=1, rMin=50):\n",
        "  gamma = (2 * math.pi) / m\n",
        "  psi = math.asin(l/h)\n",
        "  M = []\n",
        "  masks = []\n",
        "  precedents = 0\n",
        "  started = False\n",
        "  for precedents in range(n):\n",
        "  #while precedents < n:\n",
        "    # gMin = r * math.sin(gamma/2)\n",
        "    if test_case == TestCases.ROUND_CASE:\n",
        "      r, fi, can_continue = generate_round_case(g, psi, values['radius'], precedents, gap)\n",
        "      if not can_continue:\n",
        "        break\n",
        "    elif test_case == TestCases.HORIZONTAL_CASE:\n",
        "      r, fi, can_continue = generate_horizontal_case(g, values['k'], precedents, gap)\n",
        "      if not can_continue:\n",
        "        break\n",
        "    elif test_case == TestCases.LINE_CASE:\n",
        "      r, fi, can_continue = generate_line_case(g, rMax, values['x_start'], values['alpha_in_degrees'], precedents, gap)\n",
        "      if not can_continue:\n",
        "        break\n",
        "    elif test_case == TestCases.VERTICAL_CASE:\n",
        "      r, fi, can_continue = generate_vertical_case(g, values['rMax'], precedents, gap, rMin)\n",
        "      if not can_continue:\n",
        "        break\n",
        "    elif test_case == TestCases.FROM_CENTER:\n",
        "      r, fi, can_continue = generate_from_center_case(g, rMax, values['alpha_in_degrees'], precedents, gap, started)\n",
        "      if not can_continue:\n",
        "        break\n",
        "    if fi < psi + math.asin(g/r) or fi > math.pi - psi - math.asin(g/r):\n",
        "      continue\n",
        "    r_b = math.sqrt(h*h + r*r - 2*h*r*math.cos(fi))\n",
        "    if g > r_b:  \n",
        "      continue     \n",
        "    fi_b = math.pi - math.acos((h - r * math.cos(fi)) / math.sqrt(h*h + r*r - 2*h*r*math.cos(fi)))\n",
        "    L_b = math.floor((m / (2 * math.pi)) * (fi_b - math.asin(g / r_b)))\n",
        "    R_b = math.floor((m / (2 * math.pi)) * (fi_b + math.asin(g / r_b)))\n",
        "    r_a = math.sqrt(h*h + r*r + 2*h*r*math.cos(fi))\n",
        "    if g > r_a:   \n",
        "      continue   \n",
        "    fi_a = math.acos((h + r * math.cos(fi)) / math.sqrt(h*h + r*r + 2*h*r*math.cos(fi)))\n",
        "    L_a = math.floor((m / (2 * math.pi)) * (fi_a - math.asin(g / r_a)))\n",
        "    R_a = math.floor((m / (2 * math.pi)) * (fi_a + math.asin(g / r_a)))\n",
        "    if L_a < 0:\n",
        "      continue\n",
        "    if R_b >= m//2:\n",
        "      continue\n",
        "    beta_A = [0] * (m//2)\n",
        "    beta_B = [0] * (m//2)\n",
        "    for j in range(L_a, R_a + 1):\n",
        "        beta_A[j] = 1\n",
        "    for j in range(L_b, R_b + 1):\n",
        "        beta_B[j] = 1\n",
        "    started = True\n",
        "    M.append(beta_A + beta_B + [r, fi, g, r*math.cos(fi), r*math.sin(fi), h, l])\n",
        "  M = sorted(M, key=lambda x: x[723])\n",
        "  return M"
      ],
      "execution_count": null,
      "outputs": []
    },
    {
      "cell_type": "code",
      "metadata": {
        "id": "WEPdbV3KN31Q"
      },
      "source": [
        "class Supp:\n",
        "  r_start = 50"
      ],
      "execution_count": null,
      "outputs": []
    },
    {
      "cell_type": "markdown",
      "metadata": {
        "id": "x_7pJimOitvf"
      },
      "source": [
        "# Генерация данных для спец. экспериментов"
      ]
    },
    {
      "cell_type": "code",
      "metadata": {
        "id": "0nvRBvkGhxmY"
      },
      "source": [
        "def generate_special_round_case(g, psi, r, i, n):\n",
        "  fi_start = psi + math.asin(g/r) + 0.00001\n",
        "  fi_end = math.pi - psi - math.asin(g/r) - 0.00001\n",
        "  dfi = (fi_end - fi_start) / (n - 1)\n",
        "  fi = fi_start + dfi * i\n",
        "  return r, fi\n",
        "\n",
        "def generate_special_horizontal_case(g, r0, k, i, n, is_started, psi):\n",
        "  fi_start = psi + math.asin(g/r0) + 0.00001\n",
        "  fi_end = math.pi - psi - math.asin(g/r0) - 0.00001\n",
        "  if n > 1:\n",
        "    x0 = r0 * math.cos(math.asin(k/r0))\n",
        "    dx = (2 * x0) / (n-1)\n",
        "    x = x0 - dx * i\n",
        "  else:\n",
        "    x = 0\n",
        "  if is_started:\n",
        "    r = math.sqrt(x*x + k*k)\n",
        "  else:\n",
        "    r0 -= 10\n",
        "    r = r0\n",
        "  if x < 0:\n",
        "    fi = math.pi - math.asin(k / r)\n",
        "  else:\n",
        "    fi = math.asin(k / r)\n",
        "  return r, fi, r0\n",
        "\n",
        "def generate_special_vertical_case(g, rMax, i, n):\n",
        "  rMin = 75\n",
        "  fi = math.pi / 2\n",
        "  dr = (rMax - rMin) / (n - 1)\n",
        "  r = rMin + i * dr\n",
        "  return r, fi\n",
        "\n",
        "def generate_horizontal_dataset(h, l, m, n, rMax, g, k):\n",
        "  gamma = (2 * math.pi) / m\n",
        "  psi = math.asin(l/h)\n",
        "  M = []\n",
        "  conf = {'r0': 10000}\n",
        "  is_started = False\n",
        "  precedents = 0\n",
        "  while precedents < n:\n",
        "    r, fi, r0 = generate_special_horizontal_case(g, conf['r0'], k, precedents, n, is_started, psi)\n",
        "    conf['r0'] = r0\n",
        "    if fi < psi + math.asin(g/r) or fi > math.pi - psi - math.asin(g/r):\n",
        "      continue\n",
        "    r_b = math.sqrt(h*h + r*r - 2*h*r*math.cos(fi))\n",
        "    if g > r_b:  \n",
        "      continue     \n",
        "    fi_b = math.pi - math.acos((h - r * math.cos(fi)) / math.sqrt(h*h + r*r - 2*h*r*math.cos(fi)))\n",
        "    L_b = math.floor((m / (2 * math.pi)) * (fi_b - math.asin(g / r_b)))\n",
        "    R_b = math.floor((m / (2 * math.pi)) * (fi_b + math.asin(g / r_b)))\n",
        "    r_a = math.sqrt(h*h + r*r + 2*h*r*math.cos(fi))\n",
        "    if g > r_a:   \n",
        "      continue   \n",
        "    fi_a = math.acos((h + r * math.cos(fi)) / math.sqrt(h*h + r*r + 2*h*r*math.cos(fi)))\n",
        "    L_a = math.floor((m / (2 * math.pi)) * (fi_a - math.asin(g / r_a)))\n",
        "    R_a = math.floor((m / (2 * math.pi)) * (fi_a + math.asin(g / r_a)))\n",
        "    if L_a < 0:\n",
        "      continue\n",
        "    if R_b >= m//2:\n",
        "      continue\n",
        "    beta_A = [0] * (m//2)\n",
        "    beta_B = [0] * (m//2)\n",
        "    for j in range(L_a, R_a + 1):\n",
        "        beta_A[j] = 1\n",
        "    for j in range(L_b, R_b + 1):\n",
        "        beta_B[j] = 1\n",
        "    is_started = True\n",
        "    M.append(beta_A + beta_B + [r, fi, g, r*math.cos(fi), r*math.sin(fi), h, l])\n",
        "    precedents += 1\n",
        "  return M\n"
      ],
      "execution_count": null,
      "outputs": []
    },
    {
      "cell_type": "code",
      "metadata": {
        "id": "k8zGYK3BjaSW"
      },
      "source": [
        "dataset = generate_horizontal_dataset(h=40, l=20, m=720, rMax=1000, g=10, n=20, k=700) + generate_horizontal_dataset(h=40, l=20, m=720, rMax=1000, g=10, n=20, k=600) + generate_horizontal_dataset(h=40, l=20, m=720, rMax=1000, g=10, n=20, k=500)\n",
        "print(len(dataset))"
      ],
      "execution_count": null,
      "outputs": []
    },
    {
      "cell_type": "code",
      "metadata": {
        "id": "FwwA5Upw4bFA"
      },
      "source": [
        "visualize_dataset(dataset, 360, 1)"
      ],
      "execution_count": null,
      "outputs": []
    },
    {
      "cell_type": "code",
      "metadata": {
        "id": "stnvdCSQs4K0"
      },
      "source": [
        "def check_n_round_case(min_radius, g):\n",
        "  dataset = generate(h=40, l=20, m=720, rMax=1000, g=g, n=10000, test_case=TestCases.ROUND_CASE, values={'radius': min_radius}, gap=1)\n",
        "  return len(dataset)\n",
        "\n",
        "def check_n_horiz_case(min_k, g):\n",
        "  dataset = generate(h=40, l=20, m=720, rMax=1000, g=g, n=10000, test_case=TestCases.HORIZONTAL_CASE, values={'k': min_k}, gap=1)\n",
        "  return len(dataset)\n",
        "\n",
        "def check_n_vertical_case(min_k, g):\n",
        "  dataset = generate(h=40, l=20, m=720, rMax=1000, g=g, n=10000, test_case=TestCases.VERTICAL_CASE, values={'rMax': min_k}, gap=1)\n",
        "  return len(dataset)"
      ],
      "execution_count": null,
      "outputs": []
    },
    {
      "cell_type": "code",
      "metadata": {
        "id": "PD261u8XizgZ"
      },
      "source": [
        "def generate_special_dataset(h, l, m, n, rMax, g, test_case, values, gap=1):\n",
        "  gamma = (2 * math.pi) / m\n",
        "  psi = math.asin(l/h)\n",
        "  M = []\n",
        "  for precedents in range(n):\n",
        "    # gMin = r * math.sin(gamma/2)\n",
        "    if test_case == TestCases.ROUND_CASE:\n",
        "      r, fi = generate_special_round_case(g, psi, values['radius'], precedents, n)\n",
        "    elif test_case == TestCases.HORIZONTAL_CASE:\n",
        "      r, fi = generate_horizontal_case(g, values['k'], precedents, gap)\n",
        "    elif test_case == TestCases.VERTICAL_CASE:\n",
        "      r, fi = generate_special_vertical_case(g, values['rMax'], precedents, n)\n",
        "    if fi < psi + math.asin(g/r) or fi > math.pi - psi - math.asin(g/r):\n",
        "      continue\n",
        "    r_b = math.sqrt(h*h + r*r - 2*h*r*math.cos(fi))\n",
        "    if g > r_b:  \n",
        "      continue     \n",
        "    fi_b = math.pi - math.acos((h - r * math.cos(fi)) / math.sqrt(h*h + r*r - 2*h*r*math.cos(fi)))\n",
        "    L_b = math.floor((m / (2 * math.pi)) * (fi_b - math.asin(g / r_b)))\n",
        "    R_b = math.floor((m / (2 * math.pi)) * (fi_b + math.asin(g / r_b)))\n",
        "    r_a = math.sqrt(h*h + r*r + 2*h*r*math.cos(fi))\n",
        "    if g > r_a:   \n",
        "      continue   \n",
        "    fi_a = math.acos((h + r * math.cos(fi)) / math.sqrt(h*h + r*r + 2*h*r*math.cos(fi)))\n",
        "    L_a = math.floor((m / (2 * math.pi)) * (fi_a - math.asin(g / r_a)))\n",
        "    R_a = math.floor((m / (2 * math.pi)) * (fi_a + math.asin(g / r_a)))\n",
        "    if L_a < 0:\n",
        "      continue\n",
        "    if R_b >= m//2:\n",
        "      continue\n",
        "    beta_A = [0] * (m//2)\n",
        "    beta_B = [0] * (m//2)\n",
        "    for j in range(L_a, R_a + 1):\n",
        "        beta_A[j] = 1\n",
        "    for j in range(L_b, R_b + 1):\n",
        "        beta_B[j] = 1\n",
        "    M.append(beta_A + beta_B + [r, fi, g, r*math.cos(fi), r*math.sin(fi), h, l])\n",
        "  return M"
      ],
      "execution_count": null,
      "outputs": []
    },
    {
      "cell_type": "markdown",
      "metadata": {
        "id": "j9Wb59CMoEb3"
      },
      "source": [
        "# Визуализатор множества"
      ]
    },
    {
      "cell_type": "code",
      "metadata": {
        "id": "eWj94TeZVTB3"
      },
      "source": [
        "def visualize_dataset(dataset, m, step):\n",
        "  k = 0\n",
        "  #fig, axes = plt.subplots(figsize=(10, 10))\n",
        "  fig = plt.figure(figsize=(10, 10), dpi=100) \n",
        "  axes = fig.add_subplot(111, aspect='equal')\n",
        "  up = 0\n",
        "  bottom = -50\n",
        "  left = -100\n",
        "  right = 100\n",
        "  for i in range(0, len(dataset), step):\n",
        "      k += 1\n",
        "      precedent = dataset[i]\n",
        "      gObj = float(precedent[2 * m + 2])\n",
        "      xObj = float(precedent[2 * m + 3])\n",
        "      if xObj > right:\n",
        "        right = xObj + gObj + 10\n",
        "      if xObj < left:\n",
        "        left = xObj - gObj - 10\n",
        "      yObj = float(precedent[2 * m + 4])\n",
        "      if yObj > up:\n",
        "        up = yObj + gObj + 10\n",
        "      h = float(precedent[2 * m + 5])\n",
        "      l = float(precedent[2 * m + 6])\n",
        "      \n",
        "      if i == 0:\n",
        "          axes.add_patch(plt.Circle((h, 0), l, color='black', fill=False))\n",
        "          axes.add_patch(plt.Circle((-h, 0), l, color='black', fill=False))\n",
        "      axes.add_patch(plt.Circle((xObj, yObj), gObj, color='orangered', fill=False))\n",
        "  print(k, '/', len(dataset))\n",
        "  up = 1020\n",
        "  bottom = -50\n",
        "  left = -900\n",
        "  right = 900\n",
        "  plt.axis([left, right, bottom, up])\n",
        "  plt.grid()\n",
        "  fig.show()\n",
        "  fig.savefig('plot.png', bbox_inches='tight')\n",
        "  return 'plot.png'"
      ],
      "execution_count": null,
      "outputs": []
    },
    {
      "cell_type": "code",
      "metadata": {
        "id": "YvUfIwHcPrOu"
      },
      "source": [
        "visualize_dataset(d, 360, 1)"
      ],
      "execution_count": null,
      "outputs": []
    },
    {
      "cell_type": "markdown",
      "metadata": {
        "id": "fBTyq6NSoKzA"
      },
      "source": [
        "# Wandb"
      ]
    },
    {
      "cell_type": "code",
      "metadata": {
        "id": "ge42qTMPTLTY"
      },
      "source": [
        "!pip install wandb -qqq\n",
        "!apt install tree"
      ],
      "execution_count": null,
      "outputs": []
    },
    {
      "cell_type": "code",
      "metadata": {
        "id": "5ZTXrg0iTMhJ"
      },
      "source": [
        "import os\n",
        "import wandb\n",
        "from collections import namedtuple\n",
        "Dataset = namedtuple(\"Dataset\", [\"x\", \"r\", \"fi\"])\n",
        "\n",
        "def load(datasets_list):\n",
        "  datasets = []\n",
        "  for dataset in datasets_list:\n",
        "    x, y_r, y_fi = [], [], []\n",
        "    for row in dataset:\n",
        "      x.append(row[:720])\n",
        "      y_r.append(row[720])\n",
        "      y_fi.append(row[721])\n",
        "    dataset = Dataset(x, y_r, y_fi)\n",
        "    datasets.append(dataset)\n",
        "  return datasets"
      ],
      "execution_count": null,
      "outputs": []
    },
    {
      "cell_type": "code",
      "metadata": {
        "id": "Jy0ylSBUTZSN"
      },
      "source": [
        "wandb.login()"
      ],
      "execution_count": null,
      "outputs": []
    },
    {
      "cell_type": "markdown",
      "metadata": {
        "id": "I-y-synaoQdg"
      },
      "source": [
        "# Test"
      ]
    },
    {
      "cell_type": "code",
      "metadata": {
        "id": "fjuKe2gOoM0R"
      },
      "source": [
        "from sklearn.metrics import r2_score, mean_absolute_error\n",
        "from sklearn.utils.validation import check_consistent_length, check_array\n",
        "\n",
        "def mean_absolute_percentage_error(y_true, y_pred,\n",
        "                                   sample_weight=None,\n",
        "                                   multioutput='uniform_average'):\n",
        "    y_type, y_true, y_pred, multioutput = _check_reg_targets(\n",
        "        y_true, y_pred, multioutput)\n",
        "    check_consistent_length(y_true, y_pred, sample_weight)\n",
        "    epsilon = np.finfo(np.float64).eps\n",
        "    mape = np.abs(y_pred - y_true) / np.maximum(np.abs(y_true), epsilon)\n",
        "    output_errors = np.average(mape,\n",
        "                               weights=sample_weight, axis=0)\n",
        "    if isinstance(multioutput, str):\n",
        "        if multioutput == 'raw_values':\n",
        "            return output_errors\n",
        "        elif multioutput == 'uniform_average':\n",
        "            # pass None as weights to np.average: uniform mean\n",
        "            multioutput = None\n",
        "\n",
        "    return np.average(output_errors, weights=multioutput)\n",
        "\n",
        "def _check_reg_targets(y_true, y_pred, multioutput, dtype=\"numeric\"):\n",
        "    check_consistent_length(y_true, y_pred)\n",
        "    y_true = check_array(y_true, ensure_2d=False, dtype=dtype)\n",
        "    y_pred = check_array(y_pred, ensure_2d=False, dtype=dtype)\n",
        "\n",
        "    if y_true.ndim == 1:\n",
        "        y_true = y_true.reshape((-1, 1))\n",
        "\n",
        "    if y_pred.ndim == 1:\n",
        "        y_pred = y_pred.reshape((-1, 1))\n",
        "\n",
        "    if y_true.shape[1] != y_pred.shape[1]:\n",
        "        raise ValueError(\"y_true and y_pred have different number of output \"\n",
        "                         \"({0}!={1})\".format(y_true.shape[1], y_pred.shape[1]))\n",
        "\n",
        "    n_outputs = y_true.shape[1]\n",
        "    allowed_multioutput_str = ('raw_values', 'uniform_average',\n",
        "                               'variance_weighted')\n",
        "    if isinstance(multioutput, str):\n",
        "        if multioutput not in allowed_multioutput_str:\n",
        "            raise ValueError(\"Allowed 'multioutput' string values are {}. \"\n",
        "                             \"You provided multioutput={!r}\".format(\n",
        "                                 allowed_multioutput_str,\n",
        "                                 multioutput))\n",
        "    elif multioutput is not None:\n",
        "        multioutput = check_array(multioutput, ensure_2d=False)\n",
        "        if n_outputs == 1:\n",
        "            raise ValueError(\"Custom weights are useful only in \"\n",
        "                             \"multi-output cases.\")\n",
        "        elif n_outputs != len(multioutput):\n",
        "            raise ValueError((\"There must be equally many custom weights \"\n",
        "                              \"(%d) as outputs (%d).\") %\n",
        "                             (len(multioutput), n_outputs))\n",
        "    y_type = 'continuous' if n_outputs == 1 else 'continuous-multioutput'\n",
        "\n",
        "    return y_type, y_true, y_pred, multioutput"
      ],
      "execution_count": null,
      "outputs": []
    },
    {
      "cell_type": "code",
      "metadata": {
        "id": "tF-c-8M8obO0"
      },
      "source": [
        "models_info = [{'title': 'solar-sweep-2', 'wandb_rep': 'distance_trained_model', 'version': 'v46', 'pred_type': 'Distance'},  \n",
        "               {'title': 'revived-sweep-1', 'wandb_rep': 'angle_trained_model', 'version': 'v28', 'pred_type': 'Angle'}]      "
      ],
      "execution_count": null,
      "outputs": []
    },
    {
      "cell_type": "code",
      "metadata": {
        "id": "iqsX5wLUYWZv"
      },
      "source": [
        "with wandb.init(project=\"flatfasetgen\", job_type=\"experiments\") as run:\n",
        "  model_artifact = run.use_artifact(f\"{models_info[1]['wandb_rep']}:{models_info[1]['version']}\")\n",
        "  model_dir = model_artifact.download()\n",
        "  model_path = os.path.join(model_dir, models_info[1]['wandb_rep'])\n",
        "  angle_model = keras.models.load_model(model_dir)\n",
        "\n",
        "  model_artifact = run.use_artifact(f\"{models_info[0]['wandb_rep']}:{models_info[0]['version']}\")\n",
        "  model_dir = model_artifact.download()\n",
        "  model_path = os.path.join(model_dir, models_info[0]['wandb_rep'])\n",
        "  distance_model = keras.models.load_model(model_dir)"
      ],
      "execution_count": null,
      "outputs": []
    },
    {
      "cell_type": "code",
      "metadata": {
        "id": "I7_B6ezaogEH"
      },
      "source": [
        "import plotly\n",
        "import plotly.graph_objs as go\n",
        "import plotly.express as px\n",
        "from plotly.subplots import make_subplots\n",
        "import numpy as np\n",
        "import os\n",
        "from tensorflow import keras"
      ],
      "execution_count": null,
      "outputs": []
    },
    {
      "cell_type": "code",
      "metadata": {
        "id": "KyHOFyJnrpDY"
      },
      "source": [
        "r_list = [i for i in range(1000, 10001, 1000)]\n",
        "g_list = [5, 50,500]"
      ],
      "execution_count": null,
      "outputs": []
    },
    {
      "cell_type": "code",
      "metadata": {
        "id": "AuuYP6uI83Uq"
      },
      "source": [
        "g_info, hit_info = {}, {}\n",
        "for g in g_list:\n",
        "  print(g)\n",
        "  r_res, r_res2 = [], []\n",
        "  for r in r_list:\n",
        "    x, y = [], []\n",
        "    dataset = generate(h=40, l=20, m=720, rMax=50000, g=g, n=1000, test_case=TestCases.ROUND_CASE, values={'radius': r})\n",
        "    for precedent in dataset:\n",
        "      x.append(precedent[:720])\n",
        "      y.append(precedent[721])\n",
        "    y_pred = angle_model.predict(x)\n",
        "    counter, counter2 = 0, 0\n",
        "    for i in range(len(y)):\n",
        "      if abs(y[i] - y_pred[i]) < math.asin(g / r):\n",
        "        counter += 1\n",
        "    r_res.append(1 - mean_absolute_percentage_error(y, y_pred))\n",
        "    r_res2.append(counter / len(dataset))\n",
        "  g_info[g] = r_res\n",
        "  hit_info[g] = r_res2"
      ],
      "execution_count": null,
      "outputs": []
    },
    {
      "cell_type": "code",
      "metadata": {
        "id": "mwFXhRdYUQns"
      },
      "source": [
        "fig2 = go.Figure()\n",
        "for g in hit_info:\n",
        "  fig2.add_trace(go.Scatter(x=r_list[:], y=hit_info[g][:], mode='lines+markers',  name=f\"g = {g}\", line_shape='spline'))\n",
        "fig2.update_layout(legend_orientation=\"h\",\n",
        "                  legend=dict(yanchor=\"top\",y=1.1,xanchor=\"right\",x=1.0),\n",
        "                  title=f\"Circle movement  / angle\",\n",
        "                  xaxis_title=\"rObj\",\n",
        "                  yaxis_title=\"'Hit rate'\",\n",
        "                  autosize=False,\n",
        "                  width=800, height=500)"
      ],
      "execution_count": null,
      "outputs": []
    },
    {
      "cell_type": "code",
      "metadata": {
        "id": "gFVndU8BqrNK"
      },
      "source": [
        "fig = go.Figure()\n",
        "for g in g_info:\n",
        "  fig.add_trace(go.Scatter(x=r_list[:], y=g_info[g][:], mode='lines+markers',  name=f\"g = {g}\", line_shape='spline'))\n",
        "fig.update_layout(legend_orientation=\"h\",\n",
        "                  legend=dict(yanchor=\"top\",y=1.1,xanchor=\"right\",x=1.0),\n",
        "                  title=f\"Circle movement  / angle\",\n",
        "                  xaxis_title=\"rObj\",\n",
        "                  yaxis_title=\"1 - MAPE\",\n",
        "                  autosize=False,\n",
        "                  width=800, height=500)"
      ],
      "execution_count": null,
      "outputs": []
    },
    {
      "cell_type": "markdown",
      "metadata": {
        "id": "y165Qbk445-D"
      },
      "source": [
        "# Test horiz"
      ]
    },
    {
      "cell_type": "code",
      "metadata": {
        "id": "KYnVmCkZ8qES"
      },
      "source": [
        "g_info_angle, g_info_dist = {}, {}\n",
        "for g in g_list:\n",
        "  fi_res, r_res = [], []\n",
        "  for cur_r in r_list:\n",
        "    x, r, fi = [], [], []\n",
        "    dataset = generate(h=40, l=20, m=720, rMax=50000, g=g, n=1000, test_case=TestCases.HORIZONTAL_CASE, values={'k': cur_r}, rMin=1000)\n",
        "    for precedent in dataset:\n",
        "      x.append(precedent[:720])\n",
        "      r.append(precedent[720])\n",
        "      fi.append(precedent[721])\n",
        "    fi_pred = angle_model.predict(x)\n",
        "    fi_res.append(1 - mean_absolute_percentage_error(fi, fi_pred))\n",
        "    r_pred = distance_model.predict(x)\n",
        "    r_res.append(abs(1 - mean_absolute_percentage_error(r, r_pred)))\n",
        "  g_info_angle[g] = fi_res\n",
        "  g_info_dist[g] = r_res\n",
        "  print(g)"
      ],
      "execution_count": null,
      "outputs": []
    },
    {
      "cell_type": "code",
      "metadata": {
        "id": "wgnQIu1b5rWU"
      },
      "source": [
        "fig101 = go.Figure()\n",
        "for g in g_info_angle:\n",
        "  fig101.add_trace(go.Scatter(x=r_list[:], y=g_info_angle[g][:], mode='lines+markers',  name=f\"g = {get_g(g)}\", line_shape='spline'))\n",
        "fig101.update_layout(legend_orientation=\"h\",\n",
        "                  legend=dict(yanchor=\"top\",y=1.1,xanchor=\"right\",x=1.0),\n",
        "                  title=f\"Horizontal movement / angle\",\n",
        "                  xaxis_title=\"rObj_min\",\n",
        "                  yaxis_title=\"1 - MAPE\",\n",
        "                  autosize=False,\n",
        "                  width=800, height=500)"
      ],
      "execution_count": null,
      "outputs": []
    },
    {
      "cell_type": "code",
      "metadata": {
        "id": "bCDDrqiC77j7"
      },
      "source": [
        "fig121 = go.Figure()\n",
        "for g in g_info_dist:\n",
        "  fig121.add_trace(go.Scatter(x=r_list[:], y=g_info_dist[g][:], mode='lines+markers',  name=f\"g = {get_g(g)}\", line_shape='spline'))\n",
        "fig121.update_layout(legend_orientation=\"h\",\n",
        "                  legend=dict(yanchor=\"top\",y=1.1,xanchor=\"right\",x=1.0),\n",
        "                  title=f\"Horizontal movement / distance\",\n",
        "                  xaxis_title=\"rObj_min\",\n",
        "                  yaxis_title=\"1 - MAPE\",\n",
        "                  autosize=False,\n",
        "                  width=800, height=500)"
      ],
      "execution_count": null,
      "outputs": []
    },
    {
      "cell_type": "markdown",
      "metadata": {
        "id": "nB5KdVJztFtH"
      },
      "source": [
        "# Test vert"
      ]
    },
    {
      "cell_type": "code",
      "metadata": {
        "id": "DqRmy-YdttKd"
      },
      "source": [
        "g_info = {}\n",
        "table = wandb.Table(columns=['g', 'rObj', '1 - MAPE'])\n",
        "for g in g_list:\n",
        "  r_res = []\n",
        "  for cur_r in r_list:\n",
        "    x, r = [], []\n",
        "    dataset = generate(h=40, l=20, m=720, rMax=50000, g=g, n=1000, test_case=TestCases.VERTICAL_CASE, values={'rMax': cur_r}, rMin=600)\n",
        "    for precedent in dataset:\n",
        "      x.append(precedent[:720])\n",
        "      r.append(precedent[720])\n",
        "    r_pred = distance_model.predict(x)\n",
        "    r_res.append(1 - mean_absolute_percentage_error(r, r_pred))\n",
        "    table.add_data(g, cur_r, 1 - mean_absolute_percentage_error(r, r_pred))\n",
        "  g_info[g] = r_res\n",
        "  print(g)"
      ],
      "execution_count": null,
      "outputs": []
    },
    {
      "cell_type": "code",
      "metadata": {
        "id": "PPttCSKBttKr"
      },
      "source": [
        "fig201 = go.Figure()\n",
        "for g in g_info:\n",
        "  fig201.add_trace(go.Scatter(x=r_list[:], y=g_info[g][:], mode='lines+markers',  name=f\"g = {get_g(g)}\", line_shape='spline'))\n",
        "fig201.update_layout(legend_orientation=\"h\",\n",
        "                  legend=dict(yanchor=\"top\",y=1.1,xanchor=\"right\",x=1.0),\n",
        "                  title=f\"Vertical movement / distance\",\n",
        "                  xaxis_title=\"rObj_max\",\n",
        "                  yaxis_title=\"1 - MAPE\",\n",
        "                  autosize=False,\n",
        "                  width=800, height=500)"
      ],
      "execution_count": null,
      "outputs": []
    },
    {
      "cell_type": "code",
      "metadata": {
        "id": "egh_mPb2S2U4"
      },
      "source": [
        "with wandb.init(project=\"flatfasetgen\", job_type=\"summary_plots\") as run:\n",
        "  run.log({\"Circle plot\": fig})\n",
        "  run.log({\"Hit plot\": fig2})\n",
        "  run.log({\"Horiz plot (angle)\": fig101})\n",
        "  run.log({\"Horiz plot (distance)\": fig121})\n",
        "  run.log({\"Vertical plot\": fig201})"
      ],
      "execution_count": null,
      "outputs": []
    }
  ]
}