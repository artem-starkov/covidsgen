{
  "nbformat": 4,
  "nbformat_minor": 0,
  "metadata": {
    "colab": {
      "name": "Datasets Generator.ipynb",
      "provenance": [],
      "collapsed_sections": [
        "uAd0OIoMBj4x",
        "cmsxhhJnB6X7"
      ]
    },
    "kernelspec": {
      "display_name": "Python 3",
      "name": "python3"
    },
    "language_info": {
      "name": "python"
    },
    "widgets": {
      "application/vnd.jupyter.widget-state+json": {
        "44f0a0df5c164893aec47168f56fb7f7": {
          "model_module": "@jupyter-widgets/controls",
          "model_name": "VBoxModel",
          "model_module_version": "1.5.0",
          "state": {
            "_dom_classes": [],
            "_model_module": "@jupyter-widgets/controls",
            "_model_module_version": "1.5.0",
            "_model_name": "VBoxModel",
            "_view_count": null,
            "_view_module": "@jupyter-widgets/controls",
            "_view_module_version": "1.5.0",
            "_view_name": "VBoxView",
            "box_style": "",
            "children": [
              "IPY_MODEL_7aa31eae6e8c47a7b74b29e822b917de",
              "IPY_MODEL_d54293a3d6094236bcd8ee03a0126431"
            ],
            "layout": "IPY_MODEL_99eb4ae524e94142ae3098ada5e9df3d"
          }
        },
        "7aa31eae6e8c47a7b74b29e822b917de": {
          "model_module": "@jupyter-widgets/controls",
          "model_name": "LabelModel",
          "model_module_version": "1.5.0",
          "state": {
            "_dom_classes": [],
            "_model_module": "@jupyter-widgets/controls",
            "_model_module_version": "1.5.0",
            "_model_name": "LabelModel",
            "_view_count": null,
            "_view_module": "@jupyter-widgets/controls",
            "_view_module_version": "1.5.0",
            "_view_name": "LabelView",
            "description": "",
            "description_tooltip": null,
            "layout": "IPY_MODEL_4cdecb12ed9a4dabb755d1cfec6a8969",
            "placeholder": "​",
            "style": "IPY_MODEL_3278c82055ed43aab1977d7ffd712ce9",
            "value": " 1377.11MB of 1377.11MB uploaded (0.00MB deduped)\r"
          }
        },
        "d54293a3d6094236bcd8ee03a0126431": {
          "model_module": "@jupyter-widgets/controls",
          "model_name": "FloatProgressModel",
          "model_module_version": "1.5.0",
          "state": {
            "_dom_classes": [],
            "_model_module": "@jupyter-widgets/controls",
            "_model_module_version": "1.5.0",
            "_model_name": "FloatProgressModel",
            "_view_count": null,
            "_view_module": "@jupyter-widgets/controls",
            "_view_module_version": "1.5.0",
            "_view_name": "ProgressView",
            "bar_style": "",
            "description": "",
            "description_tooltip": null,
            "layout": "IPY_MODEL_a6b4377906d7458fad4ffeae6d53e50c",
            "max": 1,
            "min": 0,
            "orientation": "horizontal",
            "style": "IPY_MODEL_7cb0a051506e464890bea584466a5f81",
            "value": 1
          }
        },
        "99eb4ae524e94142ae3098ada5e9df3d": {
          "model_module": "@jupyter-widgets/base",
          "model_name": "LayoutModel",
          "model_module_version": "1.2.0",
          "state": {
            "_model_module": "@jupyter-widgets/base",
            "_model_module_version": "1.2.0",
            "_model_name": "LayoutModel",
            "_view_count": null,
            "_view_module": "@jupyter-widgets/base",
            "_view_module_version": "1.2.0",
            "_view_name": "LayoutView",
            "align_content": null,
            "align_items": null,
            "align_self": null,
            "border": null,
            "bottom": null,
            "display": null,
            "flex": null,
            "flex_flow": null,
            "grid_area": null,
            "grid_auto_columns": null,
            "grid_auto_flow": null,
            "grid_auto_rows": null,
            "grid_column": null,
            "grid_gap": null,
            "grid_row": null,
            "grid_template_areas": null,
            "grid_template_columns": null,
            "grid_template_rows": null,
            "height": null,
            "justify_content": null,
            "justify_items": null,
            "left": null,
            "margin": null,
            "max_height": null,
            "max_width": null,
            "min_height": null,
            "min_width": null,
            "object_fit": null,
            "object_position": null,
            "order": null,
            "overflow": null,
            "overflow_x": null,
            "overflow_y": null,
            "padding": null,
            "right": null,
            "top": null,
            "visibility": null,
            "width": null
          }
        },
        "4cdecb12ed9a4dabb755d1cfec6a8969": {
          "model_module": "@jupyter-widgets/base",
          "model_name": "LayoutModel",
          "model_module_version": "1.2.0",
          "state": {
            "_model_module": "@jupyter-widgets/base",
            "_model_module_version": "1.2.0",
            "_model_name": "LayoutModel",
            "_view_count": null,
            "_view_module": "@jupyter-widgets/base",
            "_view_module_version": "1.2.0",
            "_view_name": "LayoutView",
            "align_content": null,
            "align_items": null,
            "align_self": null,
            "border": null,
            "bottom": null,
            "display": null,
            "flex": null,
            "flex_flow": null,
            "grid_area": null,
            "grid_auto_columns": null,
            "grid_auto_flow": null,
            "grid_auto_rows": null,
            "grid_column": null,
            "grid_gap": null,
            "grid_row": null,
            "grid_template_areas": null,
            "grid_template_columns": null,
            "grid_template_rows": null,
            "height": null,
            "justify_content": null,
            "justify_items": null,
            "left": null,
            "margin": null,
            "max_height": null,
            "max_width": null,
            "min_height": null,
            "min_width": null,
            "object_fit": null,
            "object_position": null,
            "order": null,
            "overflow": null,
            "overflow_x": null,
            "overflow_y": null,
            "padding": null,
            "right": null,
            "top": null,
            "visibility": null,
            "width": null
          }
        },
        "3278c82055ed43aab1977d7ffd712ce9": {
          "model_module": "@jupyter-widgets/controls",
          "model_name": "DescriptionStyleModel",
          "model_module_version": "1.5.0",
          "state": {
            "_model_module": "@jupyter-widgets/controls",
            "_model_module_version": "1.5.0",
            "_model_name": "DescriptionStyleModel",
            "_view_count": null,
            "_view_module": "@jupyter-widgets/base",
            "_view_module_version": "1.2.0",
            "_view_name": "StyleView",
            "description_width": ""
          }
        },
        "a6b4377906d7458fad4ffeae6d53e50c": {
          "model_module": "@jupyter-widgets/base",
          "model_name": "LayoutModel",
          "model_module_version": "1.2.0",
          "state": {
            "_model_module": "@jupyter-widgets/base",
            "_model_module_version": "1.2.0",
            "_model_name": "LayoutModel",
            "_view_count": null,
            "_view_module": "@jupyter-widgets/base",
            "_view_module_version": "1.2.0",
            "_view_name": "LayoutView",
            "align_content": null,
            "align_items": null,
            "align_self": null,
            "border": null,
            "bottom": null,
            "display": null,
            "flex": null,
            "flex_flow": null,
            "grid_area": null,
            "grid_auto_columns": null,
            "grid_auto_flow": null,
            "grid_auto_rows": null,
            "grid_column": null,
            "grid_gap": null,
            "grid_row": null,
            "grid_template_areas": null,
            "grid_template_columns": null,
            "grid_template_rows": null,
            "height": null,
            "justify_content": null,
            "justify_items": null,
            "left": null,
            "margin": null,
            "max_height": null,
            "max_width": null,
            "min_height": null,
            "min_width": null,
            "object_fit": null,
            "object_position": null,
            "order": null,
            "overflow": null,
            "overflow_x": null,
            "overflow_y": null,
            "padding": null,
            "right": null,
            "top": null,
            "visibility": null,
            "width": null
          }
        },
        "7cb0a051506e464890bea584466a5f81": {
          "model_module": "@jupyter-widgets/controls",
          "model_name": "ProgressStyleModel",
          "model_module_version": "1.5.0",
          "state": {
            "_model_module": "@jupyter-widgets/controls",
            "_model_module_version": "1.5.0",
            "_model_name": "ProgressStyleModel",
            "_view_count": null,
            "_view_module": "@jupyter-widgets/base",
            "_view_module_version": "1.2.0",
            "_view_name": "StyleView",
            "bar_color": null,
            "description_width": ""
          }
        }
      }
    }
  },
  "cells": [
    {
      "cell_type": "code",
      "metadata": {
        "id": "Co4d7liinna5"
      },
      "source": [
        "import math\n",
        "import numpy as np\n",
        "import csv\n",
        "import os\n",
        "import matplotlib\n",
        "from tqdm import tqdm"
      ],
      "execution_count": null,
      "outputs": []
    },
    {
      "cell_type": "markdown",
      "metadata": {
        "id": "uAd0OIoMBj4x"
      },
      "source": [
        "# Старый метод генерации"
      ]
    },
    {
      "cell_type": "code",
      "metadata": {
        "id": "0fXRI022oUQl"
      },
      "source": [
        "def randomize(rMin, rMax, fiMin, fiMax, gMin, gMax):\n",
        "    rObj = np.random.uniform(rMin, rMax)\n",
        "    fiObj = np.random.uniform(fiMin, fiMax)\n",
        "    gObj = np.random.uniform(gMin, gMax)\n",
        "    xObj = rObj * math.cos(fiObj)\n",
        "    yObj = rObj * math.sin(fiObj)\n",
        "    return xObj, yObj, gObj, fiObj, rObj\n",
        "\n",
        "\n",
        "def valid(xObj, yObj, gObj, h, l):\n",
        "    t = math.sqrt(4 * pow(h, 2) - pow(l, 2)) * yObj\n",
        "    cond1 = t + l * xObj > l * h\n",
        "    cond2 = t - l * xObj > l * h\n",
        "    cond3 = abs(-l * xObj - t + l * h) > 2 * h * gObj\n",
        "    cond4 = abs(l * xObj - t + l * h) > 2 * h * gObj\n",
        "    return cond1 and cond2 and cond3 and cond4\n",
        "\n",
        "\n",
        "def F_a(x, y, r, h):\n",
        "    if y >= 0 and x + h >= 0:\n",
        "        return math.asin(y / r)\n",
        "    elif y >= 0 and x + h < 0:\n",
        "        return math.pi - math.asin(y / r)\n",
        "    elif y < 0 and x + h < 0:\n",
        "        return math.pi + math.asin(abs(y) / r)\n",
        "    elif y < 0 and x + h >= 0:\n",
        "        return 2 * math.pi - math.asin(abs(y) / r)\n",
        "\n",
        "\n",
        "def F_b(x, y, r, h):\n",
        "    if y >= 0 and x - h >= 0:\n",
        "        return math.asin(y / r)\n",
        "    elif y >= 0 and x - h < 0:\n",
        "        return math.pi - math.asin(y / r)\n",
        "    elif y < 0 and x - h < 0:\n",
        "        return math.pi + math.asin(abs(y) / r)\n",
        "    elif y < 0 and x - h >= 0:\n",
        "        return 2 * math.pi - math.asin(abs(y) / r)\n",
        "\n",
        "\n",
        "def count(xObj, yObj, h, gObj, m):\n",
        "    rA = math.sqrt(pow((xObj + h), 2) + pow(yObj, 2))\n",
        "    fiA = F_a(xObj, yObj, rA, h)\n",
        "    rB = math.sqrt(pow((xObj - h), 2) + pow(yObj, 2))\n",
        "    fiB = F_b(xObj, yObj, rB, h)\n",
        "    L_a = math.floor((m / (2 * math.pi)) * (fiA - math.asin(gObj / rA)))\n",
        "    R_a = math.floor((m / (2 * math.pi)) * (fiA + math.asin(gObj / rA)))\n",
        "    L_b = math.floor((m / (2 * math.pi)) * (fiB - math.asin(gObj / rB)))\n",
        "    R_b = math.floor((m / (2 * math.pi)) * (fiB + math.asin(gObj / rB)))\n",
        "    return L_a, R_a, L_b, R_b"
      ],
      "execution_count": null,
      "outputs": []
    },
    {
      "cell_type": "code",
      "metadata": {
        "id": "otKOQz-8mzx7"
      },
      "source": [
        "def generate_dataset(h, l, m, n, rMin, rMax, fiMin, fiMax, gMin, gMax, task_id):\n",
        "    M = []\n",
        "    precedents = 0\n",
        "    while precedents < n:\n",
        "        beta_A = [0] * m\n",
        "        beta_B = [0] * m\n",
        "        flag = False\n",
        "        while not flag:\n",
        "            xObj, yObj, gObj, fiObj, rObj = randomize(rMin, rMax, fiMin, fiMax, gMin, gMax)\n",
        "            if not valid(xObj, yObj, gObj, h, l):\n",
        "                continue\n",
        "            L_a, R_a, L_b, R_b = count(xObj, yObj, h, gObj, m)\n",
        "            flag = L_a != R_a\n",
        "        precedents += 1\n",
        "        for j in range(L_a, R_a + 1):\n",
        "            beta_A[j] = 1\n",
        "        for j in range(L_b, R_b + 1):\n",
        "            beta_B[j] = 1\n",
        "        M.append({'beta_A': beta_A, 'beta_B': beta_B, 'rObj': rObj, 'fiObj': fiObj,\n",
        "                  'gObj': gObj, 'xObj': xObj, 'yObj': yObj, 'h': h, 'l': l})\n",
        "    save_to_file(dataset_name=f'dataset_{task_id}',\n",
        "                         dataset_folder='', dataset=M, h=h, l=l,\n",
        "                         m=m, g_min=gMin, g_max=gMax, fi_min=fiMin, fi_max=fiMax, r_min=rMin,\n",
        "                         r_max=rMax, n=n)"
      ],
      "execution_count": null,
      "outputs": []
    },
    {
      "cell_type": "markdown",
      "metadata": {
        "id": "cmsxhhJnB6X7"
      },
      "source": [
        "# Сохранение в файл, анализ и очищение"
      ]
    },
    {
      "cell_type": "code",
      "metadata": {
        "id": "OFSaNYJRysWw"
      },
      "source": [
        "def save_to_file(dataset_name, dataset, h, l, m, gMax, rMin, rMax, n):\n",
        "    if not '.csv' in dataset_name:\n",
        "        dataset_name = dataset_name + '.csv'\n",
        "    with open(dataset_name, 'w', newline='') as output:\n",
        "        writer = csv.writer(output, delimiter=';')\n",
        "        meta_row = [h, l, m, gMax, rMin, rMax, n]\n",
        "        writer.writerow(meta_row)\n",
        "        for row in dataset:\n",
        "            #inserting_row = row['beta_A'] + row['beta_B'] + [row['r'], row['fi'], row['g']]\n",
        "            #writer.writerow(inserting_row)\n",
        "            writer.writerow(row)\n",
        "\n",
        "def count_repeats(dataset_path):\n",
        "    repeats = {}\n",
        "    with open(dataset_path) as file:\n",
        "        reader = csv.reader(file, delimiter=';')\n",
        "        meta_info = next(reader)\n",
        "        m = int(meta_info[2])//2\n",
        "        for row in reader:\n",
        "            mask = tuple(row[:2 * m])\n",
        "            if mask in repeats:\n",
        "                repeats[mask] += 1\n",
        "            else:\n",
        "                repeats[mask] = 1\n",
        "    return sum(repeats[mask] for mask in repeats) - len(repeats)\n",
        "\n",
        "\n",
        "def clean_dataset(filepath):\n",
        "    repeats = {}\n",
        "    clear_dataset = []\n",
        "    with open(filepath) as csv_file:\n",
        "        reader = csv.reader(csv_file, delimiter=';')\n",
        "        meta_info = next(reader)\n",
        "        clear_dataset.append(meta_info)\n",
        "        m = int(meta_info[2])\n",
        "        for row in reader:\n",
        "            mask = tuple(row[:2 * m])\n",
        "            if mask in repeats:\n",
        "                repeats[mask] += 1\n",
        "            else:\n",
        "                repeats[mask] = 1\n",
        "                clear_dataset.append(row)\n",
        "    path = 'clear_dataset.csv'\n",
        "    with open(path, 'w') as file:\n",
        "        writer = csv.writer(file, delimiter=';')\n",
        "        for row in clear_dataset:\n",
        "            writer.writerow(row)"
      ],
      "execution_count": null,
      "outputs": []
    },
    {
      "cell_type": "code",
      "metadata": {
        "id": "eq3J5yDiyA0x"
      },
      "source": [
        "save_to_file('dataset.csv', dataset, h=40, l=20, m=720, rMin=50, rMax=1000, gMax=100, n=10000)"
      ],
      "execution_count": null,
      "outputs": []
    },
    {
      "cell_type": "code",
      "metadata": {
        "id": "9ECSzffDoeWW"
      },
      "source": [
        ""
      ],
      "execution_count": null,
      "outputs": []
    },
    {
      "cell_type": "markdown",
      "metadata": {
        "id": "tlAsy-a0x8K_"
      },
      "source": [
        "# Обновленный алгоритм"
      ]
    },
    {
      "cell_type": "code",
      "metadata": {
        "id": "i-a1dZ4Yorxm"
      },
      "source": [
        "def generate(h, l, m, n, rMin, rMax, gMax):\n",
        "  gamma = (2 * math.pi) / m\n",
        "  psi = math.asin(l/h)\n",
        "  M = {} \n",
        "  precedents = 0\n",
        "  masks = []\n",
        "  while precedents < n:\n",
        "    r = rMin + math.sqrt(np.random.uniform(0, 1)) * rMax\n",
        "    gMin = r * math.sin(gamma/2)\n",
        "    if gMin > gMax:\n",
        "      continue\n",
        "    g = np.random.uniform(gMin, gMax)\n",
        "    if g > r:      \n",
        "      continue     \n",
        "    fi = np.random.uniform(psi + math.asin(g/r), math.pi - psi - math.asin(g/r))\n",
        "    r_b = math.sqrt(h*h + r*r - 2*h*r*math.cos(fi))\n",
        "    if g > r_b:    \n",
        "      continue     \n",
        "    fi_b = math.pi - math.acos((h - r * math.cos(fi)) / math.sqrt(h*h + r*r - 2*h*r*math.cos(fi)))\n",
        "    L_b = math.floor((m / (2 * math.pi)) * (fi_b - math.asin(g / r_b)))\n",
        "    R_b = math.floor((m / (2 * math.pi)) * (fi_b + math.asin(g / r_b)))\n",
        "    r_a = math.sqrt(h*h + r*r + 2*h*r*math.cos(fi))\n",
        "    if g > r_a:    \n",
        "      continue \n",
        "    fi_a = math.acos((h + r * math.cos(fi)) / math.sqrt(h*h + r*r + 2*h*r*math.cos(fi)))\n",
        "    L_a = math.floor((m / (2 * math.pi)) * (fi_a - math.asin(g / r_a)))\n",
        "    R_a = math.floor((m / (2 * math.pi)) * (fi_a + math.asin(g / r_a)))\n",
        "    if L_a < 0:\n",
        "      continue\n",
        "    if R_b >= m//2:\n",
        "      continue\n",
        "    beta_A = [0] * (m//2)\n",
        "    beta_B = [0] * (m//2)\n",
        "    for j in range(L_a, R_a + 1):\n",
        "        beta_A[j] = 1\n",
        "    for j in range(L_b, R_b + 1):\n",
        "        beta_B[j] = 1\n",
        "    M[tuple(beta_A + beta_B)] = [r, fi, g]\n",
        "    precedents = len(M)\n",
        "  return M"
      ],
      "execution_count": null,
      "outputs": []
    },
    {
      "cell_type": "code",
      "metadata": {
        "colab": {
          "base_uri": "https://localhost:8080/"
        },
        "id": "VPacvdi1sxC6",
        "outputId": "a0d8d431-c777-422e-edcf-7f52db4db575"
      },
      "source": [
        "dataset = generate(h=40, l=20, m=720, rMin=50, rMax=5000, gMax=500, n=100000)\n",
        "dataset = list(dataset.items())\n",
        "for i in range(len(dataset)):\n",
        "  dataset[i] = list(dataset[i][0]) + dataset[i][1]\n",
        "print(len(dataset))"
      ],
      "execution_count": null,
      "outputs": [
        {
          "name": "stdout",
          "output_type": "stream",
          "text": [
            "100000\n"
          ]
        }
      ]
    },
    {
      "cell_type": "markdown",
      "metadata": {
        "id": "ghlng2aFCDAY"
      },
      "source": [
        "# Создание артефактов"
      ]
    },
    {
      "cell_type": "code",
      "metadata": {
        "colab": {
          "base_uri": "https://localhost:8080/"
        },
        "id": "w72CFNhZ1T8w",
        "outputId": "a12145d3-dcda-4e8f-e1d7-3876c53c000a"
      },
      "source": [
        "!pip install wandb -qqq\n",
        "!apt install tree"
      ],
      "execution_count": null,
      "outputs": [
        {
          "name": "stdout",
          "output_type": "stream",
          "text": [
            "\u001b[K     |████████████████████████████████| 1.7 MB 11.5 MB/s \n",
            "\u001b[K     |████████████████████████████████| 180 kB 69.1 MB/s \n",
            "\u001b[K     |████████████████████████████████| 97 kB 5.1 MB/s \n",
            "\u001b[K     |████████████████████████████████| 139 kB 68.5 MB/s \n",
            "\u001b[K     |████████████████████████████████| 63 kB 1.4 MB/s \n",
            "\u001b[?25h  Building wheel for subprocess32 (setup.py) ... \u001b[?25l\u001b[?25hdone\n",
            "  Building wheel for pathtools (setup.py) ... \u001b[?25l\u001b[?25hdone\n",
            "Reading package lists... Done\n",
            "Building dependency tree       \n",
            "Reading state information... Done\n",
            "The following NEW packages will be installed:\n",
            "  tree\n",
            "0 upgraded, 1 newly installed, 0 to remove and 37 not upgraded.\n",
            "Need to get 40.7 kB of archives.\n",
            "After this operation, 105 kB of additional disk space will be used.\n",
            "Get:1 http://archive.ubuntu.com/ubuntu bionic/universe amd64 tree amd64 1.7.0-5 [40.7 kB]\n",
            "Fetched 40.7 kB in 0s (751 kB/s)\n",
            "Selecting previously unselected package tree.\n",
            "(Reading database ... 155219 files and directories currently installed.)\n",
            "Preparing to unpack .../tree_1.7.0-5_amd64.deb ...\n",
            "Unpacking tree (1.7.0-5) ...\n",
            "Setting up tree (1.7.0-5) ...\n",
            "Processing triggers for man-db (2.8.3-2ubuntu0.1) ...\n"
          ]
        }
      ]
    },
    {
      "cell_type": "code",
      "metadata": {
        "id": "hLy3TiKV1Wau"
      },
      "source": [
        "import os\n",
        "import wandb"
      ],
      "execution_count": null,
      "outputs": []
    },
    {
      "cell_type": "code",
      "metadata": {
        "colab": {
          "base_uri": "https://localhost:8080/"
        },
        "id": "xPvHBhO1wNAT",
        "outputId": "9092314d-74e7-415f-a8fc-e5ff39a2e167"
      },
      "source": [
        "len(dataset)"
      ],
      "execution_count": null,
      "outputs": [
        {
          "data": {
            "text/plain": [
              "250000"
            ]
          },
          "execution_count": 213,
          "metadata": {},
          "output_type": "execute_result"
        }
      ]
    },
    {
      "cell_type": "code",
      "metadata": {
        "id": "h4C2tfsx1Z74"
      },
      "source": [
        "from collections import namedtuple\n",
        "Dataset = namedtuple(\"Dataset\", [\"x\", \"r\", \"fi\"])\n",
        "\n",
        "def load(dataset):\n",
        "    x, y_r, y_fi,  x2, y_r2, y_fi2 = [], [], [], [], [], []\n",
        "    for i, row in enumerate(dataset):\n",
        "      if i % 5 == 0:\n",
        "        x2.append(row[:720])\n",
        "        y_r2.append(row[720])\n",
        "        y_fi2.append(row[721])\n",
        "      else:\n",
        "        x.append(row[:720])\n",
        "        y_r.append(row[720])\n",
        "        y_fi.append(row[721])\n",
        "    dataset_train = Dataset(x, y_r, y_fi)\n",
        "    dataset_test = Dataset(x2, y_r2, y_fi2)\n",
        "    #fi_set = Dataset(x, y_fi)\n",
        "    datasets = [dataset_train, dataset_test]\n",
        "    return datasets"
      ],
      "execution_count": null,
      "outputs": []
    },
    {
      "cell_type": "code",
      "metadata": {
        "colab": {
          "base_uri": "https://localhost:8080/",
          "height": 69
        },
        "id": "IwyAQ9_v3BTd",
        "outputId": "e75bb5f2-2d5c-4a8c-8296-fdf23052eb09"
      },
      "source": [
        "wandb.login()"
      ],
      "execution_count": null,
      "outputs": [
        {
          "data": {
            "application/javascript": [
              "\n",
              "        window._wandbApiKey = new Promise((resolve, reject) => {\n",
              "            function loadScript(url) {\n",
              "            return new Promise(function(resolve, reject) {\n",
              "                let newScript = document.createElement(\"script\");\n",
              "                newScript.onerror = reject;\n",
              "                newScript.onload = resolve;\n",
              "                document.body.appendChild(newScript);\n",
              "                newScript.src = url;\n",
              "            });\n",
              "            }\n",
              "            loadScript(\"https://cdn.jsdelivr.net/npm/postmate/build/postmate.min.js\").then(() => {\n",
              "            const iframe = document.createElement('iframe')\n",
              "            iframe.style.cssText = \"width:0;height:0;border:none\"\n",
              "            document.body.appendChild(iframe)\n",
              "            const handshake = new Postmate({\n",
              "                container: iframe,\n",
              "                url: 'https://wandb.ai/authorize'\n",
              "            });\n",
              "            const timeout = setTimeout(() => reject(\"Couldn't auto authenticate\"), 5000)\n",
              "            handshake.then(function(child) {\n",
              "                child.on('authorize', data => {\n",
              "                    clearTimeout(timeout)\n",
              "                    resolve(data)\n",
              "                });\n",
              "            });\n",
              "            })\n",
              "        });\n",
              "    "
            ],
            "text/plain": [
              "<IPython.core.display.Javascript object>"
            ]
          },
          "metadata": {},
          "output_type": "display_data"
        },
        {
          "name": "stderr",
          "output_type": "stream",
          "text": [
            "\u001b[34m\u001b[1mwandb\u001b[0m: Appending key for api.wandb.ai to your netrc file: /root/.netrc\n"
          ]
        },
        {
          "data": {
            "text/plain": [
              "True"
            ]
          },
          "execution_count": 46,
          "metadata": {},
          "output_type": "execute_result"
        }
      ]
    },
    {
      "cell_type": "code",
      "metadata": {
        "colab": {
          "base_uri": "https://localhost:8080/",
          "height": 159,
          "referenced_widgets": [
            "44f0a0df5c164893aec47168f56fb7f7",
            "7aa31eae6e8c47a7b74b29e822b917de",
            "d54293a3d6094236bcd8ee03a0126431",
            "99eb4ae524e94142ae3098ada5e9df3d",
            "4cdecb12ed9a4dabb755d1cfec6a8969",
            "3278c82055ed43aab1977d7ffd712ce9",
            "a6b4377906d7458fad4ffeae6d53e50c",
            "7cb0a051506e464890bea584466a5f81"
          ]
        },
        "id": "3gn2hjmzoVvi",
        "outputId": "65b03b9b-cdc1-45a1-e04b-8c2c6469f2b2"
      },
      "source": [
        "# 🚀 start a run, with a type to label it and a project it can call home\n",
        "with wandb.init(project=\"flatfasetgen\", job_type=\"load-data\") as run:\n",
        "    datasets = load(dataset)  # separate code for loading the datasets\n",
        "    names = [\"train_set\", \"test_set\"]\n",
        "    # 🏺 create our Artifact\n",
        "    raw_data = wandb.Artifact(\n",
        "        \"Clear_datasets\", type=\"dataset\",\n",
        "        description=\"Generated dataset with latest algo. Cleared. Sqrt distribution. 250k version. Linear distributed by distance\",\n",
        "        metadata={\"source\": \"Manually generated\",\n",
        "                  \"sizes\": [len(dataset.x) for dataset in datasets]})\n",
        "\n",
        "    for name, data in zip(names, datasets):\n",
        "        # 🐣 Store a new file in the artifact, and write something into its contents.\n",
        "        with raw_data.new_file(name + \".npz\", mode=\"wb\") as file:\n",
        "            np.savez(file, x=data.x, r=data.r, fi=data.fi)\n",
        "\n",
        "    # ✍️ Save the artifact to W&B.\n",
        "    run.log_artifact(raw_data)"
      ],
      "execution_count": null,
      "outputs": [
        {
          "name": "stderr",
          "output_type": "stream",
          "text": [
            "\u001b[34m\u001b[1mwandb\u001b[0m: Currently logged in as: \u001b[33martem-starkov\u001b[0m (use `wandb login --relogin` to force relogin)\n"
          ]
        },
        {
          "data": {
            "text/html": [
              "\n",
              "                    Syncing run <strong><a href=\"https://wandb.ai/artem-starkov/flatfasetgen/runs/14hx4qro\" target=\"_blank\">efficient-durian-407</a></strong> to <a href=\"https://wandb.ai/artem-starkov/flatfasetgen\" target=\"_blank\">Weights & Biases</a> (<a href=\"https://docs.wandb.com/integrations/jupyter.html\" target=\"_blank\">docs</a>).<br/>\n",
              "\n",
              "                "
            ],
            "text/plain": [
              "<IPython.core.display.HTML object>"
            ]
          },
          "metadata": {},
          "output_type": "display_data"
        },
        {
          "data": {
            "text/html": [
              "<br/>Waiting for W&B process to finish, PID 2053... <strong style=\"color:green\">(success).</strong>"
            ],
            "text/plain": [
              "<IPython.core.display.HTML object>"
            ]
          },
          "metadata": {},
          "output_type": "display_data"
        },
        {
          "data": {
            "application/vnd.jupyter.widget-view+json": {
              "model_id": "44f0a0df5c164893aec47168f56fb7f7",
              "version_major": 2,
              "version_minor": 0
            },
            "text/plain": [
              "VBox(children=(Label(value=' 1377.11MB of 1377.11MB uploaded (0.00MB deduped)\\r'), FloatProgress(value=1.0, ma…"
            ]
          },
          "metadata": {},
          "output_type": "display_data"
        },
        {
          "data": {
            "text/html": [
              "<style>\n",
              "    table.wandb td:nth-child(1) { padding: 0 10px; text-align: right }\n",
              "    .wandb-row { display: flex; flex-direction: row; flex-wrap: wrap; width: 100% }\n",
              "    .wandb-col { display: flex; flex-direction: column; flex-basis: 100%; flex: 1; padding: 10px; }\n",
              "    </style>\n",
              "<div class=\"wandb-row\"><div class=\"wandb-col\">\n",
              "</div><div class=\"wandb-col\">\n",
              "</div></div>\n",
              "Synced 4 W&B file(s), 0 media file(s), 2 artifact file(s) and 0 other file(s)\n",
              "<br/>Synced <strong style=\"color:#cdcd00\">efficient-durian-407</strong>: <a href=\"https://wandb.ai/artem-starkov/flatfasetgen/runs/14hx4qro\" target=\"_blank\">https://wandb.ai/artem-starkov/flatfasetgen/runs/14hx4qro</a><br/>\n",
              "Find logs at: <code>./wandb/run-20211103_214806-14hx4qro/logs</code><br/>\n"
            ],
            "text/plain": [
              "<IPython.core.display.HTML object>"
            ]
          },
          "metadata": {},
          "output_type": "display_data"
        }
      ]
    }
  ]
}