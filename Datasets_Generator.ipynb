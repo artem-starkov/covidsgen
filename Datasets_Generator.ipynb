{
  "nbformat": 4,
  "nbformat_minor": 0,
  "metadata": {
    "colab": {
      "name": "Datasets_Generator.ipynb",
      "provenance": [],
      "collapsed_sections": [
        "uAd0OIoMBj4x",
        "cmsxhhJnB6X7"
      ]
    },
    "kernelspec": {
      "display_name": "Python 3",
      "name": "python3"
    },
    "language_info": {
      "name": "python"
    }
  },
  "cells": [
    {
      "cell_type": "code",
      "metadata": {
        "id": "Co4d7liinna5"
      },
      "source": [
        "import math\n",
        "import numpy as np\n",
        "import csv\n",
        "import os\n",
        "import matplotlib\n",
        "from tqdm import tqdm"
      ],
      "execution_count": null,
      "outputs": []
    },
    {
      "cell_type": "markdown",
      "metadata": {
        "id": "uAd0OIoMBj4x"
      },
      "source": [
        "# Старый метод генерации"
      ]
    },
    {
      "cell_type": "code",
      "metadata": {
        "id": "0fXRI022oUQl"
      },
      "source": [
        "def randomize(rMin, rMax, fiMin, fiMax, gMin, gMax):\n",
        "    rObj = np.random.uniform(rMin, rMax)\n",
        "    fiObj = np.random.uniform(fiMin, fiMax)\n",
        "    gObj = np.random.uniform(gMin, gMax)\n",
        "    xObj = rObj * math.cos(fiObj)\n",
        "    yObj = rObj * math.sin(fiObj)\n",
        "    return xObj, yObj, gObj, fiObj, rObj\n",
        "\n",
        "\n",
        "def valid(xObj, yObj, gObj, h, l):\n",
        "    t = math.sqrt(4 * pow(h, 2) - pow(l, 2)) * yObj\n",
        "    cond1 = t + l * xObj > l * h\n",
        "    cond2 = t - l * xObj > l * h\n",
        "    cond3 = abs(-l * xObj - t + l * h) > 2 * h * gObj\n",
        "    cond4 = abs(l * xObj - t + l * h) > 2 * h * gObj\n",
        "    return cond1 and cond2 and cond3 and cond4\n",
        "\n",
        "\n",
        "def F_a(x, y, r, h):\n",
        "    if y >= 0 and x + h >= 0:\n",
        "        return math.asin(y / r)\n",
        "    elif y >= 0 and x + h < 0:\n",
        "        return math.pi - math.asin(y / r)\n",
        "    elif y < 0 and x + h < 0:\n",
        "        return math.pi + math.asin(abs(y) / r)\n",
        "    elif y < 0 and x + h >= 0:\n",
        "        return 2 * math.pi - math.asin(abs(y) / r)\n",
        "\n",
        "\n",
        "def F_b(x, y, r, h):\n",
        "    if y >= 0 and x - h >= 0:\n",
        "        return math.asin(y / r)\n",
        "    elif y >= 0 and x - h < 0:\n",
        "        return math.pi - math.asin(y / r)\n",
        "    elif y < 0 and x - h < 0:\n",
        "        return math.pi + math.asin(abs(y) / r)\n",
        "    elif y < 0 and x - h >= 0:\n",
        "        return 2 * math.pi - math.asin(abs(y) / r)\n",
        "\n",
        "\n",
        "def count(xObj, yObj, h, gObj, m):\n",
        "    rA = math.sqrt(pow((xObj + h), 2) + pow(yObj, 2))\n",
        "    fiA = F_a(xObj, yObj, rA, h)\n",
        "    rB = math.sqrt(pow((xObj - h), 2) + pow(yObj, 2))\n",
        "    fiB = F_b(xObj, yObj, rB, h)\n",
        "    L_a = math.floor((m / (2 * math.pi)) * (fiA - math.asin(gObj / rA)))\n",
        "    R_a = math.floor((m / (2 * math.pi)) * (fiA + math.asin(gObj / rA)))\n",
        "    L_b = math.floor((m / (2 * math.pi)) * (fiB - math.asin(gObj / rB)))\n",
        "    R_b = math.floor((m / (2 * math.pi)) * (fiB + math.asin(gObj / rB)))\n",
        "    return L_a, R_a, L_b, R_b"
      ],
      "execution_count": null,
      "outputs": []
    },
    {
      "cell_type": "code",
      "metadata": {
        "id": "otKOQz-8mzx7"
      },
      "source": [
        "def generate_dataset(h, l, m, n, rMin, rMax, fiMin, fiMax, gMin, gMax, task_id):\n",
        "    M = []\n",
        "    precedents = 0\n",
        "    while precedents < n:\n",
        "        beta_A = [0] * m\n",
        "        beta_B = [0] * m\n",
        "        flag = False\n",
        "        while not flag:\n",
        "            xObj, yObj, gObj, fiObj, rObj = randomize(rMin, rMax, fiMin, fiMax, gMin, gMax)\n",
        "            if not valid(xObj, yObj, gObj, h, l):\n",
        "                continue\n",
        "            L_a, R_a, L_b, R_b = count(xObj, yObj, h, gObj, m)\n",
        "            flag = L_a != R_a\n",
        "        precedents += 1\n",
        "        for j in range(L_a, R_a + 1):\n",
        "            beta_A[j] = 1\n",
        "        for j in range(L_b, R_b + 1):\n",
        "            beta_B[j] = 1\n",
        "        M.append({'beta_A': beta_A, 'beta_B': beta_B, 'rObj': rObj, 'fiObj': fiObj,\n",
        "                  'gObj': gObj, 'xObj': xObj, 'yObj': yObj, 'h': h, 'l': l})\n",
        "    save_to_file(dataset_name=f'dataset_{task_id}',\n",
        "                         dataset_folder='', dataset=M, h=h, l=l,\n",
        "                         m=m, g_min=gMin, g_max=gMax, fi_min=fiMin, fi_max=fiMax, r_min=rMin,\n",
        "                         r_max=rMax, n=n)"
      ],
      "execution_count": null,
      "outputs": []
    },
    {
      "cell_type": "markdown",
      "metadata": {
        "id": "cmsxhhJnB6X7"
      },
      "source": [
        "# Сохранение в файл, анализ и очищение"
      ]
    },
    {
      "cell_type": "code",
      "metadata": {
        "id": "OFSaNYJRysWw"
      },
      "source": [
        "def save_to_file(dataset_name, dataset, h, l, m, gMax, rMin, rMax, n):\n",
        "    if not '.csv' in dataset_name:\n",
        "        dataset_name = dataset_name + '.csv'\n",
        "    with open(dataset_name, 'w', newline='') as output:\n",
        "        writer = csv.writer(output, delimiter=';')\n",
        "        meta_row = [h, l, m, gMax, rMin, rMax, n]\n",
        "        writer.writerow(meta_row)\n",
        "        for row in dataset:\n",
        "            #inserting_row = row['beta_A'] + row['beta_B'] + [row['r'], row['fi'], row['g']]\n",
        "            #writer.writerow(inserting_row)\n",
        "            writer.writerow(row)\n",
        "\n",
        "def count_repeats(dataset_path):\n",
        "    repeats = {}\n",
        "    with open(dataset_path) as file:\n",
        "        reader = csv.reader(file, delimiter=';')\n",
        "        meta_info = next(reader)\n",
        "        m = int(meta_info[2])//2\n",
        "        for row in reader:\n",
        "            mask = tuple(row[:2 * m])\n",
        "            if mask in repeats:\n",
        "                repeats[mask] += 1\n",
        "            else:\n",
        "                repeats[mask] = 1\n",
        "    return sum(repeats[mask] for mask in repeats) - len(repeats)\n",
        "\n",
        "\n",
        "def clean_dataset(filepath):\n",
        "    repeats = {}\n",
        "    clear_dataset = []\n",
        "    with open(filepath) as csv_file:\n",
        "        reader = csv.reader(csv_file, delimiter=';')\n",
        "        meta_info = next(reader)\n",
        "        clear_dataset.append(meta_info)\n",
        "        m = int(meta_info[2])\n",
        "        for row in reader:\n",
        "            mask = tuple(row[:2 * m])\n",
        "            if mask in repeats:\n",
        "                repeats[mask] += 1\n",
        "            else:\n",
        "                repeats[mask] = 1\n",
        "                clear_dataset.append(row)\n",
        "    path = 'clear_dataset.csv'\n",
        "    with open(path, 'w') as file:\n",
        "        writer = csv.writer(file, delimiter=';')\n",
        "        for row in clear_dataset:\n",
        "            writer.writerow(row)"
      ],
      "execution_count": null,
      "outputs": []
    },
    {
      "cell_type": "code",
      "metadata": {
        "id": "eq3J5yDiyA0x"
      },
      "source": [
        "save_to_file('dataset.csv', dataset, h=40, l=20, m=720, rMin=50, rMax=1000, gMax=100, n=10000)"
      ],
      "execution_count": null,
      "outputs": []
    },
    {
      "cell_type": "markdown",
      "metadata": {
        "id": "tlAsy-a0x8K_"
      },
      "source": [
        "# Обновленный алгоритм"
      ]
    },
    {
      "cell_type": "code",
      "metadata": {
        "id": "i-a1dZ4Yorxm"
      },
      "source": [
        "def generate(h, l, m, n, rMin, rMax, gMax):\n",
        "  gamma = (2 * math.pi) / m\n",
        "  psi = math.asin(l/h)\n",
        "  M = {} \n",
        "  precedents = 0\n",
        "  masks = []\n",
        "  while precedents < n:\n",
        "    r = rMin + math.sqrt(np.random.uniform(0, 1)) * rMax\n",
        "    gMin = r * math.sin(gamma/2)\n",
        "    if gMin > gMax:\n",
        "      continue\n",
        "    g = np.random.uniform(gMin, gMax)\n",
        "    if g > r:      \n",
        "      continue     \n",
        "    fi = np.random.uniform(psi + math.asin(g/r), math.pi - psi - math.asin(g/r))\n",
        "    r_b = math.sqrt(h*h + r*r - 2*h*r*math.cos(fi))\n",
        "    if g > r_b:    \n",
        "      continue     \n",
        "    fi_b = math.pi - math.acos((h - r * math.cos(fi)) / math.sqrt(h*h + r*r - 2*h*r*math.cos(fi)))\n",
        "    L_b = math.floor((m / (2 * math.pi)) * (fi_b - math.asin(g / r_b)))\n",
        "    R_b = math.floor((m / (2 * math.pi)) * (fi_b + math.asin(g / r_b)))\n",
        "    r_a = math.sqrt(h*h + r*r + 2*h*r*math.cos(fi))\n",
        "    if g > r_a:    \n",
        "      continue \n",
        "    fi_a = math.acos((h + r * math.cos(fi)) / math.sqrt(h*h + r*r + 2*h*r*math.cos(fi)))\n",
        "    L_a = math.floor((m / (2 * math.pi)) * (fi_a - math.asin(g / r_a)))\n",
        "    R_a = math.floor((m / (2 * math.pi)) * (fi_a + math.asin(g / r_a)))\n",
        "    if L_a < 0:\n",
        "      continue\n",
        "    if R_b >= m//2:\n",
        "      continue\n",
        "    beta_A = [0] * (m//2)\n",
        "    beta_B = [0] * (m//2)\n",
        "    for j in range(L_a, R_a + 1):\n",
        "        beta_A[j] = 1\n",
        "    for j in range(L_b, R_b + 1):\n",
        "        beta_B[j] = 1\n",
        "    M[tuple(beta_A + beta_B)] = [r, fi, g]\n",
        "    precedents = len(M)\n",
        "  return M"
      ],
      "execution_count": null,
      "outputs": []
    },
    {
      "cell_type": "code",
      "metadata": {
        "id": "VPacvdi1sxC6"
      },
      "source": [
        "dataset = generate(h=40, l=20, m=720, rMin=50, rMax=5000, gMax=500, n=100000)\n",
        "dataset = list(dataset.items())\n",
        "for i in range(len(dataset)):\n",
        "  dataset[i] = list(dataset[i][0]) + dataset[i][1]\n",
        "print(len(dataset))"
      ],
      "execution_count": null,
      "outputs": []
    },
    {
      "cell_type": "markdown",
      "metadata": {
        "id": "ghlng2aFCDAY"
      },
      "source": [
        "# Создание артефактов"
      ]
    },
    {
      "cell_type": "code",
      "metadata": {
        "id": "w72CFNhZ1T8w"
      },
      "source": [
        "!pip install wandb -qqq\n",
        "!apt install tree"
      ],
      "execution_count": null,
      "outputs": []
    },
    {
      "cell_type": "code",
      "metadata": {
        "id": "hLy3TiKV1Wau"
      },
      "source": [
        "import os\n",
        "import wandb"
      ],
      "execution_count": null,
      "outputs": []
    },
    {
      "cell_type": "code",
      "metadata": {
        "id": "h4C2tfsx1Z74"
      },
      "source": [
        "from collections import namedtuple\n",
        "Dataset = namedtuple(\"Dataset\", [\"x\", \"r\", \"fi\"])\n",
        "\n",
        "def load(dataset):\n",
        "    x, y_r, y_fi,  x2, y_r2, y_fi2 = [], [], [], [], [], []\n",
        "    for i, row in enumerate(dataset):\n",
        "      if i % 5 == 0:\n",
        "        x2.append(row[:720])\n",
        "        y_r2.append(row[720])\n",
        "        y_fi2.append(row[721])\n",
        "      else:\n",
        "        x.append(row[:720])\n",
        "        y_r.append(row[720])\n",
        "        y_fi.append(row[721])\n",
        "    dataset_train = Dataset(x, y_r, y_fi)\n",
        "    dataset_test = Dataset(x2, y_r2, y_fi2)\n",
        "    #fi_set = Dataset(x, y_fi)\n",
        "    datasets = [dataset_train, dataset_test]\n",
        "    return datasets"
      ],
      "execution_count": null,
      "outputs": []
    },
    {
      "cell_type": "code",
      "metadata": {
        "id": "IwyAQ9_v3BTd"
      },
      "source": [
        "wandb.login()"
      ],
      "execution_count": null,
      "outputs": []
    },
    {
      "cell_type": "code",
      "metadata": {
        "id": "3gn2hjmzoVvi"
      },
      "source": [
        "# 🚀 start a run, with a type to label it and a project it can call home\n",
        "with wandb.init(project=\"flatfasetgen\", job_type=\"load-data\") as run:\n",
        "    datasets = load(dataset)  # separate code for loading the datasets\n",
        "    names = [\"train_set\", \"test_set\"]\n",
        "    # 🏺 create our Artifact\n",
        "    raw_data = wandb.Artifact(\n",
        "        \"Clear_datasets\", type=\"dataset\",\n",
        "        description=\"Generated dataset with latest algo. Cleared. Sqrt distribution. 250k version. Linear distributed by distance\",\n",
        "        metadata={\"source\": \"Manually generated\",\n",
        "                  \"sizes\": [len(dataset.x) for dataset in datasets]})\n",
        "\n",
        "    for name, data in zip(names, datasets):\n",
        "        # 🐣 Store a new file in the artifact, and write something into its contents.\n",
        "        with raw_data.new_file(name + \".npz\", mode=\"wb\") as file:\n",
        "            np.savez(file, x=data.x, r=data.r, fi=data.fi)\n",
        "\n",
        "    # ✍️ Save the artifact to W&B.\n",
        "    run.log_artifact(raw_data)"
      ],
      "execution_count": null,
      "outputs": []
    }
  ]
}