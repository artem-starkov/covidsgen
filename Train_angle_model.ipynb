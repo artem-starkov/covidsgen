{
  "nbformat": 4,
  "nbformat_minor": 0,
  "metadata": {
    "colab": {
      "name": "Train_angle_model.ipynb",
      "provenance": [],
      "collapsed_sections": []
    },
    "kernelspec": {
      "name": "python3",
      "display_name": "Python 3"
    },
    "language_info": {
      "name": "python"
    },
    "accelerator": "GPU"
  },
  "cells": [
    {
      "cell_type": "code",
      "metadata": {
        "id": "ajWavWFE5wkk"
      },
      "source": [
        "!pip install wandb -qqq\n",
        "import wandb\n",
        "wandb.login()"
      ],
      "execution_count": null,
      "outputs": []
    },
    {
      "cell_type": "code",
      "metadata": {
        "id": "4JxQ-h89-jr_"
      },
      "source": [
        "from keras.models import Sequential\n",
        "from keras.layers import Conv2D, MaxPooling2D, Dropout, Dense, Flatten, Activation\n",
        "from keras.utils import np_utils\n",
        "from tensorflow.keras.optimizers import RMSprop, SGD, Adam, Nadam\n",
        "from keras.callbacks import ReduceLROnPlateau, ModelCheckpoint, Callback, EarlyStopping\n",
        "\n",
        "import os\n",
        "os.environ['TF_CPP_MIN_LOG_LEVEL'] = '3'\n",
        "import tensorflow as tf\n",
        "tf.compat.v1.logging.set_verbosity(tf.compat.v1.logging.ERROR)\n",
        "\n",
        "import wandb\n",
        "from wandb.keras import WandbCallback\n",
        "from sklearn.model_selection import train_test_split\n",
        "from sklearn.metrics import r2_score, mean_squared_error\n",
        "from collections import namedtuple\n",
        "import numpy as np\n",
        "import os\n",
        "from sklearn.utils import shuffle\n",
        "\n",
        "Dataset = namedtuple(\"Dataset\", [\"x\", \"r\", \"fi\"])"
      ],
      "execution_count": null,
      "outputs": []
    },
    {
      "cell_type": "code",
      "metadata": {
        "id": "BCHPDePw9W7J"
      },
      "source": [
        "sweep_config = {\n",
        "\n",
        "    'method': 'bayes',\n",
        "    'metric': {\n",
        "      'name': 'val_mae',\n",
        "      'goal': 'minimize'   \n",
        "    },\n",
        "    'parameters': {\n",
        "        'target': {\n",
        "            'values': ['fi']\n",
        "        },\n",
        "        'epochs': {\n",
        "           'values': [100]\n",
        "        },\n",
        "        'batch_size': {\n",
        "            'values': [32, 64, 128]\n",
        "        },\n",
        "        'layer_1_size': {\n",
        "                'values': [5040, 5760, 6480]\n",
        "        },\n",
        "        'layer_2_size': {\n",
        "                'values': [5760, 6480, 7200]\n",
        "        },\n",
        "        'layer_3_size': {\n",
        "                'values': [1440, 2160, 2880, 3600]\n",
        "        },\n",
        "        'learning_rate': {\n",
        "            'distribution': 'uniform',\n",
        "            'max': 0.002,\n",
        "            'min': 2e-06\n",
        "        },\n",
        "        'optimizer': {\n",
        "            'distribution': 'categorical',\n",
        "            'values': ['sgd', 'rmsprop']\n",
        "        },\n",
        "        'activation1': {\n",
        "            'distribution': 'categorical',\n",
        "            'values': ['tanh', 'relu']\n",
        "        },\n",
        "        'activation2': {\n",
        "            'distribution': 'categorical',\n",
        "            'values': ['relu', 'tanh']\n",
        "        },\n",
        "        'activation3': {\n",
        "            'distribution': 'categorical',\n",
        "            'values': ['relu']\n",
        "        },\n",
        "        'activation4': {\n",
        "            'distribution': 'categorical',\n",
        "            'values': ['relu']\n",
        "        }\n",
        "    }\n",
        "}"
      ],
      "execution_count": null,
      "outputs": []
    },
    {
      "cell_type": "code",
      "metadata": {
        "id": "w2007xI7CxhN"
      },
      "source": [
        "sweep_id = wandb.sweep(sweep_config, entity=\"artem-starkov\", project=\"flatfasetgen\")"
      ],
      "execution_count": null,
      "outputs": []
    },
    {
      "cell_type": "code",
      "metadata": {
        "id": "-fNJhL5Df9sY"
      },
      "source": [
        "def read(data_dir, split):\n",
        "    filename = split + \".npz\"\n",
        "    data = np.load(os.path.join(data_dir, filename))\n",
        "\n",
        "    return Dataset(x=data[\"x\"], r=data[\"r\"], fi=data[\"fi\"])"
      ],
      "execution_count": null,
      "outputs": []
    },
    {
      "cell_type": "code",
      "metadata": {
        "id": "tRVqoWiKFRnH"
      },
      "source": [
        "# The sweep calls this function with each set of hyperparameters\n",
        "def train():\n",
        "    # Default values for hyper-parameters we're going to sweep over\n",
        "    config_defaults = {\n",
        "        'epochs': 50,\n",
        "        'batch_size': 16,\n",
        "        'learning_rate': 1e-6,\n",
        "        'activation1': 'relu',\n",
        "        'activation2': 'relu',\n",
        "        'activation3': 'relu',\n",
        "        'activation4': 'relu',\n",
        "        'optimizer': 'sgd',\n",
        "        'layer_1_size': 4096,\n",
        "        'layer_2_size': 4096,\n",
        "        'layer_3_size': 4096,\n",
        "        'm': 720,\n",
        "        'h': 40,\n",
        "        'l' : 20,\n",
        "        'rMin': 50,\n",
        "        'rMax': 1000,\n",
        "        'gMax': 100,\n",
        "        'target': 'fi'\n",
        "    }\n",
        "\n",
        "    run = wandb.init(project=\"flatfasetgen\", job_type=\"training_angle_w/o_d.out\", config=config_defaults)\n",
        "    processed_data = wandb.Artifact(\"Clear_datasets\", type=\"dataset\")\n",
        "    raw_data_artifact = run.use_artifact('Clear_datasets:v20') \n",
        "    raw_dataset = raw_data_artifact.download()\n",
        "    train_dataset = read(raw_dataset, 'train_dataset')\n",
        "    test_dataset = read(raw_dataset, 'test_dataset')\n",
        "    run.log_artifact(processed_data)\n",
        "    X_train, X_test, y_train, y_test = train_dataset.x, test_dataset.x, train_dataset.r, test_dataset.r\n",
        "    config = wandb.config\n",
        "    model = Sequential()\n",
        "    model.add(Dense(config.m, input_shape=(config.m,)))\n",
        "    model.add(Activation(config.activation1))\n",
        "\n",
        "    model.add(Dense(config.layer_1_size))\n",
        "    model.add(Activation(config.activation2))\n",
        "\n",
        "    model.add(Dense(config.layer_2_size))\n",
        "    model.add(Activation(config.activation3))\n",
        "\n",
        "    model.add(Dense(config.layer_3_size))\n",
        "    model.add(Activation(config.activation4))\n",
        "\n",
        "\n",
        "    model.add(Dense(1))\n",
        "\n",
        "    # Define the optimizer\n",
        "    if config.optimizer=='sgd':\n",
        "      optimizer = SGD(lr=config.learning_rate, decay=1e-5, nesterov=True)\n",
        "    elif config.optimizer=='rmsprop':\n",
        "      optimizer = RMSprop(lr=config.learning_rate, decay=1e-5)\n",
        "\n",
        "    model.compile(loss='mae', optimizer = optimizer, metrics=['mae', 'mape'])\n",
        "\n",
        "    model_artifact = wandb.Artifact(\n",
        "            \"angle_compiled_model\", type=\"model\",\n",
        "            description=f\"bayes, 100k, best params from skratch, target: {config.target}\",\n",
        "            metadata=dict(config))\n",
        "    model.save(\"angle_compiled_models\")\n",
        "    model_artifact.add_dir(\"angle_compiled_models\")\n",
        "    run.log_artifact(model_artifact)\n",
        "\n",
        "    model.fit(X_train, y_train, batch_size=config.batch_size,\n",
        "              epochs=config.epochs, validation_data=(X_test, y_test),\n",
        "              callbacks=[WandbCallback(validation_data=(X_test, y_test)),\n",
        "                          EarlyStopping(patience=10, restore_best_weights=True)])\n",
        "    wandb.log({\"R2\" : r2_score(y_test, model.predict(X_test))})\n",
        "    wandb.log({\"RMSE\": mean_squared_error(y_test, model.predict(X_test), squared=False)})\n",
        "    trained_model_artifact = wandb.Artifact(\n",
        "            \"angle_trained_model\", type=\"model\",\n",
        "            description=\"\",\n",
        "            metadata=dict(config))\n",
        "    \n",
        "    model.save('angle_trained_models')\n",
        "    trained_model_artifact.add_dir('angle_trained_models')\n",
        "    run.log_artifact(trained_model_artifact)\n",
        "    run.finish()"
      ],
      "execution_count": null,
      "outputs": []
    },
    {
      "cell_type": "code",
      "metadata": {
        "id": "oSJuYpfcI7rj"
      },
      "source": [
        "wandb.agent(sweep_id, train, count=10)"
      ],
      "execution_count": null,
      "outputs": []
    }
  ]
}